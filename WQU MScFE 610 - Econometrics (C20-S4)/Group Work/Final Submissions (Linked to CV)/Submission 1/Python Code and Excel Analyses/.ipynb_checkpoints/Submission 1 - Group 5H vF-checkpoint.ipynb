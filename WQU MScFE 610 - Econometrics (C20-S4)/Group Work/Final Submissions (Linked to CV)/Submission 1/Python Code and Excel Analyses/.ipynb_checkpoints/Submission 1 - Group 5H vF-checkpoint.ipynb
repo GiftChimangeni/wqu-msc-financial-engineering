{
 "cells": [
  {
   "cell_type": "code",
   "execution_count": 1,
   "metadata": {},
   "outputs": [],
   "source": [
    "import pandas as pd\n",
    "import numpy as np\n",
    "import matplotlib.pyplot as plt\n",
    "import pmdarima\n",
    "from matplotlib.dates import MONDAY\n",
    "from matplotlib.dates import WeekdayLocator\n",
    "import statsmodels.tsa.arima.model as stm\n",
    "from statsmodels.tsa.arima.model import ARIMA\n",
    "from statsmodels.tsa.stattools import adfuller\n",
    "from statsmodels.graphics.tsaplots import plot_acf, plot_pacf\n",
    "import ssl\n",
    "from nelson_siegel_svensson import NelsonSiegelSvenssonCurve\n",
    "from nelson_siegel_svensson.calibrate import calibrate_ns_ols\n",
    "from nelson_siegel_svensson.calibrate import calibrate_nss_ols\n",
    "import arch\n",
    "import warnings\n",
    "\n",
    "warnings.filterwarnings('ignore')"
   ]
  },
  {
   "cell_type": "code",
   "execution_count": 2,
   "metadata": {},
   "outputs": [],
   "source": [
    "url_trates = \"https://www.treasury.gov/resource-center/data-chart-center/interest-rates/Pages/TextView.aspx?data=yieldYear&year=2019\"\n",
    "url_gold_etf = \"https://finance.yahoo.com/quote/GLD/history?period1=1569888000&period2=1575072000&interval=1d&filter=history&frequency=1d&includeAdjustedClose=true\"\n",
    "url_equity_etf = \"https://finance.yahoo.com/quote/CSUK.L/history?period1=1569888000&period2=1575072000&interval=1d&filter=history&frequency=1d&includeAdjustedClose=true\""
   ]
  },
  {
   "cell_type": "code",
   "execution_count": 3,
   "metadata": {},
   "outputs": [],
   "source": [
    "#Creating the interest rate data frame\n",
    "dfs = pd.read_html(url_trates, header = 0, index_col=0, parse_dates = True)\n",
    "df_trate = dfs[1]\n",
    "df_trate = df_trate.loc['2019-10':'2019-11'].iloc[:,5:]"
   ]
  },
  {
   "cell_type": "code",
   "execution_count": 5,
   "metadata": {},
   "outputs": [
    {
     "ename": "HTTPError",
     "evalue": "HTTP Error 404: Not Found",
     "output_type": "error",
     "traceback": [
      "\u001b[0;31m---------------------------------------------------------------------------\u001b[0m",
      "\u001b[0;31mHTTPError\u001b[0m                                 Traceback (most recent call last)",
      "\u001b[0;32m<ipython-input-5-20a31f558a50>\u001b[0m in \u001b[0;36m<module>\u001b[0;34m\u001b[0m\n\u001b[1;32m      1\u001b[0m \u001b[0;31m#Creating the gold ETF data frame\u001b[0m\u001b[0;34m\u001b[0m\u001b[0;34m\u001b[0m\u001b[0;34m\u001b[0m\u001b[0m\n\u001b[0;32m----> 2\u001b[0;31m \u001b[0mdf_goldetf\u001b[0m \u001b[0;34m=\u001b[0m \u001b[0mpd\u001b[0m\u001b[0;34m.\u001b[0m\u001b[0mread_html\u001b[0m\u001b[0;34m(\u001b[0m\u001b[0murl_gold_etf\u001b[0m\u001b[0;34m,\u001b[0m \u001b[0mheader\u001b[0m \u001b[0;34m=\u001b[0m \u001b[0;36m0\u001b[0m\u001b[0;34m,\u001b[0m \u001b[0mindex_col\u001b[0m\u001b[0;34m=\u001b[0m\u001b[0;36m0\u001b[0m\u001b[0;34m,\u001b[0m \u001b[0mparse_dates\u001b[0m \u001b[0;34m=\u001b[0m \u001b[0;32mTrue\u001b[0m\u001b[0;34m)\u001b[0m\u001b[0;34m[\u001b[0m\u001b[0;36m0\u001b[0m\u001b[0;34m]\u001b[0m\u001b[0;34m.\u001b[0m\u001b[0miloc\u001b[0m\u001b[0;34m[\u001b[0m\u001b[0;34m:\u001b[0m\u001b[0;34m-\u001b[0m\u001b[0;36m1\u001b[0m\u001b[0;34m]\u001b[0m\u001b[0;34m\u001b[0m\u001b[0;34m\u001b[0m\u001b[0m\n\u001b[0m\u001b[1;32m      3\u001b[0m \u001b[0mdf_goldetf\u001b[0m\u001b[0;34m.\u001b[0m\u001b[0mindex\u001b[0m \u001b[0;34m=\u001b[0m \u001b[0mpd\u001b[0m\u001b[0;34m.\u001b[0m\u001b[0mto_datetime\u001b[0m\u001b[0;34m(\u001b[0m\u001b[0mdf_goldetf\u001b[0m\u001b[0;34m.\u001b[0m\u001b[0mindex\u001b[0m\u001b[0;34m)\u001b[0m\u001b[0;34m\u001b[0m\u001b[0;34m\u001b[0m\u001b[0m\n\u001b[1;32m      4\u001b[0m \u001b[0mdf_goldetf\u001b[0m \u001b[0;34m=\u001b[0m \u001b[0mdf_goldetf\u001b[0m\u001b[0;34m.\u001b[0m\u001b[0msort_index\u001b[0m\u001b[0;34m(\u001b[0m\u001b[0mascending\u001b[0m \u001b[0;34m=\u001b[0m \u001b[0;32mTrue\u001b[0m\u001b[0;34m)\u001b[0m\u001b[0;34m\u001b[0m\u001b[0;34m\u001b[0m\u001b[0m\n\u001b[1;32m      5\u001b[0m \u001b[0mdf_goldetf\u001b[0m \u001b[0;34m=\u001b[0m \u001b[0mdf_goldetf\u001b[0m\u001b[0;34m.\u001b[0m\u001b[0mastype\u001b[0m\u001b[0;34m(\u001b[0m\u001b[0mfloat\u001b[0m\u001b[0;34m)\u001b[0m\u001b[0;34m\u001b[0m\u001b[0;34m\u001b[0m\u001b[0m\n",
      "\u001b[0;32m~/opt/anaconda3/lib/python3.8/site-packages/pandas/util/_decorators.py\u001b[0m in \u001b[0;36mwrapper\u001b[0;34m(*args, **kwargs)\u001b[0m\n\u001b[1;32m    294\u001b[0m                 )\n\u001b[1;32m    295\u001b[0m                 \u001b[0mwarnings\u001b[0m\u001b[0;34m.\u001b[0m\u001b[0mwarn\u001b[0m\u001b[0;34m(\u001b[0m\u001b[0mmsg\u001b[0m\u001b[0;34m,\u001b[0m \u001b[0mFutureWarning\u001b[0m\u001b[0;34m,\u001b[0m \u001b[0mstacklevel\u001b[0m\u001b[0;34m=\u001b[0m\u001b[0mstacklevel\u001b[0m\u001b[0;34m)\u001b[0m\u001b[0;34m\u001b[0m\u001b[0;34m\u001b[0m\u001b[0m\n\u001b[0;32m--> 296\u001b[0;31m             \u001b[0;32mreturn\u001b[0m \u001b[0mfunc\u001b[0m\u001b[0;34m(\u001b[0m\u001b[0;34m*\u001b[0m\u001b[0margs\u001b[0m\u001b[0;34m,\u001b[0m \u001b[0;34m**\u001b[0m\u001b[0mkwargs\u001b[0m\u001b[0;34m)\u001b[0m\u001b[0;34m\u001b[0m\u001b[0;34m\u001b[0m\u001b[0m\n\u001b[0m\u001b[1;32m    297\u001b[0m \u001b[0;34m\u001b[0m\u001b[0m\n\u001b[1;32m    298\u001b[0m         \u001b[0;32mreturn\u001b[0m \u001b[0mwrapper\u001b[0m\u001b[0;34m\u001b[0m\u001b[0;34m\u001b[0m\u001b[0m\n",
      "\u001b[0;32m~/opt/anaconda3/lib/python3.8/site-packages/pandas/io/html.py\u001b[0m in \u001b[0;36mread_html\u001b[0;34m(io, match, flavor, header, index_col, skiprows, attrs, parse_dates, thousands, encoding, decimal, converters, na_values, keep_default_na, displayed_only)\u001b[0m\n\u001b[1;32m   1084\u001b[0m         )\n\u001b[1;32m   1085\u001b[0m     \u001b[0mvalidate_header_arg\u001b[0m\u001b[0;34m(\u001b[0m\u001b[0mheader\u001b[0m\u001b[0;34m)\u001b[0m\u001b[0;34m\u001b[0m\u001b[0;34m\u001b[0m\u001b[0m\n\u001b[0;32m-> 1086\u001b[0;31m     return _parse(\n\u001b[0m\u001b[1;32m   1087\u001b[0m         \u001b[0mflavor\u001b[0m\u001b[0;34m=\u001b[0m\u001b[0mflavor\u001b[0m\u001b[0;34m,\u001b[0m\u001b[0;34m\u001b[0m\u001b[0;34m\u001b[0m\u001b[0m\n\u001b[1;32m   1088\u001b[0m         \u001b[0mio\u001b[0m\u001b[0;34m=\u001b[0m\u001b[0mio\u001b[0m\u001b[0;34m,\u001b[0m\u001b[0;34m\u001b[0m\u001b[0;34m\u001b[0m\u001b[0m\n",
      "\u001b[0;32m~/opt/anaconda3/lib/python3.8/site-packages/pandas/io/html.py\u001b[0m in \u001b[0;36m_parse\u001b[0;34m(flavor, io, match, attrs, encoding, displayed_only, **kwargs)\u001b[0m\n\u001b[1;32m    896\u001b[0m \u001b[0;34m\u001b[0m\u001b[0m\n\u001b[1;32m    897\u001b[0m         \u001b[0;32mtry\u001b[0m\u001b[0;34m:\u001b[0m\u001b[0;34m\u001b[0m\u001b[0;34m\u001b[0m\u001b[0m\n\u001b[0;32m--> 898\u001b[0;31m             \u001b[0mtables\u001b[0m \u001b[0;34m=\u001b[0m \u001b[0mp\u001b[0m\u001b[0;34m.\u001b[0m\u001b[0mparse_tables\u001b[0m\u001b[0;34m(\u001b[0m\u001b[0;34m)\u001b[0m\u001b[0;34m\u001b[0m\u001b[0;34m\u001b[0m\u001b[0m\n\u001b[0m\u001b[1;32m    899\u001b[0m         \u001b[0;32mexcept\u001b[0m \u001b[0mValueError\u001b[0m \u001b[0;32mas\u001b[0m \u001b[0mcaught\u001b[0m\u001b[0;34m:\u001b[0m\u001b[0;34m\u001b[0m\u001b[0;34m\u001b[0m\u001b[0m\n\u001b[1;32m    900\u001b[0m             \u001b[0;31m# if `io` is an io-like object, check if it's seekable\u001b[0m\u001b[0;34m\u001b[0m\u001b[0;34m\u001b[0m\u001b[0;34m\u001b[0m\u001b[0m\n",
      "\u001b[0;32m~/opt/anaconda3/lib/python3.8/site-packages/pandas/io/html.py\u001b[0m in \u001b[0;36mparse_tables\u001b[0;34m(self)\u001b[0m\n\u001b[1;32m    215\u001b[0m         \u001b[0mlist\u001b[0m \u001b[0mof\u001b[0m \u001b[0mparsed\u001b[0m \u001b[0;34m(\u001b[0m\u001b[0mheader\u001b[0m\u001b[0;34m,\u001b[0m \u001b[0mbody\u001b[0m\u001b[0;34m,\u001b[0m \u001b[0mfooter\u001b[0m\u001b[0;34m)\u001b[0m \u001b[0mtuples\u001b[0m \u001b[0;32mfrom\u001b[0m \u001b[0mtables\u001b[0m\u001b[0;34m.\u001b[0m\u001b[0;34m\u001b[0m\u001b[0;34m\u001b[0m\u001b[0m\n\u001b[1;32m    216\u001b[0m         \"\"\"\n\u001b[0;32m--> 217\u001b[0;31m         \u001b[0mtables\u001b[0m \u001b[0;34m=\u001b[0m \u001b[0mself\u001b[0m\u001b[0;34m.\u001b[0m\u001b[0m_parse_tables\u001b[0m\u001b[0;34m(\u001b[0m\u001b[0mself\u001b[0m\u001b[0;34m.\u001b[0m\u001b[0m_build_doc\u001b[0m\u001b[0;34m(\u001b[0m\u001b[0;34m)\u001b[0m\u001b[0;34m,\u001b[0m \u001b[0mself\u001b[0m\u001b[0;34m.\u001b[0m\u001b[0mmatch\u001b[0m\u001b[0;34m,\u001b[0m \u001b[0mself\u001b[0m\u001b[0;34m.\u001b[0m\u001b[0mattrs\u001b[0m\u001b[0;34m)\u001b[0m\u001b[0;34m\u001b[0m\u001b[0;34m\u001b[0m\u001b[0m\n\u001b[0m\u001b[1;32m    218\u001b[0m         \u001b[0;32mreturn\u001b[0m \u001b[0;34m(\u001b[0m\u001b[0mself\u001b[0m\u001b[0;34m.\u001b[0m\u001b[0m_parse_thead_tbody_tfoot\u001b[0m\u001b[0;34m(\u001b[0m\u001b[0mtable\u001b[0m\u001b[0;34m)\u001b[0m \u001b[0;32mfor\u001b[0m \u001b[0mtable\u001b[0m \u001b[0;32min\u001b[0m \u001b[0mtables\u001b[0m\u001b[0;34m)\u001b[0m\u001b[0;34m\u001b[0m\u001b[0;34m\u001b[0m\u001b[0m\n\u001b[1;32m    219\u001b[0m \u001b[0;34m\u001b[0m\u001b[0m\n",
      "\u001b[0;32m~/opt/anaconda3/lib/python3.8/site-packages/pandas/io/html.py\u001b[0m in \u001b[0;36m_build_doc\u001b[0;34m(self)\u001b[0m\n\u001b[1;32m    734\u001b[0m                     \u001b[0;32mpass\u001b[0m\u001b[0;34m\u001b[0m\u001b[0;34m\u001b[0m\u001b[0m\n\u001b[1;32m    735\u001b[0m             \u001b[0;32melse\u001b[0m\u001b[0;34m:\u001b[0m\u001b[0;34m\u001b[0m\u001b[0;34m\u001b[0m\u001b[0m\n\u001b[0;32m--> 736\u001b[0;31m                 \u001b[0;32mraise\u001b[0m \u001b[0me\u001b[0m\u001b[0;34m\u001b[0m\u001b[0;34m\u001b[0m\u001b[0m\n\u001b[0m\u001b[1;32m    737\u001b[0m         \u001b[0;32melse\u001b[0m\u001b[0;34m:\u001b[0m\u001b[0;34m\u001b[0m\u001b[0;34m\u001b[0m\u001b[0m\n\u001b[1;32m    738\u001b[0m             \u001b[0;32mif\u001b[0m \u001b[0;32mnot\u001b[0m \u001b[0mhasattr\u001b[0m\u001b[0;34m(\u001b[0m\u001b[0mr\u001b[0m\u001b[0;34m,\u001b[0m \u001b[0;34m\"text_content\"\u001b[0m\u001b[0;34m)\u001b[0m\u001b[0;34m:\u001b[0m\u001b[0;34m\u001b[0m\u001b[0;34m\u001b[0m\u001b[0m\n",
      "\u001b[0;32m~/opt/anaconda3/lib/python3.8/site-packages/pandas/io/html.py\u001b[0m in \u001b[0;36m_build_doc\u001b[0;34m(self)\u001b[0m\n\u001b[1;32m    715\u001b[0m         \u001b[0;32mtry\u001b[0m\u001b[0;34m:\u001b[0m\u001b[0;34m\u001b[0m\u001b[0;34m\u001b[0m\u001b[0m\n\u001b[1;32m    716\u001b[0m             \u001b[0;32mif\u001b[0m \u001b[0mis_url\u001b[0m\u001b[0;34m(\u001b[0m\u001b[0mself\u001b[0m\u001b[0;34m.\u001b[0m\u001b[0mio\u001b[0m\u001b[0;34m)\u001b[0m\u001b[0;34m:\u001b[0m\u001b[0;34m\u001b[0m\u001b[0;34m\u001b[0m\u001b[0m\n\u001b[0;32m--> 717\u001b[0;31m                 \u001b[0;32mwith\u001b[0m \u001b[0murlopen\u001b[0m\u001b[0;34m(\u001b[0m\u001b[0mself\u001b[0m\u001b[0;34m.\u001b[0m\u001b[0mio\u001b[0m\u001b[0;34m)\u001b[0m \u001b[0;32mas\u001b[0m \u001b[0mf\u001b[0m\u001b[0;34m:\u001b[0m\u001b[0;34m\u001b[0m\u001b[0;34m\u001b[0m\u001b[0m\n\u001b[0m\u001b[1;32m    718\u001b[0m                     \u001b[0mr\u001b[0m \u001b[0;34m=\u001b[0m \u001b[0mparse\u001b[0m\u001b[0;34m(\u001b[0m\u001b[0mf\u001b[0m\u001b[0;34m,\u001b[0m \u001b[0mparser\u001b[0m\u001b[0;34m=\u001b[0m\u001b[0mparser\u001b[0m\u001b[0;34m)\u001b[0m\u001b[0;34m\u001b[0m\u001b[0;34m\u001b[0m\u001b[0m\n\u001b[1;32m    719\u001b[0m             \u001b[0;32melse\u001b[0m\u001b[0;34m:\u001b[0m\u001b[0;34m\u001b[0m\u001b[0;34m\u001b[0m\u001b[0m\n",
      "\u001b[0;32m~/opt/anaconda3/lib/python3.8/site-packages/pandas/io/common.py\u001b[0m in \u001b[0;36murlopen\u001b[0;34m(*args, **kwargs)\u001b[0m\n\u001b[1;32m    135\u001b[0m     \u001b[0;32mimport\u001b[0m \u001b[0murllib\u001b[0m\u001b[0;34m.\u001b[0m\u001b[0mrequest\u001b[0m\u001b[0;34m\u001b[0m\u001b[0;34m\u001b[0m\u001b[0m\n\u001b[1;32m    136\u001b[0m \u001b[0;34m\u001b[0m\u001b[0m\n\u001b[0;32m--> 137\u001b[0;31m     \u001b[0;32mreturn\u001b[0m \u001b[0murllib\u001b[0m\u001b[0;34m.\u001b[0m\u001b[0mrequest\u001b[0m\u001b[0;34m.\u001b[0m\u001b[0murlopen\u001b[0m\u001b[0;34m(\u001b[0m\u001b[0;34m*\u001b[0m\u001b[0margs\u001b[0m\u001b[0;34m,\u001b[0m \u001b[0;34m**\u001b[0m\u001b[0mkwargs\u001b[0m\u001b[0;34m)\u001b[0m\u001b[0;34m\u001b[0m\u001b[0;34m\u001b[0m\u001b[0m\n\u001b[0m\u001b[1;32m    138\u001b[0m \u001b[0;34m\u001b[0m\u001b[0m\n\u001b[1;32m    139\u001b[0m \u001b[0;34m\u001b[0m\u001b[0m\n",
      "\u001b[0;32m~/opt/anaconda3/lib/python3.8/urllib/request.py\u001b[0m in \u001b[0;36murlopen\u001b[0;34m(url, data, timeout, cafile, capath, cadefault, context)\u001b[0m\n\u001b[1;32m    220\u001b[0m     \u001b[0;32melse\u001b[0m\u001b[0;34m:\u001b[0m\u001b[0;34m\u001b[0m\u001b[0;34m\u001b[0m\u001b[0m\n\u001b[1;32m    221\u001b[0m         \u001b[0mopener\u001b[0m \u001b[0;34m=\u001b[0m \u001b[0m_opener\u001b[0m\u001b[0;34m\u001b[0m\u001b[0;34m\u001b[0m\u001b[0m\n\u001b[0;32m--> 222\u001b[0;31m     \u001b[0;32mreturn\u001b[0m \u001b[0mopener\u001b[0m\u001b[0;34m.\u001b[0m\u001b[0mopen\u001b[0m\u001b[0;34m(\u001b[0m\u001b[0murl\u001b[0m\u001b[0;34m,\u001b[0m \u001b[0mdata\u001b[0m\u001b[0;34m,\u001b[0m \u001b[0mtimeout\u001b[0m\u001b[0;34m)\u001b[0m\u001b[0;34m\u001b[0m\u001b[0;34m\u001b[0m\u001b[0m\n\u001b[0m\u001b[1;32m    223\u001b[0m \u001b[0;34m\u001b[0m\u001b[0m\n\u001b[1;32m    224\u001b[0m \u001b[0;32mdef\u001b[0m \u001b[0minstall_opener\u001b[0m\u001b[0;34m(\u001b[0m\u001b[0mopener\u001b[0m\u001b[0;34m)\u001b[0m\u001b[0;34m:\u001b[0m\u001b[0;34m\u001b[0m\u001b[0;34m\u001b[0m\u001b[0m\n",
      "\u001b[0;32m~/opt/anaconda3/lib/python3.8/urllib/request.py\u001b[0m in \u001b[0;36mopen\u001b[0;34m(self, fullurl, data, timeout)\u001b[0m\n\u001b[1;32m    529\u001b[0m         \u001b[0;32mfor\u001b[0m \u001b[0mprocessor\u001b[0m \u001b[0;32min\u001b[0m \u001b[0mself\u001b[0m\u001b[0;34m.\u001b[0m\u001b[0mprocess_response\u001b[0m\u001b[0;34m.\u001b[0m\u001b[0mget\u001b[0m\u001b[0;34m(\u001b[0m\u001b[0mprotocol\u001b[0m\u001b[0;34m,\u001b[0m \u001b[0;34m[\u001b[0m\u001b[0;34m]\u001b[0m\u001b[0;34m)\u001b[0m\u001b[0;34m:\u001b[0m\u001b[0;34m\u001b[0m\u001b[0;34m\u001b[0m\u001b[0m\n\u001b[1;32m    530\u001b[0m             \u001b[0mmeth\u001b[0m \u001b[0;34m=\u001b[0m \u001b[0mgetattr\u001b[0m\u001b[0;34m(\u001b[0m\u001b[0mprocessor\u001b[0m\u001b[0;34m,\u001b[0m \u001b[0mmeth_name\u001b[0m\u001b[0;34m)\u001b[0m\u001b[0;34m\u001b[0m\u001b[0;34m\u001b[0m\u001b[0m\n\u001b[0;32m--> 531\u001b[0;31m             \u001b[0mresponse\u001b[0m \u001b[0;34m=\u001b[0m \u001b[0mmeth\u001b[0m\u001b[0;34m(\u001b[0m\u001b[0mreq\u001b[0m\u001b[0;34m,\u001b[0m \u001b[0mresponse\u001b[0m\u001b[0;34m)\u001b[0m\u001b[0;34m\u001b[0m\u001b[0;34m\u001b[0m\u001b[0m\n\u001b[0m\u001b[1;32m    532\u001b[0m \u001b[0;34m\u001b[0m\u001b[0m\n\u001b[1;32m    533\u001b[0m         \u001b[0;32mreturn\u001b[0m \u001b[0mresponse\u001b[0m\u001b[0;34m\u001b[0m\u001b[0;34m\u001b[0m\u001b[0m\n",
      "\u001b[0;32m~/opt/anaconda3/lib/python3.8/urllib/request.py\u001b[0m in \u001b[0;36mhttp_response\u001b[0;34m(self, request, response)\u001b[0m\n\u001b[1;32m    638\u001b[0m         \u001b[0;31m# request was successfully received, understood, and accepted.\u001b[0m\u001b[0;34m\u001b[0m\u001b[0;34m\u001b[0m\u001b[0;34m\u001b[0m\u001b[0m\n\u001b[1;32m    639\u001b[0m         \u001b[0;32mif\u001b[0m \u001b[0;32mnot\u001b[0m \u001b[0;34m(\u001b[0m\u001b[0;36m200\u001b[0m \u001b[0;34m<=\u001b[0m \u001b[0mcode\u001b[0m \u001b[0;34m<\u001b[0m \u001b[0;36m300\u001b[0m\u001b[0;34m)\u001b[0m\u001b[0;34m:\u001b[0m\u001b[0;34m\u001b[0m\u001b[0;34m\u001b[0m\u001b[0m\n\u001b[0;32m--> 640\u001b[0;31m             response = self.parent.error(\n\u001b[0m\u001b[1;32m    641\u001b[0m                 'http', request, response, code, msg, hdrs)\n\u001b[1;32m    642\u001b[0m \u001b[0;34m\u001b[0m\u001b[0m\n",
      "\u001b[0;32m~/opt/anaconda3/lib/python3.8/urllib/request.py\u001b[0m in \u001b[0;36merror\u001b[0;34m(self, proto, *args)\u001b[0m\n\u001b[1;32m    567\u001b[0m         \u001b[0;32mif\u001b[0m \u001b[0mhttp_err\u001b[0m\u001b[0;34m:\u001b[0m\u001b[0;34m\u001b[0m\u001b[0;34m\u001b[0m\u001b[0m\n\u001b[1;32m    568\u001b[0m             \u001b[0margs\u001b[0m \u001b[0;34m=\u001b[0m \u001b[0;34m(\u001b[0m\u001b[0mdict\u001b[0m\u001b[0;34m,\u001b[0m \u001b[0;34m'default'\u001b[0m\u001b[0;34m,\u001b[0m \u001b[0;34m'http_error_default'\u001b[0m\u001b[0;34m)\u001b[0m \u001b[0;34m+\u001b[0m \u001b[0morig_args\u001b[0m\u001b[0;34m\u001b[0m\u001b[0;34m\u001b[0m\u001b[0m\n\u001b[0;32m--> 569\u001b[0;31m             \u001b[0;32mreturn\u001b[0m \u001b[0mself\u001b[0m\u001b[0;34m.\u001b[0m\u001b[0m_call_chain\u001b[0m\u001b[0;34m(\u001b[0m\u001b[0;34m*\u001b[0m\u001b[0margs\u001b[0m\u001b[0;34m)\u001b[0m\u001b[0;34m\u001b[0m\u001b[0;34m\u001b[0m\u001b[0m\n\u001b[0m\u001b[1;32m    570\u001b[0m \u001b[0;34m\u001b[0m\u001b[0m\n\u001b[1;32m    571\u001b[0m \u001b[0;31m# XXX probably also want an abstract factory that knows when it makes\u001b[0m\u001b[0;34m\u001b[0m\u001b[0;34m\u001b[0m\u001b[0;34m\u001b[0m\u001b[0m\n",
      "\u001b[0;32m~/opt/anaconda3/lib/python3.8/urllib/request.py\u001b[0m in \u001b[0;36m_call_chain\u001b[0;34m(self, chain, kind, meth_name, *args)\u001b[0m\n\u001b[1;32m    500\u001b[0m         \u001b[0;32mfor\u001b[0m \u001b[0mhandler\u001b[0m \u001b[0;32min\u001b[0m \u001b[0mhandlers\u001b[0m\u001b[0;34m:\u001b[0m\u001b[0;34m\u001b[0m\u001b[0;34m\u001b[0m\u001b[0m\n\u001b[1;32m    501\u001b[0m             \u001b[0mfunc\u001b[0m \u001b[0;34m=\u001b[0m \u001b[0mgetattr\u001b[0m\u001b[0;34m(\u001b[0m\u001b[0mhandler\u001b[0m\u001b[0;34m,\u001b[0m \u001b[0mmeth_name\u001b[0m\u001b[0;34m)\u001b[0m\u001b[0;34m\u001b[0m\u001b[0;34m\u001b[0m\u001b[0m\n\u001b[0;32m--> 502\u001b[0;31m             \u001b[0mresult\u001b[0m \u001b[0;34m=\u001b[0m \u001b[0mfunc\u001b[0m\u001b[0;34m(\u001b[0m\u001b[0;34m*\u001b[0m\u001b[0margs\u001b[0m\u001b[0;34m)\u001b[0m\u001b[0;34m\u001b[0m\u001b[0;34m\u001b[0m\u001b[0m\n\u001b[0m\u001b[1;32m    503\u001b[0m             \u001b[0;32mif\u001b[0m \u001b[0mresult\u001b[0m \u001b[0;32mis\u001b[0m \u001b[0;32mnot\u001b[0m \u001b[0;32mNone\u001b[0m\u001b[0;34m:\u001b[0m\u001b[0;34m\u001b[0m\u001b[0;34m\u001b[0m\u001b[0m\n\u001b[1;32m    504\u001b[0m                 \u001b[0;32mreturn\u001b[0m \u001b[0mresult\u001b[0m\u001b[0;34m\u001b[0m\u001b[0;34m\u001b[0m\u001b[0m\n",
      "\u001b[0;32m~/opt/anaconda3/lib/python3.8/urllib/request.py\u001b[0m in \u001b[0;36mhttp_error_default\u001b[0;34m(self, req, fp, code, msg, hdrs)\u001b[0m\n\u001b[1;32m    647\u001b[0m \u001b[0;32mclass\u001b[0m \u001b[0mHTTPDefaultErrorHandler\u001b[0m\u001b[0;34m(\u001b[0m\u001b[0mBaseHandler\u001b[0m\u001b[0;34m)\u001b[0m\u001b[0;34m:\u001b[0m\u001b[0;34m\u001b[0m\u001b[0;34m\u001b[0m\u001b[0m\n\u001b[1;32m    648\u001b[0m     \u001b[0;32mdef\u001b[0m \u001b[0mhttp_error_default\u001b[0m\u001b[0;34m(\u001b[0m\u001b[0mself\u001b[0m\u001b[0;34m,\u001b[0m \u001b[0mreq\u001b[0m\u001b[0;34m,\u001b[0m \u001b[0mfp\u001b[0m\u001b[0;34m,\u001b[0m \u001b[0mcode\u001b[0m\u001b[0;34m,\u001b[0m \u001b[0mmsg\u001b[0m\u001b[0;34m,\u001b[0m \u001b[0mhdrs\u001b[0m\u001b[0;34m)\u001b[0m\u001b[0;34m:\u001b[0m\u001b[0;34m\u001b[0m\u001b[0;34m\u001b[0m\u001b[0m\n\u001b[0;32m--> 649\u001b[0;31m         \u001b[0;32mraise\u001b[0m \u001b[0mHTTPError\u001b[0m\u001b[0;34m(\u001b[0m\u001b[0mreq\u001b[0m\u001b[0;34m.\u001b[0m\u001b[0mfull_url\u001b[0m\u001b[0;34m,\u001b[0m \u001b[0mcode\u001b[0m\u001b[0;34m,\u001b[0m \u001b[0mmsg\u001b[0m\u001b[0;34m,\u001b[0m \u001b[0mhdrs\u001b[0m\u001b[0;34m,\u001b[0m \u001b[0mfp\u001b[0m\u001b[0;34m)\u001b[0m\u001b[0;34m\u001b[0m\u001b[0;34m\u001b[0m\u001b[0m\n\u001b[0m\u001b[1;32m    650\u001b[0m \u001b[0;34m\u001b[0m\u001b[0m\n\u001b[1;32m    651\u001b[0m \u001b[0;32mclass\u001b[0m \u001b[0mHTTPRedirectHandler\u001b[0m\u001b[0;34m(\u001b[0m\u001b[0mBaseHandler\u001b[0m\u001b[0;34m)\u001b[0m\u001b[0;34m:\u001b[0m\u001b[0;34m\u001b[0m\u001b[0;34m\u001b[0m\u001b[0m\n",
      "\u001b[0;31mHTTPError\u001b[0m: HTTP Error 404: Not Found"
     ]
    }
   ],
   "source": [
    "#Creating the gold ETF data frame\n",
    "df_goldetf = pd.read_html(url_gold_etf, header = 0, index_col=0, parse_dates = True)[0].iloc[:-1]\n",
    "df_goldetf.index = pd.to_datetime(df_goldetf.index)\n",
    "df_goldetf = df_goldetf.sort_index(ascending = True)\n",
    "df_goldetf = df_goldetf.astype(float)"
   ]
  },
  {
   "cell_type": "code",
   "execution_count": null,
   "metadata": {},
   "outputs": [],
   "source": [
    "#Creating the equity ETF dataframe\n",
    "df_equityetf = pd.read_html(url_equity_etf, header = 0, index_col=0)[0].iloc[:-1]\n",
    "df_equityetf.index = pd.to_datetime(df_equityetf.index)\n",
    "df_equityetf = df_equityetf.sort_index(ascending = True)\n",
    "df_equityetf = df_equityetf.astype(float)"
   ]
  },
  {
   "cell_type": "code",
   "execution_count": null,
   "metadata": {},
   "outputs": [],
   "source": [
    "#Daily return on gold etf and equity etf\n",
    "df_goldetf_daily_return = np.log(df_goldetf['Adj Close**']/df_goldetf['Adj Close**'].shift(1)).iloc[1:]\n",
    "df_equityetf_daily_return = np.log(df_equityetf['Adj Close**']/df_equityetf['Adj Close**'].shift(1)).iloc[1:]"
   ]
  },
  {
   "cell_type": "code",
   "execution_count": null,
   "metadata": {},
   "outputs": [],
   "source": [
    "#Average return for yield for benchmark Security\n",
    "df_avgmonthlyyield = df_trate.resample('M').mean()\n",
    "#Average price of gold ETF on a monthly basis\n",
    "df_avggoldETF = df_goldetf['Adj Close**'].resample('M').mean()\n",
    "#Average price of equityETF on a monthly basis\n",
    "df_avgequityETF = df_equityetf['Adj Close**'].resample('M').mean()"
   ]
  },
  {
   "cell_type": "code",
   "execution_count": null,
   "metadata": {},
   "outputs": [],
   "source": [
    "#Standard Deviation for yield of benchmark security\n",
    "df_tratestd = df_trate.resample('M').std()\n",
    "#Standard Deviation of gold ETF on a monthly basis\n",
    "df_goldETFstd = df_goldetf['Adj Close**'].resample('M').std()\n",
    "#Average price of equityETF on a monthly basis\n",
    "df_equityETFstd = df_equityetf['Adj Close**'].resample('M').std()"
   ]
  },
  {
   "cell_type": "code",
   "execution_count": null,
   "metadata": {},
   "outputs": [],
   "source": [
    "#Plotting the yields\n",
    "mondays = WeekdayLocator(MONDAY)\n",
    "fig, ax = plt.subplots(figsize=(10,6))\n",
    "ax.set_title(\"Interest rate chart for Treasury Bond - Oct and Nov '19\")\n",
    "ax.plot(df_trate)\n",
    "ax.set_xlabel(\"Trade Date\")\n",
    "plt.xticks(rotation=30)\n",
    "ax.xaxis.set_major_locator(mondays)\n",
    "ax.set_ylabel(\"Interest Rate (in % terms)\")\n",
    "ax.legend(df_trate.columns.values)\n",
    "plt.show()"
   ]
  },
  {
   "cell_type": "code",
   "execution_count": null,
   "metadata": {},
   "outputs": [],
   "source": [
    "#Plotting the gold and equity ETF \n",
    "#mondays = WeekdayLocator(MONDAY)\n",
    "fig, ax1 = plt.subplots(figsize=(10,6))\n",
    "ax1.set_title(\"Gold ETF and Equity ETF - Oct and Nov '19\")\n",
    "lns1 = ax1.plot(df_goldetf['Adj Close**'], color = 'gold', label = \"Gold ETF\")\n",
    "ax1.set_xlabel(\"Trade Date\")\n",
    "plt.xticks(rotation=30)\n",
    "ax1.xaxis.set_major_locator(mondays)\n",
    "ax1.set_ylabel(\"Gold ETF price in $\")\n",
    "ax2 = ax1.twinx()\n",
    "ax2.set_ylabel(\"MSCI500 UK - Equity ETF price in $\")\n",
    "lns2 = ax2.plot(df_equityetf['Adj Close**'], color = 'blue', label = \"Equity ETF\")\n",
    "lns = lns1+lns2\n",
    "labs = [l.get_label() for l in lns]\n",
    "ax1.legend(lns, labs)\n",
    "plt.show()"
   ]
  },
  {
   "cell_type": "code",
   "execution_count": null,
   "metadata": {
    "scrolled": false
   },
   "outputs": [],
   "source": [
    "ssl._create_default_https_context = ssl._create_unverified_context\n",
    "\n",
    "#US Treasury Yield Data Frame\n",
    "dfs = pd.read_html(url_trates, header = 0, index_col=0, parse_dates = True)\n",
    "df_trate1 = dfs[1]\n",
    "df_trate1 = df_trate1.loc['2019-10':'2019-11'].iloc[:,5:]\n",
    "df_trate1 = df_trate1/100\n",
    "\n",
    "#Nelson-Siegel model to fit the daily October and November 2019 yield curves\n",
    "t = np.array([2, 3, 5, 7, 10, 20, 30])\n",
    "yields = df_trate1.to_numpy()\n",
    "df_nsyields = pd.DataFrame(columns = ['beta0', 'beta1', 'beta2', 'tau'])\n",
    "\n",
    "for y in yields:\n",
    "    curve1, status1 = calibrate_ns_ols(t, y)\n",
    "    assert status1.success\n",
    "\n",
    "    ns_elements = str(curve1).split(',')\n",
    "    ns_beta0 = float(ns_elements[0].split('=')[1])\n",
    "    ns_beta1 = float(ns_elements[1].split('=')[1])\n",
    "    ns_beta2 = float(ns_elements[2].split('=')[1])\n",
    "    ns_tau = float(ns_elements[3].split('=')[1][0:2])\n",
    "\n",
    "    df_nsyields = df_nsyields.append({'beta0' : ns_beta0, 'beta1' : ns_beta1, 'beta2' : ns_beta2, 'tau' : ns_tau}, ignore_index = True)\n",
    "\n",
    "print('Fit Based on Nelson-Siegel Model for Daily October and November 2019 Yield Curves')\n",
    "print(df_nsyields)\n",
    "print(\" \")\n",
    "print(\"Based on the charts shown in the attached Excel file (Yield Curve Fitting Results Approach 1.xlsx):\\nThe level parameter (beta0) registers an increase in October 2019 from 0.022 to 0.023. It then rises to 0.025 in November before declining to roughly where it was at October end.\\nThe slope parameter (beta1) declines from 0.0015 to 0.0014 in October, registers a further decline in November to a low of -0.0027 before rising to -0.0009 by November end.\\n The curvature parameter (beta2) remains more or less stable in October within the band of -0.032 to -0.028. It then steadily increases in November to -0.024\")\n",
    "print(\" \")\n",
    "\n",
    "\n",
    "#Nelson-Siegel-Svensson model to fit the daily October and November 2019 yield curves\n",
    "df_nssyields = pd.DataFrame(columns = ['beta0', 'beta1', 'beta2', 'beta3', 'tau1', 'tau2'])\n",
    "\n",
    "for y in yields:\n",
    "    curve2, status2 = calibrate_nss_ols(t, y)\n",
    "    assert status2.success\n",
    "\n",
    "    nss_elements = str(curve2).split(',')\n",
    "    nss_beta0 = float(nss_elements[0].split('=')[1])\n",
    "    nss_beta1 = float(nss_elements[1].split('=')[1])\n",
    "    nss_beta2 = float(nss_elements[2].split('=')[1])\n",
    "    nss_beta3 = float(nss_elements[3].split('=')[1])\n",
    "    nss_tau1 = float(nss_elements[4].split('=')[1])\n",
    "    nss_tau2 = float(nss_elements[5].split('=')[1][0:2])\n",
    "\n",
    "    df_nssyields = df_nssyields.append({'beta0' : nss_beta0, 'beta1' : nss_beta1, 'beta2' : nss_beta2, 'beta3' : nss_beta3, 'tau1' : nss_tau1, 'tau2' : nss_tau2}, ignore_index = True)\n",
    "\n",
    "print('Fit Based on Nelson-Siegel-Svensson Model for Daily October and November 2019 Yield Curves')\n",
    "print(df_nssyields)"
   ]
  },
  {
   "cell_type": "code",
   "execution_count": null,
   "metadata": {},
   "outputs": [],
   "source": [
    "#Test for stationarity of the time series. We notice that the time series is non-stationary using ADF test\n",
    "adfuller(df_goldetf_daily_return['Oct-2019'])"
   ]
  },
  {
   "cell_type": "code",
   "execution_count": null,
   "metadata": {},
   "outputs": [],
   "source": [
    "#We differentiate the gold ETF daily returns and thus obtain a stationary series\n",
    "d1_gold_etf_returns = df_goldetf_daily_return.diff().dropna()\n",
    "#Proof to display stationarity of the Time Series - The first order differencing is causing the time series of gold ETF to be stationary\n",
    "#Refer adf p-value for stationarity\n",
    "adfuller(d1_gold_etf_returns['Oct-2019'])"
   ]
  },
  {
   "cell_type": "code",
   "execution_count": null,
   "metadata": {},
   "outputs": [],
   "source": [
    "plot_pacf(df_goldetf_daily_return['Oct-2019'],lags = 8);\n",
    "plot_acf(df_goldetf_daily_return['Oct-2019'], lags = 8);\n",
    "arimaoctgoldetfreturn = ARIMA(df_goldetf_daily_return['Oct-2019'], order = (1,0,0))\n",
    "arimaoctgoldetfreturnfit = arimaoctgoldetfreturn.fit()\n",
    "arimaoctgoldetfreturnfit.summary()"
   ]
  },
  {
   "cell_type": "code",
   "execution_count": null,
   "metadata": {},
   "outputs": [],
   "source": [
    "print('Standard deviation of the residuals is :',arimaoctgoldetfreturnfit.resid.std())\n",
    "arimaoctgoldetfreturnfit.resid.plot(kind='kde', title = 'Verifying normality of the residuals');"
   ]
  },
  {
   "cell_type": "code",
   "execution_count": null,
   "metadata": {},
   "outputs": [],
   "source": [
    "#We notice that the time series ARIMA(0,1,1)has the lowest AIC at -145 and the p-value of the MA co-efficient is less than the critical value.\n",
    "#when we tried with a ARIMA(1,1,1) model, we had AIC of -143.15 and the p-value of the AR coefficient was 0.722 which is more than the critical value"
   ]
  },
  {
   "cell_type": "code",
   "execution_count": null,
   "metadata": {},
   "outputs": [],
   "source": [
    "#Proof to display stationarity of the Time Series - The 2nd order differencing is causing the time series of gold ETF to be stationary\n",
    "#Refer adf p-value for stationarity\n",
    "adfuller(df_goldetf_daily_return.diff().diff().dropna()['Nov-2019'])\n",
    "\n",
    "plot_pacf(df_goldetf_daily_return.diff().diff().dropna()['Nov-2019'],lags = 8);\n",
    "plot_acf(df_goldetf_daily_return.diff().diff().dropna()['Nov-2019'], lags = 8);\n",
    "  \n",
    "arimanovgoldetfreturn = ARIMA(df_goldetf_daily_return['Nov-2019'], order = (1,1,0))\n",
    "arimanovgoldetfreturnfit = arimanovgoldetfreturn.fit()\n",
    "arimanovgoldetfreturnfit.summary()\n",
    "#We notice that the time series has the lowest AIC at -132.4 and the p-value of the AR co-efficient is less than the critical value.\n",
    "#when we tried with a ARIMA(1,1,1) model, we had AIC of -129.9 and the p-value of the AR and MA were 0.394 and 0.539 which is more than the critical value"
   ]
  },
  {
   "cell_type": "code",
   "execution_count": null,
   "metadata": {},
   "outputs": [],
   "source": [
    "#Measuring the Equity ETF ARIMA\n",
    "adfuller(df_equityetf_daily_return['Oct-2019'])\n",
    "#We notice that the time series is stationary and the p-value is much less than the critical value which indicates that we reject the null hypothesis and thus the data is stationary"
   ]
  },
  {
   "cell_type": "code",
   "execution_count": null,
   "metadata": {},
   "outputs": [],
   "source": [
    "from pandas.plotting import autocorrelation_plot\n",
    "autocorrelation_plot(df_equityetf_daily_return['Oct-2019'])\n",
    "plot_pacf(df_equityetf_daily_return['Oct-2019'],lags = 8);\n",
    "plot_acf(df_equityetf_daily_return['Oct-2019'], lags = 10);\n",
    "arimaoctequityreturn = ARIMA(df_equityetf_daily_return['Oct-2019'], order = (0,0,1))\n",
    "arimaoctequityreturnfit = arimaoctequityreturn.fit()\n",
    "arimaoctequityreturnfit.summary()"
   ]
  },
  {
   "cell_type": "code",
   "execution_count": null,
   "metadata": {},
   "outputs": [],
   "source": [
    "print('Standard deviation of the residuals is :',arimaoctequityreturnfit.resid.std())\n",
    "arimaoctequityreturnfit.resid.plot(kind = 'kde', title = 'Verifying the normality of residuals');"
   ]
  },
  {
   "cell_type": "code",
   "execution_count": null,
   "metadata": {},
   "outputs": [],
   "source": [
    "#Measuring the Equity ETF ARIMA stationarity\n",
    "adfuller(df_equityetf_daily_return['Nov-2019'])\n",
    "#We notice that the time series is stationary and the p-value is much less than the critical value which indicates that we reject the null hypothesis and thus the data is stationary"
   ]
  },
  {
   "cell_type": "code",
   "execution_count": null,
   "metadata": {},
   "outputs": [],
   "source": [
    "adfuller(df_equityetf_daily_return['Nov-2019'].diff().dropna())"
   ]
  },
  {
   "cell_type": "code",
   "execution_count": null,
   "metadata": {},
   "outputs": [],
   "source": [
    "autocorrelation_plot(df_equityetf_daily_return['Nov-2019'], label = 'Auto-correlation for Nov Equity ETF')\n",
    "#autocorrelation_plot(df_equityetf_daily_return['Nov-2019'].diff().dropna(), label = 'Auto-correlation for Nov Equity ETF - 1st order differencing')\n",
    "plot_pacf(df_equityetf_daily_return['Nov-2019'],lags = 8);\n",
    "plot_acf(df_equityetf_daily_return['Nov-2019'], lags = 10);\n",
    "arimanovequityreturn = ARIMA(df_equityetf_daily_return['Nov-2019'], order = (0,0,1))\n",
    "arimanovequityreturnfit = arimanovequityreturn.fit()\n",
    "arimanovequityreturnfit.summary()"
   ]
  },
  {
   "cell_type": "code",
   "execution_count": null,
   "metadata": {},
   "outputs": [],
   "source": [
    "print('Standard deviation of the residuals is :',arimanovequityreturnfit.resid.std())\n",
    "arimanovequityreturnfit.resid.plot(kind = 'kde', title = 'Verifying the normality of residuals');"
   ]
  },
  {
   "cell_type": "code",
   "execution_count": null,
   "metadata": {},
   "outputs": [],
   "source": [
    "df_dailyhighlowgoldetf = df_goldetf['High']-df_goldetf['Low']\n",
    "'''Using gold ETF prices, find the daily high minus low for each month.  \n",
    "Compute the average for October.  \n",
    "Compute the average for November.'''\n",
    "df_dailyhighlowgoldetf['Oct-2019']"
   ]
  },
  {
   "cell_type": "code",
   "execution_count": null,
   "metadata": {},
   "outputs": [],
   "source": [
    "df_dailyhighlowgoldetf['Nov-2019']"
   ]
  },
  {
   "cell_type": "code",
   "execution_count": null,
   "metadata": {},
   "outputs": [],
   "source": [
    "#Using the gold ETF returns, find the standard deviation for October.  Repeat for November\n",
    "df_goldetfreturnsstddev = df_goldetf_daily_return.resample('M').std()\n",
    "df_goldetfreturnsstddev.index = ['October', 'November']\n",
    "df_goldetfreturnsstddev"
   ]
  },
  {
   "cell_type": "code",
   "execution_count": null,
   "metadata": {},
   "outputs": [],
   "source": [
    "'''Using equity ETF prices, find the daily high minus low for each month.  \n",
    "Compute the average for October.  Compute the average for November.'''\n",
    "df_dailyhighlowequityetf = df_equityetf['High']-df_equityetf['Low']"
   ]
  },
  {
   "cell_type": "code",
   "execution_count": null,
   "metadata": {},
   "outputs": [],
   "source": [
    "df_dailyhighlowequityetf['Oct-2019']"
   ]
  },
  {
   "cell_type": "code",
   "execution_count": null,
   "metadata": {},
   "outputs": [],
   "source": [
    "df_dailyhighlowequityetf['Nov-2019']"
   ]
  },
  {
   "cell_type": "code",
   "execution_count": null,
   "metadata": {},
   "outputs": [],
   "source": [
    "#Average of difference between High-Low for each month\n",
    "df_highlowgoldequitymean = df_dailyhighlowequityetf.resample('M').mean()\n",
    "df_highlowgoldequitymean.index = ['October', 'November']\n",
    "df_highlowgoldequitymean"
   ]
  },
  {
   "cell_type": "code",
   "execution_count": null,
   "metadata": {},
   "outputs": [],
   "source": [
    "#Using equity ETF returns, find the standard deviation for October.  Repeat for November\n",
    "df_equityetfreturnsstddev = df_equityetf_daily_return.resample('M').std()\n",
    "df_equityetfreturnsstddev.index = ['October', 'November']\n",
    "df_equityetfreturnsstddev"
   ]
  },
  {
   "cell_type": "code",
   "execution_count": null,
   "metadata": {},
   "outputs": [],
   "source": [
    "#GARCH(1,1) Model on the Residuals of the ARIMA(1,0,0) model - October 2019 Gold ETF\n",
    "print(\"GARCH(1,1) Model on the Residuals of the ARIMA(1,0,0) model - October 2019 Gold ETF\")\n",
    "print(\" \")\n",
    "garch_goldetf_oct = arch.arch_model(arimaoctgoldetfreturnfit.resid, p=1, q=1)\n",
    "garch_goldetf_oct_fit = garch_goldetf_oct.fit()\n",
    "print(garch_goldetf_oct_fit.summary())"
   ]
  },
  {
   "cell_type": "code",
   "execution_count": null,
   "metadata": {},
   "outputs": [],
   "source": [
    "# GARCH(1,1) Model on the Residuals of the ARIMA(1,1,0) model - November 2019 Gold ETF\n",
    "print(\"GARCH(1,1) Model on the Residuals of the ARIMA(1,1,0) model - November 2019 Gold ETF\")\n",
    "print(\" \")\n",
    "garch_goldetf_nov = arch.arch_model(arimanovgoldetfreturnfit.resid, p=1, q=1)\n",
    "garch_goldetf_nov_fit = garch_goldetf_nov.fit()\n",
    "print(garch_goldetf_nov_fit.summary())\n",
    "print(\" \")\n",
    "print(\"Between October and November, for the volatility model, alpha[1] parameter increases, beta[1] parameter declines and the 95% CI for both parameters is wider for November.\")"
   ]
  },
  {
   "cell_type": "code",
   "execution_count": null,
   "metadata": {},
   "outputs": [],
   "source": [
    "#GARCH(1,1) Model on the Residuals of the ARIMA(0,0,1) model - October 2019 Equity ETF\n",
    "print(\"GARCH(1,1) Model on the Residuals of the ARIMA(0,0,1) model - October 2019 Equity ETF\")\n",
    "print(\" \")\n",
    "garch_equityetf_oct = arch.arch_model(arimaoctequityreturnfit.resid, p=1, q=1)\n",
    "garch_equityetf_oct_fit = garch_equityetf_oct.fit()\n",
    "print(garch_equityetf_oct_fit.summary())"
   ]
  },
  {
   "cell_type": "code",
   "execution_count": null,
   "metadata": {},
   "outputs": [],
   "source": [
    "#GARCH(1,1) Model on the Residuals of the ARIMA(0,0,1) model - November 2019 Equity ETF\n",
    "print(\"GARCH(1,1) Model on the Residuals of the ARIMA(0,0,1) model - November 2019 Equity ETF\")\n",
    "print(\" \")\n",
    "\n",
    "garch_equityetf_nov = arch.arch_model(arimanovequityreturnfit.resid, p=1, q=1)\n",
    "garch_equityetf_nov_fit = garch_equityetf_nov.fit()\n",
    "print(garch_equityetf_nov_fit.summary())\n",
    "print(\" \")\n",
    "print(\"Between October and November, for the volatility model, alpha[1] parameter declines, beta[1] parameter remains more or less stable and the 95% CI for both parameters is wider for November.\")"
   ]
  },
  {
   "cell_type": "code",
   "execution_count": null,
   "metadata": {},
   "outputs": [],
   "source": [
    "print('The pearsons correlation coefficient between Gold and Equity ETF for the month of Oct-2019 is:',np.corrcoef(df_goldetf_daily_return['Oct-2019'], df_equityetf_daily_return['Oct-2019'])[1][0])"
   ]
  },
  {
   "cell_type": "code",
   "execution_count": null,
   "metadata": {},
   "outputs": [],
   "source": [
    "print('The pearsons correlation coefficient between Gold and Equity ETF for the month of Nov-2019 is:',pd.DataFrame(pd.concat([df_equityetf_daily_return['Nov-2019'], df_goldetf_daily_return['Nov-2019']], axis=1)).dropna().corr(method = 'pearson').iloc[0,1])"
   ]
  },
  {
   "cell_type": "code",
   "execution_count": null,
   "metadata": {},
   "outputs": [],
   "source": [
    "df_all = pd.concat([df_equityetf['Adj Close**'], df_goldetf['Adj Close**'], df_trate/100, df_equityetf_daily_return, df_goldetf_daily_return],join = 'inner', axis=1)\n",
    "df_all.columns = ['Equity ETF','Gold ETF','Equity ETF Return','Gold ETF Return','2 yr','3 yr', '5 yr','7 yr', '10 yr','20 yr','30 yr']\n",
    "df_all['Oct-2019'].corr(method = 'pearson')\n",
    "\n",
    "import seaborn as sns\n",
    "fig, ax = plt.subplots(figsize=(10,10)) \n",
    "sns.heatmap(df_all['Oct-2019'].corr(method = 'pearson'), linewidths=0.1, cmap = 'YlOrBr', annot=True);"
   ]
  },
  {
   "cell_type": "code",
   "execution_count": null,
   "metadata": {},
   "outputs": [],
   "source": [
    "fig, ax = plt.subplots(figsize=(10,10)) \n",
    "sns.heatmap(df_all['Nov-2019'].corr(method = 'pearson'), linewidths=0.1, cmap = 'YlOrBr', annot=True);\n"
   ]
  },
  {
   "cell_type": "code",
   "execution_count": null,
   "metadata": {},
   "outputs": [],
   "source": [
    "#Equally weighted lag - 7 days correlation between Equity ETF with yields\n",
    "corr_equity_etf = df_all[['Equity ETF','2 yr','3 yr', '5 yr','7 yr', '10 yr']].rolling(7).corr().dropna().xs('Equity ETF', level=1).iloc[:,1:]\n",
    "corr_equity_etf = pd.DataFrame(corr_equity_etf)"
   ]
  },
  {
   "cell_type": "code",
   "execution_count": null,
   "metadata": {},
   "outputs": [],
   "source": [
    "#Plotting the equity ETF and the T-rates\n",
    "mondays = WeekdayLocator(MONDAY)\n",
    "fig, ax1 = plt.subplots(figsize=(10,6))\n",
    "ax1.set_title(\"Equity ETF prices and its correlation (7days lag) with Treasury rates\")\n",
    "lns1 = ax1.plot(df_all['Equity ETF'], color = 'Blue', label = \"Equity ETF\")\n",
    "ax1.set_xlabel(\"Trade Date\")\n",
    "plt.xticks(rotation=30)\n",
    "ax1.xaxis.set_major_locator(mondays)\n",
    "ax1.set_ylabel(\"Equity ETF price in $\")\n",
    "ax2 = ax1.twinx()\n",
    "ax2.set_ylabel(\"Correlation of Equity ETF with treasury rates\")\n",
    "\n",
    "labels=['2 yr','3 yr', '5 yr','7 yr', '10 yr']\n",
    "i=0\n",
    "for label in labels:\n",
    "    ax2.plot(corr_equity_etf.iloc[:,i], label=label)\n",
    "    i+=1\n",
    "ax1.legend()\n",
    "ax2.legend()\n",
    "plt.show()"
   ]
  },
  {
   "cell_type": "code",
   "execution_count": null,
   "metadata": {},
   "outputs": [],
   "source": [
    "#Equally weighted lag - 7 dayscorrelation between Equity ETF with yields\n",
    "corr_gold_etf = df_all[['Gold ETF','2 yr','3 yr', '5 yr','7 yr', '10 yr']].rolling(7).corr().dropna().xs('Gold ETF', level=1).iloc[:,1:]\n",
    "corr_gold_etf = pd.DataFrame(corr_gold_etf)"
   ]
  },
  {
   "cell_type": "code",
   "execution_count": null,
   "metadata": {},
   "outputs": [],
   "source": [
    "#Plotting the Gold ETF and the T-rates\n",
    "mondays = WeekdayLocator(MONDAY)\n",
    "fig, ax1 = plt.subplots(figsize=(10,6))\n",
    "ax1.set_title(\"Gold ETF prices and its correlation (7-days lag) with Treasury rates\")\n",
    "lns1 = ax1.plot(df_all['Gold ETF'], color = 'Blue', label = \"Gold ETF\")\n",
    "ax1.set_xlabel(\"Trade Date\")\n",
    "plt.xticks(rotation=30)\n",
    "ax1.xaxis.set_major_locator(mondays)\n",
    "ax1.set_ylabel(\"Gold ETF price in $\")\n",
    "ax2 = ax1.twinx()\n",
    "ax2.set_ylabel(\"Correlation of Gold ETF with treasury rates\")\n",
    "\n",
    "labels=['2 yr','3 yr', '5 yr','7 yr', '10 yr']\n",
    "i=0\n",
    "for label in labels:\n",
    "    ax2.plot(corr_gold_etf.iloc[:,i], label=label)\n",
    "    i+=1\n",
    "ax1.legend(loc = 6)\n",
    "ax2.legend()\n",
    "plt.show()"
   ]
  },
  {
   "cell_type": "code",
   "execution_count": null,
   "metadata": {},
   "outputs": [],
   "source": []
  },
  {
   "cell_type": "code",
   "execution_count": null,
   "metadata": {},
   "outputs": [],
   "source": []
  },
  {
   "cell_type": "code",
   "execution_count": null,
   "metadata": {},
   "outputs": [],
   "source": []
  }
 ],
 "metadata": {
  "kernelspec": {
   "display_name": "Python 3",
   "language": "python",
   "name": "python3"
  },
  "language_info": {
   "codemirror_mode": {
    "name": "ipython",
    "version": 3
   },
   "file_extension": ".py",
   "mimetype": "text/x-python",
   "name": "python",
   "nbconvert_exporter": "python",
   "pygments_lexer": "ipython3",
   "version": "3.8.5"
  }
 },
 "nbformat": 4,
 "nbformat_minor": 4
}
