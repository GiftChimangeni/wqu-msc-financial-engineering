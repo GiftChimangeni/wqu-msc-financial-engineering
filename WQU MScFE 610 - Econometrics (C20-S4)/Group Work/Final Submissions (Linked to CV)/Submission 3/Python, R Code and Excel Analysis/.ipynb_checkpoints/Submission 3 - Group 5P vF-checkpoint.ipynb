{
 "cells": [
  {
   "cell_type": "code",
   "execution_count": 1,
   "metadata": {},
   "outputs": [],
   "source": [
    "import pandas as pd\n",
    "import numpy as np\n",
    "import matplotlib.pyplot as plt\n",
    "import xlrd\n",
    "import pmdarima\n",
    "import arch\n",
    "import copulas\n",
    "import copulalib\n",
    "from copulalib.copulalib import Copula\n",
    "from outliers import smirnov_grubbs as grubbs\n",
    "from scipy.stats import norm\n",
    "from matplotlib.dates import MONDAY\n",
    "from matplotlib.dates import WeekdayLocator\n",
    "import matplotlib.ticker as ticker\n",
    "from statsmodels.tsa.arima.model import ARIMA\n",
    "from statsmodels.tsa.statespace.sarimax import SARIMAX\n",
    "from statsmodels.tsa.stattools import adfuller, kpss, coint\n",
    "import statsmodels.tsa.stattools as smtools\n",
    "from statsmodels.stats.diagnostic import acorr_ljungbox\n",
    "from statsmodels.tsa.vector_ar.vecm import coint_johansen\n",
    "import statsmodels.api as sm\n",
    "import seaborn as sns\n",
    "from statsmodels.graphics.tsaplots import plot_acf, plot_pacf\n",
    "from pandas.plotting import autocorrelation_plot\n",
    "from pmdarima.arima import auto_arima\n",
    "from sklearn.linear_model import LinearRegression\n",
    "from sklearn.metrics import mean_squared_error\n",
    "from pmdarima import auto_arima\n",
    "from statsmodels.tsa.api import VAR\n",
    "import yfinance as yf\n",
    "from statsmodels.tsa.stattools import grangercausalitytests\n",
    "import arch\n",
    "from pandas.plotting import autocorrelation_plot\n",
    "from arch.univariate import GARCH\n",
    "from arch.univariate import EGARCH\n",
    "from arch.unitroot import engle_granger\n",
    "from scipy.stats import pearsonr\n",
    "from sklearn import metrics\n",
    "from statsmodels.api import OLS\n",
    "from statsmodels.tsa.vector_ar.vecm import VECM\n",
    "import warnings\n",
    "warnings.filterwarnings('ignore')"
   ]
  },
  {
   "cell_type": "markdown",
   "metadata": {},
   "source": [
    "# Step 1. Data Importing #"
   ]
  },
  {
   "cell_type": "code",
   "execution_count": 2,
   "metadata": {},
   "outputs": [
    {
     "data": {
      "text/html": [
       "<div>\n",
       "<style scoped>\n",
       "    .dataframe tbody tr th:only-of-type {\n",
       "        vertical-align: middle;\n",
       "    }\n",
       "\n",
       "    .dataframe tbody tr th {\n",
       "        vertical-align: top;\n",
       "    }\n",
       "\n",
       "    .dataframe thead th {\n",
       "        text-align: right;\n",
       "    }\n",
       "</style>\n",
       "<table border=\"1\" class=\"dataframe\">\n",
       "  <thead>\n",
       "    <tr style=\"text-align: right;\">\n",
       "      <th></th>\n",
       "      <th>Open</th>\n",
       "      <th>High</th>\n",
       "      <th>Low</th>\n",
       "      <th>Close</th>\n",
       "      <th>Volume</th>\n",
       "      <th>Dividends</th>\n",
       "      <th>Stock Splits</th>\n",
       "    </tr>\n",
       "    <tr>\n",
       "      <th>Date</th>\n",
       "      <th></th>\n",
       "      <th></th>\n",
       "      <th></th>\n",
       "      <th></th>\n",
       "      <th></th>\n",
       "      <th></th>\n",
       "      <th></th>\n",
       "    </tr>\n",
       "  </thead>\n",
       "  <tbody>\n",
       "    <tr>\n",
       "      <th>2020-03-31</th>\n",
       "      <td>151.360001</td>\n",
       "      <td>151.800003</td>\n",
       "      <td>147.970001</td>\n",
       "      <td>148.050003</td>\n",
       "      <td>13319500.0</td>\n",
       "      <td>0.0</td>\n",
       "      <td>0.0</td>\n",
       "    </tr>\n",
       "    <tr>\n",
       "      <th>2020-04-01</th>\n",
       "      <td>148.199997</td>\n",
       "      <td>150.080002</td>\n",
       "      <td>147.850006</td>\n",
       "      <td>149.449997</td>\n",
       "      <td>11827400.0</td>\n",
       "      <td>0.0</td>\n",
       "      <td>0.0</td>\n",
       "    </tr>\n",
       "    <tr>\n",
       "      <th>2020-04-02</th>\n",
       "      <td>151.199997</td>\n",
       "      <td>152.500000</td>\n",
       "      <td>150.699997</td>\n",
       "      <td>151.899994</td>\n",
       "      <td>9188300.0</td>\n",
       "      <td>0.0</td>\n",
       "      <td>0.0</td>\n",
       "    </tr>\n",
       "    <tr>\n",
       "      <th>2020-04-03</th>\n",
       "      <td>152.229996</td>\n",
       "      <td>153.089996</td>\n",
       "      <td>151.660004</td>\n",
       "      <td>152.649994</td>\n",
       "      <td>8469100.0</td>\n",
       "      <td>0.0</td>\n",
       "      <td>0.0</td>\n",
       "    </tr>\n",
       "    <tr>\n",
       "      <th>2020-04-06</th>\n",
       "      <td>154.160004</td>\n",
       "      <td>157.220001</td>\n",
       "      <td>153.960007</td>\n",
       "      <td>156.880005</td>\n",
       "      <td>14739300.0</td>\n",
       "      <td>0.0</td>\n",
       "      <td>0.0</td>\n",
       "    </tr>\n",
       "  </tbody>\n",
       "</table>\n",
       "</div>"
      ],
      "text/plain": [
       "                  Open        High         Low       Close      Volume  \\\n",
       "Date                                                                     \n",
       "2020-03-31  151.360001  151.800003  147.970001  148.050003  13319500.0   \n",
       "2020-04-01  148.199997  150.080002  147.850006  149.449997  11827400.0   \n",
       "2020-04-02  151.199997  152.500000  150.699997  151.899994   9188300.0   \n",
       "2020-04-03  152.229996  153.089996  151.660004  152.649994   8469100.0   \n",
       "2020-04-06  154.160004  157.220001  153.960007  156.880005  14739300.0   \n",
       "\n",
       "            Dividends  Stock Splits  \n",
       "Date                                 \n",
       "2020-03-31        0.0           0.0  \n",
       "2020-04-01        0.0           0.0  \n",
       "2020-04-02        0.0           0.0  \n",
       "2020-04-03        0.0           0.0  \n",
       "2020-04-06        0.0           0.0  "
      ]
     },
     "execution_count": 2,
     "metadata": {},
     "output_type": "execute_result"
    }
   ],
   "source": [
    "#(1.1) creating the gold ETF data frame\n",
    "gold_etf = yf.Ticker('GLD')\n",
    "\n",
    "df_goldetf = gold_etf.history(start=\"2020-04-01\",  end=\"2020-12-31\")\n",
    "df_goldetf_Q2 = gold_etf.history(start=\"2020-04-01\",  end=\"2020-06-30\")\n",
    "df_goldetf_Q3 = gold_etf.history(start=\"2020-07-01\",  end=\"2020-09-30\")\n",
    "df_goldetf_Q4 = gold_etf.history(start=\"2020-10-01\",  end=\"2020-12-31\")\n",
    "\n",
    "\n",
    "df_goldetf = gold_etf.history(start=\"2020-04-01\",  end=\"2020-12-31\")\n",
    "df_goldetf.index = pd.to_datetime(df_goldetf.index)\n",
    "df_goldetf = df_goldetf.sort_index(ascending = True)\n",
    "df_goldetf = df_goldetf.astype(float)\n",
    "#print(df_goldetf.index)\n",
    "df_goldetf.head()"
   ]
  },
  {
   "cell_type": "code",
   "execution_count": 3,
   "metadata": {},
   "outputs": [
    {
     "data": {
      "text/html": [
       "<div>\n",
       "<style scoped>\n",
       "    .dataframe tbody tr th:only-of-type {\n",
       "        vertical-align: middle;\n",
       "    }\n",
       "\n",
       "    .dataframe tbody tr th {\n",
       "        vertical-align: top;\n",
       "    }\n",
       "\n",
       "    .dataframe thead th {\n",
       "        text-align: right;\n",
       "    }\n",
       "</style>\n",
       "<table border=\"1\" class=\"dataframe\">\n",
       "  <thead>\n",
       "    <tr style=\"text-align: right;\">\n",
       "      <th></th>\n",
       "      <th>Open</th>\n",
       "      <th>High</th>\n",
       "      <th>Low</th>\n",
       "      <th>Close</th>\n",
       "      <th>Volume</th>\n",
       "      <th>Dividends</th>\n",
       "      <th>Stock Splits</th>\n",
       "    </tr>\n",
       "    <tr>\n",
       "      <th>Date</th>\n",
       "      <th></th>\n",
       "      <th></th>\n",
       "      <th></th>\n",
       "      <th></th>\n",
       "      <th></th>\n",
       "      <th></th>\n",
       "      <th></th>\n",
       "    </tr>\n",
       "  </thead>\n",
       "  <tbody>\n",
       "    <tr>\n",
       "      <th>2020-03-31</th>\n",
       "      <td>8615.0</td>\n",
       "      <td>8634.0</td>\n",
       "      <td>8396.000000</td>\n",
       "      <td>8639.0</td>\n",
       "      <td>517</td>\n",
       "      <td>0</td>\n",
       "      <td>0</td>\n",
       "    </tr>\n",
       "    <tr>\n",
       "      <th>2020-04-01</th>\n",
       "      <td>8285.0</td>\n",
       "      <td>8358.0</td>\n",
       "      <td>8285.000000</td>\n",
       "      <td>8265.5</td>\n",
       "      <td>4250</td>\n",
       "      <td>0</td>\n",
       "      <td>0</td>\n",
       "    </tr>\n",
       "    <tr>\n",
       "      <th>2020-04-02</th>\n",
       "      <td>8332.0</td>\n",
       "      <td>8371.0</td>\n",
       "      <td>8240.000000</td>\n",
       "      <td>8324.0</td>\n",
       "      <td>2125</td>\n",
       "      <td>0</td>\n",
       "      <td>0</td>\n",
       "    </tr>\n",
       "    <tr>\n",
       "      <th>2020-04-03</th>\n",
       "      <td>8263.0</td>\n",
       "      <td>8263.0</td>\n",
       "      <td>8219.200195</td>\n",
       "      <td>8219.0</td>\n",
       "      <td>1049</td>\n",
       "      <td>0</td>\n",
       "      <td>0</td>\n",
       "    </tr>\n",
       "    <tr>\n",
       "      <th>2020-04-06</th>\n",
       "      <td>8475.0</td>\n",
       "      <td>8476.0</td>\n",
       "      <td>8376.000000</td>\n",
       "      <td>8483.0</td>\n",
       "      <td>790</td>\n",
       "      <td>0</td>\n",
       "      <td>0</td>\n",
       "    </tr>\n",
       "  </tbody>\n",
       "</table>\n",
       "</div>"
      ],
      "text/plain": [
       "              Open    High          Low   Close  Volume  Dividends  \\\n",
       "Date                                                                 \n",
       "2020-03-31  8615.0  8634.0  8396.000000  8639.0     517          0   \n",
       "2020-04-01  8285.0  8358.0  8285.000000  8265.5    4250          0   \n",
       "2020-04-02  8332.0  8371.0  8240.000000  8324.0    2125          0   \n",
       "2020-04-03  8263.0  8263.0  8219.200195  8219.0    1049          0   \n",
       "2020-04-06  8475.0  8476.0  8376.000000  8483.0     790          0   \n",
       "\n",
       "            Stock Splits  \n",
       "Date                      \n",
       "2020-03-31             0  \n",
       "2020-04-01             0  \n",
       "2020-04-02             0  \n",
       "2020-04-03             0  \n",
       "2020-04-06             0  "
      ]
     },
     "execution_count": 3,
     "metadata": {},
     "output_type": "execute_result"
    }
   ],
   "source": [
    "#(1.2) creating the equity ETF dataframe\n",
    "equity_etf = yf.Ticker('CSUK.L')\n",
    "df_equityetf = equity_etf.history(start=\"2020-03-30\",  end=\"2020-12-31\")\n",
    "df_equityetf1 = equity_etf.history(start=\"2020-04-01\",  end=\"2020-12-31\")\n",
    "\n",
    "df_equityetf_Q2 = equity_etf.history(start=\"2020-04-01\",  end=\"2020-06-30\")\n",
    "df_equityetf_Q3 = equity_etf.history(start=\"2020-07-01\",  end=\"2020-09-30\")\n",
    "df_equityetf_Q4 = equity_etf.history(start=\"2020-10-01\",  end=\"2020-12-31\")\n",
    "\n",
    "\n",
    "df_equityetf.index = pd.to_datetime(df_equityetf.index)\n",
    "df_equityetf = df_equityetf.sort_index(ascending = True)\n",
    "df_equityetf = df_equityetf.astype(float)\n",
    "df_equityetf1.head()"
   ]
  },
  {
   "cell_type": "code",
   "execution_count": 4,
   "metadata": {
    "scrolled": true
   },
   "outputs": [
    {
     "data": {
      "text/html": [
       "<div>\n",
       "<style scoped>\n",
       "    .dataframe tbody tr th:only-of-type {\n",
       "        vertical-align: middle;\n",
       "    }\n",
       "\n",
       "    .dataframe tbody tr th {\n",
       "        vertical-align: top;\n",
       "    }\n",
       "\n",
       "    .dataframe thead th {\n",
       "        text-align: right;\n",
       "    }\n",
       "</style>\n",
       "<table border=\"1\" class=\"dataframe\">\n",
       "  <thead>\n",
       "    <tr style=\"text-align: right;\">\n",
       "      <th></th>\n",
       "      <th>Open</th>\n",
       "      <th>High</th>\n",
       "      <th>Low</th>\n",
       "      <th>Close</th>\n",
       "      <th>Volume</th>\n",
       "      <th>Dividends</th>\n",
       "      <th>Stock Splits</th>\n",
       "    </tr>\n",
       "    <tr>\n",
       "      <th>Date</th>\n",
       "      <th></th>\n",
       "      <th></th>\n",
       "      <th></th>\n",
       "      <th></th>\n",
       "      <th></th>\n",
       "      <th></th>\n",
       "      <th></th>\n",
       "    </tr>\n",
       "  </thead>\n",
       "  <tbody>\n",
       "    <tr>\n",
       "      <th>2020-03-31</th>\n",
       "      <td>6430.606445</td>\n",
       "      <td>6504.515137</td>\n",
       "      <td>6374.162109</td>\n",
       "      <td>6438.644531</td>\n",
       "      <td>3.278647e+10</td>\n",
       "      <td>0.0</td>\n",
       "      <td>0.0</td>\n",
       "    </tr>\n",
       "    <tr>\n",
       "      <th>2020-04-01</th>\n",
       "      <td>6437.319336</td>\n",
       "      <td>6612.573730</td>\n",
       "      <td>6202.373535</td>\n",
       "      <td>6606.776367</td>\n",
       "      <td>4.034643e+10</td>\n",
       "      <td>0.0</td>\n",
       "      <td>0.0</td>\n",
       "    </tr>\n",
       "    <tr>\n",
       "      <th>2020-04-02</th>\n",
       "      <td>6606.776367</td>\n",
       "      <td>7088.247559</td>\n",
       "      <td>6595.918457</td>\n",
       "      <td>6793.624512</td>\n",
       "      <td>4.766065e+10</td>\n",
       "      <td>0.0</td>\n",
       "      <td>0.0</td>\n",
       "    </tr>\n",
       "    <tr>\n",
       "      <th>2020-04-03</th>\n",
       "      <td>6797.396484</td>\n",
       "      <td>7003.220703</td>\n",
       "      <td>6673.335938</td>\n",
       "      <td>6733.387207</td>\n",
       "      <td>3.897650e+10</td>\n",
       "      <td>0.0</td>\n",
       "      <td>0.0</td>\n",
       "    </tr>\n",
       "    <tr>\n",
       "      <th>2020-04-04</th>\n",
       "      <td>6738.382812</td>\n",
       "      <td>6878.953613</td>\n",
       "      <td>6696.484863</td>\n",
       "      <td>6867.527344</td>\n",
       "      <td>3.318599e+10</td>\n",
       "      <td>0.0</td>\n",
       "      <td>0.0</td>\n",
       "    </tr>\n",
       "  </tbody>\n",
       "</table>\n",
       "</div>"
      ],
      "text/plain": [
       "                   Open         High          Low        Close        Volume  \\\n",
       "Date                                                                           \n",
       "2020-03-31  6430.606445  6504.515137  6374.162109  6438.644531  3.278647e+10   \n",
       "2020-04-01  6437.319336  6612.573730  6202.373535  6606.776367  4.034643e+10   \n",
       "2020-04-02  6606.776367  7088.247559  6595.918457  6793.624512  4.766065e+10   \n",
       "2020-04-03  6797.396484  7003.220703  6673.335938  6733.387207  3.897650e+10   \n",
       "2020-04-04  6738.382812  6878.953613  6696.484863  6867.527344  3.318599e+10   \n",
       "\n",
       "            Dividends  Stock Splits  \n",
       "Date                                 \n",
       "2020-03-31        0.0           0.0  \n",
       "2020-04-01        0.0           0.0  \n",
       "2020-04-02        0.0           0.0  \n",
       "2020-04-03        0.0           0.0  \n",
       "2020-04-04        0.0           0.0  "
      ]
     },
     "execution_count": 4,
     "metadata": {},
     "output_type": "execute_result"
    }
   ],
   "source": [
    "#(1.3) creating the bitcoin dataframe\n",
    "bitcoin = yf.Ticker('BTC-USD')\n",
    "df_bitcoin = bitcoin.history(start=\"2020-04-01\",  end=\"2020-12-31\")\n",
    "\n",
    "df_bitcoin_Q2 = bitcoin.history(start=\"2020-04-01\",  end=\"2020-06-30\")\n",
    "df_bitcoin_Q3 = bitcoin.history(start=\"2020-07-01\",  end=\"2020-09-30\")\n",
    "df_bitcoin_Q4 = bitcoin.history(start=\"2020-10-01\",  end=\"2020-12-31\")\n",
    "\n",
    "df_bitcoin.index = pd.to_datetime(df_bitcoin.index)\n",
    "df_bitcoin = df_bitcoin.sort_index(ascending = True)\n",
    "df_bitcoin = df_bitcoin.astype(float)\n",
    "df_bitcoin.head()"
   ]
  },
  {
   "cell_type": "markdown",
   "metadata": {},
   "source": [
    "# Steps 2 & 3. Data Processing, Data Summaries and Extreme Values #"
   ]
  },
  {
   "cell_type": "code",
   "execution_count": 5,
   "metadata": {},
   "outputs": [],
   "source": [
    "#(2.1), (3.1) Daily return on gold etf, equity etf and bitcoin\n",
    "df_goldetf_daily_return = pd.DataFrame(np.log(df_goldetf['Close']/df_goldetf['Close'].shift(1)).iloc[1:].rename('Gold ETF Daily Returns'))\n",
    "df_equityetf_daily_return = pd.DataFrame(np.log(df_equityetf['Close']/df_equityetf['Close'].shift(1)).iloc[1:].rename('Equity ETF Daily Returns'))\n",
    "df_bitcoin_daily_return = pd.DataFrame(np.log(df_bitcoin['Close']/df_bitcoin['Close'].shift(1)).iloc[1:].rename('Bitcoin-USD Daily Returns'))"
   ]
  },
  {
   "cell_type": "code",
   "execution_count": 6,
   "metadata": {},
   "outputs": [
    {
     "name": "stdout",
     "output_type": "stream",
     "text": [
      "Fisher's Kurtosis for Gold ETF Apr'20-Dec'20 Returns = 4.30760339618578\n",
      "Fisher's Kurtosis for Equity ETF Apr'20-Dec'20 Returns = 0.850993827042342\n",
      "Fisher's Kurtosis for Bitcoin Apr'20-Dec'20 Returns = 2.7219311764856764\n"
     ]
    }
   ],
   "source": [
    "#(3.2) Kurtosis for gold etf, equity etf and bitcoin return series\n",
    "goldetfreturn_kurt = df_goldetf_daily_return.kurtosis()\n",
    "equityetfreturn_kurt = df_equityetf_daily_return.kurtosis()\n",
    "bitcoinreturn_kurt = df_bitcoin_daily_return.kurtosis()\n",
    "\n",
    "print(\"Fisher's Kurtosis for Gold ETF Apr'20-Dec'20 Returns =\", goldetfreturn_kurt[0])\n",
    "print(\"Fisher's Kurtosis for Equity ETF Apr'20-Dec'20 Returns =\", equityetfreturn_kurt[0])\n",
    "print(\"Fisher's Kurtosis for Bitcoin Apr'20-Dec'20 Returns =\", bitcoinreturn_kurt[0])"
   ]
  },
  {
   "cell_type": "markdown",
   "metadata": {},
   "source": [
    "Fisher's kurtosis captures the excess kurtosis relative to that of a normal distribution (mesokurtic, kurtosis = 3). Accordingly, distributions with Fisher's kurtosis > 0 are leptokurtic. This is the case for all 3 return series. Leptokurtic returns imply higher probability for extremely low or extremely high returns and associated higher value at risk. "
   ]
  },
  {
   "cell_type": "code",
   "execution_count": 7,
   "metadata": {},
   "outputs": [],
   "source": [
    "#(3.3) Chosen Metric/ Tool to Detect Extreme Values and Rationale for the Choice"
   ]
  },
  {
   "cell_type": "markdown",
   "metadata": {},
   "source": [
    "We use boxplots on data from Apr 2020 to Dec 2020 to visualise the three distributions. A boxplot graphically depicts the spread of a distribution with 5 measures of location viz. the median, the first and third quartiles and the maximum and minimum values. \n",
    "\n",
    "We use the boxplot because typically, the maximum and minimum values in the construction of a boxplot are defined as follows:\n",
    "- Maximum: Q3 + 1.5 x (Inter-quartile range)\n",
    "- Minimum: Q1 - 1.5 x (Inter-quartile range)\n",
    "\n",
    "Any values which lie beyond the minimum and maximum defined above are treated as outliers/ extreme values, which seems to be a reasonable definition. We complement the results from the boxplot with those from the Grubbs test for extreme values, to identify the series with the most extreme values."
   ]
  },
  {
   "cell_type": "code",
   "execution_count": 8,
   "metadata": {},
   "outputs": [
    {
     "data": {
      "text/plain": [
       "[Text(0.5, 0, 'Boxplot 0: Gold ETF Daily Returns, Boxplot 1: Equity ETF Daily Returns, Boxplot 2: Bitcoin-USD Daily Returns')]"
      ]
     },
     "execution_count": 8,
     "metadata": {},
     "output_type": "execute_result"
    },
    {
     "data": {
      "image/png": "[encoded data removed]",
      "text/plain": [
       "<Figure size 432x288 with 1 Axes>"
      ]
     },
     "metadata": {
      "needs_background": "light"
     },
     "output_type": "display_data"
    }
   ],
   "source": [
    "#(3.4) Boxplot for gold etf, equity etf and bitcoin return series\n",
    "boxplotdata = [df_goldetf_daily_return['Gold ETF Daily Returns'].to_numpy(), df_equityetf_daily_return['Equity ETF Daily Returns'].to_numpy(), df_bitcoin_daily_return['Bitcoin-USD Daily Returns'].to_numpy()]\n",
    "equityetfreturn_boxplot = sns.boxplot(data = boxplotdata).set(xlabel ='Boxplot 0: Gold ETF Daily Returns, Boxplot 1: Equity ETF Daily Returns, Boxplot 2: Bitcoin-USD Daily Returns')\n",
    "equityetfreturn_boxplot"
   ]
  },
  {
   "cell_type": "code",
   "execution_count": 9,
   "metadata": {
    "scrolled": true
   },
   "outputs": [
    {
     "name": "stdout",
     "output_type": "stream",
     "text": [
      "Gold ETF Return Extreme Values = {-0.0551897267189793, -0.045280856143465276}\n",
      "Equity ETF Return Extreme Values = set()\n",
      "Bitcoin Return Extreme Values = {-0.108024907829682, 0.11984140644428902}\n"
     ]
    }
   ],
   "source": [
    "#(3.4) Grubbs Test for Extreme Value Detection\n",
    "\n",
    "#Gold ETF Returns\n",
    "goldarray = df_goldetf_daily_return['Gold ETF Daily Returns'].to_numpy()\n",
    "goldtest = grubbs.test(goldarray, alpha = 0.05)\n",
    "diff_gold = set(goldarray) - set(goldtest)\n",
    "\n",
    "\n",
    "#Equity ETF Returns\n",
    "equityarray = df_equityetf_daily_return['Equity ETF Daily Returns'].to_numpy()\n",
    "equitytest = grubbs.test(equityarray, alpha = 0.05)\n",
    "diff_equity = set(equityarray) - set(equitytest)\n",
    "\n",
    "\n",
    "#Bitcoin Returns\n",
    "bitcoinarray = df_bitcoin_daily_return['Bitcoin-USD Daily Returns'].to_numpy()\n",
    "bitcointest = grubbs.test(bitcoinarray, alpha = 0.05)\n",
    "diff_bitcoin = set(bitcoinarray) - set(bitcointest)\n",
    "\n",
    "print('Gold ETF Return Extreme Values =', diff_gold)\n",
    "print('Equity ETF Return Extreme Values =', diff_equity)\n",
    "print('Bitcoin Return Extreme Values =', diff_bitcoin)"
   ]
  },
  {
   "cell_type": "markdown",
   "metadata": {},
   "source": [
    "# Step 4. Data Comparison and Copulas #"
   ]
  },
  {
   "cell_type": "code",
   "execution_count": 10,
   "metadata": {},
   "outputs": [],
   "source": [
    "#(4.1)"
   ]
  },
  {
   "cell_type": "markdown",
   "metadata": {},
   "source": [
    "Gold ETF and Bitcoin returns seem to have the most outliers, based on the boxplots and the results of the Grubbs test. So, we use these 2 series to fit Copulas"
   ]
  },
  {
   "cell_type": "code",
   "execution_count": 11,
   "metadata": {},
   "outputs": [
    {
     "data": {
      "text/plain": [
       "<matplotlib.axes._subplots.AxesSubplot at 0x7fda0bb64c70>"
      ]
     },
     "execution_count": 11,
     "metadata": {},
     "output_type": "execute_result"
    },
    {
     "data": {
      "image/png": "[encoded data removed]",
      "text/plain": [
       "<Figure size 432x288 with 1 Axes>"
      ]
     },
     "metadata": {
      "needs_background": "light"
     },
     "output_type": "display_data"
    }
   ],
   "source": [
    "#(4.2) Plotting Gold ETF Returns vs. Bitcoin Returns\n",
    "scatterplotdf = pd.DataFrame()\n",
    "scatterplotdf['Gold ETF Daily Returns'] = df_goldetf_daily_return['Gold ETF Daily Returns']\n",
    "scatterplotdf['Bitcoin-USD Daily Returns'] = df_bitcoin_daily_return['Bitcoin-USD Daily Returns']\n",
    "\n",
    "sns.scatterplot(data = scatterplotdf,x = 'Gold ETF Daily Returns', y = 'Bitcoin-USD Daily Returns')"
   ]
  },
  {
   "cell_type": "code",
   "execution_count": 12,
   "metadata": {},
   "outputs": [],
   "source": [
    "#(4.3) Fitting Copulas"
   ]
  },
  {
   "cell_type": "code",
   "execution_count": 13,
   "metadata": {},
   "outputs": [],
   "source": [
    "# Copula class\n",
    "plt.style.use('ggplot')\n",
    "\n",
    "class copulaClass(object):\n",
    "\n",
    "    # Available copulas\n",
    "    families = ['frank','clayton','gumbel']\n",
    "\n",
    "    def __init__(self,x,y):\n",
    "        # Information about the data\n",
    "        self.x = x\n",
    "        self.y = y\n",
    "        self.mu_x = np.array(x).mean()\n",
    "        self.mu_y = np.array(y).mean()\n",
    "        self.std_x = np.array(x).std()\n",
    "        self.std_y = np.array(y).std()\n",
    "\n",
    "        # Information about the copula\n",
    "        self.cop = 0\n",
    "        self.famil = 0\n",
    "        self.tau_ = 0\n",
    "        self.sr_ = 0\n",
    "        self.theta_ = 0\n",
    "\n",
    "    def showAvailableCopulas(self):\n",
    "        \"\"\"This function plots available copulas\n",
    "           to give you a visual insight      \"\"\"\n",
    "\n",
    "        # Random simulated data\n",
    "        x = np.random.normal(size=250)\n",
    "        y = 2.5*x + np.random.normal(size=250)\n",
    "        fig = plt.figure()\n",
    "\n",
    "        # Frank\n",
    "        frank = Copula(x,y,family='frank')\n",
    "        uf,vf = frank.generate_uv(250)\n",
    "        fig.add_subplot(2,2,1)\n",
    "        plt.scatter(uf,vf,marker='.',color='blue')\n",
    "        plt.ylim(0,1)\n",
    "        plt.xlim(0,1)\n",
    "        plt.title('Frank copula')\n",
    "\n",
    "        # Clayton\n",
    "        clayton = Copula(x,y,family='clayton')\n",
    "        uc,vc = clayton.generate_uv(250)\n",
    "        fig.add_subplot(2,2,2)\n",
    "        plt.scatter(uc,vc,marker='.',color='red')\n",
    "        plt.ylim(0,1)\n",
    "        plt.xlim(0,1)\n",
    "        plt.title('Clayton copula')\n",
    "\n",
    "        # Gumbel\n",
    "        gumbel = Copula(x,y,family='gumbel')\n",
    "        ug,vg = gumbel.generate_uv(250)\n",
    "        fig.add_subplot(2,2,3)\n",
    "        plt.scatter(ug,vg,marker='.',color='green')\n",
    "        plt.ylim(0,1)\n",
    "        plt.xlim(0,1)\n",
    "        plt.title('Gumbel copula')\n",
    "\n",
    "        plt.show()\n",
    "        \n",
    "\n",
    "    def plotData(self):\n",
    "        \"\"\"This function plots the data you've fed in\n",
    "           to give you a visual insight of the correlation\n",
    "           structure and the marginal distributions \"\"\"\n",
    "        x = self.x\n",
    "        y = self.y\n",
    "        fig = plt.figure()\n",
    "        fig.add_subplot(2,2,1)\n",
    "        plt.hist(x,bins=20,color='green',alpha=0.8,align='mid')\n",
    "        plt.title('Gold ETF Returns Distribution')\n",
    "        fig.add_subplot(2,2,3)\n",
    "        plt.scatter(x,y,marker=\"o\",alpha=0.8)\n",
    "        fig.add_subplot(2,2,4)\n",
    "        plt.title('Joint X,Y')\n",
    "        plt.hist(y,bins=20,orientation='horizontal',color='red',alpha=0.8,align='mid')\n",
    "        plt.title('Bitcoin Returns Distribution')    \n",
    "        plt.show()\n",
    "\n",
    "    def generateCopula(self,fam,plot=False):\n",
    "        \"\"\"Generate the copula and optionally plot it\"\"\"\n",
    "        \n",
    "        if fam.lower() not in self.families:\n",
    "            raise ValueError('Please select a valid family name')\n",
    "\n",
    "        # Copula generation\n",
    "        self.famil = fam.lower()\n",
    "        c = Copula(self.x,self.y,family=fam.lower())\n",
    "        self.cop = c\n",
    "\n",
    "        # Parameters are estimated and set\n",
    "        self.tau_ = c.tau\n",
    "        self.sr_ = c.sr\n",
    "        self.theta_ = c.theta\n",
    "\n",
    "        if plot:\n",
    "            u,v = c.generate_uv(1000)\n",
    "            plt.scatter(u,v,marker='.',color='red')\n",
    "            plt.xlim(0,1)\n",
    "            plt.ylim(0,1)\n",
    "            plt.title(fam.lower().capitalize()+' Copula 1000 pseudo observations')\n",
    "            plt.show()\n",
    "\n",
    "    def printCorrelation(self):\n",
    "        # Print details about correlations and parameters\n",
    "        print(\"#################################################\")\n",
    "        print(\"Correlation details:\")\n",
    "        print(\"Correlation index range: [-1,1] [negative,positive]\")\n",
    "        print(\"Kendall's tau:\",self.tau_)\n",
    "        print(\"Spearman's rho:\",self.sr_)\n",
    "        print(\"Parameter of the copula (theta):\",self.theta_)\n",
    "        print(\"#################################################\")\n",
    "\n",
    "    def generatePseudoObs(self,n=1000,plot=False):\n",
    "        \"\"\"This function generates and returns simulated pseudo observations \"\"\"\n",
    "        \n",
    "        if self.famil == 0:\n",
    "            raise ValueError('Generate copula first')\n",
    "\n",
    "        u,v = self.cop.generate_uv(n)\n",
    "\n",
    "        if plot:\n",
    "            plt.scatter(u,v,marker='.',color='red')\n",
    "            plt.xlim(0,1)\n",
    "            plt.ylim(0,1)\n",
    "            plt.title(self.famil.capitalize()+' Copula 1000 pseudo observations')\n",
    "            plt.show()\n",
    "            \n",
    "        return u,v\n",
    "\n",
    "    def getSimulatedData(self,dist='normal',n=1000):\n",
    "        \"\"\"This function simulates real observations assuming that your data\n",
    "           is normally distributed. Optionally you can edit this function and\n",
    "           choose the distribution that fits your data best\"\"\"\n",
    "\n",
    "        if dist.lower() == 'normal':\n",
    "            u,v = self.generatePseudoObs(n=n)\n",
    "            x = norm.ppf(u,loc=self.mu_x,scale=self.std_x)\n",
    "            y = norm.ppf(v,loc=self.mu_y,scale=self.std_y)\n",
    "            return x,y"
   ]
  },
  {
   "cell_type": "code",
   "execution_count": 14,
   "metadata": {},
   "outputs": [
    {
     "data": {
      "image/png": "[encoded data removed]",
      "text/plain": [
       "<Figure size 432x288 with 3 Axes>"
      ]
     },
     "metadata": {},
     "output_type": "display_data"
    },
    {
     "data": {
      "image/png": "[encoded data removed]",
      "text/plain": [
       "<Figure size 432x288 with 3 Axes>"
      ]
     },
     "metadata": {},
     "output_type": "display_data"
    }
   ],
   "source": [
    "# Gold ETF Returns vs Bitcoin Returns\n",
    "x = scatterplotdf.dropna()['Gold ETF Daily Returns']\n",
    "y = scatterplotdf.dropna()['Bitcoin-USD Daily Returns']\n",
    "\n",
    "# Generate a copulaClass instance\n",
    "a = copulaClass(x,y)\n",
    "\n",
    "# Visualize the data\n",
    "a.plotData()\n",
    "\n",
    "# Show 3 copulas viz. Frank, Gumbel and Clayton\n",
    "a.showAvailableCopulas()"
   ]
  },
  {
   "cell_type": "code",
   "execution_count": 15,
   "metadata": {},
   "outputs": [
    {
     "data": {
      "image/png": "[encoded data removed]",
      "text/plain": [
       "<Figure size 432x288 with 1 Axes>"
      ]
     },
     "metadata": {},
     "output_type": "display_data"
    },
    {
     "name": "stdout",
     "output_type": "stream",
     "text": [
      "#################################################\n",
      "Correlation details:\n",
      "Correlation index range: [-1,1] [negative,positive]\n",
      "Kendall's tau: 0.22313281022958437\n",
      "Spearman's rho: 0.324140631920518\n",
      "Parameter of the copula (theta): 2.09368896484375\n",
      "#################################################\n"
     ]
    },
    {
     "data": {
      "image/png": "[encoded data removed]",
      "text/plain": [
       "<Figure size 432x288 with 1 Axes>"
      ]
     },
     "metadata": {},
     "output_type": "display_data"
    }
   ],
   "source": [
    "# Fitting the Frank copula\n",
    "a.generateCopula('frank',plot=True)\n",
    "\n",
    "# Print parameters\n",
    "a.printCorrelation()\n",
    "\n",
    "# Simulate data and plot real observations versus simulated obs.\n",
    "c,d = a.getSimulatedData()\n",
    "plt.scatter(c,d,color=\"red\",label=\"Simulated data\",marker='.')\n",
    "plt.scatter(x,y,color=\"blue\",label=\"Real data\",marker='.')\n",
    "plt.legend()\n",
    "plt.title(\"Fitted Frank copula: simulated data versus real data\")\n",
    "plt.xlabel('Gold ETF Returns')\n",
    "plt.ylabel('Bitcoin Returns')\n",
    "plt.show()"
   ]
  },
  {
   "cell_type": "code",
   "execution_count": 16,
   "metadata": {},
   "outputs": [
    {
     "data": {
      "image/png": "[encoded data removed]",
      "text/plain": [
       "<Figure size 432x288 with 1 Axes>"
      ]
     },
     "metadata": {},
     "output_type": "display_data"
    },
    {
     "name": "stdout",
     "output_type": "stream",
     "text": [
      "#################################################\n",
      "Correlation details:\n",
      "Correlation index range: [-1,1] [negative,positive]\n",
      "Kendall's tau: 0.22313281022958437\n",
      "Spearman's rho: 0.324140631920518\n",
      "Parameter of the copula (theta): 0.5744426155918\n",
      "#################################################\n"
     ]
    },
    {
     "data": {
      "image/png": "[encoded data removed]",
      "text/plain": [
       "<Figure size 432x288 with 1 Axes>"
      ]
     },
     "metadata": {},
     "output_type": "display_data"
    }
   ],
   "source": [
    "# Fitting the Clayton copula\n",
    "a.generateCopula('clayton',plot=True)\n",
    "\n",
    "# Print parameters\n",
    "a.printCorrelation()\n",
    "\n",
    "# Simulate data and plot real observations versus simulated obs.\n",
    "c,d = a.getSimulatedData()\n",
    "plt.scatter(c,d,color=\"red\",label=\"Simulated data\",marker='.')\n",
    "plt.scatter(x,y,color=\"blue\",label=\"Real data\",marker='.')\n",
    "plt.legend()\n",
    "plt.title(\"Fitted Clayton copula: simulated data versus real data\")\n",
    "plt.xlabel('Gold ETF Returns')\n",
    "plt.ylabel('Bitcoin Returns')\n",
    "plt.show()"
   ]
  },
  {
   "cell_type": "code",
   "execution_count": 17,
   "metadata": {},
   "outputs": [
    {
     "data": {
      "image/png": "[encoded data removed]",
      "text/plain": [
       "<Figure size 432x288 with 1 Axes>"
      ]
     },
     "metadata": {},
     "output_type": "display_data"
    },
    {
     "name": "stdout",
     "output_type": "stream",
     "text": [
      "#################################################\n",
      "Correlation details:\n",
      "Correlation index range: [-1,1] [negative,positive]\n",
      "Kendall's tau: 0.22313281022958437\n",
      "Spearman's rho: 0.324140631920518\n",
      "Parameter of the copula (theta): 1.2872213077959\n",
      "#################################################\n"
     ]
    },
    {
     "data": {
      "image/png": "[encoded data removed]",
      "text/plain": [
       "<Figure size 432x288 with 1 Axes>"
      ]
     },
     "metadata": {},
     "output_type": "display_data"
    }
   ],
   "source": [
    "# Fitting the Gumbel copula\n",
    "a.generateCopula('gumbel',plot=True)\n",
    "\n",
    "# Print parameters\n",
    "a.printCorrelation()\n",
    "\n",
    "# Simulate data and plot real observations versus simulated obs.\n",
    "c,d = a.getSimulatedData()\n",
    "plt.scatter(c,d,color=\"red\",label=\"Simulated data\",marker='.')\n",
    "plt.scatter(x,y,color=\"blue\",label=\"Real data\",marker='.')\n",
    "plt.legend()\n",
    "plt.title(\"Fitted Gumbel copula: simulated data versus real data\")\n",
    "plt.xlabel('Gold ETF Returns')\n",
    "plt.ylabel('Bitcoin Returns')\n",
    "plt.show()"
   ]
  },
  {
   "cell_type": "markdown",
   "metadata": {},
   "source": [
    "# Step 5. Category 1 Models Using Equity ETF #"
   ]
  },
  {
   "cell_type": "code",
   "execution_count": 18,
   "metadata": {},
   "outputs": [],
   "source": [
    "#(5.1)"
   ]
  },
  {
   "cell_type": "markdown",
   "metadata": {},
   "source": [
    "Out of the 3 return series, we choose to implement a trading strategy on our chosen Equity ETF. Our strategy in this step uses ARMA and ARMA-GARCH(1,1) models to predict one-day returns of the Equity ETF using a rolling window of 60 days over 2 time periods Q2 2020 - Q3 2020 and Q3 2020 - Q4 2020. \n",
    "\n",
    "If the predicted return comes out to be positive, our portfolio will go long the Equity ETF for that day whereas if it is negative, it goes short the Equity ETF for the same day. The resulting evolution of our ARMA/ ARMA-GARCH based portfolios is then compared to a portfolio which adopts a simple buy-and-hold strategy."
   ]
  },
  {
   "cell_type": "markdown",
   "metadata": {},
   "source": [
    "## (5.2), (5.4), (5.5) Trading Strategy Creating ARMA-based Predictive Signals (Q2-Q3 2020)"
   ]
  },
  {
   "cell_type": "code",
   "execution_count": 19,
   "metadata": {
    "scrolled": false
   },
   "outputs": [
    {
     "data": {
      "text/html": [
       "<div>\n",
       "<style scoped>\n",
       "    .dataframe tbody tr th:only-of-type {\n",
       "        vertical-align: middle;\n",
       "    }\n",
       "\n",
       "    .dataframe tbody tr th {\n",
       "        vertical-align: top;\n",
       "    }\n",
       "\n",
       "    .dataframe thead th {\n",
       "        text-align: right;\n",
       "    }\n",
       "</style>\n",
       "<table border=\"1\" class=\"dataframe\">\n",
       "  <thead>\n",
       "    <tr style=\"text-align: right;\">\n",
       "      <th></th>\n",
       "      <th>Log Return</th>\n",
       "    </tr>\n",
       "    <tr>\n",
       "      <th>Date</th>\n",
       "      <th></th>\n",
       "    </tr>\n",
       "  </thead>\n",
       "  <tbody>\n",
       "    <tr>\n",
       "      <th>2020-03-31</th>\n",
       "      <td>0.014047</td>\n",
       "    </tr>\n",
       "    <tr>\n",
       "      <th>2020-04-01</th>\n",
       "      <td>-0.044197</td>\n",
       "    </tr>\n",
       "    <tr>\n",
       "      <th>2020-04-02</th>\n",
       "      <td>0.007053</td>\n",
       "    </tr>\n",
       "    <tr>\n",
       "      <th>2020-04-03</th>\n",
       "      <td>-0.012694</td>\n",
       "    </tr>\n",
       "    <tr>\n",
       "      <th>2020-04-06</th>\n",
       "      <td>0.031616</td>\n",
       "    </tr>\n",
       "    <tr>\n",
       "      <th>...</th>\n",
       "      <td>...</td>\n",
       "    </tr>\n",
       "    <tr>\n",
       "      <th>2020-09-25</th>\n",
       "      <td>0.000282</td>\n",
       "    </tr>\n",
       "    <tr>\n",
       "      <th>2020-09-28</th>\n",
       "      <td>0.020020</td>\n",
       "    </tr>\n",
       "    <tr>\n",
       "      <th>2020-09-29</th>\n",
       "      <td>-0.007893</td>\n",
       "    </tr>\n",
       "    <tr>\n",
       "      <th>2020-09-30</th>\n",
       "      <td>-0.005035</td>\n",
       "    </tr>\n",
       "    <tr>\n",
       "      <th>2020-10-01</th>\n",
       "      <td>0.001793</td>\n",
       "    </tr>\n",
       "  </tbody>\n",
       "</table>\n",
       "<p>128 rows × 1 columns</p>\n",
       "</div>"
      ],
      "text/plain": [
       "            Log Return\n",
       "Date                  \n",
       "2020-03-31    0.014047\n",
       "2020-04-01   -0.044197\n",
       "2020-04-02    0.007053\n",
       "2020-04-03   -0.012694\n",
       "2020-04-06    0.031616\n",
       "...                ...\n",
       "2020-09-25    0.000282\n",
       "2020-09-28    0.020020\n",
       "2020-09-29   -0.007893\n",
       "2020-09-30   -0.005035\n",
       "2020-10-01    0.001793\n",
       "\n",
       "[128 rows x 1 columns]"
      ]
     },
     "execution_count": 19,
     "metadata": {},
     "output_type": "execute_result"
    }
   ],
   "source": [
    "df_equityetf_daily_return = df_equityetf_daily_return.rename(columns = {'Equity ETF Daily Returns':'Log Return'})\n",
    "df_equityetf_daily_return_Q2Q3 = df_equityetf_daily_return['2020-03-31':'2020-10-01']\n",
    "df_equityetf_daily_return_Q2Q3"
   ]
  },
  {
   "cell_type": "code",
   "execution_count": 20,
   "metadata": {},
   "outputs": [],
   "source": [
    "# Create the windowed dataset\n",
    "equityetfreturnsQ2Q3 = df_equityetf_daily_return_Q2Q3['Log Return']\n",
    "windowLengthQ2Q3 = 60\n",
    "foreLengthQ2Q3 = len(equityetfreturnsQ2Q3) - windowLengthQ2Q3\n",
    "\n",
    "windowed_dsQ2Q3 = []\n",
    "for d in range(foreLengthQ2Q3-1):\n",
    "    windowed_dsQ2Q3.append(equityetfreturnsQ2Q3[d:d + windowLengthQ2Q3])"
   ]
  },
  {
   "cell_type": "code",
   "execution_count": 21,
   "metadata": {
    "scrolled": false
   },
   "outputs": [
    {
     "data": {
      "text/plain": [
       "(Date\n",
       " 2020-03-31    0.014047\n",
       " 2020-04-01   -0.044197\n",
       " 2020-04-02    0.007053\n",
       " 2020-04-03   -0.012694\n",
       " 2020-04-06    0.031616\n",
       " 2020-04-07    0.020246\n",
       " 2020-04-08   -0.006723\n",
       " 2020-04-09    0.029959\n",
       " 2020-04-14   -0.008387\n",
       " 2020-04-15   -0.032799\n",
       " 2020-04-16    0.006273\n",
       " 2020-04-17    0.020533\n",
       " 2020-04-20    0.006676\n",
       " 2020-04-21   -0.026508\n",
       " 2020-04-22    0.020004\n",
       " 2020-04-23    0.009741\n",
       " 2020-04-24   -0.011574\n",
       " 2020-04-27    0.012650\n",
       " 2020-04-28    0.021289\n",
       " 2020-04-29    0.028579\n",
       " 2020-04-30   -0.038663\n",
       " 2020-05-01   -0.022366\n",
       " 2020-05-04   -0.000859\n",
       " 2020-05-05    0.016596\n",
       " 2020-05-06    0.001802\n",
       " 2020-05-07    0.014800\n",
       " 2020-05-11   -0.001776\n",
       " 2020-05-12    0.012747\n",
       " 2020-05-13   -0.017926\n",
       " 2020-05-14   -0.027908\n",
       " 2020-05-15    0.011926\n",
       " 2020-05-18    0.042044\n",
       " 2020-05-19   -0.008137\n",
       " 2020-05-20    0.010636\n",
       " 2020-05-21   -0.008281\n",
       " 2020-05-22   -0.004496\n",
       " 2020-05-26    0.011800\n",
       " 2020-05-27    0.011232\n",
       " 2020-05-28    0.014607\n",
       " 2020-05-29   -0.027796\n",
       " 2020-06-01    0.017637\n",
       " 2020-06-02    0.007881\n",
       " 2020-06-03    0.026020\n",
       " 2020-06-04   -0.007522\n",
       " 2020-06-05    0.022245\n",
       " 2020-06-08    0.000458\n",
       " 2020-06-09   -0.023537\n",
       " 2020-06-10    0.000156\n",
       " 2020-06-11   -0.037263\n",
       " 2020-06-12   -0.000487\n",
       " 2020-06-15   -0.005154\n",
       " 2020-06-16    0.029370\n",
       " 2020-06-17    0.001636\n",
       " 2020-06-18   -0.006082\n",
       " 2020-06-19    0.011027\n",
       " 2020-06-22   -0.007003\n",
       " 2020-06-23    0.012914\n",
       " 2020-06-24   -0.031419\n",
       " 2020-06-25    0.005261\n",
       " 2020-06-26    0.002086\n",
       " Name: Log Return, dtype: float64,\n",
       " Date\n",
       " 2020-06-29    0.0\n",
       " 2020-06-30   -0.0\n",
       " 2020-07-01   -0.0\n",
       " 2020-07-02    0.0\n",
       " 2020-07-03   -0.0\n",
       "              ... \n",
       " 2020-09-25    0.0\n",
       " 2020-09-28    0.0\n",
       " 2020-09-29   -0.0\n",
       " 2020-09-30   -0.0\n",
       " 2020-10-01    0.0\n",
       " Name: Log Return, Length: 68, dtype: float64,\n",
       " Date\n",
       " 2020-07-07   -0.014655\n",
       " 2020-07-08   -0.005826\n",
       " 2020-07-09   -0.016922\n",
       " 2020-07-10    0.006846\n",
       " 2020-07-13    0.014355\n",
       " 2020-07-14   -0.002137\n",
       " 2020-07-15    0.021329\n",
       " 2020-07-16   -0.008202\n",
       " 2020-07-17    0.005896\n",
       " 2020-07-20   -0.004946\n",
       " 2020-07-21    0.001212\n",
       " 2020-07-22   -0.009953\n",
       " 2020-07-23    0.001436\n",
       " 2020-07-24   -0.016068\n",
       " 2020-07-27   -0.002162\n",
       " 2020-07-28    0.004481\n",
       " 2020-07-29    0.000915\n",
       " 2020-07-30   -0.024572\n",
       " 2020-07-31   -0.011149\n",
       " 2020-08-03    0.018567\n",
       " 2020-08-04   -0.002083\n",
       " 2020-08-05    0.011510\n",
       " 2020-08-06   -0.010249\n",
       " 2020-08-07   -0.002524\n",
       " 2020-08-10    0.005642\n",
       " 2020-08-11    0.015717\n",
       " 2020-08-12    0.023016\n",
       " 2020-08-13   -0.012692\n",
       " 2020-08-14   -0.015878\n",
       " 2020-08-17    0.006844\n",
       " 2020-08-18   -0.011668\n",
       " 2020-08-19    0.008063\n",
       " 2020-08-20   -0.015151\n",
       " 2020-08-21   -0.003893\n",
       " 2020-08-24    0.018343\n",
       " 2020-08-25   -0.010791\n",
       " 2020-08-26   -0.000873\n",
       " 2020-08-27   -0.004759\n",
       " 2020-08-28   -0.006767\n",
       " 2020-09-01   -0.020241\n",
       " 2020-09-02    0.015483\n",
       " 2020-09-03   -0.014638\n",
       " 2020-09-04   -0.009216\n",
       " 2020-09-07    0.024852\n",
       " 2020-09-08   -0.000942\n",
       " 2020-09-09    0.016937\n",
       " 2020-09-10   -0.002621\n",
       " 2020-09-11    0.004963\n",
       " 2020-09-14   -0.002669\n",
       " 2020-09-15    0.013760\n",
       " 2020-09-16   -0.006369\n",
       " 2020-09-17   -0.002982\n",
       " 2020-09-18   -0.007085\n",
       " 2020-09-21   -0.036084\n",
       " 2020-09-22    0.007907\n",
       " 2020-09-23    0.009518\n",
       " 2020-09-24   -0.013859\n",
       " 2020-09-25    0.000282\n",
       " 2020-09-28    0.020020\n",
       " 2020-09-29   -0.007893\n",
       " Name: Log Return, dtype: float64)"
      ]
     },
     "execution_count": 21,
     "metadata": {},
     "output_type": "execute_result"
    }
   ],
   "source": [
    "# Create the forecasts dataframe initialized with zeros\n",
    "forecasts_arimaQ3 = equityetfreturnsQ2Q3.iloc[windowLengthQ2Q3:].copy() * 0\n",
    "\n",
    "windowed_dsQ2Q3[0], forecasts_arimaQ3, windowed_dsQ2Q3[-1]"
   ]
  },
  {
   "cell_type": "code",
   "execution_count": 22,
   "metadata": {},
   "outputs": [],
   "source": [
    "def fit_arima(series, range_p=range(0, 6), range_q=range(0, 6)):\n",
    "    final_order = (0, 0, 0)\n",
    "    best_aic = np.inf\n",
    "    arima = pmdarima.ARIMA(order=final_order)\n",
    "\n",
    "    for p in range_p:\n",
    "        for q in range_q:\n",
    "            if (p==0) and (q==0):\n",
    "                next\n",
    "            arima.order = (p, 0, q)\n",
    "            arima.fit(series)\n",
    "\n",
    "            aic = arima.aic()\n",
    "\n",
    "            if aic < best_aic:\n",
    "                best_aic = aic\n",
    "                final_order = (p, 0, q)\n",
    "                \n",
    "    arima.order=final_order\n",
    "    return arima.fit(series)"
   ]
  },
  {
   "cell_type": "markdown",
   "metadata": {},
   "source": [
    "The below code snippet will take some time to run; please be patient. Wait until all predicted returns for the forecast horizon (Q3 2020) have been calculated"
   ]
  },
  {
   "cell_type": "code",
   "execution_count": null,
   "metadata": {
    "scrolled": false
   },
   "outputs": [
    {
     "name": "stdout",
     "output_type": "stream",
     "text": [
      "Date 2020-06-29 : Fitted ARIMA order (1, 0, 1) - Prediction=0.012767046391374735\n",
      "Date 2020-06-30 : Fitted ARIMA order (1, 0, 1) - Prediction=0.009036659848101045\n",
      "Date 2020-07-01 : Fitted ARIMA order (1, 0, 1) - Prediction=0.011359993462399715\n",
      "Date 2020-07-02 : Fitted ARIMA order (1, 0, 1) - Prediction=0.012060012623333873\n",
      "Date 2020-07-03 : Fitted ARIMA order (1, 0, 1) - Prediction=0.008453094619376197\n",
      "Date 2020-07-06 : Fitted ARIMA order (1, 0, 1) - Prediction=0.011922781020095561\n",
      "Date 2020-07-07 : Fitted ARIMA order (1, 0, 1) - Prediction=0.00528090570856197\n",
      "Date 2020-07-08 : Fitted ARIMA order (4, 0, 5) - Prediction=0.0036312464293378893\n"
     ]
    }
   ],
   "source": [
    "for i, window in enumerate(windowed_dsQ2Q3):\n",
    "    \n",
    "    arimaQ2Q3 = fit_arima(window)\n",
    "    arima_predQ3 = arimaQ2Q3.predict(n_periods=1)\n",
    "    \n",
    "    forecasts_arimaQ3.iloc[i] = arima_predQ3\n",
    "\n",
    "    print(f'Date {str(forecasts_arimaQ3.index[i].date())} : Fitted ARIMA order {arimaQ2Q3.order} - Prediction={forecasts_arimaQ3.iloc[i]}')\n",
    "    "
   ]
  },
  {
   "cell_type": "code",
   "execution_count": null,
   "metadata": {},
   "outputs": [],
   "source": [
    "forecasts_arimaQ3 = forecasts_arimaQ3[(forecasts_arimaQ3.index>='2020-07-01') & (forecasts_arimaQ3.index<='2020-09-30')]"
   ]
  },
  {
   "cell_type": "code",
   "execution_count": null,
   "metadata": {},
   "outputs": [],
   "source": [
    "df_equityetf_daily_return_Q3_arima = df_equityetf_daily_return['2020-06-30':'2020-09-30']\n",
    "df_equityetf_daily_return_Q3_arima['Positive/ Negative Return'] = np.sign(df_equityetf_daily_return_Q3_arima['Log Return'])\n",
    "df_equityetf_daily_return_Q3_arima['Cumulative Log Return'] = df_equityetf_daily_return_Q3_arima['Log Return'].cumsum()\n",
    "df_equityetf_daily_return_Q3_arima['Buy and Hold Strategy'] = 100*np.exp(df_equityetf_daily_return_Q3_arima['Cumulative Log Return'])\n",
    "df_equityetf_daily_return_Q3_arima.at['2020-06-30', 'Buy and Hold Strategy'] = 100\n",
    "df_equityetf_daily_return_Q3_arima['Forecast Returns'] = forecasts_arimaQ3\n",
    "df_equityetf_daily_return_Q3_arima['Trading Signal'] = np.sign(forecasts_arimaQ3)\n",
    "df_equityetf_daily_return_Q3_arima['ARMA Strategy Cumulative Log Return'] = (df_equityetf_daily_return_Q3_arima['Log Return']*df_equityetf_daily_return_Q3_arima['Trading Signal']).cumsum()\n",
    "df_equityetf_daily_return_Q3_arima['ARMA Strategy'] = 100*np.exp(df_equityetf_daily_return_Q3_arima['ARMA Strategy Cumulative Log Return'])\n",
    "df_equityetf_daily_return_Q3_arima.at['2020-06-30', 'ARMA Strategy'] = 100\n",
    "df_equityetf_daily_return_Q3_arima\n",
    "df_equityetf_daily_return_Q3_arima.to_csv(\"ARMA_Q3.csv\")"
   ]
  },
  {
   "cell_type": "code",
   "execution_count": null,
   "metadata": {
    "scrolled": false
   },
   "outputs": [],
   "source": [
    "#Comparing the Evolution of a Buy and Hold Portfolio Relative to a Portfolio using an ARMA-based Trading Strategy Q3 2020\n",
    "\n",
    "fig, ax = plt.subplots(figsize=(12,6))\n",
    "ax.set_title('Comparing the Evolution of a Buy and Hold Portfolio Relative to a Portfolio using an ARMA-based Trading Strategy Q3 2020')\n",
    "ax.plot(df_equityetf_daily_return_Q3_arima['Buy and Hold Strategy'], label = 'Buy and Hold Portfolio', color = 'blue')\n",
    "ax.plot(df_equityetf_daily_return_Q3_arima['ARMA Strategy'], label = 'ARMA Portfolio', color = 'green')\n",
    "ax.legend()\n",
    "plt.show()"
   ]
  },
  {
   "cell_type": "markdown",
   "metadata": {},
   "source": [
    "## (5.2), (5.4), (5.6) Trading Strategy Creating ARMA-GARCH(1,1)-based Predictive Signals (Q2-Q3 2020)"
   ]
  },
  {
   "cell_type": "code",
   "execution_count": null,
   "metadata": {},
   "outputs": [],
   "source": [
    "# Create the forecasts dataframe initialized with zeros\n",
    "forecasts_arimagarchQ3 = equityetfreturnsQ2Q3.iloc[windowLengthQ2Q3:].copy() * 0"
   ]
  },
  {
   "cell_type": "markdown",
   "metadata": {},
   "source": [
    "The below code snippet will take some time to run; please be patient. Wait until all predicted returns for the forecast horizon (Q3 2020) have been calculated"
   ]
  },
  {
   "cell_type": "code",
   "execution_count": null,
   "metadata": {},
   "outputs": [],
   "source": [
    "for i, window in enumerate(windowed_dsQ2Q3):\n",
    "    \n",
    "    #ARIMA model\n",
    "    arimaQ2Q3 = fit_arima(window)\n",
    "    arima_predQ3 = arimaQ2Q3.predict(n_periods=1)\n",
    "    \n",
    "    #GARCH model\n",
    "    garchQ2Q3 = arch.arch_model(arimaQ2Q3.resid())\n",
    "    garchQ2Q3_fit = garchQ2Q3.fit(disp='off', show_warning=False)\n",
    "    garch_predQ3 = garchQ2Q3_fit.forecast(horizon=1).mean.iloc[-1]['h.1']\n",
    "    \n",
    "    forecasts_arimagarchQ3.iloc[i] = arima_predQ3 + garch_predQ3\n",
    "\n",
    "    print(f'Date {str(forecasts_arimagarchQ3.index[i].date())} : Fitted ARIMA order {arimaQ2Q3.order} - Prediction={forecasts_arimagarchQ3.iloc[i]}')"
   ]
  },
  {
   "cell_type": "code",
   "execution_count": null,
   "metadata": {},
   "outputs": [],
   "source": [
    "forecasts_arimagarchQ3 = forecasts_arimagarchQ3[(forecasts_arimagarchQ3.index>='2020-07-01') & (forecasts_arimagarchQ3.index<='2020-09-30')]"
   ]
  },
  {
   "cell_type": "code",
   "execution_count": null,
   "metadata": {},
   "outputs": [],
   "source": [
    "df_equityetf_daily_return_Q3_arimagarch = df_equityetf_daily_return['2020-06-30':'2020-09-30']\n",
    "df_equityetf_daily_return_Q3_arimagarch['Positive/ Negative Return'] = np.sign(df_equityetf_daily_return_Q3_arimagarch['Log Return'])\n",
    "df_equityetf_daily_return_Q3_arimagarch['Cumulative Log Return'] = df_equityetf_daily_return_Q3_arimagarch['Log Return'].cumsum()\n",
    "df_equityetf_daily_return_Q3_arimagarch['Buy and Hold Strategy'] = 100*np.exp(df_equityetf_daily_return_Q3_arimagarch['Cumulative Log Return'])\n",
    "df_equityetf_daily_return_Q3_arimagarch.at['2020-06-30', 'Buy and Hold Strategy'] = 100\n",
    "df_equityetf_daily_return_Q3_arimagarch['Forecast Returns'] = forecasts_arimagarchQ3\n",
    "df_equityetf_daily_return_Q3_arimagarch['Trading Signal'] = np.sign(forecasts_arimagarchQ3)\n",
    "df_equityetf_daily_return_Q3_arimagarch['ARMA-GARCH(1,1) Strategy Cumulative Log Return'] = (df_equityetf_daily_return_Q3_arimagarch['Log Return']*df_equityetf_daily_return_Q3_arimagarch['Trading Signal']).cumsum()\n",
    "df_equityetf_daily_return_Q3_arimagarch['ARMA-GARCH(1,1) Strategy'] = 100*np.exp(df_equityetf_daily_return_Q3_arimagarch['ARMA-GARCH(1,1) Strategy Cumulative Log Return'])\n",
    "df_equityetf_daily_return_Q3_arimagarch.at['2020-06-30', 'ARMA-GARCH(1,1) Strategy'] = 100\n",
    "df_equityetf_daily_return_Q3_arimagarch\n",
    "df_equityetf_daily_return_Q3_arimagarch.to_csv(\"ARMA-GARCH_Q3.csv\")"
   ]
  },
  {
   "cell_type": "code",
   "execution_count": null,
   "metadata": {},
   "outputs": [],
   "source": [
    "#Comparing the Evolution of a Buy and Hold Portfolio Relative to a Portfolio using an ARMA-GARCH(1,1)-based Trading Strategy Q3 2020\n",
    "\n",
    "fig, ax = plt.subplots(figsize=(12,6))\n",
    "ax.set_title('Comparing the Evolution of a Buy and Hold Portfolio Relative to a Portfolio using an ARMA-GARCH(1,1)-based Trading Strategy Q3 2020')\n",
    "ax.plot(df_equityetf_daily_return_Q3_arimagarch['Buy and Hold Strategy'], label = 'Buy and Hold Portfolio', color = 'blue')\n",
    "ax.plot(df_equityetf_daily_return_Q3_arimagarch['ARMA-GARCH(1,1) Strategy'], label = 'ARMA-GARCH(1,1) Portfolio', color = 'green')\n",
    "ax.legend()\n",
    "plt.show()"
   ]
  },
  {
   "cell_type": "markdown",
   "metadata": {},
   "source": [
    "## (5.3), (5.4), (5.5) Trading Strategy Creating ARMA-based Predictive Signals (Q3-Q4 2020)"
   ]
  },
  {
   "cell_type": "code",
   "execution_count": null,
   "metadata": {
    "scrolled": false
   },
   "outputs": [],
   "source": [
    "df_equityetf_daily_return = df_equityetf_daily_return.rename(columns = {'Equity ETF Daily Returns':'Log Return'})\n",
    "df_equityetf_daily_return_Q3Q4 = df_equityetf_daily_return['2020-06-30':'2020-12-31']\n",
    "df_equityetf_daily_return_Q3Q4"
   ]
  },
  {
   "cell_type": "code",
   "execution_count": null,
   "metadata": {},
   "outputs": [],
   "source": [
    "# Create the windowed dataset\n",
    "equityetfreturnsQ3Q4 = df_equityetf_daily_return_Q3Q4['Log Return']\n",
    "windowLengthQ3Q4 = 60\n",
    "foreLengthQ3Q4 = len(equityetfreturnsQ3Q4) - windowLengthQ3Q4\n",
    "\n",
    "windowed_dsQ3Q4 = []\n",
    "for d in range(foreLengthQ3Q4-1):\n",
    "    windowed_dsQ3Q4.append(equityetfreturnsQ3Q4[d:d + windowLengthQ3Q4])"
   ]
  },
  {
   "cell_type": "code",
   "execution_count": null,
   "metadata": {
    "scrolled": false
   },
   "outputs": [],
   "source": [
    "# Create the forecasts dataframe initialized with zeros\n",
    "forecasts_arimaQ4 = equityetfreturnsQ3Q4.iloc[windowLengthQ3Q4:].copy() * 0\n",
    "\n",
    "windowed_dsQ3Q4[0], forecasts_arimaQ4, windowed_dsQ3Q4[-1]"
   ]
  },
  {
   "cell_type": "markdown",
   "metadata": {},
   "source": [
    "The below code snippet will take some time to run; please be patient. Wait until all predicted returns for the forecast horizon (Q4 2020) have been calculated"
   ]
  },
  {
   "cell_type": "code",
   "execution_count": null,
   "metadata": {},
   "outputs": [],
   "source": [
    "for i, window in enumerate(windowed_dsQ3Q4):\n",
    "    \n",
    "    # ARIMA model\n",
    "    arimaQ3Q4 = fit_arima(window)\n",
    "    arima_predQ4 = arimaQ3Q4.predict(n_periods=1)\n",
    "    \n",
    "    forecasts_arimaQ4.iloc[i] = arima_predQ4\n",
    "\n",
    "    print(f'Date {str(forecasts_arimaQ4.index[i].date())} : Fitted ARIMA order {arimaQ3Q4.order} - Prediction={forecasts_arimaQ4.iloc[i]}')\n",
    "    "
   ]
  },
  {
   "cell_type": "code",
   "execution_count": null,
   "metadata": {},
   "outputs": [],
   "source": [
    "forecasts_arimaQ4 = forecasts_arimaQ4[(forecasts_arimaQ4.index>='2020-10-01') & (forecasts_arimaQ4.index<='2020-12-31')]"
   ]
  },
  {
   "cell_type": "code",
   "execution_count": null,
   "metadata": {},
   "outputs": [],
   "source": [
    "df_equityetf_daily_return_Q4_arima = df_equityetf_daily_return['2020-09-30':'2020-12-31']\n",
    "df_equityetf_daily_return_Q4_arima['Positive/ Negative Return'] = np.sign(df_equityetf_daily_return_Q4_arima['Log Return'])\n",
    "df_equityetf_daily_return_Q4_arima['Cumulative Log Return'] = df_equityetf_daily_return_Q4_arima['Log Return'].cumsum()\n",
    "df_equityetf_daily_return_Q4_arima['Buy and Hold Strategy'] = 100*np.exp(df_equityetf_daily_return_Q4_arima['Cumulative Log Return'])\n",
    "df_equityetf_daily_return_Q4_arima.at['2020-09-30', 'Buy and Hold Strategy'] = 100\n",
    "df_equityetf_daily_return_Q4_arima['Forecast Returns'] = forecasts_arimaQ4\n",
    "df_equityetf_daily_return_Q4_arima['Trading Signal'] = np.sign(forecasts_arimaQ4)\n",
    "df_equityetf_daily_return_Q4_arima['ARMA Strategy Cumulative Log Return'] = (df_equityetf_daily_return_Q4_arima['Log Return']*df_equityetf_daily_return_Q4_arima['Trading Signal']).cumsum()\n",
    "df_equityetf_daily_return_Q4_arima['ARMA Strategy'] = 100*np.exp(df_equityetf_daily_return_Q4_arima['ARMA Strategy Cumulative Log Return'])\n",
    "df_equityetf_daily_return_Q4_arima.at['2020-09-30', 'ARMA Strategy'] = 100\n",
    "df_equityetf_daily_return_Q4_arima"
   ]
  },
  {
   "cell_type": "code",
   "execution_count": null,
   "metadata": {},
   "outputs": [],
   "source": [
    "#Comparing the Evolution of a Buy and Hold Portfolio Relative to a Portfolio using an ARMA-based Trading Strategy Q4 2020\n",
    "\n",
    "fig, ax = plt.subplots(figsize=(12,6))\n",
    "ax.set_title('Comparing the Evolution of a Buy and Hold Portfolio Relative to a Portfolio using an ARMA-based Trading Strategy Q4 2020')\n",
    "ax.plot(df_equityetf_daily_return_Q4_arima['Buy and Hold Strategy'], label = 'Buy and Hold Portfolio', color = 'blue')\n",
    "ax.plot(df_equityetf_daily_return_Q4_arima['ARMA Strategy'], label = 'ARMA Portfolio', color = 'green')\n",
    "ax.legend()\n",
    "plt.show()"
   ]
  },
  {
   "cell_type": "markdown",
   "metadata": {},
   "source": [
    "## (5.3), (5.4), (5.6) Trading Strategy Creating ARMA-GARCH(1,1)-based Predictive Signals (Q3-Q4 2020)"
   ]
  },
  {
   "cell_type": "code",
   "execution_count": null,
   "metadata": {},
   "outputs": [],
   "source": [
    "# Create the forecasts dataframe initialized with zeros\n",
    "forecasts_arimagarchQ4 = equityetfreturnsQ3Q4.iloc[windowLengthQ3Q4:].copy() * 0"
   ]
  },
  {
   "cell_type": "markdown",
   "metadata": {},
   "source": [
    "The below code snippet will take some time to run; please be patient. Wait until all predicted returns for the forecast horizon (Q4 2020) have been calculated"
   ]
  },
  {
   "cell_type": "code",
   "execution_count": null,
   "metadata": {
    "scrolled": false
   },
   "outputs": [],
   "source": [
    "for i, window in enumerate(windowed_dsQ3Q4):\n",
    "    \n",
    "    #ARIMA model\n",
    "    arimaQ3Q4 = fit_arima(window)\n",
    "    arima_predQ4 = arimaQ3Q4.predict(n_periods=1)\n",
    "    \n",
    "    #GARCH model\n",
    "    garchQ3Q4 = arch.arch_model(arimaQ3Q4.resid())\n",
    "    garchQ3Q4_fit = garchQ3Q4.fit(disp='off', show_warning=False)\n",
    "    garch_predQ4 = garchQ3Q4_fit.forecast(horizon=1).mean.iloc[-1]['h.1']\n",
    "    \n",
    "    forecasts_arimagarchQ4.iloc[i] = arima_predQ4 + garch_predQ4\n",
    "\n",
    "    print(f'Date {str(forecasts_arimagarchQ4.index[i].date())} : Fitted ARIMA order {arimaQ3Q4.order} - Prediction={forecasts_arimagarchQ4.iloc[i]}')"
   ]
  },
  {
   "cell_type": "code",
   "execution_count": null,
   "metadata": {},
   "outputs": [],
   "source": [
    "forecasts_arimagarchQ4 = forecasts_arimagarchQ4[(forecasts_arimagarchQ4.index>='2020-10-01') & (forecasts_arimagarchQ4.index<='2020-12-31')]"
   ]
  },
  {
   "cell_type": "code",
   "execution_count": null,
   "metadata": {
    "scrolled": false
   },
   "outputs": [],
   "source": [
    "df_equityetf_daily_return_Q4_arimagarch = df_equityetf_daily_return['2020-09-30':'2020-12-31']\n",
    "df_equityetf_daily_return_Q4_arimagarch['Positive/ Negative Return'] = np.sign(df_equityetf_daily_return_Q4_arimagarch['Log Return'])\n",
    "df_equityetf_daily_return_Q4_arimagarch['Cumulative Log Return'] = df_equityetf_daily_return_Q4_arimagarch['Log Return'].cumsum()\n",
    "df_equityetf_daily_return_Q4_arimagarch['Buy and Hold Strategy'] = 100*np.exp(df_equityetf_daily_return_Q4_arimagarch['Cumulative Log Return'])\n",
    "df_equityetf_daily_return_Q4_arimagarch.at['2020-09-30', 'Buy and Hold Strategy'] = 100\n",
    "df_equityetf_daily_return_Q4_arimagarch['Forecast Returns'] = forecasts_arimagarchQ4\n",
    "df_equityetf_daily_return_Q4_arimagarch['Trading Signal'] = np.sign(forecasts_arimagarchQ4)\n",
    "df_equityetf_daily_return_Q4_arimagarch['ARMA-GARCH(1,1) Strategy Cumulative Log Return'] = (df_equityetf_daily_return_Q4_arimagarch['Log Return']*df_equityetf_daily_return_Q4_arimagarch['Trading Signal']).cumsum()\n",
    "df_equityetf_daily_return_Q4_arimagarch['ARMA-GARCH(1,1) Strategy'] = 100*np.exp(df_equityetf_daily_return_Q4_arimagarch['ARMA-GARCH(1,1) Strategy Cumulative Log Return'])\n",
    "df_equityetf_daily_return_Q4_arimagarch.at['2020-09-30', 'ARMA-GARCH(1,1) Strategy'] = 100\n",
    "df_equityetf_daily_return_Q4_arimagarch"
   ]
  },
  {
   "cell_type": "code",
   "execution_count": null,
   "metadata": {
    "scrolled": false
   },
   "outputs": [],
   "source": [
    "#Comparing the Evolution of a Buy and Hold Portfolio Relative to a Portfolio using an ARMA-GARCH(1,1)-based Trading Strategy Q4 2020\n",
    "\n",
    "fig, ax = plt.subplots(figsize=(12,6))\n",
    "ax.set_title('Comparing the Evolution of a Buy and Hold Portfolio Relative to a Portfolio using an ARMA-GARCH(1,1)-based Trading Strategy Q4 2020')\n",
    "ax.plot(df_equityetf_daily_return_Q4_arimagarch['Buy and Hold Strategy'], label = 'Buy and Hold Portfolio', color = 'blue')\n",
    "ax.plot(df_equityetf_daily_return_Q4_arimagarch['ARMA-GARCH(1,1) Strategy'], label = 'ARMA-GARCH(1,1) Portfolio', color = 'green')\n",
    "ax.legend()\n",
    "plt.show()"
   ]
  },
  {
   "cell_type": "markdown",
   "metadata": {},
   "source": [
    "## (5.7) Comparing the ARMA-based and ARMA-GARCH(1,1)-based Trading Strategies"
   ]
  },
  {
   "cell_type": "code",
   "execution_count": null,
   "metadata": {
    "scrolled": false
   },
   "outputs": [],
   "source": [
    "#Comparing the Portfolios using ARMA-based and ARMA-GARCH(1,1)-based Trading Strategies Q3 2020\n",
    "\n",
    "fig, ax = plt.subplots(figsize=(12,6))\n",
    "ax.set_title('Comparing the Portfolios using ARMA-based and ARMA-GARCH(1,1)-based Trading Strategies Q3 2020')\n",
    "ax.plot(df_equityetf_daily_return_Q3_arimagarch['Buy and Hold Strategy'], label = 'Buy and Hold Portfolio', color = 'black')\n",
    "ax.plot(df_equityetf_daily_return_Q3_arima['ARMA Strategy'], label = 'ARMA Portfolio', color = 'blue')\n",
    "ax.plot(df_equityetf_daily_return_Q3_arimagarch['ARMA-GARCH(1,1) Strategy'], label = 'ARMA-GARCH(1,1) Portfolio', color = 'green')\n",
    "ax.legend()\n",
    "plt.show()"
   ]
  },
  {
   "cell_type": "markdown",
   "metadata": {},
   "source": [
    "For both portfolios using ARMA and ARMA-GARCH(1,1) models, the trading signal generated by the model's prediction for Q3 2020 combined with our suggested strategy ensures significant outperformance relative to a buy-and-hold approach. \n",
    "\n",
    "Consequently, from a return generation perspective, we could choose either model, while leaning slightly more towards ARMA since it marginally outperforms the ARMA-GARCH(1,1)-based strategy. \n",
    "\n",
    "However, we think an ARMA-GARCH(1,1) model would be more suitable from a theoretical standpoint since it captures more aspects of the return-generating process (mean and variance) compared to an ARMA model (mean only)."
   ]
  },
  {
   "cell_type": "code",
   "execution_count": null,
   "metadata": {},
   "outputs": [],
   "source": [
    "#Model Accuracy for Q3 2020 Forecast Horizon\n",
    "\n",
    "#ARMA-based Trading Strategy\n",
    "score_matrixQ3_arima = pd.DataFrame(metrics.confusion_matrix(df_equityetf_daily_return_Q3_arima['Positive/ Negative Return'][1:], df_equityetf_daily_return_Q3_arima['Trading Signal'][1:], labels = [1,-1]))\n",
    "print('Accuracy of the ARMA-based Trading Strategy for Q3 2020 forecast horizon stands at: ',round((score_matrixQ3_arima.iloc[0,0]+score_matrixQ3_arima.iloc[1,1])/np.sum(score_matrixQ3_arima.values)*100,2))\n",
    "\n",
    "#ARMA-GARCH(1,1)-based Trading Strategy\n",
    "score_matrixQ3_arimagarch = pd.DataFrame(metrics.confusion_matrix(df_equityetf_daily_return_Q3_arimagarch['Positive/ Negative Return'][1:], df_equityetf_daily_return_Q3_arimagarch['Trading Signal'][1:], labels = [1,-1]))\n",
    "print('Accuracy of the ARMA-GARCH(1,1)-based Trading Strategy for Q3 2020 forecast horizon stands at: ',round((score_matrixQ3_arimagarch.iloc[0,0]+score_matrixQ3_arimagarch.iloc[1,1])/np.sum(score_matrixQ3_arimagarch.values)*100,2))"
   ]
  },
  {
   "cell_type": "code",
   "execution_count": null,
   "metadata": {
    "scrolled": false
   },
   "outputs": [],
   "source": [
    "#Comparing the Portfolios using ARMA-based and ARMA-GARCH(1,1)-based Trading Strategies Q4 2020\n",
    "\n",
    "fig, ax = plt.subplots(figsize=(12,6))\n",
    "ax.set_title('Comparing the Portfolios using ARMA-based and ARMA-GARCH(1,1)-based Trading Strategies Q4 2020')\n",
    "ax.plot(df_equityetf_daily_return_Q4_arimagarch['Buy and Hold Strategy'], label = 'Buy and Hold Portfolio', color = 'black')\n",
    "ax.plot(df_equityetf_daily_return_Q4_arima['ARMA Strategy'], label = 'ARMA Portfolio', color = 'blue')\n",
    "ax.plot(df_equityetf_daily_return_Q4_arimagarch['ARMA-GARCH(1,1) Strategy'], label = 'ARMA-GARCH(1,1) Portfolio', color = 'green')\n",
    "ax.legend()\n",
    "plt.show()"
   ]
  },
  {
   "cell_type": "markdown",
   "metadata": {},
   "source": [
    "For Q4 2020, however, both trading strategies generate predictive signals which put them at a significant disadvantage relative to a buy-and-hold portfolio. This is especially the case from the end of October to the first two weeks of November, roughly speaking. For this reason, both models significantly underperform the buy-and-hold portfolio.\n",
    "\n",
    "Regarding the choice between ARMA and ARMA-GARCH(1,1) models, we would stick to our previous choice i.e. the ARMA-GARCH(1,1) model for the same theoretical reason as the one mentioned above. Besides, it helps that for the Q4 2020 forecast horizon, the ARMA-GARCH(1,1) trading strategy is superior to the ARMA trading strategy from a returns perspective."
   ]
  },
  {
   "cell_type": "code",
   "execution_count": null,
   "metadata": {},
   "outputs": [],
   "source": [
    "#Model Accuracy for Q4 2020 Forecast Horizon\n",
    "\n",
    "#ARMA-based Trading Strategy\n",
    "score_matrixQ4_arima = pd.DataFrame(metrics.confusion_matrix(df_equityetf_daily_return_Q4_arima['Positive/ Negative Return'][1:], df_equityetf_daily_return_Q4_arima['Trading Signal'][1:], labels = [1,-1]))\n",
    "print('Accuracy of the ARMA-based Trading Strategy for Q4 2020 forecast horizon stands at: ',round((score_matrixQ4_arima.iloc[0,0]+score_matrixQ4_arima.iloc[1,1])/np.sum(score_matrixQ4_arima.values)*100,2))\n",
    "\n",
    "#ARMA-GARCH(1,1)-based Trading Strategy\n",
    "score_matrixQ4_arimagarch = pd.DataFrame(metrics.confusion_matrix(df_equityetf_daily_return_Q4_arimagarch['Positive/ Negative Return'][1:], df_equityetf_daily_return_Q4_arimagarch['Trading Signal'][1:], labels = [1,-1]))\n",
    "print('Accuracy of the ARMA-GARCH(1,1)-based Trading Strategy for Q4 2020 forecast horizon stands at: ',round((score_matrixQ4_arimagarch.iloc[0,0]+score_matrixQ4_arimagarch.iloc[1,1])/np.sum(score_matrixQ4_arimagarch.values)*100,2))"
   ]
  },
  {
   "cell_type": "markdown",
   "metadata": {},
   "source": [
    "## Step-6: Category 2 Models: Using 2 variables"
   ]
  },
  {
   "cell_type": "code",
   "execution_count": null,
   "metadata": {},
   "outputs": [],
   "source": [
    "# 6.5: VAR Strategy"
   ]
  },
  {
   "cell_type": "code",
   "execution_count": null,
   "metadata": {},
   "outputs": [],
   "source": [
    "# Checking for stationarity of log retrurns of all series for Q2 before implementing VAR Model\n",
    "\n",
    "print('ADF test p-value for Equity Daily Volume: ',round(adfuller(df_equityetf['Volume'].loc['Apr-2020':'Jun-2020'])[1],7))\n",
    "print('ADF test p-value for Equity Daily Return: ',round(adfuller(df_equityetf_daily_return.loc['Apr-2020':'Jun-2020'])[1],7))\n",
    "print('ADF test p-value for Gold Daily Return: ',round(adfuller(df_goldetf_daily_return.loc['Apr-2020':'Jun-2020'])[1],7))"
   ]
  },
  {
   "cell_type": "markdown",
   "metadata": {},
   "source": [
    "**We can see that all series's log returns are stationay for Q2**"
   ]
  },
  {
   "cell_type": "code",
   "execution_count": null,
   "metadata": {},
   "outputs": [],
   "source": [
    "# Merging in to a single DataFrame\n",
    "\n",
    "df_var_analysis_dataset = df_equityetf_daily_return.join(pd.DataFrame(df_equityetf['Volume']).join(df_goldetf_daily_return, how='inner'), how='inner').dropna()\n",
    "df_var_analysis_dataset.head()"
   ]
  },
  {
   "cell_type": "markdown",
   "metadata": {},
   "source": [
    "**Testing Causation using Granger’s Causality Test**"
   ]
  },
  {
   "cell_type": "code",
   "execution_count": null,
   "metadata": {},
   "outputs": [],
   "source": [
    "maxlag=12\n",
    "test = 'ssr_chi2test'\n",
    "def grangers_causation_matrix(data, variables, test='ssr_chi2test', verbose=False):    \n",
    "    \"\"\"Check Granger Causality of all possible combinations of the Time series.\n",
    "    The rows are the response variable, columns are predictors. The values in the table\n",
    "    are the P-Values. P-Values lesser than the significance level (0.05), implies\n",
    "    the Null Hypothesis that the coefficients of the corresponding past values is\n",
    "    zero, that is, the X does not cause Y can be rejected.\n",
    "\n",
    "    data      : pandas dataframe containing the time series variables\n",
    "    variables : list containing names of the time series variables.\n",
    "    \"\"\"\n",
    "    df = pd.DataFrame(np.zeros((len(variables), len(variables))), columns=variables, index=variables)\n",
    "    for c in df.columns:\n",
    "        for r in df.index:\n",
    "            test_result = grangercausalitytests(data[[r, c]], maxlag=maxlag, verbose=False)\n",
    "            p_values = [round(test_result[i+1][0][test][1],4) for i in range(maxlag)]\n",
    "            if verbose: print(f'Y = {r}, X = {c}, P Values = {p_values}')\n",
    "            min_p_value = np.min(p_values)\n",
    "            df.loc[r, c] = min_p_value\n",
    "    df.columns = [var + '_x' for var in variables]\n",
    "    df.index = [var + '_y' for var in variables]\n",
    "    return df\n",
    "\n",
    "grangers_causation_matrix(df_var_analysis_dataset[['Equity ETF Daily Returns', 'Gold ETF Daily Returns']].loc['Apr-2020':'Jun-2020'], variables = ['Equity ETF Daily Returns', 'Gold ETF Daily Returns'])"
   ]
  },
  {
   "cell_type": "code",
   "execution_count": null,
   "metadata": {},
   "outputs": [],
   "source": [
    "## VAR Model\n",
    "\n",
    "aic = 1000\n",
    "var_modelq2 = VAR(df_var_analysis_dataset.loc['Apr-2020':'Jun-2020'])\n",
    "prediction_length = len(df_var_analysis_dataset.loc['Jul-2020':'Sep-2020'])\n",
    "for lag in range(15):\n",
    "    score = var_modelq2.fit(lag).aic\n",
    "    #print('The VAR model for the 3 dimensional timeseries has the aic score as {} with lags of {}'.format(score,lag))\n",
    "    if(score<aic):\n",
    "        aic = score\n",
    "        p = lag\n",
    "print('The VAR model for the 3 dimensional timeseries has the best aic score as {} with lags of {}'.format(round(aic,2),p))\n",
    "#len(df_var_analysis_dataset.loc['Apr-2020':'Jun-2020'])"
   ]
  },
  {
   "cell_type": "markdown",
   "metadata": {},
   "source": [
    "*** Plotting the actual Equity ETF returns in Q2 vs predicted ETF returns in Q2. Here, we generate a tradiing signal based on the returns forecast on a partcular day. So if we obtain a +ve return, we buy the Equity ETF at the commenecement of trade and square it off at the end, else we short the Equity ETF if the trading signal is negative***"
   ]
  },
  {
   "cell_type": "code",
   "execution_count": null,
   "metadata": {},
   "outputs": [],
   "source": [
    "df_var_q3 = df_var_analysis_dataset.loc['Jul-2020':'Sep-2020']\n",
    "df_var_q3['Predicted value'] = [x[0] for x in var_modelq2.fit(p).forecast(df_var_analysis_dataset.loc['Apr-2020':'Jun-2020'].values, steps=prediction_length)]\n",
    "\n",
    "\n",
    "df_var_q3['Actual Trading Sign'] = np.sign(df_var_q3['Equity ETF Daily Returns'])\n",
    "df_var_q3['Predicted Trading Sign'] = np.sign(df_var_q3['Predicted value'])\n",
    "df_var_q3['Buy and Hold Strategy Equity'] = df_var_q3['Equity ETF Daily Returns'].cumsum()\n",
    "\n",
    "df_var_q3['VAR Strategy Cumulative Log Return'] = (df_var_q3['Equity ETF Daily Returns']*df_var_q3['Predicted Trading Sign'])\n",
    "\n",
    "df_var_q3['VAR Strategy Equity'] = (df_var_q3['Equity ETF Daily Returns']*df_var_q3['Predicted Trading Sign']).cumsum()"
   ]
  },
  {
   "cell_type": "code",
   "execution_count": null,
   "metadata": {},
   "outputs": [],
   "source": [
    "fig, ax = plt.subplots(figsize=(12,6))\n",
    "ax.set_title('Comparing the Evolution of a Buy and Hold Portfolio Relative to a Portfolio using VAR Strategy for Q3 2020')\n",
    "ax.plot(100 * (1+ df_var_q3['Buy and Hold Strategy Equity']), label = 'Buy and Hold Portfolio', color = 'blue')\n",
    "ax.plot(100 * (1+df_var_q3['VAR Strategy Equity']), label = 'VAR Portfolio', color = 'green')\n",
    "ax.legend()\n",
    "plt.show()"
   ]
  },
  {
   "cell_type": "code",
   "execution_count": null,
   "metadata": {},
   "outputs": [],
   "source": [
    "# Checking the accuracy of the Model using a confusion matrix\n",
    "\n",
    "score_matrix = pd.DataFrame(metrics.confusion_matrix(df_var_q3['Actual Trading Sign'], df_var_q3['Predicted Trading Sign'], labels = [1,-1]))\n",
    "print('Accuracy of the model stands at: ',round((score_matrix.iloc[0,0]+score_matrix.iloc[1,1])/np.sum(score_matrix.values)*100,2))"
   ]
  },
  {
   "cell_type": "markdown",
   "metadata": {},
   "source": [
    "**Using Q3 Data to predict Q4 Data using VAR Model**"
   ]
  },
  {
   "cell_type": "code",
   "execution_count": null,
   "metadata": {},
   "outputs": [],
   "source": [
    "# Checking for stationarity of log retrurns of all series for Q3 before implementing VAR Model\n",
    "\n",
    "print('ADF test p-value for Equity Daily Volume: ',round(adfuller(df_equityetf['Volume'].loc['Jul-2020':'Sep-2020'])[1],7))\n",
    "print('ADF test p-value for Equity Daily Return: ',round(adfuller(df_equityetf_daily_return.loc['Jul-2020':'Sep-2020'])[1],7))\n",
    "print('ADF test p-value for Gold Daily Return: ',round(adfuller(df_goldetf_daily_return.loc['Jul-2020':'Sep-2020'])[1],7))"
   ]
  },
  {
   "cell_type": "markdown",
   "metadata": {},
   "source": [
    "**We can see that all series's log returns are stationay for Q3**"
   ]
  },
  {
   "cell_type": "markdown",
   "metadata": {},
   "source": [
    "**Testing Causation using Granger’s Causality Test**"
   ]
  },
  {
   "cell_type": "code",
   "execution_count": null,
   "metadata": {},
   "outputs": [],
   "source": [
    "grangers_causation_matrix(df_var_analysis_dataset[['Equity ETF Daily Returns', 'Gold ETF Daily Returns']].loc['Jul-2020':'Sep-2020'], variables = ['Equity ETF Daily Returns', 'Gold ETF Daily Returns'])"
   ]
  },
  {
   "cell_type": "code",
   "execution_count": null,
   "metadata": {},
   "outputs": [],
   "source": [
    "## VAR Model\n",
    "\n",
    "aic = 1000\n",
    "var_modelq3 = VAR(df_var_analysis_dataset.loc['Jul-2020':'Sep-2020'])\n",
    "prediction_length = len(df_var_analysis_dataset.loc['Oct-2020':'Dec-2020'])\n",
    "for lag in range(15):\n",
    "    score = var_modelq3.fit(lag).aic\n",
    "    #print('The VAR model for the 3 dimensional timeseries has the aic score as {} with lags of {}'.format(score,lag))\n",
    "    if(score<aic):\n",
    "        aic = score\n",
    "        p = lag\n",
    "print('The VAR model for the 3 dimensional timeseries has the best aic score as {} with lags of {}'.format(round(aic,2),p))\n",
    "#len(df_var_analysis_dataset.loc['Apr-2020':'Jun-2020'])"
   ]
  },
  {
   "cell_type": "code",
   "execution_count": null,
   "metadata": {},
   "outputs": [],
   "source": [
    "df_var_q4 = df_var_analysis_dataset.loc['Oct-2020':'Dec-2020']\n",
    "df_var_q4['Predicted value'] = [x[0] for x in var_modelq2.fit(p).forecast(df_var_analysis_dataset.loc['Oct-2020':'Dec-2020'].values, steps=prediction_length)]\n",
    "\n",
    "df_var_q4['Actual Trading Sign'] = np.sign(df_var_q4['Equity ETF Daily Returns'])\n",
    "df_var_q4['Predicted Trading Sign'] = np.sign(df_var_q4['Predicted value'])\n",
    "df_var_q4['Buy and Hold Strategy Equity'] = df_var_q4['Equity ETF Daily Returns'].cumsum()\n",
    "\n",
    "df_var_q4['VAR Strategy Log Return'] = (df_var_q4['Equity ETF Daily Returns']*df_var_q4['Predicted Trading Sign'])\n",
    "\n",
    "df_var_q4['VAR Strategy Equity'] = (df_var_q4['Equity ETF Daily Returns']*df_var_q4['Predicted Trading Sign']).cumsum()\n"
   ]
  },
  {
   "cell_type": "code",
   "execution_count": null,
   "metadata": {},
   "outputs": [],
   "source": [
    "fig, ax = plt.subplots(figsize=(12,6))\n",
    "ax.set_title('Comparing the Evolution of a Buy and Hold Portfolio Relative to a Portfolio using VAR Strategy for Q4 2020')\n",
    "ax.plot(100 * (1+ df_var_q4['Buy and Hold Strategy Equity']), label = 'Buy and Hold Portfolio', color = 'blue')\n",
    "ax.plot(100 * (1+df_var_q4['VAR Strategy Equity']), label = 'VAR Portfolio', color = 'green')\n",
    "ax.legend()\n",
    "plt.show()"
   ]
  },
  {
   "cell_type": "code",
   "execution_count": null,
   "metadata": {},
   "outputs": [],
   "source": [
    "# Checking the accuracy of the Model using a confusion matrix\n",
    "\n",
    "score_matrix = pd.DataFrame(metrics.confusion_matrix(df_var_q4['Actual Trading Sign'], df_var_q4['Predicted Trading Sign'], labels = [1,-1]))\n",
    "print('Accuracy of the model stands at: ',round((score_matrix.iloc[0,0]+score_matrix.iloc[1,1])/np.sum(score_matrix.values)*100,2))"
   ]
  },
  {
   "cell_type": "code",
   "execution_count": null,
   "metadata": {},
   "outputs": [],
   "source": [
    "# Step 6.6: Second strategy including multivariate GARCH"
   ]
  },
  {
   "cell_type": "code",
   "execution_count": null,
   "metadata": {},
   "outputs": [],
   "source": [
    "df_goldetf_daily_return = pd.DataFrame(np.log(df_goldetf['Close']/df_goldetf['Close'].shift(1)).iloc[1:].rename('Gold ETF Daily Returns'))\n",
    "df_equityetf_daily_return = pd.DataFrame(np.log(df_equityetf['Close']/df_equityetf['Close'].shift(1)).iloc[1:].rename('Equity ETF Daily Returns'))\n",
    "df_bitcoin_daily_return = pd.DataFrame(np.log(df_bitcoin['Close']/df_bitcoin['Close'].shift(1)).iloc[1:].rename('Bitcoin-USD daily Returns'))\n",
    "df_all_returns = df_bitcoin_daily_return.join(pd.DataFrame(df_equityetf_daily_return).join(df_goldetf_daily_return, how='inner'), how='inner').dropna()\n",
    "df_all_returns.to_csv('log_daily_returns.csv')"
   ]
  },
  {
   "cell_type": "code",
   "execution_count": null,
   "metadata": {},
   "outputs": [],
   "source": [
    "# CSV file created in above step will used as input in R file for m-GARCH strategy. R file has been included in our zip folder."
   ]
  },
  {
   "cell_type": "code",
   "execution_count": null,
   "metadata": {},
   "outputs": [],
   "source": [
    "# Step 6.6: Third strategy including co-inegration"
   ]
  },
  {
   "cell_type": "code",
   "execution_count": null,
   "metadata": {},
   "outputs": [],
   "source": [
    "def get_johansen(y, p):\n",
    "        \"\"\"\n",
    "        Get the cointegration vectors at 95% level of significance\n",
    "        given by the trace statistic test.\n",
    "        \"\"\"\n",
    "\n",
    "        N, l = y.shape\n",
    "        jres = coint_johansen(y, 0, p)          # 0: No deterministic trend and p = no of lagged differences\n",
    "        trstat = jres.lr1                       # trace statistic\n",
    "        tsignf = jres.cvt                       # critical values\n",
    "        r = 0\n",
    "\n",
    "        for i in range(l):\n",
    "            if trstat[i] > tsignf[i, 1]:     # 0: 90%  1:95% 2: 99%\n",
    "                r = i + 1\n",
    "        print (\"There are {} cointegration relationships\".format(r))  \n",
    "        return jres"
   ]
  },
  {
   "cell_type": "code",
   "execution_count": null,
   "metadata": {},
   "outputs": [],
   "source": [
    "df_prices = pd.DataFrame(df_bitcoin['Close'].rename('Bitcoin-USD Closing')).join(pd.DataFrame(df_equityetf['Close'].rename('Equity ETF Closing')).join(pd.DataFrame(df_goldetf['Close'].rename('Gold ETF Closing')), how = 'inner'), how='inner')"
   ]
  },
  {
   "cell_type": "code",
   "execution_count": null,
   "metadata": {},
   "outputs": [],
   "source": [
    "get_johansen(df_prices[['Equity ETF Closing',\"Gold ETF Closing\"]].loc['Apr-2020':'Jun-2020'], 15)"
   ]
  },
  {
   "cell_type": "markdown",
   "metadata": {},
   "source": [
    "**So no cointegration relationship between Equity ETF and Gold ETF for Q2**"
   ]
  },
  {
   "cell_type": "code",
   "execution_count": null,
   "metadata": {},
   "outputs": [],
   "source": [
    "# Checking for cointegration relationship between Equity ETF and Gold ETF for Q3\n",
    "\n",
    "get_johansen(df_prices[['Equity ETF Closing',\"Gold ETF Closing\"]].loc['Jul-2020':'Sep-2020'], 15)"
   ]
  },
  {
   "cell_type": "code",
   "execution_count": null,
   "metadata": {},
   "outputs": [],
   "source": [
    "# Checking cointegration between Equity and Gold for Q3\n",
    "\n",
    "corr, _ = pearsonr(df_prices[\"Equity ETF Closing\"], df_prices[\"Gold ETF Closing\"])\n",
    "print('Pearsons correlation between Gold ETF and Equity ETF for Q3 is: %.3f' % corr)"
   ]
  },
  {
   "cell_type": "markdown",
   "metadata": {},
   "source": [
    "**Since the correlation between Equity and Gold prices is very low, though, there exists cointegration, yet it will not be suitable to conduct any Pair trading strategy between them**"
   ]
  },
  {
   "cell_type": "markdown",
   "metadata": {},
   "source": [
    "#Step 6.8\n",
    "\n",
    "Out of the 5 models, we choose to implement a ARMA-GARCH Model. It has outperformed Buy and hold strategy at all times and has a average accuracy of apprximately 58 percent, in predicting correct trading signals. \n",
    "\n",
    "In contrast, VAR Strategy has underperfomed Buy and Hold strategy all times and has a very low accuracyin predicting correct trading signals."
   ]
  },
  {
   "cell_type": "markdown",
   "metadata": {},
   "source": [
    "## Step-7: Category 2 Models: Using 3 variables"
   ]
  },
  {
   "cell_type": "code",
   "execution_count": null,
   "metadata": {},
   "outputs": [],
   "source": [
    "# 7.5: VAR Strategy"
   ]
  },
  {
   "cell_type": "markdown",
   "metadata": {},
   "source": [
    "**Using Q2 data to fit VAR model and using that to estimate Q3 data**"
   ]
  },
  {
   "cell_type": "code",
   "execution_count": null,
   "metadata": {},
   "outputs": [],
   "source": [
    "# Calculating log returns\n",
    "\n",
    "gld_Q2_lgreturn = np.log(df_goldetf_Q2['Close']).diff().dropna()\n",
    "equity_Q2_lgreturn = np.log(df_equityetf_Q2['Close']).diff().dropna()\n",
    "btc_Q2_lgreturn = np.log(df_bitcoin_Q2['Close']).diff().dropna()"
   ]
  },
  {
   "cell_type": "code",
   "execution_count": null,
   "metadata": {},
   "outputs": [],
   "source": [
    "# Checking for stationarity\n",
    "\n",
    "X = gld_Q2_lgreturn\n",
    "result = adfuller(X)\n",
    "print('ADF Statistic: %f' % result[0])\n",
    "print('p-value: %f' % result[1])\n",
    "print('Critical Values:')\n",
    "for key, value in result[4].items():\n",
    "    print('\\t%s: %.3f' % (key, value))\n",
    "\n",
    "if result[0] < result[4][\"5%\"]:\n",
    "    print (\"Reject Ho - Time Series is Stationary\")\n",
    "else:\n",
    "    print (\"Failed to Reject Ho - Time Series is Non-Stationary\")"
   ]
  },
  {
   "cell_type": "code",
   "execution_count": null,
   "metadata": {},
   "outputs": [],
   "source": [
    "X = equity_Q2_lgreturn\n",
    "result = adfuller(X)\n",
    "print('ADF Statistic: %f' % result[0])\n",
    "print('p-value: %f' % result[1])\n",
    "print('Critical Values:')\n",
    "for key, value in result[4].items():\n",
    "    print('\\t%s: %.3f' % (key, value))\n",
    "\n",
    "if result[0] < result[4][\"5%\"]:\n",
    "    print (\"Reject Ho - Time Series is Stationary\")\n",
    "else:\n",
    "    print (\"Failed to Reject Ho - Time Series is Non-Stationary\")"
   ]
  },
  {
   "cell_type": "code",
   "execution_count": null,
   "metadata": {},
   "outputs": [],
   "source": [
    "X = btc_Q2_lgreturn\n",
    "result = adfuller(X)\n",
    "print('ADF Statistic: %f' % result[0])\n",
    "print('p-value: %f' % result[1])\n",
    "print('Critical Values:')\n",
    "for key, value in result[4].items():\n",
    "    print('\\t%s: %.3f' % (key, value))\n",
    "\n",
    "if result[0] < result[4][\"5%\"]:\n",
    "    print (\"Reject Ho - Time Series is Stationary\")\n",
    "else:\n",
    "    print (\"Failed to Reject Ho - Time Series is Non-Stationary\")"
   ]
  },
  {
   "cell_type": "code",
   "execution_count": null,
   "metadata": {},
   "outputs": [],
   "source": [
    "# Merging Q2 log returns series in to a single DataFrame\n",
    "\n",
    "df_gld_Q2_lgreturn = pd.DataFrame(gld_Q2_lgreturn)\n",
    "df_equity_Q2_lgreturn = pd.DataFrame(equity_Q2_lgreturn)\n",
    "df_btc_Q2_lgreturn = pd.DataFrame(btc_Q2_lgreturn)\n",
    "\n",
    "df_joint = df_equity_Q2_lgreturn.join(df_gld_Q2_lgreturn, how='inner', lsuffix='_Equity', rsuffix='_GLD')\n",
    "df_all_returns = df_btc_Q2_lgreturn.join(df_joint, how='inner')\n",
    "df_all_returns_Q2  = df_all_returns.rename(columns = {\"Close\": \"lgreturns_BTC\",\"Close_Equity\": \"lgreturns_Equity\",\"Close_GLD\": \"lgreturns_GLD\"})\n",
    "df_all_returns_Q2.head(5)"
   ]
  },
  {
   "cell_type": "markdown",
   "metadata": {},
   "source": [
    "**Testing Causation using Granger’s Causality Test**"
   ]
  },
  {
   "cell_type": "code",
   "execution_count": null,
   "metadata": {},
   "outputs": [],
   "source": [
    "maxlag=12\n",
    "test = 'ssr_chi2test'\n",
    "def grangers_causation_matrix(data, variables, test='ssr_chi2test', verbose=False):    \n",
    "    \"\"\"Check Granger Causality of all possible combinations of the Time series.\n",
    "    The rows are the response variable, columns are predictors. The values in the table \n",
    "    are the P-Values. P-Values lesser than the significance level (0.05), implies \n",
    "    the Null Hypothesis that the coefficients of the corresponding past values is \n",
    "    zero, that is, the X does not cause Y can be rejected.\n",
    "\n",
    "    data      : pandas dataframe containing the time series variables\n",
    "    variables : list containing names of the time series variables.\n",
    "    \"\"\"\n",
    "    df = pd.DataFrame(np.zeros((len(variables), len(variables))), columns=variables, index=variables)\n",
    "    for c in df.columns:\n",
    "        for r in df.index:\n",
    "            test_result = grangercausalitytests(data[[r, c]], maxlag=maxlag, verbose=False)\n",
    "            p_values = [round(test_result[i+1][0][test][1],4) for i in range(maxlag)]\n",
    "            if verbose: print(f'Y = {r}, X = {c}, P Values = {p_values}')\n",
    "            min_p_value = np.min(p_values)\n",
    "            df.loc[r, c] = min_p_value\n",
    "    df.columns = [var + '_x' for var in variables]\n",
    "    df.index = [var + '_y' for var in variables]\n",
    "    return df\n",
    "\n",
    "grangers_causation_matrix(df_all_returns_Q2, variables = df_all_returns_Q2.columns)"
   ]
  },
  {
   "cell_type": "markdown",
   "metadata": {},
   "source": [
    "**We can see that variables lgreturns_BTC and lgreturns_GLD_x are causing lgreturns_Equity_x**"
   ]
  },
  {
   "cell_type": "code",
   "execution_count": null,
   "metadata": {},
   "outputs": [],
   "source": [
    "# VAR Model\n",
    "\n",
    "aic = 1000\n",
    "var_model_q2 = VAR(df_all_returns_Q2)\n",
    "prediction_length = len(df_equityetf_Q3.index)\n",
    "for lag in range(14):\n",
    "    score = var_model_q2.fit(lag).aic\n",
    "    #print('The VAR model for the 3 dimensional timeseries has the aic score as {} with lags of {}'.format(score,lag))\n",
    "    if(score<aic):\n",
    "        aic = score\n",
    "        p = lag\n",
    "        \n",
    "      \n",
    "print('The VAR model for the 3 dimensional timeseries has the best aic score as {} with lags of {}'.format(round(aic,2),p))"
   ]
  },
  {
   "cell_type": "code",
   "execution_count": null,
   "metadata": {},
   "outputs": [],
   "source": [
    "final_var_model_q2 = var_model_q2.fit(p)\n",
    "\n",
    "final_var_model_q2.summary()"
   ]
  },
  {
   "cell_type": "code",
   "execution_count": null,
   "metadata": {},
   "outputs": [],
   "source": [
    "#Forecasting Returns for Q3\n",
    "\n",
    "forecast_input_Q3 = df_all_returns_Q2.values\n",
    "\n",
    "forecast_Q3 = final_var_model_q2.forecast(y=forecast_input_Q3, steps = prediction_length)\n",
    "\n",
    "\n",
    "forecast_Q3 = pd.DataFrame(forecast_Q3)\n",
    "forecast_Equity_Q3 = forecast_Q3[1]\n",
    "forecast_Equity_Q3 = pd.DataFrame(forecast_Equity_Q3)"
   ]
  },
  {
   "cell_type": "code",
   "execution_count": null,
   "metadata": {},
   "outputs": [],
   "source": [
    "df_equityetf_Q3_forecast = pd.DataFrame(df_equityetf_Q3[\"Close\"])\n",
    "\n",
    "forecast_Equity_Q3.index = df_equityetf_Q3_forecast.index\n",
    "\n",
    "df_equityetf_Q3_forecast[\"Forecasted Return\"] = forecast_Equity_Q3\n",
    "\n",
    "df_equityetf_Q3_forecast"
   ]
  },
  {
   "cell_type": "code",
   "execution_count": null,
   "metadata": {},
   "outputs": [],
   "source": [
    "equity_Q3_lgreturn = np.log(df_equityetf_Q3['Close']).diff()\n",
    "equity_Q3_lgreturn = pd.DataFrame(equity_Q3_lgreturn)\n",
    "\n",
    "df_equityetf_Q3_forecast[\"Actual_LogReturn\"] = equity_Q3_lgreturn\n",
    "\n",
    "df_equityetf_Q3_forecast['Cumulative Log Return'] = df_equityetf_Q3_forecast['Actual_LogReturn'].cumsum()\n",
    "\n",
    "df_equityetf_Q3_forecast['Buy and Hold Strategy'] = 100*np.exp(df_equityetf_Q3_forecast['Cumulative Log Return'])\n",
    "\n",
    "df_equityetf_Q3_forecast.at['2020-06-30', 'Buy and Hold Strategy'] = 100\n",
    "\n",
    "df_equityetf_Q3_forecast['Actual Trading Signal'] = np.sign(df_equityetf_Q3_forecast['Actual_LogReturn'])\n",
    "\n",
    "df_equityetf_Q3_forecast['Predicted Trading Signal'] = np.sign(forecast_Equity_Q3)\n",
    "\n",
    "df_equityetf_Q3_forecast['VAR Strategy Cumulative Log Return'] = (df_equityetf_Q3_forecast['Actual_LogReturn']*df_equityetf_Q3_forecast['Predicted Trading Signal']).cumsum()\n",
    "\n",
    "df_equityetf_Q3_forecast['VAR Strategy'] = 100*np.exp(df_equityetf_Q3_forecast['VAR Strategy Cumulative Log Return'])\n",
    "\n",
    "df_equityetf_Q3_forecast.at['2020-06-30', 'VAR Strategy'] = 100\n",
    "\n",
    "df_equityetf_Q3_forecast"
   ]
  },
  {
   "cell_type": "code",
   "execution_count": null,
   "metadata": {},
   "outputs": [],
   "source": [
    "fig, ax = plt.subplots(figsize=(12,6))\n",
    "ax.set_title('Comparing the Evolution of a Buy and Hold Portfolio Relative to a Portfolio using an VAR-based Trading Strategy Q3 2020')\n",
    "ax.plot(df_equityetf_Q3_forecast['Buy and Hold Strategy'], label = 'Buy and Hold Portfolio', color = 'blue')\n",
    "ax.plot(df_equityetf_Q3_forecast['VAR Strategy'], label = 'VAR Portfolio', color = 'green')\n",
    "ax.legend()\n",
    "plt.show()"
   ]
  },
  {
   "cell_type": "code",
   "execution_count": null,
   "metadata": {},
   "outputs": [],
   "source": [
    "# Checking the accuracy of the Model using a confusion matrix\n",
    "\n",
    "score_matrix = pd.DataFrame(metrics.confusion_matrix(df_equityetf_Q3_forecast['Actual Trading Signal'][1:], df_equityetf_Q3_forecast['Predicted Trading Signal'][1:], labels = [1,-1]))\n",
    "print('Accuracy of the model stands at: ',round((score_matrix.iloc[0,0]+score_matrix.iloc[1,1])/np.sum(score_matrix.values)*100,2))"
   ]
  },
  {
   "cell_type": "markdown",
   "metadata": {},
   "source": [
    "**Using Q3 data to fit VAR model and using that to estimate Q4 data**"
   ]
  },
  {
   "cell_type": "code",
   "execution_count": null,
   "metadata": {},
   "outputs": [],
   "source": [
    "# Calculating log returns\n",
    "\n",
    "gld_Q3_lgreturn = np.log(df_goldetf_Q3['Close']).diff().dropna()\n",
    "equity_Q3_lgreturn = np.log(df_equityetf_Q3['Close']).diff().dropna()\n",
    "btc_Q3_lgreturn = np.log(df_bitcoin_Q3['Close']).diff().dropna()"
   ]
  },
  {
   "cell_type": "code",
   "execution_count": null,
   "metadata": {},
   "outputs": [],
   "source": [
    "# Checking for stationarity\n",
    "\n",
    "X = gld_Q3_lgreturn\n",
    "result = adfuller(X)\n",
    "print('ADF Statistic: %f' % result[0])\n",
    "print('p-value: %f' % result[1])\n",
    "print('Critical Values:')\n",
    "for key, value in result[4].items():\n",
    "    print('\\t%s: %.3f' % (key, value))\n",
    "\n",
    "if result[0] < result[4][\"5%\"]:\n",
    "    print (\"Reject Ho - Time Series is Stationary\")\n",
    "else:\n",
    "    print (\"Failed to Reject Ho - Time Series is Non-Stationary\")"
   ]
  },
  {
   "cell_type": "code",
   "execution_count": null,
   "metadata": {},
   "outputs": [],
   "source": [
    "X = equity_Q3_lgreturn\n",
    "result = adfuller(X)\n",
    "print('ADF Statistic: %f' % result[0])\n",
    "print('p-value: %f' % result[1])\n",
    "print('Critical Values:')\n",
    "for key, value in result[4].items():\n",
    "    print('\\t%s: %.3f' % (key, value))\n",
    "\n",
    "if result[0] < result[4][\"5%\"]:\n",
    "    print (\"Reject Ho - Time Series is Stationary\")\n",
    "else:\n",
    "    print (\"Failed to Reject Ho - Time Series is Non-Stationary\")"
   ]
  },
  {
   "cell_type": "code",
   "execution_count": null,
   "metadata": {},
   "outputs": [],
   "source": [
    "X = btc_Q3_lgreturn\n",
    "result = adfuller(X)\n",
    "print('ADF Statistic: %f' % result[0])\n",
    "print('p-value: %f' % result[1])\n",
    "print('Critical Values:')\n",
    "for key, value in result[4].items():\n",
    "    print('\\t%s: %.3f' % (key, value))\n",
    "\n",
    "if result[0] < result[4][\"5%\"]:\n",
    "    print (\"Reject Ho - Time Series is Stationary\")\n",
    "else:\n",
    "    print (\"Failed to Reject Ho - Time Series is Non-Stationary\")"
   ]
  },
  {
   "cell_type": "code",
   "execution_count": null,
   "metadata": {},
   "outputs": [],
   "source": [
    "#Merging Q3 log returns series in to a single DataFrame\n",
    "\n",
    "df_gld_Q3_lgreturn = pd.DataFrame(gld_Q3_lgreturn)\n",
    "df_equity_Q3_lgreturn = pd.DataFrame(equity_Q3_lgreturn)\n",
    "df_btc_Q3_lgreturn = pd.DataFrame(btc_Q3_lgreturn)\n",
    "\n",
    "df_joint = df_equity_Q3_lgreturn.join(df_gld_Q3_lgreturn, how='inner', lsuffix='_Equity', rsuffix='_GLD')\n",
    "df_all_returns = df_btc_Q3_lgreturn.join(df_joint, how='inner')\n",
    "df_all_returns_Q3  = df_all_returns.rename(columns = {\"Close\": \"lgreturns_BTC\",\"Close_Equity\": \"lgreturns_Equity\",\"Close_GLD\": \"lgreturns_GLD\"})\n",
    "df_all_returns_Q3.head(5)"
   ]
  },
  {
   "cell_type": "markdown",
   "metadata": {},
   "source": [
    "**Testing Causation using Granger’s Causality Test**"
   ]
  },
  {
   "cell_type": "code",
   "execution_count": null,
   "metadata": {},
   "outputs": [],
   "source": [
    "maxlag=12\n",
    "test = 'ssr_chi2test'\n",
    "def grangers_causation_matrix(data, variables, test='ssr_chi2test', verbose=False):    \n",
    "    \"\"\"Check Granger Causality of all possible combinations of the Time series.\n",
    "    The rows are the response variable, columns are predictors. The values in the table \n",
    "    are the P-Values. P-Values lesser than the significance level (0.05), implies \n",
    "    the Null Hypothesis that the coefficients of the corresponding past values is \n",
    "    zero, that is, the X does not cause Y can be rejected.\n",
    "\n",
    "    data      : pandas dataframe containing the time series variables\n",
    "    variables : list containing names of the time series variables.\n",
    "    \"\"\"\n",
    "    df = pd.DataFrame(np.zeros((len(variables), len(variables))), columns=variables, index=variables)\n",
    "    for c in df.columns:\n",
    "        for r in df.index:\n",
    "            test_result = grangercausalitytests(data[[r, c]], maxlag=maxlag, verbose=False)\n",
    "            p_values = [round(test_result[i+1][0][test][1],4) for i in range(maxlag)]\n",
    "            if verbose: print(f'Y = {r}, X = {c}, P Values = {p_values}')\n",
    "            min_p_value = np.min(p_values)\n",
    "            df.loc[r, c] = min_p_value\n",
    "    df.columns = [var + '_x' for var in variables]\n",
    "    df.index = [var + '_y' for var in variables]\n",
    "    return df\n",
    "\n",
    "grangers_causation_matrix(df_all_returns_Q3, variables = df_all_returns_Q3.columns)"
   ]
  },
  {
   "cell_type": "code",
   "execution_count": null,
   "metadata": {},
   "outputs": [],
   "source": [
    "maxlag=12\n",
    "test = 'ssr_chi2test'\n",
    "def grangers_causation_matrix(data, variables, test='ssr_chi2test', verbose=False):    \n",
    "    \"\"\"Check Granger Causality of all possible combinations of the Time series.\n",
    "    The rows are the response variable, columns are predictors. The values in the table \n",
    "    are the P-Values. P-Values lesser than the significance level (0.05), implies \n",
    "    the Null Hypothesis that the coefficients of the corresponding past values is \n",
    "    zero, that is, the X does not cause Y can be rejected.\n",
    "\n",
    "    data      : pandas dataframe containing the time series variables\n",
    "    variables : list containing names of the time series variables.\n",
    "    \"\"\"\n",
    "    df = pd.DataFrame(np.zeros((len(variables), len(variables))), columns=variables, index=variables)\n",
    "    for c in df.columns:\n",
    "        for r in df.index:\n",
    "            test_result = grangercausalitytests(data[[r, c]], maxlag=maxlag, verbose=False)\n",
    "            p_values = [round(test_result[i+1][0][test][1],4) for i in range(maxlag)]\n",
    "            if verbose: print(f'Y = {r}, X = {c}, P Values = {p_values}')\n",
    "            min_p_value = np.min(p_values)\n",
    "            df.loc[r, c] = min_p_value\n",
    "    df.columns = [var + '_x' for var in variables]\n",
    "    df.index = [var + '_y' for var in variables]\n",
    "    return df\n",
    "\n",
    "grangers_causation_matrix(df_all_returns_Q3, variables = df_all_returns_Q3.columns)"
   ]
  },
  {
   "cell_type": "code",
   "execution_count": null,
   "metadata": {},
   "outputs": [],
   "source": [
    "maxlag=12\n",
    "test = 'ssr_chi2test'\n",
    "def grangers_causation_matrix(data, variables, test='ssr_chi2test', verbose=False):    \n",
    "    \"\"\"Check Granger Causality of all possible combinations of the Time series.\n",
    "    The rows are the response variable, columns are predictors. The values in the table \n",
    "    are the P-Values. P-Values lesser than the significance level (0.05), implies \n",
    "    the Null Hypothesis that the coefficients of the corresponding past values is \n",
    "    zero, that is, the X does not cause Y can be rejected.\n",
    "\n",
    "    data      : pandas dataframe containing the time series variables\n",
    "    variables : list containing names of the time series variables.\n",
    "    \"\"\"\n",
    "    df = pd.DataFrame(np.zeros((len(variables), len(variables))), columns=variables, index=variables)\n",
    "    for c in df.columns:\n",
    "        for r in df.index:\n",
    "            test_result = grangercausalitytests(data[[r, c]], maxlag=maxlag, verbose=False)\n",
    "            p_values = [round(test_result[i+1][0][test][1],4) for i in range(maxlag)]\n",
    "            if verbose: print(f'Y = {r}, X = {c}, P Values = {p_values}')\n",
    "            min_p_value = np.min(p_values)\n",
    "            df.loc[r, c] = min_p_value\n",
    "    df.columns = [var + '_x' for var in variables]\n",
    "    df.index = [var + '_y' for var in variables]\n",
    "    return df\n",
    "\n",
    "grangers_causation_matrix(df_all_returns_Q3, variables = df_all_returns_Q3.columns)"
   ]
  },
  {
   "cell_type": "markdown",
   "metadata": {},
   "source": [
    "**We can see that variables lgreturns_BTC and lgreturns_GLD_x are causing lgreturns_Equity_x**"
   ]
  },
  {
   "cell_type": "code",
   "execution_count": null,
   "metadata": {},
   "outputs": [],
   "source": [
    "# VAR Model\n",
    "\n",
    "aic = 1000\n",
    "var_model_q3 = VAR(df_all_returns_Q3)\n",
    "prediction_length = len(df_equityetf_Q4.index)\n",
    "for lag in range(15):\n",
    "    score = var_model_q3.fit(lag).aic\n",
    "    #print('The VAR model for the 3 dimensional timeseries has the aic score as {} with lags of {}'.format(score,lag))\n",
    "    if(score<aic):\n",
    "        aic = score\n",
    "        p = lag\n",
    "        \n",
    "      \n",
    "print('The VAR model for the 3 dimensional timeseries has the best aic score as {} with lags of {}'.format(round(aic,2),p))"
   ]
  },
  {
   "cell_type": "code",
   "execution_count": null,
   "metadata": {},
   "outputs": [],
   "source": [
    "final_var_model_q3 = var_model_q3.fit(p)\n",
    "\n",
    "final_var_model_q3.summary()"
   ]
  },
  {
   "cell_type": "code",
   "execution_count": null,
   "metadata": {},
   "outputs": [],
   "source": [
    "#Forecasting Returns for Q4\n",
    "\n",
    "forecast_input_Q4 = df_all_returns_Q3.values\n",
    "\n",
    "forecast_Q4 = final_var_model_q3.forecast(y=forecast_input_Q4, steps = prediction_length)\n",
    "\n",
    "\n",
    "forecast_Q4 = pd.DataFrame(forecast_Q4)\n",
    "forecast_Equity_Q4 = forecast_Q4[1]\n",
    "forecast_Equity_Q4 = pd.DataFrame(forecast_Equity_Q4)"
   ]
  },
  {
   "cell_type": "code",
   "execution_count": null,
   "metadata": {},
   "outputs": [],
   "source": [
    "df_equityetf_Q4_forecast = pd.DataFrame(df_equityetf_Q4[\"Close\"])\n",
    "\n",
    "forecast_Equity_Q4.index = df_equityetf_Q4_forecast.index\n",
    "\n",
    "df_equityetf_Q4_forecast[\"Forecasted Return\"] = forecast_Equity_Q4\n",
    "\n",
    "df_equityetf_Q4_forecast"
   ]
  },
  {
   "cell_type": "code",
   "execution_count": null,
   "metadata": {},
   "outputs": [],
   "source": [
    "equity_Q4_lgreturn = np.log(df_equityetf_Q4['Close']).diff()\n",
    "equity_Q4_lgreturn = pd.DataFrame(equity_Q4_lgreturn)\n",
    "\n",
    "df_equityetf_Q4_forecast[\"Actual_LogReturn\"] = equity_Q4_lgreturn\n",
    "\n",
    "df_equityetf_Q4_forecast['Cumulative Log Return'] = df_equityetf_Q4_forecast['Actual_LogReturn'].cumsum()\n",
    "\n",
    "df_equityetf_Q4_forecast['Buy and Hold Strategy'] = 100*np.exp(df_equityetf_Q4_forecast['Cumulative Log Return'])\n",
    "\n",
    "df_equityetf_Q4_forecast.at['2020-09-30', 'Buy and Hold Strategy'] = 100\n",
    "\n",
    "df_equityetf_Q4_forecast['Actual Trading Signal'] = np.sign(df_equityetf_Q4_forecast['Actual_LogReturn'])\n",
    "\n",
    "df_equityetf_Q4_forecast['Predicted Trading Signal'] = np.sign(forecast_Equity_Q4)\n",
    "\n",
    "df_equityetf_Q4_forecast['VAR Strategy Cumulative Log Return'] = (df_equityetf_Q4_forecast['Actual_LogReturn']*df_equityetf_Q4_forecast['Predicted Trading Signal']).cumsum()\n",
    "\n",
    "df_equityetf_Q4_forecast['VAR Strategy'] = 100*np.exp(df_equityetf_Q4_forecast['VAR Strategy Cumulative Log Return'])\n",
    "\n",
    "df_equityetf_Q4_forecast.at['2020-09-30', 'VAR Strategy'] = 100\n",
    "\n",
    "df_equityetf_Q4_forecast"
   ]
  },
  {
   "cell_type": "code",
   "execution_count": null,
   "metadata": {},
   "outputs": [],
   "source": [
    "fig, ax = plt.subplots(figsize=(12,6))\n",
    "ax.set_title('Comparing the Evolution of a Buy and Hold Portfolio Relative to a Portfolio using an VAR-based Trading Strategy Q4 2020')\n",
    "ax.plot(df_equityetf_Q4_forecast['Buy and Hold Strategy'], label = 'Buy and Hold Portfolio', color = 'blue')\n",
    "ax.plot(df_equityetf_Q4_forecast['VAR Strategy'], label = 'VAR Portfolio', color = 'green')\n",
    "ax.legend()\n",
    "plt.show()"
   ]
  },
  {
   "cell_type": "code",
   "execution_count": null,
   "metadata": {},
   "outputs": [],
   "source": [
    "# Checking the accuracy of the Model using a confusion matrix\n",
    "\n",
    "score_matrix = pd.DataFrame(metrics.confusion_matrix(df_equityetf_Q4_forecast['Actual Trading Signal'][1:], df_equityetf_Q4_forecast['Predicted Trading Signal'][1:], labels = [1,-1]))\n",
    "print('Accuracy of the model stands at: ',round((score_matrix.iloc[0,0]+score_matrix.iloc[1,1])/np.sum(score_matrix.values)*100,2))"
   ]
  },
  {
   "cell_type": "code",
   "execution_count": null,
   "metadata": {},
   "outputs": [],
   "source": [
    "# Step 7.6: Second trading strategy including cointegration"
   ]
  },
  {
   "cell_type": "markdown",
   "metadata": {},
   "source": [
    "**Performing Co-integration Test**"
   ]
  },
  {
   "cell_type": "code",
   "execution_count": null,
   "metadata": {},
   "outputs": [],
   "source": [
    "# Checking for stationarity at level series\n",
    "\n",
    "X = df_goldetf_Q2[\"Close\"].values\n",
    "result = adfuller(X)\n",
    "print('ADF Statistic: %f' % result[0])\n",
    "print('p-value: %f' % result[1])\n",
    "print('Critical Values:')\n",
    "for key, value in result[4].items():\n",
    "    print('\\t%s: %.3f' % (key, value))\n",
    "\n",
    "if result[0] < result[4][\"5%\"]:\n",
    "    print (\"Reject Ho - Time Series is Stationary\")\n",
    "else:\n",
    "    print (\"Failed to Reject Ho - Time Series is Non-Stationary\")"
   ]
  },
  {
   "cell_type": "code",
   "execution_count": null,
   "metadata": {},
   "outputs": [],
   "source": [
    "X = df_equityetf_Q2[\"Close\"].values\n",
    "result = adfuller(X)\n",
    "print('ADF Statistic: %f' % result[0])\n",
    "print('p-value: %f' % result[1])\n",
    "print('Critical Values:')\n",
    "for key, value in result[4].items():\n",
    "    print('\\t%s: %.3f' % (key, value))\n",
    "\n",
    "if result[0] < result[4][\"5%\"]:\n",
    "    print (\"Reject Ho - Time Series is Stationary\")\n",
    "else:\n",
    "    print (\"Failed to Reject Ho - Time Series is Non-Stationary\")"
   ]
  },
  {
   "cell_type": "code",
   "execution_count": null,
   "metadata": {},
   "outputs": [],
   "source": [
    "X = df_bitcoin_Q2[\"Close\"].values\n",
    "result = adfuller(X)\n",
    "print('ADF Statistic: %f' % result[0])\n",
    "print('p-value: %f' % result[1])\n",
    "print('Critical Values:')\n",
    "for key, value in result[4].items():\n",
    "    print('\\t%s: %.3f' % (key, value))\n",
    "\n",
    "if result[0] < result[4][\"5%\"]:\n",
    "    print (\"Reject Ho - Time Series is Stationary\")\n",
    "else:\n",
    "    print (\"Failed to Reject Ho - Time Series is Non-Stationary\")"
   ]
  },
  {
   "cell_type": "markdown",
   "metadata": {},
   "source": [
    "**Gold ETF is already stationary in Q2. So we will try to perform cointegration test for only Equity ETF and Bitcoin in Q2**"
   ]
  },
  {
   "cell_type": "code",
   "execution_count": null,
   "metadata": {},
   "outputs": [],
   "source": [
    "# Differencing at I(1)\n",
    "\n",
    "df_equityetf_diff_Q2 = df_equityetf_Q2[\"Close\"].diff()\n",
    "df_equityetf_diff_Q2 = df_equityetf_diff_Q2.dropna()\n",
    "\n",
    "df_bitcoin_diff_Q2 = df_bitcoin_Q2[\"Close\"].diff()\n",
    "df_bitcoin_diff_Q2 = df_bitcoin_diff_Q2.dropna()"
   ]
  },
  {
   "cell_type": "code",
   "execution_count": null,
   "metadata": {},
   "outputs": [],
   "source": [
    "# Checking for stationarity at I(1)\n",
    "\n",
    "X = df_equityetf_diff_Q2.values\n",
    "result = adfuller(X)\n",
    "print('ADF Statistic: %f' % result[0])\n",
    "print('p-value: %f' % result[1])\n",
    "print('Critical Values:')\n",
    "for key, value in result[4].items():\n",
    "    print('\\t%s: %.3f' % (key, value))\n",
    "\n",
    "if result[0] < result[4][\"5%\"]:\n",
    "    print (\"Reject Ho - Time Series is Stationary\")\n",
    "else:\n",
    "    print (\"Failed to Reject Ho - Time Series is Non-Stationary\")"
   ]
  },
  {
   "cell_type": "code",
   "execution_count": null,
   "metadata": {},
   "outputs": [],
   "source": [
    "X = df_bitcoin_diff_Q2.values\n",
    "result = adfuller(X)\n",
    "print('ADF Statistic: %f' % result[0])\n",
    "print('p-value: %f' % result[1])\n",
    "print('Critical Values:')\n",
    "for key, value in result[4].items():\n",
    "    print('\\t%s: %.3f' % (key, value))\n",
    "\n",
    "if result[0] < result[4][\"5%\"]:\n",
    "    print (\"Reject Ho - Time Series is Stationary\")\n",
    "else:\n",
    "    print (\"Failed to Reject Ho - Time Series is Non-Stationary\")"
   ]
  },
  {
   "cell_type": "code",
   "execution_count": null,
   "metadata": {},
   "outputs": [],
   "source": [
    "# Merging series in to a single DataFrame\n",
    "\n",
    "df_equityetf_Q2 = pd.DataFrame(df_equityetf_Q2[\"Close\"])\n",
    "\n",
    "df_bitcoin_Q2 = pd.DataFrame(df_bitcoin_Q2[\"Close\"])\n",
    "\n",
    "df_merged_Q2 = df_equityetf_Q2.join(df_bitcoin_Q2, how = \"inner\", lsuffix='_Equity', rsuffix='_BTC')\n",
    "\n",
    "df_merged_Q2.head(5)"
   ]
  },
  {
   "cell_type": "code",
   "execution_count": null,
   "metadata": {},
   "outputs": [],
   "source": [
    "# Checking for correlation\n",
    "\n",
    "corr, _ = pearsonr(df_merged_Q2[\"Close_Equity\"], df_merged_Q2[\"Close_BTC\"])\n",
    "print('Pearsons correlation between Gold ETF and Equity ETF for Q2 is: %.3f' % corr)"
   ]
  },
  {
   "cell_type": "markdown",
   "metadata": {},
   "source": [
    "**We can see strong correlation between Equity ETF close prices and Bitcoin prices for Q2**"
   ]
  },
  {
   "cell_type": "code",
   "execution_count": null,
   "metadata": {},
   "outputs": [],
   "source": [
    "#Engle-Granger Test for co-integration\n",
    "\n",
    "egq3bitcoinequity = engle_granger(df_merged_Q2[\"Close_Equity\"],df_merged_Q2[\"Close_BTC\"], trend='c')\n",
    "egq3bitcoinequity"
   ]
  },
  {
   "cell_type": "markdown",
   "metadata": {},
   "source": [
    "**There is cointegration at 10% significance level**"
   ]
  },
  {
   "cell_type": "code",
   "execution_count": null,
   "metadata": {},
   "outputs": [],
   "source": [
    "# Johansen Test for Co-Integration\n",
    "\n",
    "sresq2 = get_johansen(df_merged_Q2[['Close_Equity',\"Close_BTC\"]], 15)"
   ]
  },
  {
   "cell_type": "markdown",
   "metadata": {},
   "source": [
    "**Implementing Pairs Trading strategy for Q3 from model built using Q2 data**"
   ]
  },
  {
   "cell_type": "code",
   "execution_count": null,
   "metadata": {},
   "outputs": [],
   "source": [
    "plt.scatter(df_merged_Q2[\"Close_Equity\"],df_merged_Q2[\"Close_BTC\"])"
   ]
  },
  {
   "cell_type": "code",
   "execution_count": null,
   "metadata": {},
   "outputs": [],
   "source": [
    "df_equityetf_Q2 = pd.DataFrame(df_equityetf_Q2[\"Close\"])\n",
    "\n",
    "df_bitcoin_Q2 = pd.DataFrame(df_bitcoin_Q2[\"Close\"])\n",
    "\n",
    "df_merged_Q2 = df_equityetf_Q2.join(df_bitcoin_Q2, how = \"inner\", lsuffix='_Equity', rsuffix='_BTC')\n",
    "\n",
    "df_merged_Q2.head(5)"
   ]
  },
  {
   "cell_type": "code",
   "execution_count": null,
   "metadata": {},
   "outputs": [],
   "source": [
    "# Fitting OLS Model using Q2 Data\n",
    "\n",
    "OLS_Q2 = OLS(df_merged_Q2[\"Close_Equity\"],df_merged_Q2[\"Close_BTC\"]).fit()\n",
    "\n",
    "OLS_Q2.summary()"
   ]
  },
  {
   "cell_type": "code",
   "execution_count": null,
   "metadata": {},
   "outputs": [],
   "source": [
    "df_bitcoin_Q3_lag = bitcoin.history(start=\"2020-06-04\",  end=\"2020-09-30\")\n",
    "\n",
    "df_equityetf_Q3_lag = equity_etf.history(start=\"2020-06-04\",  end=\"2020-09-30\")\n",
    "\n",
    "df_bitcoin_Q3_lag = pd.DataFrame(df_bitcoin_Q3_lag[\"Close\"])\n",
    "\n",
    "df_equityetf_Q3_lag = pd.DataFrame(df_equityetf_Q3_lag[\"Close\"])\n",
    "\n",
    "\n",
    "df_merged_Q3 = df_equityetf_Q3_lag.join(df_bitcoin_Q3_lag, how = \"inner\", lsuffix='_Equity', rsuffix='_BTC')\n",
    "\n",
    "df_merged_Q3.head(5)\n"
   ]
  },
  {
   "cell_type": "code",
   "execution_count": null,
   "metadata": {},
   "outputs": [],
   "source": [
    "Equity_Prediction_Q3 = OLS_Q2.predict(df_merged_Q3[\"Close_BTC\"])\n",
    "\n",
    "df_merged_Q3[\"Equity_Prediction_Q3\"] = Equity_Prediction_Q3\n",
    "\n",
    "df_merged_Q3[\"Residual_Values\"] = df_merged_Q3[\"Equity_Prediction_Q3\"] - df_merged_Q3[\"Close_Equity\"]\n",
    "\n",
    "df_merged_Q3['Residuals_MA_15'] = df_merged_Q3[\"Residual_Values\"].rolling(20).mean().shift()\n",
    "\n",
    "df_merged_Q3['Residuals_MA_15_stddev'] = df_merged_Q3[\"Residual_Values\"].std()\n",
    "\n",
    "df_merged_Q3[\"Predicted_Z-Score\"] = (df_merged_Q3[\"Residual_Values\"] - df_merged_Q3['Residuals_MA_15'])/(df_merged_Q3['Residuals_MA_15_stddev'])\n",
    "\n",
    "df_merged_Q3.dropna(inplace = True)"
   ]
  },
  {
   "cell_type": "code",
   "execution_count": null,
   "metadata": {},
   "outputs": [],
   "source": [
    "# Generating signals for Equity ETF abd Bitcoin\n",
    "\n",
    "Equity_Signal = []\n",
    "\n",
    "for row in df_merged_Q3[\"Predicted_Z-Score\"]:\n",
    "    \n",
    "    if row > 1:\n",
    "        Equity_Signal.append(-1)\n",
    "    elif row < 1 and row > -1:\n",
    "        Equity_Signal.append(0)\n",
    "    elif row < -1:\n",
    "        Equity_Signal.append(1)\n",
    "        \n",
    "        \n",
    "Bitcoin_Signal = []\n",
    "\n",
    "for row in df_merged_Q3[\"Predicted_Z-Score\"]:\n",
    "    \n",
    "    if row > 1:\n",
    "        Bitcoin_Signal.append(1)\n",
    "    elif row < 1 and row > -1:\n",
    "        Bitcoin_Signal.append(0)\n",
    "    elif row < -1:\n",
    "        Bitcoin_Signal.append(-1)"
   ]
  },
  {
   "cell_type": "code",
   "execution_count": null,
   "metadata": {},
   "outputs": [],
   "source": [
    "df_merged_Q3['Equity_Signal'] = Equity_Signal\n",
    "df_merged_Q3[\"Bitcoin_Signal\"] = Bitcoin_Signal\n",
    "\n",
    "df_merged_Q3[\"Actual_Log_return_Equity\"] = np.log(df_merged_Q3['Close_Equity']).diff()\n",
    "df_merged_Q3[\"Actual_Log_return_Bitcoin\"] = np.log(df_merged_Q3['Close_BTC']).diff()\n",
    "\n",
    "df_merged_Q3['Cumulative Log Return_Equity'] = df_merged_Q3['Actual_Log_return_Equity'].cumsum()\n",
    "df_merged_Q3['Cumulative Log Return_Bitcoin'] = df_merged_Q3['Actual_Log_return_Bitcoin'].cumsum()\n",
    "\n",
    "df_merged_Q3['Buy and Hold Strategy_Equity'] = 100*np.exp(df_merged_Q3['Cumulative Log Return_Equity'])\n",
    "df_merged_Q3['Buy and Hold Strategy_Bitcoin'] = 100*np.exp(df_merged_Q3['Cumulative Log Return_Bitcoin'])\n",
    "\n",
    "df_merged_Q3.at['2020-07-01', 'Buy and Hold Strategy_Equity'] = 100\n",
    "df_merged_Q3.at['2020-07-01', 'Buy and Hold Strategy_Bitcoin'] = 100\n",
    "\n",
    "\n",
    "df_merged_Q3['Pairs Trading Strategy Log Return'] = ((df_merged_Q3['Actual_Log_return_Equity']*df_merged_Q3['Equity_Signal'])) + ((df_merged_Q3['Actual_Log_return_Bitcoin']*df_merged_Q3['Bitcoin_Signal']))\n",
    "df_merged_Q3['Pairs Trading Strategy Cumulative Log Return'] = df_merged_Q3['Pairs Trading Strategy Log Return'].cumsum()\n",
    "df_merged_Q3['Pairs Trading Strategy'] = 100*np.exp(df_merged_Q3['Pairs Trading Strategy Cumulative Log Return'])\n",
    "df_merged_Q3.at['2020-07-01', 'Pairs Trading Strategy'] = 100\n",
    "\n",
    "\n",
    "df_merged_Q3.head(3)"
   ]
  },
  {
   "cell_type": "code",
   "execution_count": null,
   "metadata": {},
   "outputs": [],
   "source": [
    "fig, ax = plt.subplots(figsize=(12,6))\n",
    "ax.set_title('Comparing the Evolution of a Buy and Hold Portfolio Relative to a Portfolio using an Pairs Trading Strategy for Q3 2020')\n",
    "ax.plot(df_merged_Q3['Buy and Hold Strategy_Equity'], label = 'Buy and Hold Portfolio_Equity', color = 'blue')\n",
    "ax.plot(df_merged_Q3['Buy and Hold Strategy_Bitcoin'], label = 'Buy and Hold Portfolio_Bitcoin', color = 'red')\n",
    "ax.plot(df_merged_Q3[\"Pairs Trading Strategy\"], label = 'Pairs Trading Strategy Portgfolio', color = 'green')\n",
    "\n",
    "ax.legend()\n",
    "plt.show()"
   ]
  },
  {
   "cell_type": "code",
   "execution_count": null,
   "metadata": {},
   "outputs": [],
   "source": [
    "# Checking stationarity of level series(s) for Q3\n",
    "\n",
    "X = df_goldetf_Q3[\"Close\"].values\n",
    "result = adfuller(X)\n",
    "print('ADF Statistic: %f' % result[0])\n",
    "print('p-value: %f' % result[1])\n",
    "print('Critical Values:')\n",
    "for key, value in result[4].items():\n",
    "    print('\\t%s: %.3f' % (key, value))\n",
    "\n",
    "if result[0] < result[4][\"5%\"]:\n",
    "    print (\"Reject Ho - Time Series is Stationary\")\n",
    "else:\n",
    "    print (\"Failed to Reject Ho - Time Series is Non-Stationary\")"
   ]
  },
  {
   "cell_type": "code",
   "execution_count": null,
   "metadata": {},
   "outputs": [],
   "source": [
    "X = df_equityetf_Q3[\"Close\"].values\n",
    "result = adfuller(X)\n",
    "print('ADF Statistic: %f' % result[0])\n",
    "print('p-value: %f' % result[1])\n",
    "print('Critical Values:')\n",
    "for key, value in result[4].items():\n",
    "    print('\\t%s: %.3f' % (key, value))\n",
    "\n",
    "if result[0] < result[4][\"5%\"]:\n",
    "    print (\"Reject Ho - Time Series is Stationary\")\n",
    "else:\n",
    "    print (\"Failed to Reject Ho - Time Series is Non-Stationary\")"
   ]
  },
  {
   "cell_type": "code",
   "execution_count": null,
   "metadata": {},
   "outputs": [],
   "source": [
    "X = df_bitcoin_Q3[\"Close\"].values\n",
    "result = adfuller(X)\n",
    "print('ADF Statistic: %f' % result[0])\n",
    "print('p-value: %f' % result[1])\n",
    "print('Critical Values:')\n",
    "for key, value in result[4].items():\n",
    "    print('\\t%s: %.3f' % (key, value))\n",
    "\n",
    "if result[0] < result[4][\"5%\"]:\n",
    "    print (\"Reject Ho - Time Series is Stationary\")\n",
    "else:\n",
    "    print (\"Failed to Reject Ho - Time Series is Non-Stationary\")"
   ]
  },
  {
   "cell_type": "code",
   "execution_count": null,
   "metadata": {},
   "outputs": [],
   "source": [
    "# Checking stationarity of series(s) ay I(1) for Q3\n",
    "\n",
    "df_equityetf_diff_Q3 = df_equityetf_Q3[\"Close\"].diff()\n",
    "df_equityetf_diff_Q3 = df_equityetf_diff_Q3.dropna()\n",
    "\n",
    "df_goldetf_diff_Q3 = df_equityetf_Q3[\"Close\"].diff()\n",
    "df_goldetf_diff_Q3 = df_equityetf_diff_Q3.dropna()\n",
    "\n",
    "df_bitcoin_diff_Q3 = df_bitcoin_Q3[\"Close\"].diff()\n",
    "df_bitcoin_diff_Q3 = df_bitcoin_diff_Q3.dropna()"
   ]
  },
  {
   "cell_type": "code",
   "execution_count": null,
   "metadata": {},
   "outputs": [],
   "source": [
    "X = df_equityetf_diff_Q3.values\n",
    "result = adfuller(X)\n",
    "print('ADF Statistic: %f' % result[0])\n",
    "print('p-value: %f' % result[1])\n",
    "print('Critical Values:')\n",
    "for key, value in result[4].items():\n",
    "    print('\\t%s: %.3f' % (key, value))\n",
    "\n",
    "if result[0] < result[4][\"5%\"]:\n",
    "    print (\"Reject Ho - Time Series is Stationary\")\n",
    "else:\n",
    "    print (\"Failed to Reject Ho - Time Series is Non-Stationary\")"
   ]
  },
  {
   "cell_type": "code",
   "execution_count": null,
   "metadata": {},
   "outputs": [],
   "source": [
    "X = df_goldetf_diff_Q3.values\n",
    "result = adfuller(X)\n",
    "print('ADF Statistic: %f' % result[0])\n",
    "print('p-value: %f' % result[1])\n",
    "print('Critical Values:')\n",
    "for key, value in result[4].items():\n",
    "    print('\\t%s: %.3f' % (key, value))\n",
    "\n",
    "if result[0] < result[4][\"5%\"]:\n",
    "    print (\"Reject Ho - Time Series is Stationary\")\n",
    "else:\n",
    "    print (\"Failed to Reject Ho - Time Series is Non-Stationary\")"
   ]
  },
  {
   "cell_type": "code",
   "execution_count": null,
   "metadata": {},
   "outputs": [],
   "source": [
    "X = df_bitcoin_diff_Q3.values\n",
    "result = adfuller(X)\n",
    "print('ADF Statistic: %f' % result[0])\n",
    "print('p-value: %f' % result[1])\n",
    "print('Critical Values:')\n",
    "for key, value in result[4].items():\n",
    "    print('\\t%s: %.3f' % (key, value))\n",
    "\n",
    "if result[0] < result[4][\"5%\"]:\n",
    "    print (\"Reject Ho - Time Series is Stationary\")\n",
    "else:\n",
    "    print (\"Failed to Reject Ho - Time Series is Non-Stationary\")"
   ]
  },
  {
   "cell_type": "code",
   "execution_count": null,
   "metadata": {},
   "outputs": [],
   "source": [
    "df_equityetf_Q3 = pd.DataFrame(df_equityetf_Q3[\"Close\"])\n",
    "\n",
    "df_goldetf_Q3 = pd.DataFrame(df_goldetf_Q3[\"Close\"])\n",
    "\n",
    "df_bitcoin_Q3 = pd.DataFrame(df_bitcoin_Q3[\"Close\"])\n",
    "\n",
    "df_joint = df_equityetf_Q3.join(df_goldetf_Q3, how='inner', lsuffix='_Equity', rsuffix='_GLD')\n",
    "df_all_series_Q3 = df_bitcoin_Q3.join(df_joint, how='inner')\n",
    "df_all_series_Q3 = df_all_series_Q3.rename(columns = {\"Close\": \"Close_BTC\"})\n",
    "\n",
    "df_all_series_Q3"
   ]
  },
  {
   "cell_type": "code",
   "execution_count": null,
   "metadata": {},
   "outputs": [],
   "source": [
    "#Performing co-integration test between all 3 series for Q3\n",
    "\n",
    "def cointegration_test(df, alpha=0.05): \n",
    "    \"\"\"Perform Johanson's Cointegration Test and Report Summary\"\"\"\n",
    "    out = coint_johansen(df,-1,5)\n",
    "    d = {'0.90':0, '0.95':1, '0.99':2}\n",
    "    traces = out.lr1\n",
    "    cvts = out.cvt[:, d[str(1-alpha)]]\n",
    "    def adjust(val, length= 6): return str(val).ljust(length)\n",
    "\n",
    "    # Summary\n",
    "    print('Name   ::  Test Stat > C(95%)    =>   Signif  \\n', '--'*20)\n",
    "    for col, trace, cvt in zip(df.columns, traces, cvts):\n",
    "        print(adjust(col), ':: ', adjust(round(trace,2), 9), \">\", adjust(cvt, 8), ' =>  ' , trace > cvt)\n",
    "\n",
    "cointegration_test(df_all_series_Q3)"
   ]
  },
  {
   "cell_type": "markdown",
   "metadata": {},
   "source": [
    "**We can see that none of the series are cointegrated with each other in Q3**"
   ]
  },
  {
   "cell_type": "code",
   "execution_count": null,
   "metadata": {},
   "outputs": [],
   "source": [
    "#Step 7.7: Vector Error-Correction Model"
   ]
  },
  {
   "cell_type": "markdown",
   "metadata": {},
   "source": [
    "**We have already seen that Equity ETF and Bitcoin are non stationary at levels but stationary at (1) and also they are cointegrated in Q2**"
   ]
  },
  {
   "cell_type": "code",
   "execution_count": null,
   "metadata": {},
   "outputs": [],
   "source": [
    "# VECM Model\n",
    "\n",
    "\n",
    "forecast_length = len(df_equityetf_Q3.index)\n",
    "\n",
    "vecm = VECM(endog = df_merged_Q2, k_ar_diff = 9, coint_rank = 3, deterministic = \"li\")\n",
    "vecm_fit = vecm.fit()\n",
    "vecm_forecast_Q3 = vecm_fit.predict(steps= forecast_length)\n",
    "\n",
    "vecm_equity_forecast_Q3 = pd.DataFrame(vecm_forecast_Q3)\n",
    "\n",
    "vecm_equity_forecast_Q3 = pd.DataFrame(vecm_equity_forecast_Q3[0])"
   ]
  },
  {
   "cell_type": "code",
   "execution_count": null,
   "metadata": {},
   "outputs": [],
   "source": [
    "df_equityetf_Q3_vecm_forecast = pd.DataFrame(df_equityetf_Q3[\"Close\"])\n",
    "\n",
    "vecm_equity_forecast_Q3.index = df_equityetf_Q3_forecast.index\n",
    "\n",
    "df_equityetf_Q3_vecm_forecast[\"VECM Forecast\"] = vecm_equity_forecast_Q3\n",
    "\n",
    "df_equityetf_Q3_vecm_forecast[\"VECM Forecast Log Return\"] = np.log(df_equityetf_Q3_vecm_forecast[\"VECM Forecast\"]).diff()\n",
    "\n",
    "df_equityetf_Q3_vecm_forecast.head(5)"
   ]
  },
  {
   "cell_type": "code",
   "execution_count": null,
   "metadata": {},
   "outputs": [],
   "source": [
    "equity_Q3_lgreturn = np.log(df_equityetf_Q3['Close']).diff()\n",
    "equity_Q3_lgreturn = pd.DataFrame(equity_Q3_lgreturn)\n",
    "\n",
    "df_equityetf_Q3_vecm_forecast[\"Actual_LogReturn\"] = equity_Q3_lgreturn\n",
    "\n",
    "df_equityetf_Q3_vecm_forecast['Cumulative Log Return'] = df_equityetf_Q3_vecm_forecast['Actual_LogReturn'].cumsum()\n",
    "\n",
    "df_equityetf_Q3_vecm_forecast['Buy and Hold Strategy'] = 100*np.exp(df_equityetf_Q3_vecm_forecast['Cumulative Log Return'])\n",
    "\n",
    "df_equityetf_Q3_vecm_forecast.at['2020-06-30', 'Buy and Hold Strategy'] = 100\n",
    "\n",
    "df_equityetf_Q3_vecm_forecast['Actual Trading Signal'] = np.sign(df_equityetf_Q3_vecm_forecast['Actual_LogReturn'])\n",
    "\n",
    "df_equityetf_Q3_vecm_forecast['Predicted Trading Signal'] = np.sign(df_equityetf_Q3_vecm_forecast['VECM Forecast Log Return'])\n",
    "\n",
    "df_equityetf_Q3_vecm_forecast['VECM Strategy Cumulative Log Return'] = (df_equityetf_Q3_vecm_forecast['Actual_LogReturn']*df_equityetf_Q3_vecm_forecast['Predicted Trading Signal']).cumsum()\n",
    "\n",
    "df_equityetf_Q3_vecm_forecast['VECM Strategy'] = 100*np.exp(df_equityetf_Q3_vecm_forecast['VECM Strategy Cumulative Log Return'])\n",
    "\n",
    "df_equityetf_Q3_vecm_forecast.at['2020-06-30', 'VECM Strategy'] = 100\n",
    "\n",
    "df_equityetf_Q3_vecm_forecast"
   ]
  },
  {
   "cell_type": "code",
   "execution_count": null,
   "metadata": {},
   "outputs": [],
   "source": [
    "fig, ax = plt.subplots(figsize=(12,6))\n",
    "ax.set_title('Comparing the Evolution of a Buy and Hold Portfolio Relative to a Portfolio using an VECM-based Trading Strategy Q3 2020')\n",
    "ax.plot(df_equityetf_Q3_vecm_forecast['Buy and Hold Strategy'], label = 'Buy and Hold Portfolio', color = 'blue')\n",
    "ax.plot(df_equityetf_Q3_vecm_forecast['VECM Strategy'], label = 'VECM Portfolio', color = 'green')\n",
    "ax.legend()\n",
    "plt.show()"
   ]
  },
  {
   "cell_type": "code",
   "execution_count": null,
   "metadata": {},
   "outputs": [],
   "source": [
    "# Checking the accuracy of the Model using a confusion matrix\n",
    "\n",
    "score_matrix = pd.DataFrame(metrics.confusion_matrix(df_equityetf_Q3_vecm_forecast[\"Actual Trading Signal\"][1:], df_equityetf_Q3_vecm_forecast['Predicted Trading Signal'][1:], labels = [1,-1]))\n",
    "print('Accuracy of the model stands at: ',round((score_matrix.iloc[0,0]+score_matrix.iloc[1,1])/np.sum(score_matrix.values)*100,2))"
   ]
  },
  {
   "cell_type": "markdown",
   "metadata": {},
   "source": [
    "**We have already observed that none of the series are cointegrated with each other in Q3. so we are not using that data to implement VECM model to estimate Q4 data**"
   ]
  },
  {
   "cell_type": "markdown",
   "metadata": {},
   "source": [
    "#Step 7.8\n",
    "\n",
    "Out of the 8 models, we choose to implement a Pairs Trading strategy model. It has outperformed all other models in terms of returns generated and also has accuracy of 60%, in predicting correct trading signals. \n",
    "\n",
    "This may be due to cointegration observed between Equity ETF and Bitcoin price series and also high correlation (around 81%) between them. So they act as perfect variables, using which we can implement a Pairs Trading Strategy."
   ]
  },
  {
   "cell_type": "code",
   "execution_count": null,
   "metadata": {},
   "outputs": [],
   "source": []
  },
  {
   "cell_type": "code",
   "execution_count": null,
   "metadata": {},
   "outputs": [],
   "source": []
  },
  {
   "cell_type": "code",
   "execution_count": null,
   "metadata": {},
   "outputs": [],
   "source": []
  }
 ],
 "metadata": {
  "kernelspec": {
   "display_name": "Python 3",
   "language": "python",
   "name": "python3"
  },
  "language_info": {
   "codemirror_mode": {
    "name": "ipython",
    "version": 3
   },
   "file_extension": ".py",
   "mimetype": "text/x-python",
   "name": "python",
   "nbconvert_exporter": "python",
   "pygments_lexer": "ipython3",
   "version": "3.8.5"
  }
 },
 "nbformat": 4,
 "nbformat_minor": 4
}
