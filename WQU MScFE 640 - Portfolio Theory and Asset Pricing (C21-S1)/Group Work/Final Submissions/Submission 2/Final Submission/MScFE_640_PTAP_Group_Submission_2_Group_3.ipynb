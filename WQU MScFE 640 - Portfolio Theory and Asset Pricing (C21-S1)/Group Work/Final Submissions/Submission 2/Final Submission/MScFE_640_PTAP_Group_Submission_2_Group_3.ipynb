{
  "cells": [
    {
      "cell_type": "markdown",
      "id": "44e9b83a-a610-44f0-838e-cd2c072c4519",
      "metadata": {
        "tags": [],
        "id": "44e9b83a-a610-44f0-838e-cd2c072c4519"
      },
      "source": [
        "# MScFE 640 - Portfolio Theory and Asset Pricing\n",
        "# Group Assignment - Group 3 - Submission 2 "
      ]
    },
    {
      "cell_type": "code",
      "source": [
        "%%capture\n",
        "!pip install yfinance\n",
        "import yfinance as yf\n",
        "import numpy as np\n",
        "import matplotlib.pyplot as plt\n",
        "import warnings\n",
        "import pandas as pd\n",
        "warnings.filterwarnings('ignore')"
      ],
      "metadata": {
        "id": "77IcsxVlrP3J"
      },
      "id": "77IcsxVlrP3J",
      "execution_count": 1,
      "outputs": []
    },
    {
      "cell_type": "code",
      "source": [
        "etfs_lst = ['IYR', 'IYZ', 'XLB', 'XLE', 'XLF', 'XLI', 'XLK', 'XLP', 'XLU', 'XLV', 'XLY']\n",
        "etfsPrices = yf.download(etfs_lst)['Adj Close'] "
      ],
      "metadata": {
        "colab": {
          "base_uri": "https://localhost:8080/"
        },
        "id": "cl8sPXDYrQLB",
        "outputId": "56faeb59-fec8-42f6-f052-54e526c9cd68"
      },
      "id": "cl8sPXDYrQLB",
      "execution_count": 2,
      "outputs": [
        {
          "output_type": "stream",
          "name": "stdout",
          "text": [
            "[*********************100%***********************]  11 of 11 completed\n"
          ]
        }
      ]
    },
    {
      "cell_type": "code",
      "source": [
        "#returns of all etfs\n",
        "returns=etfsPrices.pct_change()\n",
        "returns"
      ],
      "metadata": {
        "colab": {
          "base_uri": "https://localhost:8080/",
          "height": 455
        },
        "id": "-jstbTagrQQv",
        "outputId": "b03dcc72-c9bd-4ad3-b018-6eb7920bee79"
      },
      "id": "-jstbTagrQQv",
      "execution_count": 3,
      "outputs": [
        {
          "output_type": "execute_result",
          "data": {
            "text/html": [
              "\n",
              "  <div id=\"df-13115e93-2ce5-4115-b49d-bd986ba77d55\">\n",
              "    <div class=\"colab-df-container\">\n",
              "      <div>\n",
              "<style scoped>\n",
              "    .dataframe tbody tr th:only-of-type {\n",
              "        vertical-align: middle;\n",
              "    }\n",
              "\n",
              "    .dataframe tbody tr th {\n",
              "        vertical-align: top;\n",
              "    }\n",
              "\n",
              "    .dataframe thead th {\n",
              "        text-align: right;\n",
              "    }\n",
              "</style>\n",
              "<table border=\"1\" class=\"dataframe\">\n",
              "  <thead>\n",
              "    <tr style=\"text-align: right;\">\n",
              "      <th></th>\n",
              "      <th>IYR</th>\n",
              "      <th>IYZ</th>\n",
              "      <th>XLB</th>\n",
              "      <th>XLE</th>\n",
              "      <th>XLF</th>\n",
              "      <th>XLI</th>\n",
              "      <th>XLK</th>\n",
              "      <th>XLP</th>\n",
              "      <th>XLU</th>\n",
              "      <th>XLV</th>\n",
              "      <th>XLY</th>\n",
              "    </tr>\n",
              "    <tr>\n",
              "      <th>Date</th>\n",
              "      <th></th>\n",
              "      <th></th>\n",
              "      <th></th>\n",
              "      <th></th>\n",
              "      <th></th>\n",
              "      <th></th>\n",
              "      <th></th>\n",
              "      <th></th>\n",
              "      <th></th>\n",
              "      <th></th>\n",
              "      <th></th>\n",
              "    </tr>\n",
              "  </thead>\n",
              "  <tbody>\n",
              "    <tr>\n",
              "      <th>1998-12-22</th>\n",
              "      <td>NaN</td>\n",
              "      <td>NaN</td>\n",
              "      <td>NaN</td>\n",
              "      <td>NaN</td>\n",
              "      <td>NaN</td>\n",
              "      <td>NaN</td>\n",
              "      <td>NaN</td>\n",
              "      <td>NaN</td>\n",
              "      <td>NaN</td>\n",
              "      <td>NaN</td>\n",
              "      <td>NaN</td>\n",
              "    </tr>\n",
              "    <tr>\n",
              "      <th>1998-12-23</th>\n",
              "      <td>NaN</td>\n",
              "      <td>NaN</td>\n",
              "      <td>0.010503</td>\n",
              "      <td>0.020819</td>\n",
              "      <td>0.014746</td>\n",
              "      <td>0.017450</td>\n",
              "      <td>0.023891</td>\n",
              "      <td>0.024174</td>\n",
              "      <td>-0.004191</td>\n",
              "      <td>0.022472</td>\n",
              "      <td>0.004294</td>\n",
              "    </tr>\n",
              "    <tr>\n",
              "      <th>1998-12-24</th>\n",
              "      <td>NaN</td>\n",
              "      <td>NaN</td>\n",
              "      <td>0.023015</td>\n",
              "      <td>-0.005263</td>\n",
              "      <td>0.006605</td>\n",
              "      <td>0.013192</td>\n",
              "      <td>-0.003810</td>\n",
              "      <td>-0.001727</td>\n",
              "      <td>0.018412</td>\n",
              "      <td>0.006105</td>\n",
              "      <td>0.018326</td>\n",
              "    </tr>\n",
              "    <tr>\n",
              "      <th>1998-12-28</th>\n",
              "      <td>NaN</td>\n",
              "      <td>NaN</td>\n",
              "      <td>-0.008709</td>\n",
              "      <td>-0.005291</td>\n",
              "      <td>-0.013123</td>\n",
              "      <td>0.005208</td>\n",
              "      <td>0.002868</td>\n",
              "      <td>-0.005767</td>\n",
              "      <td>-0.005165</td>\n",
              "      <td>-0.014563</td>\n",
              "      <td>-0.008998</td>\n",
              "    </tr>\n",
              "    <tr>\n",
              "      <th>1998-12-29</th>\n",
              "      <td>NaN</td>\n",
              "      <td>NaN</td>\n",
              "      <td>0.018302</td>\n",
              "      <td>0.009974</td>\n",
              "      <td>0.010639</td>\n",
              "      <td>0.014249</td>\n",
              "      <td>0.002860</td>\n",
              "      <td>0.022041</td>\n",
              "      <td>0.016614</td>\n",
              "      <td>0.022167</td>\n",
              "      <td>0.021792</td>\n",
              "    </tr>\n",
              "    <tr>\n",
              "      <th>...</th>\n",
              "      <td>...</td>\n",
              "      <td>...</td>\n",
              "      <td>...</td>\n",
              "      <td>...</td>\n",
              "      <td>...</td>\n",
              "      <td>...</td>\n",
              "      <td>...</td>\n",
              "      <td>...</td>\n",
              "      <td>...</td>\n",
              "      <td>...</td>\n",
              "      <td>...</td>\n",
              "    </tr>\n",
              "    <tr>\n",
              "      <th>2022-03-02</th>\n",
              "      <td>0.017253</td>\n",
              "      <td>0.013477</td>\n",
              "      <td>0.021974</td>\n",
              "      <td>0.022864</td>\n",
              "      <td>0.025876</td>\n",
              "      <td>0.021341</td>\n",
              "      <td>0.021657</td>\n",
              "      <td>0.010610</td>\n",
              "      <td>0.012177</td>\n",
              "      <td>0.015088</td>\n",
              "      <td>0.021003</td>\n",
              "    </tr>\n",
              "    <tr>\n",
              "      <th>2022-03-03</th>\n",
              "      <td>0.008238</td>\n",
              "      <td>0.000665</td>\n",
              "      <td>0.001201</td>\n",
              "      <td>0.002743</td>\n",
              "      <td>-0.003153</td>\n",
              "      <td>0.001095</td>\n",
              "      <td>-0.011928</td>\n",
              "      <td>0.008106</td>\n",
              "      <td>0.017606</td>\n",
              "      <td>0.005107</td>\n",
              "      <td>-0.022645</td>\n",
              "    </tr>\n",
              "    <tr>\n",
              "      <th>2022-03-04</th>\n",
              "      <td>0.004902</td>\n",
              "      <td>-0.008638</td>\n",
              "      <td>-0.003479</td>\n",
              "      <td>0.028857</td>\n",
              "      <td>-0.018714</td>\n",
              "      <td>-0.002187</td>\n",
              "      <td>-0.017517</td>\n",
              "      <td>0.000132</td>\n",
              "      <td>0.022059</td>\n",
              "      <td>0.005005</td>\n",
              "      <td>-0.015886</td>\n",
              "    </tr>\n",
              "    <tr>\n",
              "      <th>2022-03-07</th>\n",
              "      <td>-0.020471</td>\n",
              "      <td>-0.016421</td>\n",
              "      <td>-0.034674</td>\n",
              "      <td>0.014755</td>\n",
              "      <td>-0.036530</td>\n",
              "      <td>-0.026796</td>\n",
              "      <td>-0.036594</td>\n",
              "      <td>-0.018189</td>\n",
              "      <td>0.012978</td>\n",
              "      <td>-0.017431</td>\n",
              "      <td>-0.049009</td>\n",
              "    </tr>\n",
              "    <tr>\n",
              "      <th>2022-03-08</th>\n",
              "      <td>0.010254</td>\n",
              "      <td>0.009540</td>\n",
              "      <td>0.011162</td>\n",
              "      <td>0.007860</td>\n",
              "      <td>0.015751</td>\n",
              "      <td>0.013613</td>\n",
              "      <td>0.018784</td>\n",
              "      <td>-0.007652</td>\n",
              "      <td>-0.001671</td>\n",
              "      <td>-0.002995</td>\n",
              "      <td>0.026043</td>\n",
              "    </tr>\n",
              "  </tbody>\n",
              "</table>\n",
              "<p>5840 rows × 11 columns</p>\n",
              "</div>\n",
              "      <button class=\"colab-df-convert\" onclick=\"convertToInteractive('df-13115e93-2ce5-4115-b49d-bd986ba77d55')\"\n",
              "              title=\"Convert this dataframe to an interactive table.\"\n",
              "              style=\"display:none;\">\n",
              "        \n",
              "  <svg xmlns=\"http://www.w3.org/2000/svg\" height=\"24px\"viewBox=\"0 0 24 24\"\n",
              "       width=\"24px\">\n",
              "    <path d=\"M0 0h24v24H0V0z\" fill=\"none\"/>\n",
              "    <path d=\"M18.56 5.44l.94 2.06.94-2.06 2.06-.94-2.06-.94-.94-2.06-.94 2.06-2.06.94zm-11 1L8.5 8.5l.94-2.06 2.06-.94-2.06-.94L8.5 2.5l-.94 2.06-2.06.94zm10 10l.94 2.06.94-2.06 2.06-.94-2.06-.94-.94-2.06-.94 2.06-2.06.94z\"/><path d=\"M17.41 7.96l-1.37-1.37c-.4-.4-.92-.59-1.43-.59-.52 0-1.04.2-1.43.59L10.3 9.45l-7.72 7.72c-.78.78-.78 2.05 0 2.83L4 21.41c.39.39.9.59 1.41.59.51 0 1.02-.2 1.41-.59l7.78-7.78 2.81-2.81c.8-.78.8-2.07 0-2.86zM5.41 20L4 18.59l7.72-7.72 1.47 1.35L5.41 20z\"/>\n",
              "  </svg>\n",
              "      </button>\n",
              "      \n",
              "  <style>\n",
              "    .colab-df-container {\n",
              "      display:flex;\n",
              "      flex-wrap:wrap;\n",
              "      gap: 12px;\n",
              "    }\n",
              "\n",
              "    .colab-df-convert {\n",
              "      background-color: #E8F0FE;\n",
              "      border: none;\n",
              "      border-radius: 50%;\n",
              "      cursor: pointer;\n",
              "      display: none;\n",
              "      fill: #1967D2;\n",
              "      height: 32px;\n",
              "      padding: 0 0 0 0;\n",
              "      width: 32px;\n",
              "    }\n",
              "\n",
              "    .colab-df-convert:hover {\n",
              "      background-color: #E2EBFA;\n",
              "      box-shadow: 0px 1px 2px rgba(60, 64, 67, 0.3), 0px 1px 3px 1px rgba(60, 64, 67, 0.15);\n",
              "      fill: #174EA6;\n",
              "    }\n",
              "\n",
              "    [theme=dark] .colab-df-convert {\n",
              "      background-color: #3B4455;\n",
              "      fill: #D2E3FC;\n",
              "    }\n",
              "\n",
              "    [theme=dark] .colab-df-convert:hover {\n",
              "      background-color: #434B5C;\n",
              "      box-shadow: 0px 1px 3px 1px rgba(0, 0, 0, 0.15);\n",
              "      filter: drop-shadow(0px 1px 2px rgba(0, 0, 0, 0.3));\n",
              "      fill: #FFFFFF;\n",
              "    }\n",
              "  </style>\n",
              "\n",
              "      <script>\n",
              "        const buttonEl =\n",
              "          document.querySelector('#df-13115e93-2ce5-4115-b49d-bd986ba77d55 button.colab-df-convert');\n",
              "        buttonEl.style.display =\n",
              "          google.colab.kernel.accessAllowed ? 'block' : 'none';\n",
              "\n",
              "        async function convertToInteractive(key) {\n",
              "          const element = document.querySelector('#df-13115e93-2ce5-4115-b49d-bd986ba77d55');\n",
              "          const dataTable =\n",
              "            await google.colab.kernel.invokeFunction('convertToInteractive',\n",
              "                                                     [key], {});\n",
              "          if (!dataTable) return;\n",
              "\n",
              "          const docLinkHtml = 'Like what you see? Visit the ' +\n",
              "            '<a target=\"_blank\" href=https://colab.research.google.com/notebooks/data_table.ipynb>data table notebook</a>'\n",
              "            + ' to learn more about interactive tables.';\n",
              "          element.innerHTML = '';\n",
              "          dataTable['output_type'] = 'display_data';\n",
              "          await google.colab.output.renderOutput(dataTable, element);\n",
              "          const docLink = document.createElement('div');\n",
              "          docLink.innerHTML = docLinkHtml;\n",
              "          element.appendChild(docLink);\n",
              "        }\n",
              "      </script>\n",
              "    </div>\n",
              "  </div>\n",
              "  "
            ],
            "text/plain": [
              "                 IYR       IYZ       XLB       XLE       XLF       XLI  \\\n",
              "Date                                                                     \n",
              "1998-12-22       NaN       NaN       NaN       NaN       NaN       NaN   \n",
              "1998-12-23       NaN       NaN  0.010503  0.020819  0.014746  0.017450   \n",
              "1998-12-24       NaN       NaN  0.023015 -0.005263  0.006605  0.013192   \n",
              "1998-12-28       NaN       NaN -0.008709 -0.005291 -0.013123  0.005208   \n",
              "1998-12-29       NaN       NaN  0.018302  0.009974  0.010639  0.014249   \n",
              "...              ...       ...       ...       ...       ...       ...   \n",
              "2022-03-02  0.017253  0.013477  0.021974  0.022864  0.025876  0.021341   \n",
              "2022-03-03  0.008238  0.000665  0.001201  0.002743 -0.003153  0.001095   \n",
              "2022-03-04  0.004902 -0.008638 -0.003479  0.028857 -0.018714 -0.002187   \n",
              "2022-03-07 -0.020471 -0.016421 -0.034674  0.014755 -0.036530 -0.026796   \n",
              "2022-03-08  0.010254  0.009540  0.011162  0.007860  0.015751  0.013613   \n",
              "\n",
              "                 XLK       XLP       XLU       XLV       XLY  \n",
              "Date                                                          \n",
              "1998-12-22       NaN       NaN       NaN       NaN       NaN  \n",
              "1998-12-23  0.023891  0.024174 -0.004191  0.022472  0.004294  \n",
              "1998-12-24 -0.003810 -0.001727  0.018412  0.006105  0.018326  \n",
              "1998-12-28  0.002868 -0.005767 -0.005165 -0.014563 -0.008998  \n",
              "1998-12-29  0.002860  0.022041  0.016614  0.022167  0.021792  \n",
              "...              ...       ...       ...       ...       ...  \n",
              "2022-03-02  0.021657  0.010610  0.012177  0.015088  0.021003  \n",
              "2022-03-03 -0.011928  0.008106  0.017606  0.005107 -0.022645  \n",
              "2022-03-04 -0.017517  0.000132  0.022059  0.005005 -0.015886  \n",
              "2022-03-07 -0.036594 -0.018189  0.012978 -0.017431 -0.049009  \n",
              "2022-03-08  0.018784 -0.007652 -0.001671 -0.002995  0.026043  \n",
              "\n",
              "[5840 rows x 11 columns]"
            ]
          },
          "metadata": {},
          "execution_count": 3
        }
      ]
    },
    {
      "cell_type": "code",
      "source": [
        "# 2.1 Select 2 of the Select SPDR ETFs. Form an equally weighted portfolio of these 2 securities."
      ],
      "metadata": {
        "id": "68rYxAuvsDNK"
      },
      "id": "68rYxAuvsDNK",
      "execution_count": 4,
      "outputs": []
    },
    {
      "cell_type": "code",
      "source": [
        "etfs =['XLK','XLI']\n",
        "# giving equal weights\n",
        "Weights=np.array([0.5,0.5])\n",
        "combine_returns = returns[etfs]\n",
        "combine_returns['EWP'] = combine_returns[etfs].dot(Weights)\n",
        "#plot performance of individual and combined\n",
        "combine_plot = ( 1+ combine_returns).cumprod()\n",
        "combine_plot.plot()"
      ],
      "metadata": {
        "colab": {
          "base_uri": "https://localhost:8080/",
          "height": 290
        },
        "id": "Me8AZD7CsDR-",
        "outputId": "18bd61de-4644-4658-d9f8-82e4ac41a75c"
      },
      "id": "Me8AZD7CsDR-",
      "execution_count": 5,
      "outputs": [
        {
          "output_type": "execute_result",
          "data": {
            "text/plain": [
              "<matplotlib.axes._subplots.AxesSubplot at 0x7f85d3519e50>"
            ]
          },
          "metadata": {},
          "execution_count": 5
        },
        {
          "output_type": "display_data",
          "data": {
            "image/png": "[encoded data removed]",
            "text/plain": [
              "<Figure size 432x288 with 1 Axes>"
            ]
          },
          "metadata": {
            "needs_background": "light"
          }
        }
      ]
    },
    {
      "cell_type": "code",
      "source": [
        "# 2.2 Compute the standard deviation of each of the securities"
      ],
      "metadata": {
        "id": "aIMhRRQOsDWE"
      },
      "id": "aIMhRRQOsDWE",
      "execution_count": 6,
      "outputs": []
    },
    {
      "cell_type": "code",
      "source": [
        "combine_returns.std()"
      ],
      "metadata": {
        "colab": {
          "base_uri": "https://localhost:8080/"
        },
        "id": "QWo3pMoisDcN",
        "outputId": "ad98ba3a-5015-4ea1-8cda-ea60da620acd"
      },
      "id": "QWo3pMoisDcN",
      "execution_count": 7,
      "outputs": [
        {
          "output_type": "execute_result",
          "data": {
            "text/plain": [
              "XLK    0.016375\n",
              "XLI    0.013644\n",
              "EWP    0.013962\n",
              "dtype: float64"
            ]
          },
          "metadata": {},
          "execution_count": 7
        }
      ]
    },
    {
      "cell_type": "code",
      "source": [
        "#2.3 Compute the correlation between the securities"
      ],
      "metadata": {
        "id": "c9-uwB3esDiK"
      },
      "id": "c9-uwB3esDiK",
      "execution_count": 8,
      "outputs": []
    },
    {
      "cell_type": "code",
      "source": [
        "combine_returns.corr()\n"
      ],
      "metadata": {
        "colab": {
          "base_uri": "https://localhost:8080/",
          "height": 144
        },
        "id": "-sdXD7rJsDk7",
        "outputId": "b02e6d05-e228-4777-8405-2a0f81ff2041"
      },
      "id": "-sdXD7rJsDk7",
      "execution_count": 9,
      "outputs": [
        {
          "output_type": "execute_result",
          "data": {
            "text/html": [
              "\n",
              "  <div id=\"df-ab61bfaa-665e-4555-8fc3-ae9c87e43afc\">\n",
              "    <div class=\"colab-df-container\">\n",
              "      <div>\n",
              "<style scoped>\n",
              "    .dataframe tbody tr th:only-of-type {\n",
              "        vertical-align: middle;\n",
              "    }\n",
              "\n",
              "    .dataframe tbody tr th {\n",
              "        vertical-align: top;\n",
              "    }\n",
              "\n",
              "    .dataframe thead th {\n",
              "        text-align: right;\n",
              "    }\n",
              "</style>\n",
              "<table border=\"1\" class=\"dataframe\">\n",
              "  <thead>\n",
              "    <tr style=\"text-align: right;\">\n",
              "      <th></th>\n",
              "      <th>XLK</th>\n",
              "      <th>XLI</th>\n",
              "      <th>EWP</th>\n",
              "    </tr>\n",
              "  </thead>\n",
              "  <tbody>\n",
              "    <tr>\n",
              "      <th>XLK</th>\n",
              "      <td>1.000000</td>\n",
              "      <td>0.728304</td>\n",
              "      <td>0.942282</td>\n",
              "    </tr>\n",
              "    <tr>\n",
              "      <th>XLI</th>\n",
              "      <td>0.728304</td>\n",
              "      <td>1.000000</td>\n",
              "      <td>0.915705</td>\n",
              "    </tr>\n",
              "    <tr>\n",
              "      <th>EWP</th>\n",
              "      <td>0.942282</td>\n",
              "      <td>0.915705</td>\n",
              "      <td>1.000000</td>\n",
              "    </tr>\n",
              "  </tbody>\n",
              "</table>\n",
              "</div>\n",
              "      <button class=\"colab-df-convert\" onclick=\"convertToInteractive('df-ab61bfaa-665e-4555-8fc3-ae9c87e43afc')\"\n",
              "              title=\"Convert this dataframe to an interactive table.\"\n",
              "              style=\"display:none;\">\n",
              "        \n",
              "  <svg xmlns=\"http://www.w3.org/2000/svg\" height=\"24px\"viewBox=\"0 0 24 24\"\n",
              "       width=\"24px\">\n",
              "    <path d=\"M0 0h24v24H0V0z\" fill=\"none\"/>\n",
              "    <path d=\"M18.56 5.44l.94 2.06.94-2.06 2.06-.94-2.06-.94-.94-2.06-.94 2.06-2.06.94zm-11 1L8.5 8.5l.94-2.06 2.06-.94-2.06-.94L8.5 2.5l-.94 2.06-2.06.94zm10 10l.94 2.06.94-2.06 2.06-.94-2.06-.94-.94-2.06-.94 2.06-2.06.94z\"/><path d=\"M17.41 7.96l-1.37-1.37c-.4-.4-.92-.59-1.43-.59-.52 0-1.04.2-1.43.59L10.3 9.45l-7.72 7.72c-.78.78-.78 2.05 0 2.83L4 21.41c.39.39.9.59 1.41.59.51 0 1.02-.2 1.41-.59l7.78-7.78 2.81-2.81c.8-.78.8-2.07 0-2.86zM5.41 20L4 18.59l7.72-7.72 1.47 1.35L5.41 20z\"/>\n",
              "  </svg>\n",
              "      </button>\n",
              "      \n",
              "  <style>\n",
              "    .colab-df-container {\n",
              "      display:flex;\n",
              "      flex-wrap:wrap;\n",
              "      gap: 12px;\n",
              "    }\n",
              "\n",
              "    .colab-df-convert {\n",
              "      background-color: #E8F0FE;\n",
              "      border: none;\n",
              "      border-radius: 50%;\n",
              "      cursor: pointer;\n",
              "      display: none;\n",
              "      fill: #1967D2;\n",
              "      height: 32px;\n",
              "      padding: 0 0 0 0;\n",
              "      width: 32px;\n",
              "    }\n",
              "\n",
              "    .colab-df-convert:hover {\n",
              "      background-color: #E2EBFA;\n",
              "      box-shadow: 0px 1px 2px rgba(60, 64, 67, 0.3), 0px 1px 3px 1px rgba(60, 64, 67, 0.15);\n",
              "      fill: #174EA6;\n",
              "    }\n",
              "\n",
              "    [theme=dark] .colab-df-convert {\n",
              "      background-color: #3B4455;\n",
              "      fill: #D2E3FC;\n",
              "    }\n",
              "\n",
              "    [theme=dark] .colab-df-convert:hover {\n",
              "      background-color: #434B5C;\n",
              "      box-shadow: 0px 1px 3px 1px rgba(0, 0, 0, 0.15);\n",
              "      filter: drop-shadow(0px 1px 2px rgba(0, 0, 0, 0.3));\n",
              "      fill: #FFFFFF;\n",
              "    }\n",
              "  </style>\n",
              "\n",
              "      <script>\n",
              "        const buttonEl =\n",
              "          document.querySelector('#df-ab61bfaa-665e-4555-8fc3-ae9c87e43afc button.colab-df-convert');\n",
              "        buttonEl.style.display =\n",
              "          google.colab.kernel.accessAllowed ? 'block' : 'none';\n",
              "\n",
              "        async function convertToInteractive(key) {\n",
              "          const element = document.querySelector('#df-ab61bfaa-665e-4555-8fc3-ae9c87e43afc');\n",
              "          const dataTable =\n",
              "            await google.colab.kernel.invokeFunction('convertToInteractive',\n",
              "                                                     [key], {});\n",
              "          if (!dataTable) return;\n",
              "\n",
              "          const docLinkHtml = 'Like what you see? Visit the ' +\n",
              "            '<a target=\"_blank\" href=https://colab.research.google.com/notebooks/data_table.ipynb>data table notebook</a>'\n",
              "            + ' to learn more about interactive tables.';\n",
              "          element.innerHTML = '';\n",
              "          dataTable['output_type'] = 'display_data';\n",
              "          await google.colab.output.renderOutput(dataTable, element);\n",
              "          const docLink = document.createElement('div');\n",
              "          docLink.innerHTML = docLinkHtml;\n",
              "          element.appendChild(docLink);\n",
              "        }\n",
              "      </script>\n",
              "    </div>\n",
              "  </div>\n",
              "  "
            ],
            "text/plain": [
              "          XLK       XLI       EWP\n",
              "XLK  1.000000  0.728304  0.942282\n",
              "XLI  0.728304  1.000000  0.915705\n",
              "EWP  0.942282  0.915705  1.000000"
            ]
          },
          "metadata": {},
          "execution_count": 9
        }
      ]
    },
    {
      "cell_type": "code",
      "source": [
        "#2.4 Write a function that computes the weighted return of a portfolio."
      ],
      "metadata": {
        "id": "AvCe0QS7sDpw"
      },
      "id": "AvCe0QS7sDpw",
      "execution_count": 10,
      "outputs": []
    },
    {
      "cell_type": "code",
      "source": [
        "def weighted_returns(item_returns, weights):\n",
        "  return item_returns.dot(weights).mean()"
      ],
      "metadata": {
        "id": "oxNIBKfIrQVw"
      },
      "id": "oxNIBKfIrQVw",
      "execution_count": 11,
      "outputs": []
    },
    {
      "cell_type": "code",
      "source": [
        "#2.5 Write a function that computes the portfolio standard deviation."
      ],
      "metadata": {
        "id": "eu6Bv-h1sWlq"
      },
      "id": "eu6Bv-h1sWlq",
      "execution_count": 12,
      "outputs": []
    },
    {
      "cell_type": "code",
      "source": [
        "def standard_deviation(item_returns, weights, correlation='actual'):\n",
        "  covariance_matrix  = item_returns.cov()\n",
        "  if correlation != 'actual':\n",
        "    # calculated covariance from correlation\n",
        "    ex_covar = correlation * item_returns.std().prod()\n",
        "    covariance_matrix.iloc[1,0] = covariance_matrix.iloc[0,1] = ex_covar\n",
        "  return np.sqrt(weights.dot(covariance_matrix).dot(weights))"
      ],
      "metadata": {
        "id": "FngQuAbssWrL"
      },
      "id": "FngQuAbssWrL",
      "execution_count": 13,
      "outputs": []
    },
    {
      "cell_type": "code",
      "source": [
        "# 3.1 Write a function showing the efficient frontier (EF) of your portfolio. Be sure to vary the weights of the security from (0, 100%), (1%, 99%), … (100%,0%)."
      ],
      "metadata": {
        "id": "4e-DDY2PsWw7"
      },
      "id": "4e-DDY2PsWw7",
      "execution_count": 14,
      "outputs": []
    },
    {
      "cell_type": "code",
      "source": [
        "weighted_returns(combine_returns[etfs],Weights), standard_deviation(combine_returns[etfs],Weights)"
      ],
      "metadata": {
        "colab": {
          "base_uri": "https://localhost:8080/"
        },
        "id": "bsicgvhIsW2H",
        "outputId": "5a3fbc3d-f607-4e9e-f503-4d3e9ad30e37"
      },
      "id": "bsicgvhIsW2H",
      "execution_count": 15,
      "outputs": [
        {
          "output_type": "execute_result",
          "data": {
            "text/plain": [
              "(0.000425742107655545, 0.013962092667750335)"
            ]
          },
          "metadata": {},
          "execution_count": 15
        }
      ]
    },
    {
      "cell_type": "code",
      "source": [
        "import matplotlib.pyplot as plt\n",
        "def EF(returns, corr='actual'):\n",
        "  efs_data=pd.DataFrame()\n",
        "  for ranges in np.arange(0,1.01,0.02):\n",
        "    weighted=np.array([ranges,1-ranges])\n",
        "    efs_data.loc[ranges,'Return']= weighted_returns(returns,weighted)*252\n",
        "    efs_data.loc[ranges,'StDev'] = standard_deviation(returns,weighted, corr)*np.sqrt(252)\n",
        "  plt.plot(efs_data.StDev,efs_data.Return, label = 'correlation =' + (str(np.round(returns.corr().iloc[0,1],3))) + \"(Actual)\" if corr == 'actual' else str(corr))\n",
        "  plt.title('EF')\n",
        "  plt.xlabel('STD')\n",
        "  plt.ylabel('Returns')\n",
        "  plt.legend()"
      ],
      "metadata": {
        "id": "0R82LE4fsW7W"
      },
      "id": "0R82LE4fsW7W",
      "execution_count": 16,
      "outputs": []
    },
    {
      "cell_type": "code",
      "source": [
        "# returns of 2 ETFs\n",
        "both=combine_returns[etfs]\n",
        "EF(both)"
      ],
      "metadata": {
        "colab": {
          "base_uri": "https://localhost:8080/",
          "height": 295
        },
        "id": "kDGQ7VhxsgWz",
        "outputId": "4e52bd51-383b-46d7-fc85-87aa577cf1d3"
      },
      "id": "kDGQ7VhxsgWz",
      "execution_count": 17,
      "outputs": [
        {
          "output_type": "display_data",
          "data": {
            "image/png": "[encoded data removed]",
            "text/plain": [
              "<Figure size 432x288 with 1 Axes>"
            ]
          },
          "metadata": {
            "needs_background": "light"
          }
        }
      ]
    },
    {
      "cell_type": "code",
      "source": [
        "#3.2 What is the leftmost point of the EF called?"
      ],
      "metadata": {
        "id": "BxEwcWHvsgd3"
      },
      "id": "BxEwcWHvsgd3",
      "execution_count": 18,
      "outputs": []
    },
    {
      "cell_type": "markdown",
      "source": [
        "Answer: Minimum Variance Portfolio"
      ],
      "metadata": {
        "id": "95mlFJSXsgkq"
      },
      "id": "95mlFJSXsgkq"
    },
    {
      "cell_type": "code",
      "source": [
        "# 3.3 Rerun your function, but pretend the correlation between the securities is -1. Graph the EF. Comment on the shape"
      ],
      "metadata": {
        "id": "AeK3JHrFsgqK"
      },
      "id": "AeK3JHrFsgqK",
      "execution_count": 19,
      "outputs": []
    },
    {
      "cell_type": "code",
      "source": [
        "EF(both)\n",
        "EF(both, corr= -1)"
      ],
      "metadata": {
        "colab": {
          "base_uri": "https://localhost:8080/",
          "height": 295
        },
        "id": "oa8Th2nosgv9",
        "outputId": "453c0b6a-4669-48c6-8d1e-b5803c12a669"
      },
      "id": "oa8Th2nosgv9",
      "execution_count": 20,
      "outputs": [
        {
          "output_type": "display_data",
          "data": {
            "image/png": "[encoded data removed]",
            "text/plain": [
              "<Figure size 432x288 with 1 Axes>"
            ]
          },
          "metadata": {
            "needs_background": "light"
          }
        }
      ]
    },
    {
      "cell_type": "markdown",
      "source": [
        "The slight Straight line show the EF with the perfect correlation"
      ],
      "metadata": {
        "id": "bAXNeQgfsg1I"
      },
      "id": "bAXNeQgfsg1I"
    },
    {
      "cell_type": "code",
      "source": [
        "# 3.4 Return your function, but pretend the correlation between the securities is 0. Graph the EF. Comment on the shape."
      ],
      "metadata": {
        "id": "4Ygna5xxsg5-"
      },
      "id": "4Ygna5xxsg5-",
      "execution_count": 22,
      "outputs": []
    },
    {
      "cell_type": "code",
      "source": [
        "EF(both)\n",
        "EF(both, corr= -1)\n",
        "EF(both, corr= 0)"
      ],
      "metadata": {
        "colab": {
          "base_uri": "https://localhost:8080/",
          "height": 295
        },
        "id": "ifGoTSTcswfJ",
        "outputId": "36fbe5c9-6b22-4a8d-fa27-5d00a91371d0"
      },
      "id": "ifGoTSTcswfJ",
      "execution_count": 23,
      "outputs": [
        {
          "output_type": "display_data",
          "data": {
            "image/png": "[encoded data removed]",
            "text/plain": [
              "<Figure size 432x288 with 1 Axes>"
            ]
          },
          "metadata": {
            "needs_background": "light"
          }
        }
      ]
    },
    {
      "cell_type": "markdown",
      "source": [
        "The zero-correlation EF is located between the actual-correlation 0.728 EF and the perfectly negative correlation EF."
      ],
      "metadata": {
        "id": "xQpKWdzkswkQ"
      },
      "id": "xQpKWdzkswkQ"
    },
    {
      "cell_type": "code",
      "source": [
        "# 3.5 Return your function, but pretend the correlation between the securities is 1. Graph the EF. Comment on the shape."
      ],
      "metadata": {
        "id": "CsjLMsP1swpD"
      },
      "id": "CsjLMsP1swpD",
      "execution_count": 24,
      "outputs": []
    },
    {
      "cell_type": "code",
      "source": [
        "EF(both)\n",
        "EF(both, corr= -1)\n",
        "EF(both, corr= 0)\n",
        "EF(both, corr= 1)"
      ],
      "metadata": {
        "colab": {
          "base_uri": "https://localhost:8080/",
          "height": 295
        },
        "id": "pUKbK_Tgswt-",
        "outputId": "7b15eb6a-2c76-41b5-a842-84f5d577f663"
      },
      "id": "pUKbK_Tgswt-",
      "execution_count": 25,
      "outputs": [
        {
          "output_type": "display_data",
          "data": {
            "image/png": "[encoded data removed]",
            "text/plain": [
              "<Figure size 432x288 with 1 Axes>"
            ]
          },
          "metadata": {
            "needs_background": "light"
          }
        }
      ]
    },
    {
      "cell_type": "markdown",
      "source": [
        "The negative correlation EF is connected by a perfect correlation of EF.\n"
      ],
      "metadata": {
        "id": "qTgefP53swyM"
      },
      "id": "qTgefP53swyM"
    },
    {
      "cell_type": "code",
      "source": [
        "# 3.6 Apply 5% trim to the data. Recompute the correlation. Return the EF."
      ],
      "metadata": {
        "id": "TqAX0N7Is8hh"
      },
      "id": "TqAX0N7Is8hh",
      "execution_count": 26,
      "outputs": []
    },
    {
      "cell_type": "code",
      "source": [
        "#%5 and 95% - triming\n",
        "quartile_5, quartile_95 = np.quantile(combine_returns.EWP.dropna(),[0.05,0.95], axis=0)\n",
        "trimmed_returns = combine_returns[((combine_returns.EWP>quartile_5) & (combine_returns.EWP<quartile_95))]\n",
        "trimmed_returns = trimmed_returns[etfs]\n",
        "correlation_trimmed = trimmed_returns.corr().iloc[0,1]# trimmed correlation\n",
        "\n",
        "print('trimmed correlation:',correlation_trimmed)\n",
        "EF(trimmed_returns,correlation_trimmed)\n",
        "EF(both)"
      ],
      "metadata": {
        "colab": {
          "base_uri": "https://localhost:8080/",
          "height": 314
        },
        "id": "q3WrXDeRs8lP",
        "outputId": "442eedd5-0f99-402e-c3e2-012c866b4efa"
      },
      "id": "q3WrXDeRs8lP",
      "execution_count": 27,
      "outputs": [
        {
          "output_type": "stream",
          "name": "stdout",
          "text": [
            "trimmed correlation: 0.5148516566801072\n"
          ]
        },
        {
          "output_type": "display_data",
          "data": {
            "image/png": "[encoded data removed]",
            "text/plain": [
              "<Figure size 432x288 with 1 Axes>"
            ]
          },
          "metadata": {
            "needs_background": "light"
          }
        }
      ]
    },
    {
      "cell_type": "code",
      "source": [
        "# 3.7 How does the EF from the actual data compare to the EF from the trimmed data?"
      ],
      "metadata": {
        "id": "MTXnyDwms8pP"
      },
      "id": "MTXnyDwms8pP",
      "execution_count": 28,
      "outputs": []
    },
    {
      "cell_type": "markdown",
      "source": [
        "Answer: The correlation of the actual is much better than the correlation of the trimmed."
      ],
      "metadata": {
        "id": "5spNyY7ks8tC"
      },
      "id": "5spNyY7ks8tC"
    },
    {
      "cell_type": "code",
      "source": [
        "#3.8 Use a robust method of portfolio (see FRAPO R Library or pyportfolioopt Python module, for example).\n",
        "#3.10 How does this EF compare with the other 2"
      ],
      "metadata": {
        "id": "j53-EJnKs8yX"
      },
      "id": "j53-EJnKs8yX",
      "execution_count": 30,
      "outputs": []
    },
    {
      "cell_type": "code",
      "source": [
        "%%capture\n",
        "!pip install PyPortfolioOpt\n",
        "\n",
        "from pypfopt.expected_returns import mean_historical_return\n",
        "from pypfopt.risk_models import sample_cov, CovarianceShrinkage\n",
        "from pypfopt.efficient_frontier import EfficientFrontier\n",
        "import pypfopt as pf\n",
        "from pypfopt import plotting"
      ],
      "metadata": {
        "id": "3ejXvDMss82J"
      },
      "id": "3ejXvDMss82J",
      "execution_count": 31,
      "outputs": []
    },
    {
      "cell_type": "code",
      "source": [
        "#mean returns (annual)\n",
        "etf_prices=etfsPrices[etfs] # taking same common etfs used before\n",
        "mean_value = mean_historical_return(etf_prices,compounding=False)\n",
        "# covar matrix (shrink)\n",
        "Shrink = CovarianceShrinkage(etf_prices).ledoit_wolf()\n",
        "EF_shrink = EfficientFrontier(mean_value,Shrink)\n",
        "# covariance shrinkage EF\n",
        "plotting.plot_efficient_frontier(EF_shrink)\n",
        "EF(both)\n",
        "EF(both, corr= -1)\n",
        "EF(both, corr= 0)\n",
        "EF(both, corr= 1)"
      ],
      "metadata": {
        "colab": {
          "base_uri": "https://localhost:8080/",
          "height": 313
        },
        "id": "lth7n2J5s867",
        "outputId": "6fb29ae8-397f-492c-e15a-1db6b0049d22"
      },
      "id": "lth7n2J5s867",
      "execution_count": 32,
      "outputs": [
        {
          "output_type": "display_data",
          "data": {
            "image/png": "[encoded data removed]",
            "text/plain": [
              "<Figure size 432x288 with 1 Axes>"
            ]
          },
          "metadata": {
            "needs_background": "light"
          }
        }
      ]
    },
    {
      "cell_type": "markdown",
      "source": [
        "The addition of robust estimation of covariance matrix hasn't resulted in a significant change in the output."
      ],
      "metadata": {
        "id": "jzypdFars88-"
      },
      "id": "jzypdFars88-"
    },
    {
      "cell_type": "code",
      "source": [
        "# 4.1 Add 1 ETF to your portfolio. Calculate the correlation matrix for 3 ETFs chosen."
      ],
      "metadata": {
        "id": "ho7haHnYs8_s"
      },
      "id": "ho7haHnYs8_s",
      "execution_count": 34,
      "outputs": []
    },
    {
      "cell_type": "code",
      "source": [
        "three_etfs =['XLK','XLI','XLY']\n",
        "W3=np.array([1/3]*3) #equal weights\n",
        "rets3 = returns[three_etfs].copy()\n",
        "rets3.corr()"
      ],
      "metadata": {
        "colab": {
          "base_uri": "https://localhost:8080/",
          "height": 144
        },
        "id": "NhkoeVm6tTux",
        "outputId": "85cd9775-19ef-4e02-eecc-882d7ced0e0a"
      },
      "id": "NhkoeVm6tTux",
      "execution_count": 35,
      "outputs": [
        {
          "output_type": "execute_result",
          "data": {
            "text/html": [
              "\n",
              "  <div id=\"df-1b264ca9-9f30-476d-8d8d-fa3f086fd949\">\n",
              "    <div class=\"colab-df-container\">\n",
              "      <div>\n",
              "<style scoped>\n",
              "    .dataframe tbody tr th:only-of-type {\n",
              "        vertical-align: middle;\n",
              "    }\n",
              "\n",
              "    .dataframe tbody tr th {\n",
              "        vertical-align: top;\n",
              "    }\n",
              "\n",
              "    .dataframe thead th {\n",
              "        text-align: right;\n",
              "    }\n",
              "</style>\n",
              "<table border=\"1\" class=\"dataframe\">\n",
              "  <thead>\n",
              "    <tr style=\"text-align: right;\">\n",
              "      <th></th>\n",
              "      <th>XLK</th>\n",
              "      <th>XLI</th>\n",
              "      <th>XLY</th>\n",
              "    </tr>\n",
              "  </thead>\n",
              "  <tbody>\n",
              "    <tr>\n",
              "      <th>XLK</th>\n",
              "      <td>1.000000</td>\n",
              "      <td>0.728304</td>\n",
              "      <td>0.724750</td>\n",
              "    </tr>\n",
              "    <tr>\n",
              "      <th>XLI</th>\n",
              "      <td>0.728304</td>\n",
              "      <td>1.000000</td>\n",
              "      <td>0.810757</td>\n",
              "    </tr>\n",
              "    <tr>\n",
              "      <th>XLY</th>\n",
              "      <td>0.724750</td>\n",
              "      <td>0.810757</td>\n",
              "      <td>1.000000</td>\n",
              "    </tr>\n",
              "  </tbody>\n",
              "</table>\n",
              "</div>\n",
              "      <button class=\"colab-df-convert\" onclick=\"convertToInteractive('df-1b264ca9-9f30-476d-8d8d-fa3f086fd949')\"\n",
              "              title=\"Convert this dataframe to an interactive table.\"\n",
              "              style=\"display:none;\">\n",
              "        \n",
              "  <svg xmlns=\"http://www.w3.org/2000/svg\" height=\"24px\"viewBox=\"0 0 24 24\"\n",
              "       width=\"24px\">\n",
              "    <path d=\"M0 0h24v24H0V0z\" fill=\"none\"/>\n",
              "    <path d=\"M18.56 5.44l.94 2.06.94-2.06 2.06-.94-2.06-.94-.94-2.06-.94 2.06-2.06.94zm-11 1L8.5 8.5l.94-2.06 2.06-.94-2.06-.94L8.5 2.5l-.94 2.06-2.06.94zm10 10l.94 2.06.94-2.06 2.06-.94-2.06-.94-.94-2.06-.94 2.06-2.06.94z\"/><path d=\"M17.41 7.96l-1.37-1.37c-.4-.4-.92-.59-1.43-.59-.52 0-1.04.2-1.43.59L10.3 9.45l-7.72 7.72c-.78.78-.78 2.05 0 2.83L4 21.41c.39.39.9.59 1.41.59.51 0 1.02-.2 1.41-.59l7.78-7.78 2.81-2.81c.8-.78.8-2.07 0-2.86zM5.41 20L4 18.59l7.72-7.72 1.47 1.35L5.41 20z\"/>\n",
              "  </svg>\n",
              "      </button>\n",
              "      \n",
              "  <style>\n",
              "    .colab-df-container {\n",
              "      display:flex;\n",
              "      flex-wrap:wrap;\n",
              "      gap: 12px;\n",
              "    }\n",
              "\n",
              "    .colab-df-convert {\n",
              "      background-color: #E8F0FE;\n",
              "      border: none;\n",
              "      border-radius: 50%;\n",
              "      cursor: pointer;\n",
              "      display: none;\n",
              "      fill: #1967D2;\n",
              "      height: 32px;\n",
              "      padding: 0 0 0 0;\n",
              "      width: 32px;\n",
              "    }\n",
              "\n",
              "    .colab-df-convert:hover {\n",
              "      background-color: #E2EBFA;\n",
              "      box-shadow: 0px 1px 2px rgba(60, 64, 67, 0.3), 0px 1px 3px 1px rgba(60, 64, 67, 0.15);\n",
              "      fill: #174EA6;\n",
              "    }\n",
              "\n",
              "    [theme=dark] .colab-df-convert {\n",
              "      background-color: #3B4455;\n",
              "      fill: #D2E3FC;\n",
              "    }\n",
              "\n",
              "    [theme=dark] .colab-df-convert:hover {\n",
              "      background-color: #434B5C;\n",
              "      box-shadow: 0px 1px 3px 1px rgba(0, 0, 0, 0.15);\n",
              "      filter: drop-shadow(0px 1px 2px rgba(0, 0, 0, 0.3));\n",
              "      fill: #FFFFFF;\n",
              "    }\n",
              "  </style>\n",
              "\n",
              "      <script>\n",
              "        const buttonEl =\n",
              "          document.querySelector('#df-1b264ca9-9f30-476d-8d8d-fa3f086fd949 button.colab-df-convert');\n",
              "        buttonEl.style.display =\n",
              "          google.colab.kernel.accessAllowed ? 'block' : 'none';\n",
              "\n",
              "        async function convertToInteractive(key) {\n",
              "          const element = document.querySelector('#df-1b264ca9-9f30-476d-8d8d-fa3f086fd949');\n",
              "          const dataTable =\n",
              "            await google.colab.kernel.invokeFunction('convertToInteractive',\n",
              "                                                     [key], {});\n",
              "          if (!dataTable) return;\n",
              "\n",
              "          const docLinkHtml = 'Like what you see? Visit the ' +\n",
              "            '<a target=\"_blank\" href=https://colab.research.google.com/notebooks/data_table.ipynb>data table notebook</a>'\n",
              "            + ' to learn more about interactive tables.';\n",
              "          element.innerHTML = '';\n",
              "          dataTable['output_type'] = 'display_data';\n",
              "          await google.colab.output.renderOutput(dataTable, element);\n",
              "          const docLink = document.createElement('div');\n",
              "          docLink.innerHTML = docLinkHtml;\n",
              "          element.appendChild(docLink);\n",
              "        }\n",
              "      </script>\n",
              "    </div>\n",
              "  </div>\n",
              "  "
            ],
            "text/plain": [
              "          XLK       XLI       XLY\n",
              "XLK  1.000000  0.728304  0.724750\n",
              "XLI  0.728304  1.000000  0.810757\n",
              "XLY  0.724750  0.810757  1.000000"
            ]
          },
          "metadata": {},
          "execution_count": 35
        }
      ]
    },
    {
      "cell_type": "code",
      "source": [
        "triple=rets3[three_etfs]"
      ],
      "metadata": {
        "id": "ArZVMNk8tTzL"
      },
      "id": "ArZVMNk8tTzL",
      "execution_count": 36,
      "outputs": []
    },
    {
      "cell_type": "code",
      "source": [
        "# 4.2 Graph the efficeint frontier of this 3-security portfolio."
      ],
      "metadata": {
        "id": "8ptmmeN4tT3j"
      },
      "id": "8ptmmeN4tT3j",
      "execution_count": 37,
      "outputs": []
    },
    {
      "cell_type": "code",
      "source": [
        "etf_prices=etfsPrices[three_etfs] # taking same common etfs used before\n",
        "mean_value = mean_historical_return(etf_prices,compounding=False)\n",
        "# covar matrix (shrink)\n",
        "Shrink = CovarianceShrinkage(etf_prices).ledoit_wolf()\n",
        "EF_shrink = EfficientFrontier(mean_value,Shrink)\n",
        "# covariance shrinkage EF\n",
        "plotting.plot_efficient_frontier(EF_shrink)"
      ],
      "metadata": {
        "colab": {
          "base_uri": "https://localhost:8080/",
          "height": 315
        },
        "id": "XHCmEnictT80",
        "outputId": "422e6b4e-d4f5-42cf-f049-0d8b18f535fe"
      },
      "id": "XHCmEnictT80",
      "execution_count": 38,
      "outputs": [
        {
          "output_type": "execute_result",
          "data": {
            "text/plain": [
              "<matplotlib.axes._subplots.AxesSubplot at 0x7f85bb3c94d0>"
            ]
          },
          "metadata": {},
          "execution_count": 38
        },
        {
          "output_type": "display_data",
          "data": {
            "image/png": "[encoded data removed]",
            "text/plain": [
              "<Figure size 432x288 with 1 Axes>"
            ]
          },
          "metadata": {
            "needs_background": "light"
          }
        }
      ]
    },
    {
      "cell_type": "code",
      "source": [
        "# 4.3 Is there a diversification benefits to adding Security? "
      ],
      "metadata": {
        "id": "6-VQz0YLtUAH"
      },
      "id": "6-VQz0YLtUAH",
      "execution_count": null,
      "outputs": []
    },
    {
      "cell_type": "markdown",
      "source": [
        "Yes, there is a diversification benefits.\n"
      ],
      "metadata": {
        "id": "CUKPWSLftUEE"
      },
      "id": "CUKPWSLftUEE"
    },
    {
      "cell_type": "code",
      "execution_count": null,
      "id": "7ace0ea9-b868-4eb5-b116-56addeb3749e",
      "metadata": {
        "tags": [],
        "id": "7ace0ea9-b868-4eb5-b116-56addeb3749e"
      },
      "outputs": [],
      "source": [
        "from itertools import combinations\n",
        "from scipy.optimize import curve_fit\n",
        "from scipy.optimize import differential_evolution\n",
        "from sklearn.decomposition import PCA\n",
        "from sklearn.preprocessing import StandardScaler\n",
        "\n",
        "from pypfopt.expected_returns import mean_historical_return\n",
        "from pypfopt import efficient_frontier\n",
        "from pypfopt.risk_models import sample_cov, CovarianceShrinkage\n",
        "#from pypfopt import hierarchical_portfolio\n",
        "from pypfopt import cla"
      ]
    },
    {
      "cell_type": "markdown",
      "id": "9dddb8e9-5eda-4876-a05d-809e9562fe01",
      "metadata": {
        "tags": [],
        "id": "9dddb8e9-5eda-4876-a05d-809e9562fe01"
      },
      "source": [
        "## Part 5: Category 3 Portfolios:  All Combinations"
      ]
    },
    {
      "cell_type": "markdown",
      "id": "efa927a0-5155-4e44-84c4-8e7e6960746b",
      "metadata": {
        "id": "efa927a0-5155-4e44-84c4-8e7e6960746b"
      },
      "source": [
        "### 5.1 Use 2019 daily return data. Apply a robust method of calculating the efficient frontier for all 165 (11 choose 3) combinations of 3 Select SPDR portfolios.  DO NOT GRAPH THESE!  You are allowed to be short securities. Call these the trained portfolios.\n",
        "\n",
        "### 5.2 Assume a fixed amount of risk.  Use each portfolio's EF to determine the weights of each of the 3 securities."
      ]
    },
    {
      "cell_type": "markdown",
      "id": "07134f50-1a23-4dc3-8024-50518865f734",
      "metadata": {
        "id": "07134f50-1a23-4dc3-8024-50518865f734"
      },
      "source": [
        "#### Critical Line Algorithm (Robust Approach) to Derive Efficient Frontier and Determine Weights for the Trained Portfolios"
      ]
    },
    {
      "cell_type": "markdown",
      "id": "55124e18-02e4-4317-8e4f-28c8e8eafe2f",
      "metadata": {
        "id": "55124e18-02e4-4317-8e4f-28c8e8eafe2f"
      },
      "source": [
        "Daily adjusted closing price data for 2019 is imported for the following ETFs covering 11 US sectors, based on which dialy log returns are calculated. \n",
        "- IYR: iShares U.S. Real Estate ETF\n",
        "- IYZ: iShares U.S. Telecommunications ETF\n",
        "- XLB: Materials Select Sector SPDR Fund\n",
        "- XLE: Energy Select Sector SPDR Fund\n",
        "- XLF: Financial Select Sector SPDR Fund\n",
        "- XLI: Industrial Select Sector SPDR Fund\n",
        "- XLK: Technology Select Sector SPDR Fund\n",
        "- XLP: Consumer Staples Select Sector SPDR Fund\n",
        "- XLU: Utilities Select Sector SPDR Fund\n",
        "- XLV: Health Care Select Sector SPDR Fund\n",
        "- XLY: Consumer Discretionary Select Sector SPDR Fund\n",
        "\n",
        "The above ETFs were also used in Submission 1, for categorisation into the LEI, CEI and LAG buckets."
      ]
    },
    {
      "cell_type": "code",
      "execution_count": null,
      "id": "e537b9fa-f8b6-4576-8fe9-a53fec7f15ad",
      "metadata": {
        "id": "e537b9fa-f8b6-4576-8fe9-a53fec7f15ad",
        "outputId": "b7924285-e047-4799-b026-8457f83a2ead"
      },
      "outputs": [
        {
          "name": "stdout",
          "output_type": "stream",
          "text": [
            "[*********************100%***********************]  11 of 11 completed\n"
          ]
        },
        {
          "data": {
            "text/html": [
              "<div>\n",
              "<style scoped>\n",
              "    .dataframe tbody tr th:only-of-type {\n",
              "        vertical-align: middle;\n",
              "    }\n",
              "\n",
              "    .dataframe tbody tr th {\n",
              "        vertical-align: top;\n",
              "    }\n",
              "\n",
              "    .dataframe thead th {\n",
              "        text-align: right;\n",
              "    }\n",
              "</style>\n",
              "<table border=\"1\" class=\"dataframe\">\n",
              "  <thead>\n",
              "    <tr style=\"text-align: right;\">\n",
              "      <th></th>\n",
              "      <th>IYR</th>\n",
              "      <th>IYZ</th>\n",
              "      <th>XLB</th>\n",
              "      <th>XLE</th>\n",
              "      <th>XLF</th>\n",
              "      <th>XLI</th>\n",
              "      <th>XLK</th>\n",
              "      <th>XLP</th>\n",
              "      <th>XLU</th>\n",
              "      <th>XLV</th>\n",
              "      <th>XLY</th>\n",
              "    </tr>\n",
              "    <tr>\n",
              "      <th>Date</th>\n",
              "      <th></th>\n",
              "      <th></th>\n",
              "      <th></th>\n",
              "      <th></th>\n",
              "      <th></th>\n",
              "      <th></th>\n",
              "      <th></th>\n",
              "      <th></th>\n",
              "      <th></th>\n",
              "      <th></th>\n",
              "      <th></th>\n",
              "    </tr>\n",
              "  </thead>\n",
              "  <tbody>\n",
              "    <tr>\n",
              "      <th>2018-12-31</th>\n",
              "      <td>68.897202</td>\n",
              "      <td>24.365145</td>\n",
              "      <td>47.550880</td>\n",
              "      <td>48.127518</td>\n",
              "      <td>22.355579</td>\n",
              "      <td>61.041004</td>\n",
              "      <td>59.955620</td>\n",
              "      <td>46.886501</td>\n",
              "      <td>48.045769</td>\n",
              "      <td>81.912819</td>\n",
              "      <td>96.020424</td>\n",
              "    </tr>\n",
              "    <tr>\n",
              "      <th>2019-01-02</th>\n",
              "      <td>67.407822</td>\n",
              "      <td>24.550077</td>\n",
              "      <td>47.795593</td>\n",
              "      <td>49.075790</td>\n",
              "      <td>22.543285</td>\n",
              "      <td>61.353729</td>\n",
              "      <td>59.994316</td>\n",
              "      <td>46.609501</td>\n",
              "      <td>47.219585</td>\n",
              "      <td>80.672440</td>\n",
              "      <td>96.747772</td>\n",
              "    </tr>\n",
              "    <tr>\n",
              "      <th>2019-01-03</th>\n",
              "      <td>67.839920</td>\n",
              "      <td>24.170963</td>\n",
              "      <td>46.440228</td>\n",
              "      <td>48.589066</td>\n",
              "      <td>22.036482</td>\n",
              "      <td>59.486778</td>\n",
              "      <td>56.966541</td>\n",
              "      <td>46.341740</td>\n",
              "      <td>47.210506</td>\n",
              "      <td>79.034378</td>\n",
              "      <td>94.652992</td>\n",
              "    </tr>\n",
              "    <tr>\n",
              "      <th>2019-01-04</th>\n",
              "      <td>68.566231</td>\n",
              "      <td>24.910702</td>\n",
              "      <td>48.266212</td>\n",
              "      <td>50.242264</td>\n",
              "      <td>22.768530</td>\n",
              "      <td>61.742290</td>\n",
              "      <td>59.491302</td>\n",
              "      <td>47.329704</td>\n",
              "      <td>47.909584</td>\n",
              "      <td>81.392036</td>\n",
              "      <td>97.785454</td>\n",
              "    </tr>\n",
              "    <tr>\n",
              "      <th>2019-01-07</th>\n",
              "      <td>69.255753</td>\n",
              "      <td>25.262077</td>\n",
              "      <td>48.435623</td>\n",
              "      <td>50.989147</td>\n",
              "      <td>22.796686</td>\n",
              "      <td>62.244560</td>\n",
              "      <td>60.023335</td>\n",
              "      <td>47.265064</td>\n",
              "      <td>47.582745</td>\n",
              "      <td>81.704506</td>\n",
              "      <td>99.996613</td>\n",
              "    </tr>\n",
              "    <tr>\n",
              "      <th>...</th>\n",
              "      <td>...</td>\n",
              "      <td>...</td>\n",
              "      <td>...</td>\n",
              "      <td>...</td>\n",
              "      <td>...</td>\n",
              "      <td>...</td>\n",
              "      <td>...</td>\n",
              "      <td>...</td>\n",
              "      <td>...</td>\n",
              "      <td>...</td>\n",
              "      <td>...</td>\n",
              "    </tr>\n",
              "    <tr>\n",
              "      <th>2019-12-23</th>\n",
              "      <td>86.811554</td>\n",
              "      <td>28.316479</td>\n",
              "      <td>58.668907</td>\n",
              "      <td>53.912750</td>\n",
              "      <td>29.318375</td>\n",
              "      <td>79.413490</td>\n",
              "      <td>89.396164</td>\n",
              "      <td>59.607018</td>\n",
              "      <td>59.914783</td>\n",
              "      <td>99.230057</td>\n",
              "      <td>122.139992</td>\n",
              "    </tr>\n",
              "    <tr>\n",
              "      <th>2019-12-24</th>\n",
              "      <td>87.048798</td>\n",
              "      <td>28.231245</td>\n",
              "      <td>58.736168</td>\n",
              "      <td>53.886658</td>\n",
              "      <td>29.385418</td>\n",
              "      <td>79.094322</td>\n",
              "      <td>89.425568</td>\n",
              "      <td>59.682911</td>\n",
              "      <td>59.999058</td>\n",
              "      <td>99.104950</td>\n",
              "      <td>122.415215</td>\n",
              "    </tr>\n",
              "    <tr>\n",
              "      <th>2019-12-26</th>\n",
              "      <td>87.513794</td>\n",
              "      <td>28.297535</td>\n",
              "      <td>58.995647</td>\n",
              "      <td>53.869259</td>\n",
              "      <td>29.548243</td>\n",
              "      <td>79.278076</td>\n",
              "      <td>90.092041</td>\n",
              "      <td>59.739830</td>\n",
              "      <td>60.102055</td>\n",
              "      <td>99.037598</td>\n",
              "      <td>123.909271</td>\n",
              "    </tr>\n",
              "    <tr>\n",
              "      <th>2019-12-27</th>\n",
              "      <td>87.751022</td>\n",
              "      <td>28.316479</td>\n",
              "      <td>58.774612</td>\n",
              "      <td>53.643143</td>\n",
              "      <td>29.471622</td>\n",
              "      <td>79.210388</td>\n",
              "      <td>90.082245</td>\n",
              "      <td>60.005474</td>\n",
              "      <td>60.279945</td>\n",
              "      <td>99.066460</td>\n",
              "      <td>123.899445</td>\n",
              "    </tr>\n",
              "    <tr>\n",
              "      <th>2019-12-30</th>\n",
              "      <td>87.817451</td>\n",
              "      <td>28.240717</td>\n",
              "      <td>58.592026</td>\n",
              "      <td>53.473858</td>\n",
              "      <td>29.385418</td>\n",
              "      <td>78.842873</td>\n",
              "      <td>89.562775</td>\n",
              "      <td>59.692398</td>\n",
              "      <td>60.270588</td>\n",
              "      <td>98.471718</td>\n",
              "      <td>123.103264</td>\n",
              "    </tr>\n",
              "  </tbody>\n",
              "</table>\n",
              "<p>252 rows × 11 columns</p>\n",
              "</div>"
            ],
            "text/plain": [
              "                  IYR        IYZ        XLB        XLE        XLF        XLI  \\\n",
              "Date                                                                           \n",
              "2018-12-31  68.897202  24.365145  47.550880  48.127518  22.355579  61.041004   \n",
              "2019-01-02  67.407822  24.550077  47.795593  49.075790  22.543285  61.353729   \n",
              "2019-01-03  67.839920  24.170963  46.440228  48.589066  22.036482  59.486778   \n",
              "2019-01-04  68.566231  24.910702  48.266212  50.242264  22.768530  61.742290   \n",
              "2019-01-07  69.255753  25.262077  48.435623  50.989147  22.796686  62.244560   \n",
              "...               ...        ...        ...        ...        ...        ...   \n",
              "2019-12-23  86.811554  28.316479  58.668907  53.912750  29.318375  79.413490   \n",
              "2019-12-24  87.048798  28.231245  58.736168  53.886658  29.385418  79.094322   \n",
              "2019-12-26  87.513794  28.297535  58.995647  53.869259  29.548243  79.278076   \n",
              "2019-12-27  87.751022  28.316479  58.774612  53.643143  29.471622  79.210388   \n",
              "2019-12-30  87.817451  28.240717  58.592026  53.473858  29.385418  78.842873   \n",
              "\n",
              "                  XLK        XLP        XLU        XLV         XLY  \n",
              "Date                                                                \n",
              "2018-12-31  59.955620  46.886501  48.045769  81.912819   96.020424  \n",
              "2019-01-02  59.994316  46.609501  47.219585  80.672440   96.747772  \n",
              "2019-01-03  56.966541  46.341740  47.210506  79.034378   94.652992  \n",
              "2019-01-04  59.491302  47.329704  47.909584  81.392036   97.785454  \n",
              "2019-01-07  60.023335  47.265064  47.582745  81.704506   99.996613  \n",
              "...               ...        ...        ...        ...         ...  \n",
              "2019-12-23  89.396164  59.607018  59.914783  99.230057  122.139992  \n",
              "2019-12-24  89.425568  59.682911  59.999058  99.104950  122.415215  \n",
              "2019-12-26  90.092041  59.739830  60.102055  99.037598  123.909271  \n",
              "2019-12-27  90.082245  60.005474  60.279945  99.066460  123.899445  \n",
              "2019-12-30  89.562775  59.692398  60.270588  98.471718  123.103264  \n",
              "\n",
              "[252 rows x 11 columns]"
            ]
          },
          "execution_count": 50,
          "metadata": {},
          "output_type": "execute_result"
        }
      ],
      "source": [
        "# Using same list but taking data only of 2019\n",
        "# etfs_lst = ['IYR', 'IYZ', 'XLB', 'XLE', 'XLF', 'XLI', 'XLK', 'XLP', 'XLU', 'XLV', 'XLY']\n",
        "etfsPrices = yf.download(etfs_lst, '2019-01-01', '2019-12-31')['Adj Close']\n",
        "\n",
        "etfsPrices "
      ]
    },
    {
      "cell_type": "code",
      "execution_count": null,
      "id": "d510e295-6081-4a2a-a524-4af1bc8a9257",
      "metadata": {
        "tags": [],
        "id": "d510e295-6081-4a2a-a524-4af1bc8a9257",
        "outputId": "a51c4fc1-a408-451f-f768-e05052dce66c"
      },
      "outputs": [
        {
          "data": {
            "text/html": [
              "<div>\n",
              "<style scoped>\n",
              "    .dataframe tbody tr th:only-of-type {\n",
              "        vertical-align: middle;\n",
              "    }\n",
              "\n",
              "    .dataframe tbody tr th {\n",
              "        vertical-align: top;\n",
              "    }\n",
              "\n",
              "    .dataframe thead th {\n",
              "        text-align: right;\n",
              "    }\n",
              "</style>\n",
              "<table border=\"1\" class=\"dataframe\">\n",
              "  <thead>\n",
              "    <tr style=\"text-align: right;\">\n",
              "      <th></th>\n",
              "      <th>IYR</th>\n",
              "      <th>IYZ</th>\n",
              "      <th>XLB</th>\n",
              "      <th>XLE</th>\n",
              "      <th>XLF</th>\n",
              "      <th>XLI</th>\n",
              "      <th>XLK</th>\n",
              "      <th>XLP</th>\n",
              "      <th>XLU</th>\n",
              "      <th>XLV</th>\n",
              "      <th>XLY</th>\n",
              "    </tr>\n",
              "    <tr>\n",
              "      <th>Date</th>\n",
              "      <th></th>\n",
              "      <th></th>\n",
              "      <th></th>\n",
              "      <th></th>\n",
              "      <th></th>\n",
              "      <th></th>\n",
              "      <th></th>\n",
              "      <th></th>\n",
              "      <th></th>\n",
              "      <th></th>\n",
              "      <th></th>\n",
              "    </tr>\n",
              "  </thead>\n",
              "  <tbody>\n",
              "    <tr>\n",
              "      <th>2019-01-02</th>\n",
              "      <td>-0.021855</td>\n",
              "      <td>0.007561</td>\n",
              "      <td>0.005133</td>\n",
              "      <td>0.019512</td>\n",
              "      <td>0.008361</td>\n",
              "      <td>0.005110</td>\n",
              "      <td>0.000645</td>\n",
              "      <td>-0.005925</td>\n",
              "      <td>-0.017345</td>\n",
              "      <td>-0.015258</td>\n",
              "      <td>0.007546</td>\n",
              "    </tr>\n",
              "    <tr>\n",
              "      <th>2019-01-03</th>\n",
              "      <td>0.006390</td>\n",
              "      <td>-0.015563</td>\n",
              "      <td>-0.028767</td>\n",
              "      <td>-0.009967</td>\n",
              "      <td>-0.022738</td>\n",
              "      <td>-0.030902</td>\n",
              "      <td>-0.051786</td>\n",
              "      <td>-0.005761</td>\n",
              "      <td>-0.000192</td>\n",
              "      <td>-0.020514</td>\n",
              "      <td>-0.021890</td>\n",
              "    </tr>\n",
              "    <tr>\n",
              "      <th>2019-01-04</th>\n",
              "      <td>0.010649</td>\n",
              "      <td>0.030145</td>\n",
              "      <td>0.038566</td>\n",
              "      <td>0.033458</td>\n",
              "      <td>0.032680</td>\n",
              "      <td>0.037215</td>\n",
              "      <td>0.043366</td>\n",
              "      <td>0.021095</td>\n",
              "      <td>0.014699</td>\n",
              "      <td>0.029395</td>\n",
              "      <td>0.032558</td>\n",
              "    </tr>\n",
              "    <tr>\n",
              "      <th>2019-01-07</th>\n",
              "      <td>0.010006</td>\n",
              "      <td>0.014007</td>\n",
              "      <td>0.003504</td>\n",
              "      <td>0.014756</td>\n",
              "      <td>0.001236</td>\n",
              "      <td>0.008102</td>\n",
              "      <td>0.008903</td>\n",
              "      <td>-0.001367</td>\n",
              "      <td>-0.006845</td>\n",
              "      <td>0.003832</td>\n",
              "      <td>0.022360</td>\n",
              "    </tr>\n",
              "    <tr>\n",
              "      <th>2019-01-08</th>\n",
              "      <td>0.018023</td>\n",
              "      <td>0.015256</td>\n",
              "      <td>0.010439</td>\n",
              "      <td>0.007706</td>\n",
              "      <td>0.000823</td>\n",
              "      <td>0.013610</td>\n",
              "      <td>0.008345</td>\n",
              "      <td>0.009140</td>\n",
              "      <td>0.012326</td>\n",
              "      <td>0.007735</td>\n",
              "      <td>0.010996</td>\n",
              "    </tr>\n",
              "    <tr>\n",
              "      <th>...</th>\n",
              "      <td>...</td>\n",
              "      <td>...</td>\n",
              "      <td>...</td>\n",
              "      <td>...</td>\n",
              "      <td>...</td>\n",
              "      <td>...</td>\n",
              "      <td>...</td>\n",
              "      <td>...</td>\n",
              "      <td>...</td>\n",
              "      <td>...</td>\n",
              "      <td>...</td>\n",
              "    </tr>\n",
              "    <tr>\n",
              "      <th>2019-12-23</th>\n",
              "      <td>-0.005668</td>\n",
              "      <td>-0.000334</td>\n",
              "      <td>0.002789</td>\n",
              "      <td>0.010215</td>\n",
              "      <td>-0.002284</td>\n",
              "      <td>0.008193</td>\n",
              "      <td>0.002855</td>\n",
              "      <td>-0.004288</td>\n",
              "      <td>-0.009333</td>\n",
              "      <td>0.003984</td>\n",
              "      <td>-0.002331</td>\n",
              "    </tr>\n",
              "    <tr>\n",
              "      <th>2019-12-24</th>\n",
              "      <td>0.002729</td>\n",
              "      <td>-0.003015</td>\n",
              "      <td>0.001146</td>\n",
              "      <td>-0.000484</td>\n",
              "      <td>0.002284</td>\n",
              "      <td>-0.004027</td>\n",
              "      <td>0.000329</td>\n",
              "      <td>0.001272</td>\n",
              "      <td>0.001406</td>\n",
              "      <td>-0.001262</td>\n",
              "      <td>0.002251</td>\n",
              "    </tr>\n",
              "    <tr>\n",
              "      <th>2019-12-26</th>\n",
              "      <td>0.005328</td>\n",
              "      <td>0.002345</td>\n",
              "      <td>0.004408</td>\n",
              "      <td>-0.000323</td>\n",
              "      <td>0.005526</td>\n",
              "      <td>0.002321</td>\n",
              "      <td>0.007425</td>\n",
              "      <td>0.000953</td>\n",
              "      <td>0.001715</td>\n",
              "      <td>-0.000680</td>\n",
              "      <td>0.012131</td>\n",
              "    </tr>\n",
              "    <tr>\n",
              "      <th>2019-12-27</th>\n",
              "      <td>0.002707</td>\n",
              "      <td>0.000669</td>\n",
              "      <td>-0.003754</td>\n",
              "      <td>-0.004206</td>\n",
              "      <td>-0.002596</td>\n",
              "      <td>-0.000854</td>\n",
              "      <td>-0.000109</td>\n",
              "      <td>0.004437</td>\n",
              "      <td>0.002955</td>\n",
              "      <td>0.000291</td>\n",
              "      <td>-0.000079</td>\n",
              "    </tr>\n",
              "    <tr>\n",
              "      <th>2019-12-30</th>\n",
              "      <td>0.000757</td>\n",
              "      <td>-0.002679</td>\n",
              "      <td>-0.003111</td>\n",
              "      <td>-0.003161</td>\n",
              "      <td>-0.002929</td>\n",
              "      <td>-0.004651</td>\n",
              "      <td>-0.005783</td>\n",
              "      <td>-0.005231</td>\n",
              "      <td>-0.000155</td>\n",
              "      <td>-0.006022</td>\n",
              "      <td>-0.006447</td>\n",
              "    </tr>\n",
              "  </tbody>\n",
              "</table>\n",
              "<p>251 rows × 11 columns</p>\n",
              "</div>"
            ],
            "text/plain": [
              "                 IYR       IYZ       XLB       XLE       XLF       XLI  \\\n",
              "Date                                                                     \n",
              "2019-01-02 -0.021855  0.007561  0.005133  0.019512  0.008361  0.005110   \n",
              "2019-01-03  0.006390 -0.015563 -0.028767 -0.009967 -0.022738 -0.030902   \n",
              "2019-01-04  0.010649  0.030145  0.038566  0.033458  0.032680  0.037215   \n",
              "2019-01-07  0.010006  0.014007  0.003504  0.014756  0.001236  0.008102   \n",
              "2019-01-08  0.018023  0.015256  0.010439  0.007706  0.000823  0.013610   \n",
              "...              ...       ...       ...       ...       ...       ...   \n",
              "2019-12-23 -0.005668 -0.000334  0.002789  0.010215 -0.002284  0.008193   \n",
              "2019-12-24  0.002729 -0.003015  0.001146 -0.000484  0.002284 -0.004027   \n",
              "2019-12-26  0.005328  0.002345  0.004408 -0.000323  0.005526  0.002321   \n",
              "2019-12-27  0.002707  0.000669 -0.003754 -0.004206 -0.002596 -0.000854   \n",
              "2019-12-30  0.000757 -0.002679 -0.003111 -0.003161 -0.002929 -0.004651   \n",
              "\n",
              "                 XLK       XLP       XLU       XLV       XLY  \n",
              "Date                                                          \n",
              "2019-01-02  0.000645 -0.005925 -0.017345 -0.015258  0.007546  \n",
              "2019-01-03 -0.051786 -0.005761 -0.000192 -0.020514 -0.021890  \n",
              "2019-01-04  0.043366  0.021095  0.014699  0.029395  0.032558  \n",
              "2019-01-07  0.008903 -0.001367 -0.006845  0.003832  0.022360  \n",
              "2019-01-08  0.008345  0.009140  0.012326  0.007735  0.010996  \n",
              "...              ...       ...       ...       ...       ...  \n",
              "2019-12-23  0.002855 -0.004288 -0.009333  0.003984 -0.002331  \n",
              "2019-12-24  0.000329  0.001272  0.001406 -0.001262  0.002251  \n",
              "2019-12-26  0.007425  0.000953  0.001715 -0.000680  0.012131  \n",
              "2019-12-27 -0.000109  0.004437  0.002955  0.000291 -0.000079  \n",
              "2019-12-30 -0.005783 -0.005231 -0.000155 -0.006022 -0.006447  \n",
              "\n",
              "[251 rows x 11 columns]"
            ]
          },
          "execution_count": 51,
          "metadata": {},
          "output_type": "execute_result"
        }
      ],
      "source": [
        "etfsDailyLogRet = np.log(etfsPrices/etfsPrices.shift(1))[1:]\n",
        "etfsDailyLogRet"
      ]
    },
    {
      "cell_type": "markdown",
      "id": "1a346828-11e1-4040-ace7-e86f7c629986",
      "metadata": {
        "id": "1a346828-11e1-4040-ace7-e86f7c629986"
      },
      "source": [
        "The annualised mean historical returns calculated below from the above daily log returns over 2019 are used as estimates of expected returns for the 11 ETFs."
      ]
    },
    {
      "cell_type": "code",
      "execution_count": null,
      "id": "5ad622af-ed3a-4fc1-b442-e6471610c56b",
      "metadata": {
        "id": "5ad622af-ed3a-4fc1-b442-e6471610c56b",
        "outputId": "dfeb51ce-9b00-4ee7-e57f-5d5e84ca5d4c"
      },
      "outputs": [
        {
          "data": {
            "text/plain": [
              "IYR    0.265703\n",
              "IYZ    0.148032\n",
              "XLB    0.217147\n",
              "XLE    0.091279\n",
              "XLF    0.298573\n",
              "XLI    0.275924\n",
              "XLK    0.469152\n",
              "XLP    0.265699\n",
              "XLU    0.246239\n",
              "XLV    0.191414\n",
              "XLY    0.269329\n",
              "dtype: float64"
            ]
          },
          "execution_count": 52,
          "metadata": {},
          "output_type": "execute_result"
        }
      ],
      "source": [
        "etfsExpLogRet = mean_historical_return(etfsPrices, returns_data=False, compounding=True, frequency=251, log_returns=True)\n",
        "etfsExpLogRet"
      ]
    },
    {
      "cell_type": "markdown",
      "id": "f17365a0-ae9f-4809-93af-cf669cdd5322",
      "metadata": {
        "id": "f17365a0-ae9f-4809-93af-cf669cdd5322"
      },
      "source": [
        "We now use these expected returns and the covariance matrix to trace out the efficient frontiers for all possible 3-ETF portfolios which can be constructed from our 11 ETFs. There are 165 such portfolios (11C3) and, therefore, 165 efficient frontiers.\n",
        "\n",
        "The Critical Line Algorithm (CLA) has been used to estimate these frontiers. CLA was developed by Harry Markowitz to optimise general quadratic functions subject to linear inequality constraints. CLA solves any portfolio optimisation problem that can be represented in such terms, like the standard Efficient Frontier problem. The posterior mean and posterior covariance derived by Black-Litterman also lead to a quadratic programming problem, thus CLA is also a useful tool in that Bayesian framework. However, portfolio optimisation problems which cannot be represented in a quadratic form cannot be solved by CLA.\n",
        "\n",
        "As required in the assignment, we assume volatility to be 0.08% and find the expected return and ETF weights for the portfolio lying on each of the 165 efficient frontiers. Since the efficient frontier is given as a set of discrete points instead of an equation, we use the expected return and weights available for the volatility level nearest to our assumed volatility level.\n",
        "\n",
        "The expected returns and weights thus obtained are stored in a dataframe."
      ]
    },
    {
      "cell_type": "code",
      "execution_count": null,
      "id": "fd8c9631-c644-4020-8127-ad7fa3ef8b8e",
      "metadata": {
        "id": "fd8c9631-c644-4020-8127-ad7fa3ef8b8e"
      },
      "outputs": [],
      "source": [
        "# Function to find the value in an array which is nearest to a pre-specified value\n",
        "def find_nearest(array, value):\n",
        "    array = np.asarray(array)\n",
        "    idx = (np.abs(array - value)).argmin()\n",
        "    return (idx, array[idx])"
      ]
    },
    {
      "cell_type": "code",
      "execution_count": null,
      "id": "60b64cd4-22e9-4a9d-bed2-af6256d85fe3",
      "metadata": {
        "id": "60b64cd4-22e9-4a9d-bed2-af6256d85fe3"
      },
      "outputs": [],
      "source": [
        "lst3etfComb = list(combinations(etfsPrices.columns,3))\n",
        "constVol = 0.008\n",
        "matrix3etf_constVol = np.zeros((165, 4))\n",
        "\n",
        "for i in lst3etfComb:\n",
        "    ret3etf = [etfsExpLogRet[i[0]], etfsExpLogRet[i[1]], etfsExpLogRet[i[2]]]\n",
        "    cov3etfRobust = CovarianceShrinkage(pd.DataFrame([etfsPrices[i[0]], etfsPrices[i[1]], etfsPrices[i[2]]]).transpose()).ledoit_wolf()\n",
        "    \n",
        "    claClass = cla.CLA(ret3etf, cov3etfRobust, weight_bounds = (-1,1))\n",
        "    efRet, efStdev, efWeights = claClass.efficient_frontier(points = 100)\n",
        "    \n",
        "    idx, val = find_nearest(efStdev, constVol)\n",
        "    efWeights_constVol = efWeights[idx]\n",
        "    efRet_constVol = efRet[idx]\n",
        "#    print(efRet_constVol1, np.around(efWeights_constVol1, 2))\n",
        "    \n",
        "\n",
        "    matrix3etf_constVol[lst3etfComb.index(i), 0] = efRet_constVol\n",
        "    matrix3etf_constVol[lst3etfComb.index(i), 1] = efWeights_constVol[0]\n",
        "    matrix3etf_constVol[lst3etfComb.index(i), 2] = efWeights_constVol[1]\n",
        "    matrix3etf_constVol[lst3etfComb.index(i), 3] = efWeights_constVol[2]\n",
        "    \n",
        "#    print(np.around(np.mean(np.array(efStdev)), 3))\n",
        "#    plt.plot(efStdev, efRet)"
      ]
    },
    {
      "cell_type": "code",
      "execution_count": null,
      "id": "1d09d0db-2221-4efe-9022-3842841784dc",
      "metadata": {
        "id": "1d09d0db-2221-4efe-9022-3842841784dc"
      },
      "outputs": [],
      "source": [
        "df3etf_constVol = pd.DataFrame(matrix3etf_constVol, columns = ['ExpRet2019', 'OptWt_ETF1', 'OptWt_ETF2', 'OptWt_ETF3'])\n",
        "df3etf_constVol.insert(0, 'Portfolio' , lst3etfComb)\n",
        "\n",
        "#with pd.option_context(\"display.max_rows\", 2000, \"display.max_columns\", 100):\n",
        "#    display(df3etf_constVol)\n",
        "#np.std(df3etf_constVol['OptWt_ETF3'])"
      ]
    },
    {
      "cell_type": "markdown",
      "id": "49b8a4b6-8fd0-47f1-9b95-446cd188c5ae",
      "metadata": {
        "id": "49b8a4b6-8fd0-47f1-9b95-446cd188c5ae"
      },
      "source": [
        "### 5.3 Rank the 2019 portfolio returns."
      ]
    },
    {
      "cell_type": "code",
      "execution_count": null,
      "id": "65edc83b-551d-4621-b32c-a287772e8f23",
      "metadata": {
        "id": "65edc83b-551d-4621-b32c-a287772e8f23",
        "outputId": "24a4673b-1ba2-4a04-afd8-d228ada8e7a8"
      },
      "outputs": [
        {
          "data": {
            "text/html": [
              "<div>\n",
              "<style scoped>\n",
              "    .dataframe tbody tr th:only-of-type {\n",
              "        vertical-align: middle;\n",
              "    }\n",
              "\n",
              "    .dataframe tbody tr th {\n",
              "        vertical-align: top;\n",
              "    }\n",
              "\n",
              "    .dataframe thead th {\n",
              "        text-align: right;\n",
              "    }\n",
              "</style>\n",
              "<table border=\"1\" class=\"dataframe\">\n",
              "  <thead>\n",
              "    <tr style=\"text-align: right;\">\n",
              "      <th></th>\n",
              "      <th>Portfolio</th>\n",
              "      <th>Rank2019</th>\n",
              "      <th>ExpRet2019</th>\n",
              "      <th>OptWt_ETF1</th>\n",
              "      <th>OptWt_ETF2</th>\n",
              "      <th>OptWt_ETF3</th>\n",
              "    </tr>\n",
              "  </thead>\n",
              "  <tbody>\n",
              "    <tr>\n",
              "      <th>130</th>\n",
              "      <td>(XLF, XLI, XLK)</td>\n",
              "      <td>1.0</td>\n",
              "      <td>0.306276</td>\n",
              "      <td>0.475042</td>\n",
              "      <td>0.423560</td>\n",
              "      <td>0.101398</td>\n",
              "    </tr>\n",
              "    <tr>\n",
              "      <th>110</th>\n",
              "      <td>(XLE, XLF, XLK)</td>\n",
              "      <td>2.0</td>\n",
              "      <td>0.294911</td>\n",
              "      <td>0.192753</td>\n",
              "      <td>0.594477</td>\n",
              "      <td>0.212770</td>\n",
              "    </tr>\n",
              "    <tr>\n",
              "      <th>36</th>\n",
              "      <td>(IYR, XLK, XLU)</td>\n",
              "      <td>3.0</td>\n",
              "      <td>0.294021</td>\n",
              "      <td>0.329162</td>\n",
              "      <td>0.185613</td>\n",
              "      <td>0.485225</td>\n",
              "    </tr>\n",
              "    <tr>\n",
              "      <th>155</th>\n",
              "      <td>(XLK, XLP, XLU)</td>\n",
              "      <td>4.0</td>\n",
              "      <td>0.282193</td>\n",
              "      <td>0.124468</td>\n",
              "      <td>0.421797</td>\n",
              "      <td>0.453735</td>\n",
              "    </tr>\n",
              "    <tr>\n",
              "      <th>89</th>\n",
              "      <td>(XLB, XLF, XLK)</td>\n",
              "      <td>5.0</td>\n",
              "      <td>0.281622</td>\n",
              "      <td>0.433206</td>\n",
              "      <td>0.459378</td>\n",
              "      <td>0.107416</td>\n",
              "    </tr>\n",
              "    <tr>\n",
              "      <th>...</th>\n",
              "      <td>...</td>\n",
              "      <td>...</td>\n",
              "      <td>...</td>\n",
              "      <td>...</td>\n",
              "      <td>...</td>\n",
              "      <td>...</td>\n",
              "    </tr>\n",
              "    <tr>\n",
              "      <th>58</th>\n",
              "      <td>(IYZ, XLE, XLV)</td>\n",
              "      <td>161.0</td>\n",
              "      <td>0.164762</td>\n",
              "      <td>0.399738</td>\n",
              "      <td>0.092979</td>\n",
              "      <td>0.507284</td>\n",
              "    </tr>\n",
              "    <tr>\n",
              "      <th>45</th>\n",
              "      <td>(IYZ, XLB, XLE)</td>\n",
              "      <td>162.0</td>\n",
              "      <td>0.162865</td>\n",
              "      <td>0.605733</td>\n",
              "      <td>0.295621</td>\n",
              "      <td>0.098646</td>\n",
              "    </tr>\n",
              "    <tr>\n",
              "      <th>55</th>\n",
              "      <td>(IYZ, XLE, XLK)</td>\n",
              "      <td>163.0</td>\n",
              "      <td>0.159649</td>\n",
              "      <td>0.752187</td>\n",
              "      <td>0.179850</td>\n",
              "      <td>0.067962</td>\n",
              "    </tr>\n",
              "    <tr>\n",
              "      <th>74</th>\n",
              "      <td>(IYZ, XLK, XLY)</td>\n",
              "      <td>164.0</td>\n",
              "      <td>0.154201</td>\n",
              "      <td>0.575559</td>\n",
              "      <td>-0.226774</td>\n",
              "      <td>0.651215</td>\n",
              "    </tr>\n",
              "    <tr>\n",
              "      <th>73</th>\n",
              "      <td>(IYZ, XLK, XLV)</td>\n",
              "      <td>165.0</td>\n",
              "      <td>0.146019</td>\n",
              "      <td>0.505855</td>\n",
              "      <td>-0.084430</td>\n",
              "      <td>0.578576</td>\n",
              "    </tr>\n",
              "  </tbody>\n",
              "</table>\n",
              "<p>165 rows × 6 columns</p>\n",
              "</div>"
            ],
            "text/plain": [
              "           Portfolio  Rank2019  ExpRet2019  OptWt_ETF1  OptWt_ETF2  OptWt_ETF3\n",
              "130  (XLF, XLI, XLK)       1.0    0.306276    0.475042    0.423560    0.101398\n",
              "110  (XLE, XLF, XLK)       2.0    0.294911    0.192753    0.594477    0.212770\n",
              "36   (IYR, XLK, XLU)       3.0    0.294021    0.329162    0.185613    0.485225\n",
              "155  (XLK, XLP, XLU)       4.0    0.282193    0.124468    0.421797    0.453735\n",
              "89   (XLB, XLF, XLK)       5.0    0.281622    0.433206    0.459378    0.107416\n",
              "..               ...       ...         ...         ...         ...         ...\n",
              "58   (IYZ, XLE, XLV)     161.0    0.164762    0.399738    0.092979    0.507284\n",
              "45   (IYZ, XLB, XLE)     162.0    0.162865    0.605733    0.295621    0.098646\n",
              "55   (IYZ, XLE, XLK)     163.0    0.159649    0.752187    0.179850    0.067962\n",
              "74   (IYZ, XLK, XLY)     164.0    0.154201    0.575559   -0.226774    0.651215\n",
              "73   (IYZ, XLK, XLV)     165.0    0.146019    0.505855   -0.084430    0.578576\n",
              "\n",
              "[165 rows x 6 columns]"
            ]
          },
          "execution_count": 56,
          "metadata": {},
          "output_type": "execute_result"
        }
      ],
      "source": [
        "rank = df3etf_constVol['ExpRet2019'].rank(ascending = False)\n",
        "df3etf_constVol.insert(1, 'Rank2019' , rank)\n",
        "df3etf_constVol.sort_values(by = 'ExpRet2019', ascending = False)"
      ]
    },
    {
      "cell_type": "markdown",
      "id": "a34efffb-7f3d-438b-be84-f5e0ef77d0c4",
      "metadata": {
        "id": "a34efffb-7f3d-438b-be84-f5e0ef77d0c4"
      },
      "source": [
        "### 5.4 Test each of the 165 portfolios using 2020 daily return data."
      ]
    },
    {
      "cell_type": "markdown",
      "id": "6e8da1df-07cf-4070-8864-6f790f03a095",
      "metadata": {
        "id": "6e8da1df-07cf-4070-8864-6f790f03a095"
      },
      "source": [
        "After importing the 2020 Adjusted Close prices for the ETFs and calculating daily log returns based on these, we apply the weights calculated above to estimate the 2020 expected return for all 165 3-ETF portfolio combinations as a weighted average of the individual ETFs' 2020 expected returns."
      ]
    },
    {
      "cell_type": "code",
      "execution_count": null,
      "id": "74cae740-b729-49ba-8724-0e9034495660",
      "metadata": {
        "id": "74cae740-b729-49ba-8724-0e9034495660",
        "outputId": "0c6bb5c7-de28-44a7-dd43-10bfdab2a61c"
      },
      "outputs": [
        {
          "name": "stdout",
          "output_type": "stream",
          "text": [
            "[*********************100%***********************]  11 of 11 completed\n"
          ]
        }
      ],
      "source": [
        "etfsPrices2020 = yf.download(etfs_lst, '2020-01-01', '2020-12-31')['Adj Close']\n",
        "#etfsPrices2020"
      ]
    },
    {
      "cell_type": "code",
      "execution_count": null,
      "id": "d4754ea6-0701-4565-9add-3c3752877a8b",
      "metadata": {
        "id": "d4754ea6-0701-4565-9add-3c3752877a8b"
      },
      "outputs": [],
      "source": [
        "etfsExpLogRet2020 = mean_historical_return(etfsPrices2020, returns_data=False, compounding=True, frequency=252, log_returns=True)\n",
        "#etfsExpLogRet2020"
      ]
    },
    {
      "cell_type": "code",
      "execution_count": null,
      "id": "2222f8c9-4a6e-4c15-be61-a81ddbaa08ae",
      "metadata": {
        "id": "2222f8c9-4a6e-4c15-be61-a81ddbaa08ae"
      },
      "outputs": [],
      "source": [
        "expRet2020 = np.zeros((165, 3))\n",
        "for (i, j) in zip(df3etf_constVol['Portfolio'], df3etf_constVol.index):\n",
        "    expRet2020[j, 0] = etfsExpLogRet2020[i[0]]\n",
        "    expRet2020[j, 1] = etfsExpLogRet2020[i[1]]\n",
        "    expRet2020[j, 2] = etfsExpLogRet2020[i[2]]\n",
        "\n",
        "optWtMatrix = np.array([df3etf_constVol['OptWt_ETF1'], df3etf_constVol['OptWt_ETF2'], df3etf_constVol['OptWt_ETF3']]).transpose()\n",
        "\n",
        "df3etf_constVol.insert(3, 'ExpRet2020' , np.sum(expRet2020 * optWtMatrix, axis = 1))"
      ]
    },
    {
      "cell_type": "markdown",
      "id": "c2e08285-1941-431a-a3f5-b51e736f5d98",
      "metadata": {
        "id": "c2e08285-1941-431a-a3f5-b51e736f5d98"
      },
      "source": [
        "### 5.5 Rank the 2020 portfolio returns."
      ]
    },
    {
      "cell_type": "code",
      "execution_count": null,
      "id": "2aa1fdbf-22fa-477d-a804-3b0375231eb4",
      "metadata": {
        "id": "2aa1fdbf-22fa-477d-a804-3b0375231eb4",
        "outputId": "41d777cb-6459-4588-cce4-f3ec4ed35d9e"
      },
      "outputs": [
        {
          "data": {
            "text/html": [
              "<div>\n",
              "<style scoped>\n",
              "    .dataframe tbody tr th:only-of-type {\n",
              "        vertical-align: middle;\n",
              "    }\n",
              "\n",
              "    .dataframe tbody tr th {\n",
              "        vertical-align: top;\n",
              "    }\n",
              "\n",
              "    .dataframe thead th {\n",
              "        text-align: right;\n",
              "    }\n",
              "</style>\n",
              "<table border=\"1\" class=\"dataframe\">\n",
              "  <thead>\n",
              "    <tr style=\"text-align: right;\">\n",
              "      <th></th>\n",
              "      <th>Portfolio</th>\n",
              "      <th>Rank2019</th>\n",
              "      <th>Rank2020</th>\n",
              "      <th>ExpRet2019</th>\n",
              "      <th>ExpRet2020</th>\n",
              "      <th>OptWt_ETF1</th>\n",
              "      <th>OptWt_ETF2</th>\n",
              "      <th>OptWt_ETF3</th>\n",
              "    </tr>\n",
              "  </thead>\n",
              "  <tbody>\n",
              "    <tr>\n",
              "      <th>98</th>\n",
              "      <td>(XLB, XLI, XLY)</td>\n",
              "      <td>50.0</td>\n",
              "      <td>1.0</td>\n",
              "      <td>0.255016</td>\n",
              "      <td>0.172522</td>\n",
              "      <td>0.285259</td>\n",
              "      <td>0.086804</td>\n",
              "      <td>0.627937</td>\n",
              "    </tr>\n",
              "    <tr>\n",
              "      <th>102</th>\n",
              "      <td>(XLB, XLK, XLY)</td>\n",
              "      <td>131.0</td>\n",
              "      <td>2.0</td>\n",
              "      <td>0.213603</td>\n",
              "      <td>0.162095</td>\n",
              "      <td>0.378352</td>\n",
              "      <td>-0.180073</td>\n",
              "      <td>0.801721</td>\n",
              "    </tr>\n",
              "    <tr>\n",
              "      <th>148</th>\n",
              "      <td>(XLI, XLK, XLY)</td>\n",
              "      <td>101.0</td>\n",
              "      <td>3.0</td>\n",
              "      <td>0.232187</td>\n",
              "      <td>0.128235</td>\n",
              "      <td>0.361443</td>\n",
              "      <td>-0.197805</td>\n",
              "      <td>0.836362</td>\n",
              "    </tr>\n",
              "    <tr>\n",
              "      <th>108</th>\n",
              "      <td>(XLB, XLV, XLY)</td>\n",
              "      <td>120.0</td>\n",
              "      <td>4.0</td>\n",
              "      <td>0.221239</td>\n",
              "      <td>0.126587</td>\n",
              "      <td>0.158401</td>\n",
              "      <td>0.511123</td>\n",
              "      <td>0.330476</td>\n",
              "    </tr>\n",
              "    <tr>\n",
              "      <th>93</th>\n",
              "      <td>(XLB, XLF, XLY)</td>\n",
              "      <td>30.0</td>\n",
              "      <td>5.0</td>\n",
              "      <td>0.262507</td>\n",
              "      <td>0.123519</td>\n",
              "      <td>0.245176</td>\n",
              "      <td>0.204222</td>\n",
              "      <td>0.550602</td>\n",
              "    </tr>\n",
              "    <tr>\n",
              "      <th>...</th>\n",
              "      <td>...</td>\n",
              "      <td>...</td>\n",
              "      <td>...</td>\n",
              "      <td>...</td>\n",
              "      <td>...</td>\n",
              "      <td>...</td>\n",
              "      <td>...</td>\n",
              "      <td>...</td>\n",
              "    </tr>\n",
              "    <tr>\n",
              "      <th>25</th>\n",
              "      <td>(IYR, XLF, XLK)</td>\n",
              "      <td>12.0</td>\n",
              "      <td>161.0</td>\n",
              "      <td>0.272398</td>\n",
              "      <td>-0.148900</td>\n",
              "      <td>0.661769</td>\n",
              "      <td>0.364162</td>\n",
              "      <td>-0.025930</td>\n",
              "    </tr>\n",
              "    <tr>\n",
              "      <th>18</th>\n",
              "      <td>(IYR, XLE, XLI)</td>\n",
              "      <td>87.0</td>\n",
              "      <td>162.0</td>\n",
              "      <td>0.237662</td>\n",
              "      <td>-0.167614</td>\n",
              "      <td>0.669219</td>\n",
              "      <td>0.170176</td>\n",
              "      <td>0.160605</td>\n",
              "    </tr>\n",
              "    <tr>\n",
              "      <th>17</th>\n",
              "      <td>(IYR, XLE, XLF)</td>\n",
              "      <td>57.0</td>\n",
              "      <td>163.0</td>\n",
              "      <td>0.251797</td>\n",
              "      <td>-0.175944</td>\n",
              "      <td>0.640745</td>\n",
              "      <td>0.124050</td>\n",
              "      <td>0.235206</td>\n",
              "    </tr>\n",
              "    <tr>\n",
              "      <th>21</th>\n",
              "      <td>(IYR, XLE, XLU)</td>\n",
              "      <td>124.0</td>\n",
              "      <td>164.0</td>\n",
              "      <td>0.216959</td>\n",
              "      <td>-0.181511</td>\n",
              "      <td>0.306442</td>\n",
              "      <td>0.227443</td>\n",
              "      <td>0.466115</td>\n",
              "    </tr>\n",
              "    <tr>\n",
              "      <th>19</th>\n",
              "      <td>(IYR, XLE, XLK)</td>\n",
              "      <td>92.0</td>\n",
              "      <td>165.0</td>\n",
              "      <td>0.236129</td>\n",
              "      <td>-0.186680</td>\n",
              "      <td>0.704414</td>\n",
              "      <td>0.237409</td>\n",
              "      <td>0.058177</td>\n",
              "    </tr>\n",
              "  </tbody>\n",
              "</table>\n",
              "<p>165 rows × 8 columns</p>\n",
              "</div>"
            ],
            "text/plain": [
              "           Portfolio  Rank2019  Rank2020  ExpRet2019  ExpRet2020  OptWt_ETF1  \\\n",
              "98   (XLB, XLI, XLY)      50.0       1.0    0.255016    0.172522    0.285259   \n",
              "102  (XLB, XLK, XLY)     131.0       2.0    0.213603    0.162095    0.378352   \n",
              "148  (XLI, XLK, XLY)     101.0       3.0    0.232187    0.128235    0.361443   \n",
              "108  (XLB, XLV, XLY)     120.0       4.0    0.221239    0.126587    0.158401   \n",
              "93   (XLB, XLF, XLY)      30.0       5.0    0.262507    0.123519    0.245176   \n",
              "..               ...       ...       ...         ...         ...         ...   \n",
              "25   (IYR, XLF, XLK)      12.0     161.0    0.272398   -0.148900    0.661769   \n",
              "18   (IYR, XLE, XLI)      87.0     162.0    0.237662   -0.167614    0.669219   \n",
              "17   (IYR, XLE, XLF)      57.0     163.0    0.251797   -0.175944    0.640745   \n",
              "21   (IYR, XLE, XLU)     124.0     164.0    0.216959   -0.181511    0.306442   \n",
              "19   (IYR, XLE, XLK)      92.0     165.0    0.236129   -0.186680    0.704414   \n",
              "\n",
              "     OptWt_ETF2  OptWt_ETF3  \n",
              "98     0.086804    0.627937  \n",
              "102   -0.180073    0.801721  \n",
              "148   -0.197805    0.836362  \n",
              "108    0.511123    0.330476  \n",
              "93     0.204222    0.550602  \n",
              "..          ...         ...  \n",
              "25     0.364162   -0.025930  \n",
              "18     0.170176    0.160605  \n",
              "17     0.124050    0.235206  \n",
              "21     0.227443    0.466115  \n",
              "19     0.237409    0.058177  \n",
              "\n",
              "[165 rows x 8 columns]"
            ]
          },
          "execution_count": 60,
          "metadata": {},
          "output_type": "execute_result"
        }
      ],
      "source": [
        "rank2020 = df3etf_constVol['ExpRet2020'].rank(ascending = False)\n",
        "df3etf_constVol.insert(2, 'Rank2020', rank2020)\n",
        "df3etf_constVol.sort_values(by = 'ExpRet2020', ascending = False)"
      ]
    },
    {
      "cell_type": "code",
      "execution_count": null,
      "id": "61ad1919-aed5-4e7a-973d-09d17e12db4c",
      "metadata": {
        "id": "61ad1919-aed5-4e7a-973d-09d17e12db4c",
        "outputId": "8f459e64-2863-4502-8f58-c270b0883a92"
      },
      "outputs": [
        {
          "data": {
            "text/plain": [
              "Text(0, 0.5, 'Rank based on 2020 Expected Return')"
            ]
          },
          "execution_count": 61,
          "metadata": {},
          "output_type": "execute_result"
        },
        {
          "data": {
            "image/png": "[encoded data removed]",
            "text/plain": [
              "<Figure size 432x288 with 1 Axes>"
            ]
          },
          "metadata": {
            "needs_background": "light"
          },
          "output_type": "display_data"
        }
      ],
      "source": [
        "plt.plot(df3etf_constVol['Rank2019'], df3etf_constVol['Rank2020'], '.')\n",
        "plt.title('3-ETF Portfolio Return 2019 Rank vs. 2020 Rank')\n",
        "plt.xlabel('Rank based on 2019 Expected Return')\n",
        "plt.ylabel('Rank based on 2020 Expected Return')"
      ]
    },
    {
      "cell_type": "code",
      "execution_count": null,
      "id": "620b68f4-39ea-4022-bc14-2158e122b02f",
      "metadata": {
        "id": "620b68f4-39ea-4022-bc14-2158e122b02f",
        "outputId": "99892997-f11c-453e-d24b-cb098f1411c9"
      },
      "outputs": [
        {
          "data": {
            "text/plain": [
              "Text(0, 0.5, '2020 Expected Return')"
            ]
          },
          "execution_count": 62,
          "metadata": {},
          "output_type": "execute_result"
        },
        {
          "data": {
            "image/png": "[encoded data removed]",
            "text/plain": [
              "<Figure size 432x288 with 1 Axes>"
            ]
          },
          "metadata": {
            "needs_background": "light"
          },
          "output_type": "display_data"
        }
      ],
      "source": [
        "plt.plot(df3etf_constVol['ExpRet2019'], df3etf_constVol['ExpRet2020'], '.')\n",
        "plt.title('3-ETF Portfolio 2019 Return vs. 2020 Return')\n",
        "plt.xlabel('2019 Expected Return')\n",
        "plt.ylabel('2020 Expected Return')"
      ]
    },
    {
      "cell_type": "markdown",
      "id": "61ad1c3e-04d0-4d10-a7b5-06c587cbeb81",
      "metadata": {
        "id": "61ad1c3e-04d0-4d10-a7b5-06c587cbeb81"
      },
      "source": [
        "The above two plots show that the expected return/ rank for 2019 is not a good predictor of the expected return/ rank for 2020 respectively."
      ]
    },
    {
      "cell_type": "markdown",
      "id": "bc5112f2-f9b4-4e1a-bba9-e08064f8d474",
      "metadata": {
        "tags": [],
        "id": "bc5112f2-f9b4-4e1a-bba9-e08064f8d474"
      },
      "source": [
        "## Part 6: Analysing 3-Security Portfolio"
      ]
    },
    {
      "cell_type": "markdown",
      "id": "91276cd7-516e-42fc-833d-f40ad76fe62f",
      "metadata": {
        "id": "91276cd7-516e-42fc-833d-f40ad76fe62f"
      },
      "source": [
        "### 6.1 Relabel the ETF with a + sign if the weight >0, or a - sign if the weight <0.  Then add the assigned Economic Indicator."
      ]
    },
    {
      "cell_type": "markdown",
      "id": "13e38667-c0a0-4fcb-a1be-ef04891c655c",
      "metadata": {
        "id": "13e38667-c0a0-4fcb-a1be-ef04891c655c"
      },
      "source": [
        "The below dataframe summarises how 3 supervised learning models used in submission 1 place each of the 11 ETFs into the 3 economic indicator buckets (LEI, CEI, LAG). The final category used for each ETF is LEI unless at least one of the models places it into a bucket other than LEI, in which case the other bucket is taken to be the final category."
      ]
    },
    {
      "cell_type": "code",
      "execution_count": null,
      "id": "0690a08a-5824-4abe-9268-8ce20a37350c",
      "metadata": {
        "id": "0690a08a-5824-4abe-9268-8ce20a37350c",
        "outputId": "f671bf1c-8531-4d10-a7fc-f2e2845666be"
      },
      "outputs": [
        {
          "data": {
            "text/html": [
              "<div>\n",
              "<style scoped>\n",
              "    .dataframe tbody tr th:only-of-type {\n",
              "        vertical-align: middle;\n",
              "    }\n",
              "\n",
              "    .dataframe tbody tr th {\n",
              "        vertical-align: top;\n",
              "    }\n",
              "\n",
              "    .dataframe thead th {\n",
              "        text-align: right;\n",
              "    }\n",
              "</style>\n",
              "<table border=\"1\" class=\"dataframe\">\n",
              "  <thead>\n",
              "    <tr style=\"text-align: right;\">\n",
              "      <th></th>\n",
              "      <th>ETF</th>\n",
              "      <th>Linear Model</th>\n",
              "      <th>Lasso Model</th>\n",
              "      <th>Regression Tree</th>\n",
              "    </tr>\n",
              "  </thead>\n",
              "  <tbody>\n",
              "    <tr>\n",
              "      <th>0</th>\n",
              "      <td>IYR</td>\n",
              "      <td>LEI</td>\n",
              "      <td>LEI</td>\n",
              "      <td>LEI</td>\n",
              "    </tr>\n",
              "    <tr>\n",
              "      <th>1</th>\n",
              "      <td>IYZ</td>\n",
              "      <td>LEI</td>\n",
              "      <td>CEI</td>\n",
              "      <td>LEI</td>\n",
              "    </tr>\n",
              "    <tr>\n",
              "      <th>2</th>\n",
              "      <td>XLB</td>\n",
              "      <td>LEI</td>\n",
              "      <td>LEI</td>\n",
              "      <td>LEI</td>\n",
              "    </tr>\n",
              "    <tr>\n",
              "      <th>3</th>\n",
              "      <td>XLE</td>\n",
              "      <td>LEI</td>\n",
              "      <td>LEI</td>\n",
              "      <td>LEI</td>\n",
              "    </tr>\n",
              "    <tr>\n",
              "      <th>4</th>\n",
              "      <td>XLF</td>\n",
              "      <td>LEI</td>\n",
              "      <td>LEI</td>\n",
              "      <td>LEI</td>\n",
              "    </tr>\n",
              "    <tr>\n",
              "      <th>5</th>\n",
              "      <td>XLI</td>\n",
              "      <td>LEI</td>\n",
              "      <td>CEI</td>\n",
              "      <td>LEI</td>\n",
              "    </tr>\n",
              "    <tr>\n",
              "      <th>6</th>\n",
              "      <td>XLK</td>\n",
              "      <td>LEI</td>\n",
              "      <td>LEI</td>\n",
              "      <td>LAG</td>\n",
              "    </tr>\n",
              "    <tr>\n",
              "      <th>7</th>\n",
              "      <td>XLP</td>\n",
              "      <td>LEI</td>\n",
              "      <td>LEI</td>\n",
              "      <td>LEI</td>\n",
              "    </tr>\n",
              "    <tr>\n",
              "      <th>8</th>\n",
              "      <td>XLU</td>\n",
              "      <td>LEI</td>\n",
              "      <td>LEI</td>\n",
              "      <td>LAG</td>\n",
              "    </tr>\n",
              "    <tr>\n",
              "      <th>9</th>\n",
              "      <td>XLV</td>\n",
              "      <td>LEI</td>\n",
              "      <td>LEI</td>\n",
              "      <td>LEI</td>\n",
              "    </tr>\n",
              "    <tr>\n",
              "      <th>10</th>\n",
              "      <td>XLY</td>\n",
              "      <td>LEI</td>\n",
              "      <td>LEI</td>\n",
              "      <td>LAG</td>\n",
              "    </tr>\n",
              "  </tbody>\n",
              "</table>\n",
              "</div>"
            ],
            "text/plain": [
              "    ETF Linear Model Lasso Model Regression Tree\n",
              "0   IYR          LEI         LEI             LEI\n",
              "1   IYZ          LEI         CEI             LEI\n",
              "2   XLB          LEI         LEI             LEI\n",
              "3   XLE          LEI         LEI             LEI\n",
              "4   XLF          LEI         LEI             LEI\n",
              "5   XLI          LEI         CEI             LEI\n",
              "6   XLK          LEI         LEI             LAG\n",
              "7   XLP          LEI         LEI             LEI\n",
              "8   XLU          LEI         LEI             LAG\n",
              "9   XLV          LEI         LEI             LEI\n",
              "10  XLY          LEI         LEI             LAG"
            ]
          },
          "execution_count": 63,
          "metadata": {},
          "output_type": "execute_result"
        }
      ],
      "source": [
        "etfsCategories = pd.read_excel('ETF Categories_GWP 1.xlsx')\n",
        "etfsCategories"
      ]
    },
    {
      "cell_type": "code",
      "execution_count": null,
      "id": "e9af2fce-d001-40ad-836c-5b52cdfae5e9",
      "metadata": {
        "id": "e9af2fce-d001-40ad-836c-5b52cdfae5e9",
        "outputId": "a7229ed9-ef51-473b-9e2d-15ed8231761e"
      },
      "outputs": [
        {
          "data": {
            "text/html": [
              "<div>\n",
              "<style scoped>\n",
              "    .dataframe tbody tr th:only-of-type {\n",
              "        vertical-align: middle;\n",
              "    }\n",
              "\n",
              "    .dataframe tbody tr th {\n",
              "        vertical-align: top;\n",
              "    }\n",
              "\n",
              "    .dataframe thead th {\n",
              "        text-align: right;\n",
              "    }\n",
              "</style>\n",
              "<table border=\"1\" class=\"dataframe\">\n",
              "  <thead>\n",
              "    <tr style=\"text-align: right;\">\n",
              "      <th></th>\n",
              "      <th>Linear Model</th>\n",
              "      <th>Lasso Model</th>\n",
              "      <th>Regression Tree</th>\n",
              "      <th>FinalCat</th>\n",
              "    </tr>\n",
              "    <tr>\n",
              "      <th>ETF</th>\n",
              "      <th></th>\n",
              "      <th></th>\n",
              "      <th></th>\n",
              "      <th></th>\n",
              "    </tr>\n",
              "  </thead>\n",
              "  <tbody>\n",
              "    <tr>\n",
              "      <th>IYR</th>\n",
              "      <td>LEI</td>\n",
              "      <td>LEI</td>\n",
              "      <td>LEI</td>\n",
              "      <td>LEI</td>\n",
              "    </tr>\n",
              "    <tr>\n",
              "      <th>IYZ</th>\n",
              "      <td>LEI</td>\n",
              "      <td>CEI</td>\n",
              "      <td>LEI</td>\n",
              "      <td>CEI</td>\n",
              "    </tr>\n",
              "    <tr>\n",
              "      <th>XLB</th>\n",
              "      <td>LEI</td>\n",
              "      <td>LEI</td>\n",
              "      <td>LEI</td>\n",
              "      <td>LEI</td>\n",
              "    </tr>\n",
              "    <tr>\n",
              "      <th>XLE</th>\n",
              "      <td>LEI</td>\n",
              "      <td>LEI</td>\n",
              "      <td>LEI</td>\n",
              "      <td>LEI</td>\n",
              "    </tr>\n",
              "    <tr>\n",
              "      <th>XLF</th>\n",
              "      <td>LEI</td>\n",
              "      <td>LEI</td>\n",
              "      <td>LEI</td>\n",
              "      <td>LEI</td>\n",
              "    </tr>\n",
              "    <tr>\n",
              "      <th>XLI</th>\n",
              "      <td>LEI</td>\n",
              "      <td>CEI</td>\n",
              "      <td>LEI</td>\n",
              "      <td>CEI</td>\n",
              "    </tr>\n",
              "    <tr>\n",
              "      <th>XLK</th>\n",
              "      <td>LEI</td>\n",
              "      <td>LEI</td>\n",
              "      <td>LAG</td>\n",
              "      <td>LEI</td>\n",
              "    </tr>\n",
              "    <tr>\n",
              "      <th>XLP</th>\n",
              "      <td>LEI</td>\n",
              "      <td>LEI</td>\n",
              "      <td>LEI</td>\n",
              "      <td>LEI</td>\n",
              "    </tr>\n",
              "    <tr>\n",
              "      <th>XLU</th>\n",
              "      <td>LEI</td>\n",
              "      <td>LEI</td>\n",
              "      <td>LAG</td>\n",
              "      <td>LAG</td>\n",
              "    </tr>\n",
              "    <tr>\n",
              "      <th>XLV</th>\n",
              "      <td>LEI</td>\n",
              "      <td>LEI</td>\n",
              "      <td>LEI</td>\n",
              "      <td>LEI</td>\n",
              "    </tr>\n",
              "    <tr>\n",
              "      <th>XLY</th>\n",
              "      <td>LEI</td>\n",
              "      <td>LEI</td>\n",
              "      <td>LAG</td>\n",
              "      <td>LAG</td>\n",
              "    </tr>\n",
              "  </tbody>\n",
              "</table>\n",
              "</div>"
            ],
            "text/plain": [
              "    Linear Model Lasso Model Regression Tree FinalCat\n",
              "ETF                                                  \n",
              "IYR          LEI         LEI             LEI      LEI\n",
              "IYZ          LEI         CEI             LEI      CEI\n",
              "XLB          LEI         LEI             LEI      LEI\n",
              "XLE          LEI         LEI             LEI      LEI\n",
              "XLF          LEI         LEI             LEI      LEI\n",
              "XLI          LEI         CEI             LEI      CEI\n",
              "XLK          LEI         LEI             LAG      LEI\n",
              "XLP          LEI         LEI             LEI      LEI\n",
              "XLU          LEI         LEI             LAG      LAG\n",
              "XLV          LEI         LEI             LEI      LEI\n",
              "XLY          LEI         LEI             LAG      LAG"
            ]
          },
          "execution_count": 64,
          "metadata": {},
          "output_type": "execute_result"
        }
      ],
      "source": [
        "etfsCategories['FinalCat'] = ['LEI', 'CEI', 'LEI', 'LEI', 'LEI', 'CEI', 'LEI', 'LEI', 'LAG', 'LEI', 'LAG']\n",
        "etfsCategories.set_index('ETF', drop = True, inplace = True)\n",
        "etfsCategories"
      ]
    },
    {
      "cell_type": "code",
      "execution_count": null,
      "id": "6725b177-ffec-4d8c-b819-3f49124ce86d",
      "metadata": {
        "id": "6725b177-ffec-4d8c-b819-3f49124ce86d",
        "outputId": "eb781728-bd27-4303-f26c-6420548d78ec"
      },
      "outputs": [
        {
          "data": {
            "text/html": [
              "<div>\n",
              "<style scoped>\n",
              "    .dataframe tbody tr th:only-of-type {\n",
              "        vertical-align: middle;\n",
              "    }\n",
              "\n",
              "    .dataframe tbody tr th {\n",
              "        vertical-align: top;\n",
              "    }\n",
              "\n",
              "    .dataframe thead th {\n",
              "        text-align: right;\n",
              "    }\n",
              "</style>\n",
              "<table border=\"1\" class=\"dataframe\">\n",
              "  <thead>\n",
              "    <tr style=\"text-align: right;\">\n",
              "      <th></th>\n",
              "      <th>Portfolio</th>\n",
              "      <th>Rank2019</th>\n",
              "      <th>Rank2020</th>\n",
              "      <th>ExpRet2019</th>\n",
              "      <th>ExpRet2020</th>\n",
              "      <th>OptWt_ETF1</th>\n",
              "      <th>OptWt_ETF2</th>\n",
              "      <th>OptWt_ETF3</th>\n",
              "      <th>IndicCat</th>\n",
              "    </tr>\n",
              "  </thead>\n",
              "  <tbody>\n",
              "    <tr>\n",
              "      <th>0</th>\n",
              "      <td>(IYR, IYZ, XLB)</td>\n",
              "      <td>116.0</td>\n",
              "      <td>129.0</td>\n",
              "      <td>0.224842</td>\n",
              "      <td>-0.068567</td>\n",
              "      <td>0.568625</td>\n",
              "      <td>0.288147</td>\n",
              "      <td>0.143228</td>\n",
              "      <td>(+LEI, +CEI, +LEI)</td>\n",
              "    </tr>\n",
              "    <tr>\n",
              "      <th>1</th>\n",
              "      <td>(IYR, IYZ, XLE)</td>\n",
              "      <td>136.0</td>\n",
              "      <td>160.0</td>\n",
              "      <td>0.209593</td>\n",
              "      <td>-0.146667</td>\n",
              "      <td>0.588091</td>\n",
              "      <td>0.277276</td>\n",
              "      <td>0.134633</td>\n",
              "      <td>(+LEI, +CEI, +LEI)</td>\n",
              "    </tr>\n",
              "    <tr>\n",
              "      <th>2</th>\n",
              "      <td>(IYR, IYZ, XLF)</td>\n",
              "      <td>74.0</td>\n",
              "      <td>149.0</td>\n",
              "      <td>0.243802</td>\n",
              "      <td>-0.108299</td>\n",
              "      <td>0.567700</td>\n",
              "      <td>0.239874</td>\n",
              "      <td>0.192425</td>\n",
              "      <td>(+LEI, +CEI, +LEI)</td>\n",
              "    </tr>\n",
              "    <tr>\n",
              "      <th>3</th>\n",
              "      <td>(IYR, IYZ, XLI)</td>\n",
              "      <td>104.0</td>\n",
              "      <td>138.0</td>\n",
              "      <td>0.231380</td>\n",
              "      <td>-0.084194</td>\n",
              "      <td>0.579470</td>\n",
              "      <td>0.301981</td>\n",
              "      <td>0.118550</td>\n",
              "      <td>(+LEI, +CEI, +CEI)</td>\n",
              "    </tr>\n",
              "    <tr>\n",
              "      <th>4</th>\n",
              "      <td>(IYR, IYZ, XLK)</td>\n",
              "      <td>128.0</td>\n",
              "      <td>142.0</td>\n",
              "      <td>0.215078</td>\n",
              "      <td>-0.095956</td>\n",
              "      <td>0.606881</td>\n",
              "      <td>0.406718</td>\n",
              "      <td>-0.013599</td>\n",
              "      <td>(+LEI, +CEI, -LEI)</td>\n",
              "    </tr>\n",
              "    <tr>\n",
              "      <th>...</th>\n",
              "      <td>...</td>\n",
              "      <td>...</td>\n",
              "      <td>...</td>\n",
              "      <td>...</td>\n",
              "      <td>...</td>\n",
              "      <td>...</td>\n",
              "      <td>...</td>\n",
              "      <td>...</td>\n",
              "      <td>...</td>\n",
              "    </tr>\n",
              "    <tr>\n",
              "      <th>160</th>\n",
              "      <td>(XLK, XLV, XLY)</td>\n",
              "      <td>159.0</td>\n",
              "      <td>10.0</td>\n",
              "      <td>0.167103</td>\n",
              "      <td>0.100271</td>\n",
              "      <td>-0.269261</td>\n",
              "      <td>0.621462</td>\n",
              "      <td>0.647800</td>\n",
              "      <td>(-LEI, +LEI, +LAG)</td>\n",
              "    </tr>\n",
              "    <tr>\n",
              "      <th>161</th>\n",
              "      <td>(XLP, XLU, XLV)</td>\n",
              "      <td>81.0</td>\n",
              "      <td>68.0</td>\n",
              "      <td>0.242101</td>\n",
              "      <td>0.004397</td>\n",
              "      <td>0.396469</td>\n",
              "      <td>0.387339</td>\n",
              "      <td>0.216192</td>\n",
              "      <td>(+LEI, +LAG, +LEI)</td>\n",
              "    </tr>\n",
              "    <tr>\n",
              "      <th>162</th>\n",
              "      <td>(XLP, XLU, XLY)</td>\n",
              "      <td>46.0</td>\n",
              "      <td>41.0</td>\n",
              "      <td>0.257734</td>\n",
              "      <td>0.035378</td>\n",
              "      <td>0.280164</td>\n",
              "      <td>0.458100</td>\n",
              "      <td>0.261736</td>\n",
              "      <td>(+LEI, +LAG, +LAG)</td>\n",
              "    </tr>\n",
              "    <tr>\n",
              "      <th>163</th>\n",
              "      <td>(XLP, XLV, XLY)</td>\n",
              "      <td>63.0</td>\n",
              "      <td>19.0</td>\n",
              "      <td>0.248777</td>\n",
              "      <td>0.075594</td>\n",
              "      <td>0.650144</td>\n",
              "      <td>0.233482</td>\n",
              "      <td>0.116374</td>\n",
              "      <td>(+LEI, +LEI, +LAG)</td>\n",
              "    </tr>\n",
              "    <tr>\n",
              "      <th>164</th>\n",
              "      <td>(XLU, XLV, XLY)</td>\n",
              "      <td>70.0</td>\n",
              "      <td>44.0</td>\n",
              "      <td>0.245400</td>\n",
              "      <td>0.032243</td>\n",
              "      <td>0.554237</td>\n",
              "      <td>0.142871</td>\n",
              "      <td>0.302893</td>\n",
              "      <td>(+LAG, +LEI, +LAG)</td>\n",
              "    </tr>\n",
              "  </tbody>\n",
              "</table>\n",
              "<p>165 rows × 9 columns</p>\n",
              "</div>"
            ],
            "text/plain": [
              "           Portfolio  Rank2019  Rank2020  ExpRet2019  ExpRet2020  OptWt_ETF1  \\\n",
              "0    (IYR, IYZ, XLB)     116.0     129.0    0.224842   -0.068567    0.568625   \n",
              "1    (IYR, IYZ, XLE)     136.0     160.0    0.209593   -0.146667    0.588091   \n",
              "2    (IYR, IYZ, XLF)      74.0     149.0    0.243802   -0.108299    0.567700   \n",
              "3    (IYR, IYZ, XLI)     104.0     138.0    0.231380   -0.084194    0.579470   \n",
              "4    (IYR, IYZ, XLK)     128.0     142.0    0.215078   -0.095956    0.606881   \n",
              "..               ...       ...       ...         ...         ...         ...   \n",
              "160  (XLK, XLV, XLY)     159.0      10.0    0.167103    0.100271   -0.269261   \n",
              "161  (XLP, XLU, XLV)      81.0      68.0    0.242101    0.004397    0.396469   \n",
              "162  (XLP, XLU, XLY)      46.0      41.0    0.257734    0.035378    0.280164   \n",
              "163  (XLP, XLV, XLY)      63.0      19.0    0.248777    0.075594    0.650144   \n",
              "164  (XLU, XLV, XLY)      70.0      44.0    0.245400    0.032243    0.554237   \n",
              "\n",
              "     OptWt_ETF2  OptWt_ETF3            IndicCat  \n",
              "0      0.288147    0.143228  (+LEI, +CEI, +LEI)  \n",
              "1      0.277276    0.134633  (+LEI, +CEI, +LEI)  \n",
              "2      0.239874    0.192425  (+LEI, +CEI, +LEI)  \n",
              "3      0.301981    0.118550  (+LEI, +CEI, +CEI)  \n",
              "4      0.406718   -0.013599  (+LEI, +CEI, -LEI)  \n",
              "..          ...         ...                 ...  \n",
              "160    0.621462    0.647800  (-LEI, +LEI, +LAG)  \n",
              "161    0.387339    0.216192  (+LEI, +LAG, +LEI)  \n",
              "162    0.458100    0.261736  (+LEI, +LAG, +LAG)  \n",
              "163    0.233482    0.116374  (+LEI, +LEI, +LAG)  \n",
              "164    0.142871    0.302893  (+LAG, +LEI, +LAG)  \n",
              "\n",
              "[165 rows x 9 columns]"
            ]
          },
          "execution_count": 65,
          "metadata": {},
          "output_type": "execute_result"
        }
      ],
      "source": [
        "indicCat = list()\n",
        "\n",
        "for (i, j) in zip(df3etf_constVol['Portfolio'], df3etf_constVol.index):\n",
        "    catEtf1 = etfsCategories['FinalCat'].loc[i[0]]\n",
        "    catEtf2 = etfsCategories['FinalCat'].loc[i[1]]\n",
        "    catEtf3 = etfsCategories['FinalCat'].loc[i[2]]\n",
        "    \n",
        "    if (df3etf_constVol['OptWt_ETF1'][j] >= 0): wtSignEtf1 = '+'\n",
        "    else: wtSignEtf1 = '-'\n",
        "    \n",
        "    if (df3etf_constVol['OptWt_ETF2'][j] >= 0): wtSignEtf2 = '+'\n",
        "    else: wtSignEtf2 = '-'\n",
        "    \n",
        "    if (df3etf_constVol['OptWt_ETF3'][j] >= 0): wtSignEtf3 = '+'\n",
        "    else: wtSignEtf3 = '-'\n",
        "        \n",
        "    \n",
        "    indicCat.append((wtSignEtf1 + catEtf1, wtSignEtf2 + catEtf2, wtSignEtf3 + catEtf3))\n",
        "\n",
        "df3etf_constVol['IndicCat'] = indicCat\n",
        "df3etf_constVol"
      ]
    },
    {
      "cell_type": "markdown",
      "id": "5513b213-38d8-449d-9644-c9e600a248ea",
      "metadata": {
        "id": "5513b213-38d8-449d-9644-c9e600a248ea"
      },
      "source": [
        "### 6.2 Using the ranks from 5.5, determine which combinations tend to be the best performing. Interpret the results."
      ]
    },
    {
      "cell_type": "code",
      "execution_count": null,
      "id": "dfd353ba-4a2e-4293-802d-0fb048555b56",
      "metadata": {
        "id": "dfd353ba-4a2e-4293-802d-0fb048555b56"
      },
      "outputs": [],
      "source": [
        "indicComb = df3etf_constVol[['IndicCat', 'ExpRet2019', 'ExpRet2020']].groupby('IndicCat').mean()\n",
        "\n",
        "indicRank2019 = indicComb['ExpRet2019'].rank(ascending = False)\n",
        "indicRank2020 = indicComb['ExpRet2020'].rank(ascending = False)\n",
        "\n",
        "indicComb.insert(2, 'Rank2019', indicRank2019)\n",
        "indicComb.insert(3, 'Rank2020', indicRank2020)"
      ]
    },
    {
      "cell_type": "code",
      "execution_count": null,
      "id": "dc93e523-0929-4e9d-bb1a-b3f618f8b9db",
      "metadata": {
        "id": "dc93e523-0929-4e9d-bb1a-b3f618f8b9db",
        "outputId": "b86d69bc-9c7e-424e-a11c-cdf70773720d"
      },
      "outputs": [
        {
          "data": {
            "text/html": [
              "<div>\n",
              "<style scoped>\n",
              "    .dataframe tbody tr th:only-of-type {\n",
              "        vertical-align: middle;\n",
              "    }\n",
              "\n",
              "    .dataframe tbody tr th {\n",
              "        vertical-align: top;\n",
              "    }\n",
              "\n",
              "    .dataframe thead th {\n",
              "        text-align: right;\n",
              "    }\n",
              "</style>\n",
              "<table border=\"1\" class=\"dataframe\">\n",
              "  <thead>\n",
              "    <tr style=\"text-align: right;\">\n",
              "      <th></th>\n",
              "      <th>ExpRet2019</th>\n",
              "      <th>ExpRet2020</th>\n",
              "      <th>Rank2019</th>\n",
              "      <th>Rank2020</th>\n",
              "    </tr>\n",
              "    <tr>\n",
              "      <th>IndicCat</th>\n",
              "      <th></th>\n",
              "      <th></th>\n",
              "      <th></th>\n",
              "      <th></th>\n",
              "    </tr>\n",
              "  </thead>\n",
              "  <tbody>\n",
              "    <tr>\n",
              "      <th>(+LEI, +LEI, -LEI)</th>\n",
              "      <td>0.272398</td>\n",
              "      <td>-0.148900</td>\n",
              "      <td>1.0</td>\n",
              "      <td>27.0</td>\n",
              "    </tr>\n",
              "    <tr>\n",
              "      <th>(+LEI, +LEI, +CEI)</th>\n",
              "      <td>0.252537</td>\n",
              "      <td>-0.082502</td>\n",
              "      <td>2.0</td>\n",
              "      <td>24.0</td>\n",
              "    </tr>\n",
              "    <tr>\n",
              "      <th>(+LEI, +LAG, +LAG)</th>\n",
              "      <td>0.250635</td>\n",
              "      <td>-0.004740</td>\n",
              "      <td>3.0</td>\n",
              "      <td>14.0</td>\n",
              "    </tr>\n",
              "    <tr>\n",
              "      <th>(+LEI, +CEI, +LAG)</th>\n",
              "      <td>0.250314</td>\n",
              "      <td>-0.007568</td>\n",
              "      <td>4.0</td>\n",
              "      <td>15.0</td>\n",
              "    </tr>\n",
              "    <tr>\n",
              "      <th>(+LEI, +LEI, +LAG)</th>\n",
              "      <td>0.249670</td>\n",
              "      <td>-0.014912</td>\n",
              "      <td>5.0</td>\n",
              "      <td>16.0</td>\n",
              "    </tr>\n",
              "    <tr>\n",
              "      <th>(+LEI, +CEI, +LEI)</th>\n",
              "      <td>0.246995</td>\n",
              "      <td>-0.022708</td>\n",
              "      <td>6.0</td>\n",
              "      <td>20.0</td>\n",
              "    </tr>\n",
              "    <tr>\n",
              "      <th>(+CEI, +LAG, +LAG)</th>\n",
              "      <td>0.245484</td>\n",
              "      <td>0.007534</td>\n",
              "      <td>7.0</td>\n",
              "      <td>11.0</td>\n",
              "    </tr>\n",
              "    <tr>\n",
              "      <th>(+LAG, +LEI, +LAG)</th>\n",
              "      <td>0.245400</td>\n",
              "      <td>0.032243</td>\n",
              "      <td>8.0</td>\n",
              "      <td>6.0</td>\n",
              "    </tr>\n",
              "    <tr>\n",
              "      <th>(+LEI, +LEI, +LEI)</th>\n",
              "      <td>0.244059</td>\n",
              "      <td>-0.039910</td>\n",
              "      <td>9.0</td>\n",
              "      <td>22.0</td>\n",
              "    </tr>\n",
              "    <tr>\n",
              "      <th>(-LEI, +LAG, +LAG)</th>\n",
              "      <td>0.242951</td>\n",
              "      <td>0.030356</td>\n",
              "      <td>10.0</td>\n",
              "      <td>7.0</td>\n",
              "    </tr>\n",
              "    <tr>\n",
              "      <th>(+LEI, +LAG, +LEI)</th>\n",
              "      <td>0.237147</td>\n",
              "      <td>-0.040154</td>\n",
              "      <td>11.0</td>\n",
              "      <td>23.0</td>\n",
              "    </tr>\n",
              "    <tr>\n",
              "      <th>(-LEI, +LEI, +LEI)</th>\n",
              "      <td>0.234241</td>\n",
              "      <td>0.047888</td>\n",
              "      <td>12.0</td>\n",
              "      <td>4.0</td>\n",
              "    </tr>\n",
              "    <tr>\n",
              "      <th>(+LEI, +CEI, +CEI)</th>\n",
              "      <td>0.231380</td>\n",
              "      <td>-0.084194</td>\n",
              "      <td>13.0</td>\n",
              "      <td>25.0</td>\n",
              "    </tr>\n",
              "    <tr>\n",
              "      <th>(+LEI, -LEI, +LAG)</th>\n",
              "      <td>0.230411</td>\n",
              "      <td>0.073377</td>\n",
              "      <td>14.0</td>\n",
              "      <td>3.0</td>\n",
              "    </tr>\n",
              "    <tr>\n",
              "      <th>(+CEI, +LEI, +LAG)</th>\n",
              "      <td>0.227576</td>\n",
              "      <td>0.014233</td>\n",
              "      <td>15.0</td>\n",
              "      <td>10.0</td>\n",
              "    </tr>\n",
              "    <tr>\n",
              "      <th>(+CEI, +LAG, +LEI)</th>\n",
              "      <td>0.227079</td>\n",
              "      <td>-0.032373</td>\n",
              "      <td>16.0</td>\n",
              "      <td>21.0</td>\n",
              "    </tr>\n",
              "    <tr>\n",
              "      <th>(+LEI, -LEI, +LEI)</th>\n",
              "      <td>0.224460</td>\n",
              "      <td>0.001976</td>\n",
              "      <td>17.0</td>\n",
              "      <td>12.0</td>\n",
              "    </tr>\n",
              "    <tr>\n",
              "      <th>(+CEI, +CEI, +LAG)</th>\n",
              "      <td>0.221416</td>\n",
              "      <td>0.020621</td>\n",
              "      <td>18.0</td>\n",
              "      <td>9.0</td>\n",
              "    </tr>\n",
              "    <tr>\n",
              "      <th>(+LEI, +CEI, -LEI)</th>\n",
              "      <td>0.215078</td>\n",
              "      <td>-0.095956</td>\n",
              "      <td>19.0</td>\n",
              "      <td>26.0</td>\n",
              "    </tr>\n",
              "    <tr>\n",
              "      <th>(+CEI, +CEI, +LEI)</th>\n",
              "      <td>0.214749</td>\n",
              "      <td>0.034164</td>\n",
              "      <td>20.0</td>\n",
              "      <td>5.0</td>\n",
              "    </tr>\n",
              "    <tr>\n",
              "      <th>(-LEI, +LEI, +LAG)</th>\n",
              "      <td>0.206224</td>\n",
              "      <td>0.090436</td>\n",
              "      <td>21.0</td>\n",
              "      <td>2.0</td>\n",
              "    </tr>\n",
              "    <tr>\n",
              "      <th>(+CEI, -LEI, +LEI)</th>\n",
              "      <td>0.205508</td>\n",
              "      <td>0.020727</td>\n",
              "      <td>22.0</td>\n",
              "      <td>8.0</td>\n",
              "    </tr>\n",
              "    <tr>\n",
              "      <th>(+CEI, +LEI, +LEI)</th>\n",
              "      <td>0.202849</td>\n",
              "      <td>0.001558</td>\n",
              "      <td>23.0</td>\n",
              "      <td>13.0</td>\n",
              "    </tr>\n",
              "    <tr>\n",
              "      <th>(+CEI, -LEI, +LAG)</th>\n",
              "      <td>0.193194</td>\n",
              "      <td>0.096339</td>\n",
              "      <td>24.0</td>\n",
              "      <td>1.0</td>\n",
              "    </tr>\n",
              "    <tr>\n",
              "      <th>(+CEI, +LEI, +CEI)</th>\n",
              "      <td>0.188208</td>\n",
              "      <td>-0.017663</td>\n",
              "      <td>25.0</td>\n",
              "      <td>18.0</td>\n",
              "    </tr>\n",
              "    <tr>\n",
              "      <th>(+CEI, +LEI, -LEI)</th>\n",
              "      <td>0.179898</td>\n",
              "      <td>-0.018768</td>\n",
              "      <td>26.0</td>\n",
              "      <td>19.0</td>\n",
              "    </tr>\n",
              "    <tr>\n",
              "      <th>(+CEI, +CEI, -LEI)</th>\n",
              "      <td>0.179051</td>\n",
              "      <td>-0.016090</td>\n",
              "      <td>27.0</td>\n",
              "      <td>17.0</td>\n",
              "    </tr>\n",
              "  </tbody>\n",
              "</table>\n",
              "</div>"
            ],
            "text/plain": [
              "                    ExpRet2019  ExpRet2020  Rank2019  Rank2020\n",
              "IndicCat                                                      \n",
              "(+LEI, +LEI, -LEI)    0.272398   -0.148900       1.0      27.0\n",
              "(+LEI, +LEI, +CEI)    0.252537   -0.082502       2.0      24.0\n",
              "(+LEI, +LAG, +LAG)    0.250635   -0.004740       3.0      14.0\n",
              "(+LEI, +CEI, +LAG)    0.250314   -0.007568       4.0      15.0\n",
              "(+LEI, +LEI, +LAG)    0.249670   -0.014912       5.0      16.0\n",
              "(+LEI, +CEI, +LEI)    0.246995   -0.022708       6.0      20.0\n",
              "(+CEI, +LAG, +LAG)    0.245484    0.007534       7.0      11.0\n",
              "(+LAG, +LEI, +LAG)    0.245400    0.032243       8.0       6.0\n",
              "(+LEI, +LEI, +LEI)    0.244059   -0.039910       9.0      22.0\n",
              "(-LEI, +LAG, +LAG)    0.242951    0.030356      10.0       7.0\n",
              "(+LEI, +LAG, +LEI)    0.237147   -0.040154      11.0      23.0\n",
              "(-LEI, +LEI, +LEI)    0.234241    0.047888      12.0       4.0\n",
              "(+LEI, +CEI, +CEI)    0.231380   -0.084194      13.0      25.0\n",
              "(+LEI, -LEI, +LAG)    0.230411    0.073377      14.0       3.0\n",
              "(+CEI, +LEI, +LAG)    0.227576    0.014233      15.0      10.0\n",
              "(+CEI, +LAG, +LEI)    0.227079   -0.032373      16.0      21.0\n",
              "(+LEI, -LEI, +LEI)    0.224460    0.001976      17.0      12.0\n",
              "(+CEI, +CEI, +LAG)    0.221416    0.020621      18.0       9.0\n",
              "(+LEI, +CEI, -LEI)    0.215078   -0.095956      19.0      26.0\n",
              "(+CEI, +CEI, +LEI)    0.214749    0.034164      20.0       5.0\n",
              "(-LEI, +LEI, +LAG)    0.206224    0.090436      21.0       2.0\n",
              "(+CEI, -LEI, +LEI)    0.205508    0.020727      22.0       8.0\n",
              "(+CEI, +LEI, +LEI)    0.202849    0.001558      23.0      13.0\n",
              "(+CEI, -LEI, +LAG)    0.193194    0.096339      24.0       1.0\n",
              "(+CEI, +LEI, +CEI)    0.188208   -0.017663      25.0      18.0\n",
              "(+CEI, +LEI, -LEI)    0.179898   -0.018768      26.0      19.0\n",
              "(+CEI, +CEI, -LEI)    0.179051   -0.016090      27.0      17.0"
            ]
          },
          "execution_count": 67,
          "metadata": {},
          "output_type": "execute_result"
        }
      ],
      "source": [
        "indicComb.sort_values(by = 'ExpRet2019', ascending = False)"
      ]
    },
    {
      "cell_type": "code",
      "execution_count": null,
      "id": "51e944c7-5b3d-4c86-b78f-9dc843c746e6",
      "metadata": {
        "id": "51e944c7-5b3d-4c86-b78f-9dc843c746e6",
        "outputId": "7ff0f737-f2af-466e-8014-d503618dc967"
      },
      "outputs": [
        {
          "data": {
            "text/html": [
              "<div>\n",
              "<style scoped>\n",
              "    .dataframe tbody tr th:only-of-type {\n",
              "        vertical-align: middle;\n",
              "    }\n",
              "\n",
              "    .dataframe tbody tr th {\n",
              "        vertical-align: top;\n",
              "    }\n",
              "\n",
              "    .dataframe thead th {\n",
              "        text-align: right;\n",
              "    }\n",
              "</style>\n",
              "<table border=\"1\" class=\"dataframe\">\n",
              "  <thead>\n",
              "    <tr style=\"text-align: right;\">\n",
              "      <th></th>\n",
              "      <th>ExpRet2019</th>\n",
              "      <th>ExpRet2020</th>\n",
              "      <th>Rank2019</th>\n",
              "      <th>Rank2020</th>\n",
              "    </tr>\n",
              "    <tr>\n",
              "      <th>IndicCat</th>\n",
              "      <th></th>\n",
              "      <th></th>\n",
              "      <th></th>\n",
              "      <th></th>\n",
              "    </tr>\n",
              "  </thead>\n",
              "  <tbody>\n",
              "    <tr>\n",
              "      <th>(+CEI, -LEI, +LAG)</th>\n",
              "      <td>0.193194</td>\n",
              "      <td>0.096339</td>\n",
              "      <td>24.0</td>\n",
              "      <td>1.0</td>\n",
              "    </tr>\n",
              "    <tr>\n",
              "      <th>(-LEI, +LEI, +LAG)</th>\n",
              "      <td>0.206224</td>\n",
              "      <td>0.090436</td>\n",
              "      <td>21.0</td>\n",
              "      <td>2.0</td>\n",
              "    </tr>\n",
              "    <tr>\n",
              "      <th>(+LEI, -LEI, +LAG)</th>\n",
              "      <td>0.230411</td>\n",
              "      <td>0.073377</td>\n",
              "      <td>14.0</td>\n",
              "      <td>3.0</td>\n",
              "    </tr>\n",
              "    <tr>\n",
              "      <th>(-LEI, +LEI, +LEI)</th>\n",
              "      <td>0.234241</td>\n",
              "      <td>0.047888</td>\n",
              "      <td>12.0</td>\n",
              "      <td>4.0</td>\n",
              "    </tr>\n",
              "    <tr>\n",
              "      <th>(+CEI, +CEI, +LEI)</th>\n",
              "      <td>0.214749</td>\n",
              "      <td>0.034164</td>\n",
              "      <td>20.0</td>\n",
              "      <td>5.0</td>\n",
              "    </tr>\n",
              "    <tr>\n",
              "      <th>(+LAG, +LEI, +LAG)</th>\n",
              "      <td>0.245400</td>\n",
              "      <td>0.032243</td>\n",
              "      <td>8.0</td>\n",
              "      <td>6.0</td>\n",
              "    </tr>\n",
              "    <tr>\n",
              "      <th>(-LEI, +LAG, +LAG)</th>\n",
              "      <td>0.242951</td>\n",
              "      <td>0.030356</td>\n",
              "      <td>10.0</td>\n",
              "      <td>7.0</td>\n",
              "    </tr>\n",
              "    <tr>\n",
              "      <th>(+CEI, -LEI, +LEI)</th>\n",
              "      <td>0.205508</td>\n",
              "      <td>0.020727</td>\n",
              "      <td>22.0</td>\n",
              "      <td>8.0</td>\n",
              "    </tr>\n",
              "    <tr>\n",
              "      <th>(+CEI, +CEI, +LAG)</th>\n",
              "      <td>0.221416</td>\n",
              "      <td>0.020621</td>\n",
              "      <td>18.0</td>\n",
              "      <td>9.0</td>\n",
              "    </tr>\n",
              "    <tr>\n",
              "      <th>(+CEI, +LEI, +LAG)</th>\n",
              "      <td>0.227576</td>\n",
              "      <td>0.014233</td>\n",
              "      <td>15.0</td>\n",
              "      <td>10.0</td>\n",
              "    </tr>\n",
              "    <tr>\n",
              "      <th>(+CEI, +LAG, +LAG)</th>\n",
              "      <td>0.245484</td>\n",
              "      <td>0.007534</td>\n",
              "      <td>7.0</td>\n",
              "      <td>11.0</td>\n",
              "    </tr>\n",
              "    <tr>\n",
              "      <th>(+LEI, -LEI, +LEI)</th>\n",
              "      <td>0.224460</td>\n",
              "      <td>0.001976</td>\n",
              "      <td>17.0</td>\n",
              "      <td>12.0</td>\n",
              "    </tr>\n",
              "    <tr>\n",
              "      <th>(+CEI, +LEI, +LEI)</th>\n",
              "      <td>0.202849</td>\n",
              "      <td>0.001558</td>\n",
              "      <td>23.0</td>\n",
              "      <td>13.0</td>\n",
              "    </tr>\n",
              "    <tr>\n",
              "      <th>(+LEI, +LAG, +LAG)</th>\n",
              "      <td>0.250635</td>\n",
              "      <td>-0.004740</td>\n",
              "      <td>3.0</td>\n",
              "      <td>14.0</td>\n",
              "    </tr>\n",
              "    <tr>\n",
              "      <th>(+LEI, +CEI, +LAG)</th>\n",
              "      <td>0.250314</td>\n",
              "      <td>-0.007568</td>\n",
              "      <td>4.0</td>\n",
              "      <td>15.0</td>\n",
              "    </tr>\n",
              "    <tr>\n",
              "      <th>(+LEI, +LEI, +LAG)</th>\n",
              "      <td>0.249670</td>\n",
              "      <td>-0.014912</td>\n",
              "      <td>5.0</td>\n",
              "      <td>16.0</td>\n",
              "    </tr>\n",
              "    <tr>\n",
              "      <th>(+CEI, +CEI, -LEI)</th>\n",
              "      <td>0.179051</td>\n",
              "      <td>-0.016090</td>\n",
              "      <td>27.0</td>\n",
              "      <td>17.0</td>\n",
              "    </tr>\n",
              "    <tr>\n",
              "      <th>(+CEI, +LEI, +CEI)</th>\n",
              "      <td>0.188208</td>\n",
              "      <td>-0.017663</td>\n",
              "      <td>25.0</td>\n",
              "      <td>18.0</td>\n",
              "    </tr>\n",
              "    <tr>\n",
              "      <th>(+CEI, +LEI, -LEI)</th>\n",
              "      <td>0.179898</td>\n",
              "      <td>-0.018768</td>\n",
              "      <td>26.0</td>\n",
              "      <td>19.0</td>\n",
              "    </tr>\n",
              "    <tr>\n",
              "      <th>(+LEI, +CEI, +LEI)</th>\n",
              "      <td>0.246995</td>\n",
              "      <td>-0.022708</td>\n",
              "      <td>6.0</td>\n",
              "      <td>20.0</td>\n",
              "    </tr>\n",
              "    <tr>\n",
              "      <th>(+CEI, +LAG, +LEI)</th>\n",
              "      <td>0.227079</td>\n",
              "      <td>-0.032373</td>\n",
              "      <td>16.0</td>\n",
              "      <td>21.0</td>\n",
              "    </tr>\n",
              "    <tr>\n",
              "      <th>(+LEI, +LEI, +LEI)</th>\n",
              "      <td>0.244059</td>\n",
              "      <td>-0.039910</td>\n",
              "      <td>9.0</td>\n",
              "      <td>22.0</td>\n",
              "    </tr>\n",
              "    <tr>\n",
              "      <th>(+LEI, +LAG, +LEI)</th>\n",
              "      <td>0.237147</td>\n",
              "      <td>-0.040154</td>\n",
              "      <td>11.0</td>\n",
              "      <td>23.0</td>\n",
              "    </tr>\n",
              "    <tr>\n",
              "      <th>(+LEI, +LEI, +CEI)</th>\n",
              "      <td>0.252537</td>\n",
              "      <td>-0.082502</td>\n",
              "      <td>2.0</td>\n",
              "      <td>24.0</td>\n",
              "    </tr>\n",
              "    <tr>\n",
              "      <th>(+LEI, +CEI, +CEI)</th>\n",
              "      <td>0.231380</td>\n",
              "      <td>-0.084194</td>\n",
              "      <td>13.0</td>\n",
              "      <td>25.0</td>\n",
              "    </tr>\n",
              "    <tr>\n",
              "      <th>(+LEI, +CEI, -LEI)</th>\n",
              "      <td>0.215078</td>\n",
              "      <td>-0.095956</td>\n",
              "      <td>19.0</td>\n",
              "      <td>26.0</td>\n",
              "    </tr>\n",
              "    <tr>\n",
              "      <th>(+LEI, +LEI, -LEI)</th>\n",
              "      <td>0.272398</td>\n",
              "      <td>-0.148900</td>\n",
              "      <td>1.0</td>\n",
              "      <td>27.0</td>\n",
              "    </tr>\n",
              "  </tbody>\n",
              "</table>\n",
              "</div>"
            ],
            "text/plain": [
              "                    ExpRet2019  ExpRet2020  Rank2019  Rank2020\n",
              "IndicCat                                                      \n",
              "(+CEI, -LEI, +LAG)    0.193194    0.096339      24.0       1.0\n",
              "(-LEI, +LEI, +LAG)    0.206224    0.090436      21.0       2.0\n",
              "(+LEI, -LEI, +LAG)    0.230411    0.073377      14.0       3.0\n",
              "(-LEI, +LEI, +LEI)    0.234241    0.047888      12.0       4.0\n",
              "(+CEI, +CEI, +LEI)    0.214749    0.034164      20.0       5.0\n",
              "(+LAG, +LEI, +LAG)    0.245400    0.032243       8.0       6.0\n",
              "(-LEI, +LAG, +LAG)    0.242951    0.030356      10.0       7.0\n",
              "(+CEI, -LEI, +LEI)    0.205508    0.020727      22.0       8.0\n",
              "(+CEI, +CEI, +LAG)    0.221416    0.020621      18.0       9.0\n",
              "(+CEI, +LEI, +LAG)    0.227576    0.014233      15.0      10.0\n",
              "(+CEI, +LAG, +LAG)    0.245484    0.007534       7.0      11.0\n",
              "(+LEI, -LEI, +LEI)    0.224460    0.001976      17.0      12.0\n",
              "(+CEI, +LEI, +LEI)    0.202849    0.001558      23.0      13.0\n",
              "(+LEI, +LAG, +LAG)    0.250635   -0.004740       3.0      14.0\n",
              "(+LEI, +CEI, +LAG)    0.250314   -0.007568       4.0      15.0\n",
              "(+LEI, +LEI, +LAG)    0.249670   -0.014912       5.0      16.0\n",
              "(+CEI, +CEI, -LEI)    0.179051   -0.016090      27.0      17.0\n",
              "(+CEI, +LEI, +CEI)    0.188208   -0.017663      25.0      18.0\n",
              "(+CEI, +LEI, -LEI)    0.179898   -0.018768      26.0      19.0\n",
              "(+LEI, +CEI, +LEI)    0.246995   -0.022708       6.0      20.0\n",
              "(+CEI, +LAG, +LEI)    0.227079   -0.032373      16.0      21.0\n",
              "(+LEI, +LEI, +LEI)    0.244059   -0.039910       9.0      22.0\n",
              "(+LEI, +LAG, +LEI)    0.237147   -0.040154      11.0      23.0\n",
              "(+LEI, +LEI, +CEI)    0.252537   -0.082502       2.0      24.0\n",
              "(+LEI, +CEI, +CEI)    0.231380   -0.084194      13.0      25.0\n",
              "(+LEI, +CEI, -LEI)    0.215078   -0.095956      19.0      26.0\n",
              "(+LEI, +LEI, -LEI)    0.272398   -0.148900       1.0      27.0"
            ]
          },
          "execution_count": 68,
          "metadata": {},
          "output_type": "execute_result"
        }
      ],
      "source": [
        "indicComb.sort_values(by = 'ExpRet2020', ascending = False)"
      ]
    },
    {
      "cell_type": "markdown",
      "id": "f8409df7-1f03-453d-81c3-28a4d9a4d99f",
      "metadata": {
        "id": "f8409df7-1f03-453d-81c3-28a4d9a4d99f"
      },
      "source": [
        "After specifying the indicator (LEI, CEI, LAG) and positional (long + / short -) categories for each ETF in each portfolio, the above two dataframes identify the unique indicator combinations resulting from these portfolios and rank the 2019 and 2020 returns for these combinations. However, this does not reveal much about which indicators tend to perform better.\n",
        "\n",
        "So, we calculate the weights which each portfolio attributes to LEI, CEI and LAG. This is done by looking at the indicator bucket for each asset in the portfolio, and assigning the weight for that asset to its indicator bucket.\n",
        "\n",
        "If more than one asset in the portfolio are assigned to the same indicator bucket, the weights for those two assets are summed and the result is assigned to the indicator bucket. If no asset is assigned to an indicator bucket, the weight of that bucket in the portfolio is taken to be 0."
      ]
    },
    {
      "cell_type": "code",
      "execution_count": null,
      "id": "6ba1b351-0ec5-4689-9572-288966bd5ee3",
      "metadata": {
        "id": "6ba1b351-0ec5-4689-9572-288966bd5ee3",
        "outputId": "3a504826-74b0-46e9-c970-63118284b540"
      },
      "outputs": [
        {
          "data": {
            "text/html": [
              "<div>\n",
              "<style scoped>\n",
              "    .dataframe tbody tr th:only-of-type {\n",
              "        vertical-align: middle;\n",
              "    }\n",
              "\n",
              "    .dataframe tbody tr th {\n",
              "        vertical-align: top;\n",
              "    }\n",
              "\n",
              "    .dataframe thead th {\n",
              "        text-align: right;\n",
              "    }\n",
              "</style>\n",
              "<table border=\"1\" class=\"dataframe\">\n",
              "  <thead>\n",
              "    <tr style=\"text-align: right;\">\n",
              "      <th></th>\n",
              "      <th>Portfolio</th>\n",
              "      <th>IndicCat</th>\n",
              "      <th>OptWt_LEI</th>\n",
              "      <th>OptWt_CEI</th>\n",
              "      <th>OptWt_LAG</th>\n",
              "      <th>ExpRet2019</th>\n",
              "      <th>ExpRet2020</th>\n",
              "    </tr>\n",
              "  </thead>\n",
              "  <tbody>\n",
              "    <tr>\n",
              "      <th>0</th>\n",
              "      <td>(IYR, IYZ, XLB)</td>\n",
              "      <td>(+LEI, +CEI, +LEI)</td>\n",
              "      <td>0.711853</td>\n",
              "      <td>0.288147</td>\n",
              "      <td>0.0</td>\n",
              "      <td>0.224842</td>\n",
              "      <td>-0.068567</td>\n",
              "    </tr>\n",
              "    <tr>\n",
              "      <th>1</th>\n",
              "      <td>(IYR, IYZ, XLE)</td>\n",
              "      <td>(+LEI, +CEI, +LEI)</td>\n",
              "      <td>0.722724</td>\n",
              "      <td>0.277276</td>\n",
              "      <td>0.0</td>\n",
              "      <td>0.209593</td>\n",
              "      <td>-0.146667</td>\n",
              "    </tr>\n",
              "    <tr>\n",
              "      <th>2</th>\n",
              "      <td>(IYR, IYZ, XLF)</td>\n",
              "      <td>(+LEI, +CEI, +LEI)</td>\n",
              "      <td>0.760126</td>\n",
              "      <td>0.239874</td>\n",
              "      <td>0.0</td>\n",
              "      <td>0.243802</td>\n",
              "      <td>-0.108299</td>\n",
              "    </tr>\n",
              "    <tr>\n",
              "      <th>3</th>\n",
              "      <td>(IYR, IYZ, XLI)</td>\n",
              "      <td>(+LEI, +CEI, +CEI)</td>\n",
              "      <td>0.57947</td>\n",
              "      <td>0.42053</td>\n",
              "      <td>0.0</td>\n",
              "      <td>0.231380</td>\n",
              "      <td>-0.084194</td>\n",
              "    </tr>\n",
              "    <tr>\n",
              "      <th>4</th>\n",
              "      <td>(IYR, IYZ, XLK)</td>\n",
              "      <td>(+LEI, +CEI, -LEI)</td>\n",
              "      <td>0.593282</td>\n",
              "      <td>0.406718</td>\n",
              "      <td>0.0</td>\n",
              "      <td>0.215078</td>\n",
              "      <td>-0.095956</td>\n",
              "    </tr>\n",
              "    <tr>\n",
              "      <th>...</th>\n",
              "      <td>...</td>\n",
              "      <td>...</td>\n",
              "      <td>...</td>\n",
              "      <td>...</td>\n",
              "      <td>...</td>\n",
              "      <td>...</td>\n",
              "      <td>...</td>\n",
              "    </tr>\n",
              "    <tr>\n",
              "      <th>160</th>\n",
              "      <td>(XLK, XLV, XLY)</td>\n",
              "      <td>(-LEI, +LEI, +LAG)</td>\n",
              "      <td>0.3522</td>\n",
              "      <td>0.0</td>\n",
              "      <td>0.6478</td>\n",
              "      <td>0.167103</td>\n",
              "      <td>0.100271</td>\n",
              "    </tr>\n",
              "    <tr>\n",
              "      <th>161</th>\n",
              "      <td>(XLP, XLU, XLV)</td>\n",
              "      <td>(+LEI, +LAG, +LEI)</td>\n",
              "      <td>0.612661</td>\n",
              "      <td>0.0</td>\n",
              "      <td>0.387339</td>\n",
              "      <td>0.242101</td>\n",
              "      <td>0.004397</td>\n",
              "    </tr>\n",
              "    <tr>\n",
              "      <th>162</th>\n",
              "      <td>(XLP, XLU, XLY)</td>\n",
              "      <td>(+LEI, +LAG, +LAG)</td>\n",
              "      <td>0.280164</td>\n",
              "      <td>0.0</td>\n",
              "      <td>0.719836</td>\n",
              "      <td>0.257734</td>\n",
              "      <td>0.035378</td>\n",
              "    </tr>\n",
              "    <tr>\n",
              "      <th>163</th>\n",
              "      <td>(XLP, XLV, XLY)</td>\n",
              "      <td>(+LEI, +LEI, +LAG)</td>\n",
              "      <td>0.883626</td>\n",
              "      <td>0.0</td>\n",
              "      <td>0.116374</td>\n",
              "      <td>0.248777</td>\n",
              "      <td>0.075594</td>\n",
              "    </tr>\n",
              "    <tr>\n",
              "      <th>164</th>\n",
              "      <td>(XLU, XLV, XLY)</td>\n",
              "      <td>(+LAG, +LEI, +LAG)</td>\n",
              "      <td>0.142871</td>\n",
              "      <td>0.0</td>\n",
              "      <td>0.857129</td>\n",
              "      <td>0.245400</td>\n",
              "      <td>0.032243</td>\n",
              "    </tr>\n",
              "  </tbody>\n",
              "</table>\n",
              "<p>165 rows × 7 columns</p>\n",
              "</div>"
            ],
            "text/plain": [
              "           Portfolio            IndicCat OptWt_LEI OptWt_CEI OptWt_LAG  \\\n",
              "0    (IYR, IYZ, XLB)  (+LEI, +CEI, +LEI)  0.711853  0.288147       0.0   \n",
              "1    (IYR, IYZ, XLE)  (+LEI, +CEI, +LEI)  0.722724  0.277276       0.0   \n",
              "2    (IYR, IYZ, XLF)  (+LEI, +CEI, +LEI)  0.760126  0.239874       0.0   \n",
              "3    (IYR, IYZ, XLI)  (+LEI, +CEI, +CEI)   0.57947   0.42053       0.0   \n",
              "4    (IYR, IYZ, XLK)  (+LEI, +CEI, -LEI)  0.593282  0.406718       0.0   \n",
              "..               ...                 ...       ...       ...       ...   \n",
              "160  (XLK, XLV, XLY)  (-LEI, +LEI, +LAG)    0.3522       0.0    0.6478   \n",
              "161  (XLP, XLU, XLV)  (+LEI, +LAG, +LEI)  0.612661       0.0  0.387339   \n",
              "162  (XLP, XLU, XLY)  (+LEI, +LAG, +LAG)  0.280164       0.0  0.719836   \n",
              "163  (XLP, XLV, XLY)  (+LEI, +LEI, +LAG)  0.883626       0.0  0.116374   \n",
              "164  (XLU, XLV, XLY)  (+LAG, +LEI, +LAG)  0.142871       0.0  0.857129   \n",
              "\n",
              "     ExpRet2019  ExpRet2020  \n",
              "0      0.224842   -0.068567  \n",
              "1      0.209593   -0.146667  \n",
              "2      0.243802   -0.108299  \n",
              "3      0.231380   -0.084194  \n",
              "4      0.215078   -0.095956  \n",
              "..          ...         ...  \n",
              "160    0.167103    0.100271  \n",
              "161    0.242101    0.004397  \n",
              "162    0.257734    0.035378  \n",
              "163    0.248777    0.075594  \n",
              "164    0.245400    0.032243  \n",
              "\n",
              "[165 rows x 7 columns]"
            ]
          },
          "execution_count": 69,
          "metadata": {},
          "output_type": "execute_result"
        }
      ],
      "source": [
        "indicComb2 = pd.DataFrame(index = df3etf_constVol.index, columns = ['OptWt_LEI', 'OptWt_CEI', 'OptWt_LAG'])\n",
        "\n",
        "for (i, j) in zip(df3etf_constVol['IndicCat'], df3etf_constVol['IndicCat'].index):\n",
        "    indicComb2['OptWt_LEI'].loc[j] = ((df3etf_constVol['OptWt_ETF1'].loc[j] * (i[0][-3:] == 'LEI')) +\n",
        "                                      (df3etf_constVol['OptWt_ETF2'].loc[j] * (i[1][-3:] == 'LEI')) +\n",
        "                                      (df3etf_constVol['OptWt_ETF3'].loc[j] * (i[2][-3:] == 'LEI')))\n",
        "    \n",
        "    indicComb2['OptWt_CEI'].loc[j] = ((df3etf_constVol['OptWt_ETF1'].loc[j] * (i[0][-3:] == 'CEI')) +\n",
        "                                      (df3etf_constVol['OptWt_ETF2'].loc[j] * (i[1][-3:] == 'CEI')) +\n",
        "                                      (df3etf_constVol['OptWt_ETF3'].loc[j] * (i[2][-3:] == 'CEI')))\n",
        "    \n",
        "    indicComb2['OptWt_LAG'].loc[j] = ((df3etf_constVol['OptWt_ETF1'].loc[j] * (i[0][-3:] == 'LAG')) +\n",
        "                                      (df3etf_constVol['OptWt_ETF2'].loc[j] * (i[1][-3:] == 'LAG')) +\n",
        "                                      (df3etf_constVol['OptWt_ETF3'].loc[j] * (i[2][-3:] == 'LAG')))\n",
        "\n",
        "indicComb2.insert(0, 'Portfolio', df3etf_constVol['Portfolio'])\n",
        "indicComb2.insert(1, 'IndicCat', df3etf_constVol['IndicCat'])\n",
        "indicComb2.insert(5, 'ExpRet2019', df3etf_constVol['ExpRet2019'])\n",
        "indicComb2.insert(6, 'ExpRet2020', df3etf_constVol['ExpRet2020'])\n",
        "\n",
        "indicComb2"
      ]
    },
    {
      "cell_type": "markdown",
      "id": "400b37b3-fc47-42e6-8568-efb3bde2bb8d",
      "metadata": {
        "id": "400b37b3-fc47-42e6-8568-efb3bde2bb8d"
      },
      "source": [
        "We now visualise how the 2019 and 2020 expected returns evolve as the weight allocated to a certain indicator bucket increases."
      ]
    },
    {
      "cell_type": "code",
      "execution_count": null,
      "id": "d4b07f2d-97f0-4d09-92b5-41b87132e42b",
      "metadata": {
        "id": "d4b07f2d-97f0-4d09-92b5-41b87132e42b",
        "outputId": "82aa0cc0-c71b-4341-a413-c57a6063691a"
      },
      "outputs": [
        {
          "data": {
            "text/plain": [
              "Text(0, 0.5, 'Portfolio Expected Return')"
            ]
          },
          "execution_count": 70,
          "metadata": {},
          "output_type": "execute_result"
        },
        {
          "data": {
            "image/png": "[encoded data removed]",
            "text/plain": [
              "<Figure size 432x288 with 1 Axes>"
            ]
          },
          "metadata": {
            "needs_background": "light"
          },
          "output_type": "display_data"
        }
      ],
      "source": [
        "dataPlotLeiRet19 = indicComb2[['OptWt_LEI', 'ExpRet2019']].sort_values(by = 'OptWt_LEI', ascending = True)\n",
        "plt.plot(dataPlotLeiRet19['OptWt_LEI'], dataPlotLeiRet19['ExpRet2019'], '.')\n",
        "plt.title('Impact of Exposure to LEI on Portfolio Return in 2019')\n",
        "plt.xlabel('Weight Allocated to LEI')\n",
        "plt.ylabel('Portfolio Expected Return')"
      ]
    },
    {
      "cell_type": "code",
      "execution_count": null,
      "id": "16794b9a-87d9-4874-a78d-1d20fc1b90a6",
      "metadata": {
        "id": "16794b9a-87d9-4874-a78d-1d20fc1b90a6",
        "outputId": "61a5b143-8613-4cc1-e9a8-f394224cdd76"
      },
      "outputs": [
        {
          "data": {
            "text/plain": [
              "Text(0, 0.5, 'Portfolio Expected Return')"
            ]
          },
          "execution_count": 71,
          "metadata": {},
          "output_type": "execute_result"
        },
        {
          "data": {
            "image/png": "[encoded data removed]",
            "text/plain": [
              "<Figure size 432x288 with 1 Axes>"
            ]
          },
          "metadata": {
            "needs_background": "light"
          },
          "output_type": "display_data"
        }
      ],
      "source": [
        "dataPlotLeiRet20 = indicComb2[['OptWt_LEI', 'ExpRet2020']].sort_values(by = 'OptWt_LEI', ascending = True)\n",
        "plt.plot(dataPlotLeiRet20['OptWt_LEI'], dataPlotLeiRet20['ExpRet2020'], '.')\n",
        "plt.title('Impact of Exposure to LEI on Portfolio Return in 2020')\n",
        "plt.xlabel('Weight Allocated to LEI')\n",
        "plt.ylabel('Portfolio Expected Return')"
      ]
    },
    {
      "cell_type": "markdown",
      "id": "c472a5dd-91b9-41a9-a82d-7f9907f4d1e6",
      "metadata": {
        "id": "c472a5dd-91b9-41a9-a82d-7f9907f4d1e6"
      },
      "source": [
        "Increasing a portfolio's exposure to LEI tended to increase returns over 2019 and decrease returns over 2020."
      ]
    },
    {
      "cell_type": "code",
      "execution_count": null,
      "id": "5c6b7563-63c6-4c1c-b24a-ed5727f65b1c",
      "metadata": {
        "id": "5c6b7563-63c6-4c1c-b24a-ed5727f65b1c",
        "outputId": "b5b0c24e-612d-47e5-c1b0-cae240cac8fe"
      },
      "outputs": [
        {
          "data": {
            "text/plain": [
              "Text(0, 0.5, 'Portfolio Expected Return')"
            ]
          },
          "execution_count": 72,
          "metadata": {},
          "output_type": "execute_result"
        },
        {
          "data": {
            "image/png": "[encoded data removed]",
            "text/plain": [
              "<Figure size 432x288 with 1 Axes>"
            ]
          },
          "metadata": {
            "needs_background": "light"
          },
          "output_type": "display_data"
        }
      ],
      "source": [
        "dataPlotCeiRet19 = indicComb2[['OptWt_CEI', 'ExpRet2019']].sort_values(by = 'OptWt_CEI', ascending = True)\n",
        "plt.plot(dataPlotCeiRet19['OptWt_CEI'], dataPlotCeiRet19['ExpRet2019'], '.')\n",
        "plt.title('Impact of Exposure to CEI on Portfolio Return in 2019')\n",
        "plt.xlabel('Weight Allocated to CEI')\n",
        "plt.ylabel('Portfolio Expected Return')"
      ]
    },
    {
      "cell_type": "code",
      "execution_count": null,
      "id": "9d4055ab-2156-420a-b63d-42afefb7b6f8",
      "metadata": {
        "id": "9d4055ab-2156-420a-b63d-42afefb7b6f8",
        "outputId": "57686870-dd92-4cab-8650-0cf725ef75d1"
      },
      "outputs": [
        {
          "data": {
            "text/plain": [
              "Text(0, 0.5, 'Portfolio Expected Return')"
            ]
          },
          "execution_count": 73,
          "metadata": {},
          "output_type": "execute_result"
        },
        {
          "data": {
            "image/png": "[encoded data removed]",
            "text/plain": [
              "<Figure size 432x288 with 1 Axes>"
            ]
          },
          "metadata": {
            "needs_background": "light"
          },
          "output_type": "display_data"
        }
      ],
      "source": [
        "dataPlotCeiRet20 = indicComb2[['OptWt_CEI', 'ExpRet2020']].sort_values(by = 'OptWt_CEI', ascending = True)\n",
        "plt.plot(dataPlotCeiRet20['OptWt_CEI'], dataPlotCeiRet20['ExpRet2020'], '.')\n",
        "plt.title('Impact of Exposure to CEI on Portfolio Return in 2020')\n",
        "plt.xlabel('Weight Allocated to CEI')\n",
        "plt.ylabel('Portfolio Expected Return')"
      ]
    },
    {
      "cell_type": "markdown",
      "id": "4937dd2f-c29d-4185-ada0-b2419b6d76fc",
      "metadata": {
        "id": "4937dd2f-c29d-4185-ada0-b2419b6d76fc"
      },
      "source": [
        "Increasing a portfolio's exposure to CEI tended to decrease returns over 2019. However, the effect of CEI on 2020 returns appears to be ambiguous upon visual inspection."
      ]
    },
    {
      "cell_type": "code",
      "execution_count": null,
      "id": "422937d4-fdb0-401d-8929-f9f8e8713d15",
      "metadata": {
        "id": "422937d4-fdb0-401d-8929-f9f8e8713d15",
        "outputId": "269dd356-c0e5-4c12-a4e4-e5633c42d5d4"
      },
      "outputs": [
        {
          "data": {
            "text/plain": [
              "Text(0, 0.5, 'Portfolio Expected Return')"
            ]
          },
          "execution_count": 74,
          "metadata": {},
          "output_type": "execute_result"
        },
        {
          "data": {
            "image/png": "[encoded data removed]",
            "text/plain": [
              "<Figure size 432x288 with 1 Axes>"
            ]
          },
          "metadata": {
            "needs_background": "light"
          },
          "output_type": "display_data"
        }
      ],
      "source": [
        "dataPlotLagRet19 = indicComb2[['OptWt_LAG', 'ExpRet2019']].sort_values(by = 'OptWt_LAG', ascending = True)\n",
        "plt.plot(dataPlotLagRet19['OptWt_LAG'], dataPlotLagRet19['ExpRet2019'], '.')\n",
        "plt.title('Impact of Exposure to LAG on Portfolio Return in 2019')\n",
        "plt.xlabel('Weight Allocated to LAG')\n",
        "plt.ylabel('Portfolio Expected Return')"
      ]
    },
    {
      "cell_type": "code",
      "execution_count": null,
      "id": "ec45e96a-cc2d-4874-aba4-d7f1edf90b76",
      "metadata": {
        "id": "ec45e96a-cc2d-4874-aba4-d7f1edf90b76",
        "outputId": "bcbc82e5-0110-4d4c-800e-c31d6857489e"
      },
      "outputs": [
        {
          "data": {
            "text/plain": [
              "Text(0, 0.5, 'Portfolio Expected Return')"
            ]
          },
          "execution_count": 75,
          "metadata": {},
          "output_type": "execute_result"
        },
        {
          "data": {
            "image/png": "[encoded data removed]",
            "text/plain": [
              "<Figure size 432x288 with 1 Axes>"
            ]
          },
          "metadata": {
            "needs_background": "light"
          },
          "output_type": "display_data"
        }
      ],
      "source": [
        "dataPlotLagRet20 = indicComb2[['OptWt_LAG', 'ExpRet2020']].sort_values(by = 'OptWt_LAG', ascending = True)\n",
        "plt.plot(dataPlotLagRet20['OptWt_LAG'], dataPlotLagRet20['ExpRet2020'], '.')\n",
        "plt.title('Impact of Exposure to LAG on Portfolio Return in 2020')\n",
        "plt.xlabel('Weight Allocated to LAG')\n",
        "plt.ylabel('Portfolio Expected Return')"
      ]
    },
    {
      "cell_type": "markdown",
      "id": "4d6bfb20-eaf9-4909-afa0-826b91a98cb3",
      "metadata": {
        "id": "4d6bfb20-eaf9-4909-afa0-826b91a98cb3"
      },
      "source": [
        "Increasing a portfolio's exposure to LAG appears to have a marginal negative impact on 2019 returns and a relatively stronger positive impact on 2020 returns."
      ]
    },
    {
      "cell_type": "markdown",
      "id": "20308934-695d-469f-b8c3-0920b2e354c9",
      "metadata": {
        "tags": [],
        "id": "20308934-695d-469f-b8c3-0920b2e354c9"
      },
      "source": [
        "## Part 7: Category 4 Portfolios: Using Principal Components"
      ]
    },
    {
      "cell_type": "markdown",
      "id": "dd5b9292-c27b-477f-bd63-1fec4fbd1712",
      "metadata": {
        "tags": [],
        "id": "dd5b9292-c27b-477f-bd63-1fec4fbd1712"
      },
      "source": [
        "### 7.1 Compute the PCA from the correlation matrix of the 11 ETFs."
      ]
    },
    {
      "cell_type": "markdown",
      "id": "3752e20e-2041-4f7f-9838-e666cb51231d",
      "metadata": {
        "id": "3752e20e-2041-4f7f-9838-e666cb51231d"
      },
      "source": [
        "We use daily returns instead of log returns for this analysis since the mean_historical_return function does not take log returns as an input."
      ]
    },
    {
      "cell_type": "code",
      "execution_count": null,
      "id": "c3f79e8b-4faa-4932-a8c1-27879542a767",
      "metadata": {
        "id": "c3f79e8b-4faa-4932-a8c1-27879542a767",
        "outputId": "976b4ca0-c70f-4ae4-957f-0ba00f45ae69"
      },
      "outputs": [
        {
          "data": {
            "text/html": [
              "<div>\n",
              "<style scoped>\n",
              "    .dataframe tbody tr th:only-of-type {\n",
              "        vertical-align: middle;\n",
              "    }\n",
              "\n",
              "    .dataframe tbody tr th {\n",
              "        vertical-align: top;\n",
              "    }\n",
              "\n",
              "    .dataframe thead th {\n",
              "        text-align: right;\n",
              "    }\n",
              "</style>\n",
              "<table border=\"1\" class=\"dataframe\">\n",
              "  <thead>\n",
              "    <tr style=\"text-align: right;\">\n",
              "      <th></th>\n",
              "      <th>IYR</th>\n",
              "      <th>IYZ</th>\n",
              "      <th>XLB</th>\n",
              "      <th>XLE</th>\n",
              "      <th>XLF</th>\n",
              "      <th>XLI</th>\n",
              "      <th>XLK</th>\n",
              "      <th>XLP</th>\n",
              "      <th>XLU</th>\n",
              "      <th>XLV</th>\n",
              "      <th>XLY</th>\n",
              "    </tr>\n",
              "    <tr>\n",
              "      <th>Date</th>\n",
              "      <th></th>\n",
              "      <th></th>\n",
              "      <th></th>\n",
              "      <th></th>\n",
              "      <th></th>\n",
              "      <th></th>\n",
              "      <th></th>\n",
              "      <th></th>\n",
              "      <th></th>\n",
              "      <th></th>\n",
              "      <th></th>\n",
              "    </tr>\n",
              "  </thead>\n",
              "  <tbody>\n",
              "    <tr>\n",
              "      <th>2019-01-02</th>\n",
              "      <td>-0.021617</td>\n",
              "      <td>0.007590</td>\n",
              "      <td>0.005146</td>\n",
              "      <td>0.019703</td>\n",
              "      <td>0.008396</td>\n",
              "      <td>0.005123</td>\n",
              "      <td>0.000645</td>\n",
              "      <td>-0.005908</td>\n",
              "      <td>-0.017196</td>\n",
              "      <td>-0.015143</td>\n",
              "      <td>0.007575</td>\n",
              "    </tr>\n",
              "    <tr>\n",
              "      <th>2019-01-03</th>\n",
              "      <td>0.006410</td>\n",
              "      <td>-0.015442</td>\n",
              "      <td>-0.028358</td>\n",
              "      <td>-0.009918</td>\n",
              "      <td>-0.022481</td>\n",
              "      <td>-0.030429</td>\n",
              "      <td>-0.050468</td>\n",
              "      <td>-0.005745</td>\n",
              "      <td>-0.000192</td>\n",
              "      <td>-0.020305</td>\n",
              "      <td>-0.021652</td>\n",
              "    </tr>\n",
              "    <tr>\n",
              "      <th>2019-01-04</th>\n",
              "      <td>0.010706</td>\n",
              "      <td>0.030604</td>\n",
              "      <td>0.039319</td>\n",
              "      <td>0.034024</td>\n",
              "      <td>0.033220</td>\n",
              "      <td>0.037916</td>\n",
              "      <td>0.044320</td>\n",
              "      <td>0.021319</td>\n",
              "      <td>0.014808</td>\n",
              "      <td>0.029831</td>\n",
              "      <td>0.033094</td>\n",
              "    </tr>\n",
              "    <tr>\n",
              "      <th>2019-01-07</th>\n",
              "      <td>0.010056</td>\n",
              "      <td>0.014105</td>\n",
              "      <td>0.003510</td>\n",
              "      <td>0.014866</td>\n",
              "      <td>0.001237</td>\n",
              "      <td>0.008135</td>\n",
              "      <td>0.008943</td>\n",
              "      <td>-0.001366</td>\n",
              "      <td>-0.006822</td>\n",
              "      <td>0.003839</td>\n",
              "      <td>0.022612</td>\n",
              "    </tr>\n",
              "    <tr>\n",
              "      <th>2019-01-08</th>\n",
              "      <td>0.018186</td>\n",
              "      <td>0.015373</td>\n",
              "      <td>0.010494</td>\n",
              "      <td>0.007735</td>\n",
              "      <td>0.000823</td>\n",
              "      <td>0.013703</td>\n",
              "      <td>0.008380</td>\n",
              "      <td>0.009182</td>\n",
              "      <td>0.012402</td>\n",
              "      <td>0.007765</td>\n",
              "      <td>0.011056</td>\n",
              "    </tr>\n",
              "    <tr>\n",
              "      <th>...</th>\n",
              "      <td>...</td>\n",
              "      <td>...</td>\n",
              "      <td>...</td>\n",
              "      <td>...</td>\n",
              "      <td>...</td>\n",
              "      <td>...</td>\n",
              "      <td>...</td>\n",
              "      <td>...</td>\n",
              "      <td>...</td>\n",
              "      <td>...</td>\n",
              "      <td>...</td>\n",
              "    </tr>\n",
              "    <tr>\n",
              "      <th>2019-12-23</th>\n",
              "      <td>-0.005652</td>\n",
              "      <td>-0.000334</td>\n",
              "      <td>0.002792</td>\n",
              "      <td>0.010267</td>\n",
              "      <td>-0.002282</td>\n",
              "      <td>0.008227</td>\n",
              "      <td>0.002859</td>\n",
              "      <td>-0.004279</td>\n",
              "      <td>-0.009289</td>\n",
              "      <td>0.003992</td>\n",
              "      <td>-0.002328</td>\n",
              "    </tr>\n",
              "    <tr>\n",
              "      <th>2019-12-24</th>\n",
              "      <td>0.002733</td>\n",
              "      <td>-0.003010</td>\n",
              "      <td>0.001146</td>\n",
              "      <td>-0.000484</td>\n",
              "      <td>0.002287</td>\n",
              "      <td>-0.004019</td>\n",
              "      <td>0.000329</td>\n",
              "      <td>0.001273</td>\n",
              "      <td>0.001407</td>\n",
              "      <td>-0.001261</td>\n",
              "      <td>0.002253</td>\n",
              "    </tr>\n",
              "    <tr>\n",
              "      <th>2019-12-26</th>\n",
              "      <td>0.005342</td>\n",
              "      <td>0.002348</td>\n",
              "      <td>0.004418</td>\n",
              "      <td>-0.000323</td>\n",
              "      <td>0.005541</td>\n",
              "      <td>0.002323</td>\n",
              "      <td>0.007453</td>\n",
              "      <td>0.000954</td>\n",
              "      <td>0.001717</td>\n",
              "      <td>-0.000680</td>\n",
              "      <td>0.012205</td>\n",
              "    </tr>\n",
              "    <tr>\n",
              "      <th>2019-12-27</th>\n",
              "      <td>0.002711</td>\n",
              "      <td>0.000669</td>\n",
              "      <td>-0.003747</td>\n",
              "      <td>-0.004197</td>\n",
              "      <td>-0.002593</td>\n",
              "      <td>-0.000854</td>\n",
              "      <td>-0.000109</td>\n",
              "      <td>0.004447</td>\n",
              "      <td>0.002960</td>\n",
              "      <td>0.000291</td>\n",
              "      <td>-0.000079</td>\n",
              "    </tr>\n",
              "    <tr>\n",
              "      <th>2019-12-30</th>\n",
              "      <td>0.000757</td>\n",
              "      <td>-0.002676</td>\n",
              "      <td>-0.003107</td>\n",
              "      <td>-0.003156</td>\n",
              "      <td>-0.002925</td>\n",
              "      <td>-0.004640</td>\n",
              "      <td>-0.005767</td>\n",
              "      <td>-0.005217</td>\n",
              "      <td>-0.000155</td>\n",
              "      <td>-0.006003</td>\n",
              "      <td>-0.006426</td>\n",
              "    </tr>\n",
              "  </tbody>\n",
              "</table>\n",
              "<p>251 rows × 11 columns</p>\n",
              "</div>"
            ],
            "text/plain": [
              "                 IYR       IYZ       XLB       XLE       XLF       XLI  \\\n",
              "Date                                                                     \n",
              "2019-01-02 -0.021617  0.007590  0.005146  0.019703  0.008396  0.005123   \n",
              "2019-01-03  0.006410 -0.015442 -0.028358 -0.009918 -0.022481 -0.030429   \n",
              "2019-01-04  0.010706  0.030604  0.039319  0.034024  0.033220  0.037916   \n",
              "2019-01-07  0.010056  0.014105  0.003510  0.014866  0.001237  0.008135   \n",
              "2019-01-08  0.018186  0.015373  0.010494  0.007735  0.000823  0.013703   \n",
              "...              ...       ...       ...       ...       ...       ...   \n",
              "2019-12-23 -0.005652 -0.000334  0.002792  0.010267 -0.002282  0.008227   \n",
              "2019-12-24  0.002733 -0.003010  0.001146 -0.000484  0.002287 -0.004019   \n",
              "2019-12-26  0.005342  0.002348  0.004418 -0.000323  0.005541  0.002323   \n",
              "2019-12-27  0.002711  0.000669 -0.003747 -0.004197 -0.002593 -0.000854   \n",
              "2019-12-30  0.000757 -0.002676 -0.003107 -0.003156 -0.002925 -0.004640   \n",
              "\n",
              "                 XLK       XLP       XLU       XLV       XLY  \n",
              "Date                                                          \n",
              "2019-01-02  0.000645 -0.005908 -0.017196 -0.015143  0.007575  \n",
              "2019-01-03 -0.050468 -0.005745 -0.000192 -0.020305 -0.021652  \n",
              "2019-01-04  0.044320  0.021319  0.014808  0.029831  0.033094  \n",
              "2019-01-07  0.008943 -0.001366 -0.006822  0.003839  0.022612  \n",
              "2019-01-08  0.008380  0.009182  0.012402  0.007765  0.011056  \n",
              "...              ...       ...       ...       ...       ...  \n",
              "2019-12-23  0.002859 -0.004279 -0.009289  0.003992 -0.002328  \n",
              "2019-12-24  0.000329  0.001273  0.001407 -0.001261  0.002253  \n",
              "2019-12-26  0.007453  0.000954  0.001717 -0.000680  0.012205  \n",
              "2019-12-27 -0.000109  0.004447  0.002960  0.000291 -0.000079  \n",
              "2019-12-30 -0.005767 -0.005217 -0.000155 -0.006003 -0.006426  \n",
              "\n",
              "[251 rows x 11 columns]"
            ]
          },
          "execution_count": 76,
          "metadata": {},
          "output_type": "execute_result"
        }
      ],
      "source": [
        "etfsDailyRet2019 = (etfsPrices/etfsPrices.shift(1)-1)[1:]\n",
        "etfsDailyRet2019"
      ]
    },
    {
      "cell_type": "markdown",
      "id": "db397f8d-db44-419d-a693-559fc0509ee6",
      "metadata": {
        "id": "db397f8d-db44-419d-a693-559fc0509ee6"
      },
      "source": [
        "The above 11-dimensional dataset is reduced to a 3-dimensional dataset using Principal Component Analysis. Since the implementation of the PCA algorithm in sci-kit learn automatically computes the covariance matrix, we do not compute it explicitly here."
      ]
    },
    {
      "cell_type": "code",
      "execution_count": null,
      "id": "74b06e22-0449-45ce-acfc-d20b3eb84b36",
      "metadata": {
        "id": "74b06e22-0449-45ce-acfc-d20b3eb84b36",
        "outputId": "be301d17-e6fe-4f10-9323-0fa7eb5c4178"
      },
      "outputs": [
        {
          "data": {
            "text/plain": [
              "array([[ 7.39487514e-03,  3.73930312e-02, -3.15738914e-03],\n",
              "       [-7.37798017e-02, -1.09606662e-03,  2.58637724e-02],\n",
              "       [ 1.00732384e-01, -7.47533407e-03, -8.75236934e-04],\n",
              "       [ 2.39973999e-02,  4.88630796e-03,  1.92190695e-03],\n",
              "       [ 2.69321254e-02, -1.62352002e-02,  6.93070577e-03],\n",
              "       [ 1.15083823e-02,  1.57430450e-02,  2.41373549e-03],\n",
              "       [ 1.29143614e-02, -1.25876437e-02,  6.21543579e-03],\n",
              "       [-2.87755888e-03, -3.73602219e-03, -3.14005776e-03],\n",
              "       [-1.78641720e-02,  2.04294799e-02, -6.71668977e-03],\n",
              "       [ 1.70973895e-02, -1.77516727e-02,  6.22555385e-03],\n",
              "       [ 3.41986621e-03,  1.52698154e-03, -2.05389829e-03],\n",
              "       [ 2.34473320e-02, -4.28190344e-04,  8.36236996e-04],\n",
              "       [ 4.34729577e-02,  3.75706307e-03,  2.81007187e-03],\n",
              "       [-4.66070666e-02, -5.53398458e-03, -1.88548247e-03],\n",
              "       [-8.94706409e-04, -1.47061385e-02, -3.28740436e-03],\n",
              "       [ 1.21039150e-03,  5.46280918e-03,  1.40456501e-03],\n",
              "       [ 2.66673058e-02,  1.15274424e-02, -6.37265517e-03],\n",
              "       [-2.27469738e-02, -3.91471543e-03,  1.61394094e-05],\n",
              "       [-5.19227798e-04, -1.74684614e-03,  7.38469550e-03],\n",
              "       [ 3.88014900e-02, -5.88113387e-03, -1.96455187e-03],\n",
              "       [ 1.12392544e-02, -2.37600324e-02,  1.92008216e-02],\n",
              "       [ 3.14126121e-03,  1.73191359e-02,  9.57190537e-03],\n",
              "       [ 1.29664582e-02, -2.77069683e-03, -4.12219207e-03],\n",
              "       [ 7.93948314e-03, -1.69748526e-03, -3.69158136e-03],\n",
              "       [-7.35425528e-03, -4.49066328e-04, -5.69333572e-03],\n",
              "       [-3.45637852e-02, -1.80101431e-02,  2.64451722e-04],\n",
              "       [ 3.81417914e-04, -7.45481926e-03, -1.83673713e-03],\n",
              "       [ 5.16794490e-03,  2.14407877e-03,  2.66310903e-03],\n",
              "       [ 3.77898646e-02,  4.88480725e-03, -5.13717151e-03],\n",
              "       [ 9.98353000e-03,  5.77676185e-03,  6.82607800e-03],\n",
              "       [-1.07844714e-02,  3.22722235e-03,  5.57964644e-03],\n",
              "       [ 3.90805223e-02, -6.53298951e-04,  5.60471758e-03],\n",
              "       [ 4.23179251e-03, -2.04201160e-03,  2.28762325e-03],\n",
              "       [ 1.06869502e-02,  6.46506494e-03, -3.18904521e-03],\n",
              "       [-1.63657878e-02, -1.04564644e-02, -7.03922831e-03],\n",
              "       [ 1.39719464e-02, -5.30208994e-03, -8.25408678e-04],\n",
              "       [ 1.82244966e-03,  1.17279201e-02, -6.40719666e-03],\n",
              "       [-8.67502020e-03,  1.34708562e-03, -2.65916527e-03],\n",
              "       [-1.27831003e-03,  6.29252960e-03,  1.93755001e-03],\n",
              "       [-1.63621212e-02, -9.67675741e-03,  1.02331265e-03],\n",
              "       [ 1.48022581e-02,  7.23749710e-03,  1.10397878e-02],\n",
              "       [-1.37902686e-02,  3.34382750e-03,  3.94925878e-03],\n",
              "       [-1.21682460e-02, -1.56463499e-03,  7.81380197e-04],\n",
              "       [-2.28994541e-02,  9.17421823e-04, -7.93508547e-03],\n",
              "       [-2.53156918e-02,  6.07848176e-04,  4.40000273e-03],\n",
              "       [-1.31610084e-02, -9.74905304e-03, -1.12670663e-02],\n",
              "       [ 3.97228227e-02, -1.00420375e-02,  4.74230416e-03],\n",
              "       [ 5.17603231e-03, -4.32505464e-03,  6.68047598e-03],\n",
              "       [ 1.73227887e-02, -1.78624431e-04,  4.86222120e-03],\n",
              "       [-5.55497007e-03,  1.69573503e-03,  2.51519690e-03],\n",
              "       [ 9.89674542e-03, -4.04394613e-03, -4.52321539e-03],\n",
              "       [ 1.46187150e-02,  1.41549486e-02,  1.46536714e-03],\n",
              "       [-7.11057809e-03,  4.33952797e-03, -5.74043271e-03],\n",
              "       [-1.34838609e-02,  2.53262827e-03,  1.15901842e-02],\n",
              "       [ 3.09754343e-02, -1.70964881e-02,  1.50539500e-04],\n",
              "       [-6.58600163e-02, -1.18725824e-02,  3.68128466e-03],\n",
              "       [-3.88270050e-03, -1.65455104e-04,  1.86144653e-03],\n",
              "       [ 2.27989026e-02, -2.92722216e-03,  1.02514005e-02],\n",
              "       [-1.43844145e-02,  5.89188888e-03, -6.33504387e-03],\n",
              "       [ 1.08864527e-02,  5.15980874e-03, -4.96923447e-03],\n",
              "       [ 1.66808882e-02, -7.08967692e-03, -5.53322731e-03],\n",
              "       [ 3.56739707e-02,  1.57799675e-02, -8.53944924e-03],\n",
              "       [-5.00420050e-03, -2.79113666e-03, -5.67811454e-03],\n",
              "       [ 4.34743258e-03, -1.10397943e-03, -1.55448973e-02],\n",
              "       [ 8.23987357e-03,  8.89174071e-03,  1.00093481e-03],\n",
              "       [ 1.35778333e-02, -1.85705432e-03,  1.60961817e-02],\n",
              "       [ 1.10176556e-03,  7.66889997e-03, -1.78948027e-03],\n",
              "       [-2.56192525e-02, -4.26553291e-03, -1.92950253e-03],\n",
              "       [ 8.38665879e-03, -2.06903524e-03,  6.63597438e-04],\n",
              "       [-3.73618848e-04,  3.41789410e-03, -4.83594467e-04],\n",
              "       [ 1.94076314e-02,  1.76708770e-03, -6.13215974e-03],\n",
              "       [-9.30261119e-03, -3.81926749e-03, -2.41064464e-03],\n",
              "       [ 4.92704513e-03,  2.83349783e-02, -1.28097375e-02],\n",
              "       [-1.29437487e-02,  1.34041646e-02, -8.19135840e-03],\n",
              "       [ 1.89193216e-03, -5.02265831e-03, -3.70249516e-03],\n",
              "       [-1.08807864e-04,  1.55160470e-02,  1.56113162e-02],\n",
              "       [ 1.68291034e-02, -9.29595111e-03, -4.72531928e-03],\n",
              "       [-1.18510019e-02, -1.52443596e-02, -7.51446220e-03],\n",
              "       [-2.05575311e-02, -2.57673872e-03,  5.93737156e-03],\n",
              "       [ 7.54936668e-03, -1.33806924e-02, -9.60895730e-03],\n",
              "       [-1.46007480e-03,  1.00548597e-02, -5.54585608e-03],\n",
              "       [ 6.76348553e-03, -1.76819430e-02,  6.85555144e-03],\n",
              "       [-3.32570898e-02,  1.04146282e-03, -1.07207953e-02],\n",
              "       [-1.25541246e-02, -7.04354053e-03, -1.05828451e-02],\n",
              "       [ 2.43883020e-02, -4.22277259e-03,  2.07964101e-03],\n",
              "       [-2.05428166e-02,  4.49254536e-03,  7.62549256e-03],\n",
              "       [-5.25989634e-02,  1.41660407e-02,  4.05920807e-03],\n",
              "       [-4.97490545e-03,  7.92354535e-03, -3.71072390e-03],\n",
              "       [-1.38091823e-02,  2.42713983e-03,  5.20558395e-03],\n",
              "       [ 1.48912816e-02, -1.44300090e-02,  7.98437753e-03],\n",
              "       [-7.73460485e-02, -5.83186645e-03,  1.89969260e-02],\n",
              "       [ 2.57087843e-02,  6.06223132e-03, -2.75700209e-03],\n",
              "       [ 8.28803960e-03, -3.97089774e-03,  1.81093844e-03],\n",
              "       [ 2.73555421e-02, -7.04223721e-03, -1.09105917e-03],\n",
              "       [-2.27323601e-02, -4.67781975e-03,  9.52839774e-04],\n",
              "       [-1.93524931e-02,  9.48966318e-03,  7.63175339e-03],\n",
              "       [ 2.79236605e-02,  1.41131139e-03,  5.33755966e-04],\n",
              "       [-2.08223351e-02, -1.56029801e-02,  2.01369082e-04],\n",
              "       [-4.73854233e-02, -2.06722735e-02, -6.49896073e-03],\n",
              "       [ 6.14199948e-03,  3.72791042e-03,  3.38659176e-04],\n",
              "       [-3.26243727e-02,  1.77216150e-02, -1.17960123e-02],\n",
              "       [-2.10985931e-02,  1.67296619e-02, -9.30086952e-03],\n",
              "       [-1.39616332e-04, -9.75690986e-03, -1.18392367e-02],\n",
              "       [-4.69249680e-02, -5.04219284e-03,  2.24649156e-03],\n",
              "       [ 1.38544011e-02, -1.01751606e-03,  1.43792559e-02],\n",
              "       [ 6.50439143e-02,  5.57407033e-03, -1.41744326e-02],\n",
              "       [ 2.02133994e-02, -3.21194573e-02, -2.94113480e-03],\n",
              "       [ 2.29527906e-02,  7.66189503e-04,  9.76139002e-03],\n",
              "       [ 2.22595753e-02, -1.39201291e-03, -8.32094258e-03],\n",
              "       [ 8.63222418e-03,  7.33589017e-03, -7.09966106e-03],\n",
              "       [-3.34954182e-03,  2.57796131e-03,  4.36841967e-04],\n",
              "       [-1.08238613e-02, -1.64224545e-02, -2.31759414e-03],\n",
              "       [ 1.26104140e-02,  3.72963768e-03,  5.38220447e-03],\n",
              "       [-1.24559209e-02, -7.29228353e-03,  2.93996916e-03],\n",
              "       [-4.52021904e-03, -8.05320185e-04,  1.14249809e-02],\n",
              "       [ 3.04558622e-02,  1.24700208e-02, -4.58192352e-03],\n",
              "       [ 1.39799057e-03, -1.14614795e-02,  4.70761135e-03],\n",
              "       [ 3.08030180e-02,  3.37705372e-03,  9.49703616e-03],\n",
              "       [-9.63557856e-03,  8.77034365e-03,  8.32698055e-03],\n",
              "       [-9.92102961e-03, -2.89943493e-04, -7.99507440e-03],\n",
              "       [-2.77227033e-02,  9.72106567e-03, -2.01038011e-03],\n",
              "       [-1.58702944e-03,  3.69706090e-02, -7.16556361e-03],\n",
              "       [ 6.98708449e-03, -1.07691653e-02, -5.33110982e-03],\n",
              "       [ 1.47597094e-02,  7.74278585e-03,  4.87427667e-03],\n",
              "       [ 1.72853583e-02, -1.66533308e-03, -8.47437911e-03],\n",
              "       [ 3.65403108e-04, -2.79148563e-02, -2.74823461e-03],\n",
              "       [ 1.99621568e-02, -1.33673406e-02,  3.60506535e-03],\n",
              "       [-7.19719254e-03,  7.25500612e-03,  3.47336987e-04],\n",
              "       [-1.82823814e-02,  2.52343221e-04,  8.53531008e-03],\n",
              "       [-4.20071175e-03, -4.98819456e-04,  2.76232890e-03],\n",
              "       [ 8.62089567e-03, -1.58710606e-03,  1.05218152e-02],\n",
              "       [ 5.50101633e-03,  7.74902496e-03, -4.90940803e-03],\n",
              "       [ 1.75897086e-02,  1.05847274e-02, -1.05670963e-02],\n",
              "       [-5.47378587e-03, -8.43453230e-03, -5.50780883e-03],\n",
              "       [-1.15449473e-02,  2.56917246e-03, -8.64035946e-03],\n",
              "       [-2.77111976e-02, -6.56512303e-03,  5.39745406e-04],\n",
              "       [ 7.55735197e-03, -6.24935305e-03,  2.74356123e-04],\n",
              "       [-1.20570880e-02,  2.44678510e-02, -4.59806178e-03],\n",
              "       [ 6.11086242e-04,  7.93910294e-03, -2.03755309e-03],\n",
              "       [ 2.21164216e-02, -4.68011761e-04, -6.95773256e-03],\n",
              "       [ 1.03372105e-02,  3.95554741e-03, -1.77573861e-03],\n",
              "       [-1.94331745e-02, -5.66383450e-04, -5.55115127e-03],\n",
              "       [ 7.63866540e-03, -9.72459336e-03, -3.25761771e-03],\n",
              "       [-8.38442975e-03, -7.84623744e-03,  3.30128953e-03],\n",
              "       [-2.94766297e-03,  9.09540203e-03,  9.34916736e-03],\n",
              "       [-3.63775446e-02,  1.36758649e-02,  5.38708257e-03],\n",
              "       [-3.70955886e-02, -1.76585304e-02, -2.66176538e-03],\n",
              "       [-3.03916616e-02, -5.45055216e-03,  9.98357931e-04],\n",
              "       [-8.89773115e-02,  1.58779485e-02, -5.08862831e-03],\n",
              "       [ 3.05213691e-02, -1.68670160e-02, -4.58793516e-03],\n",
              "       [ 2.74497554e-04, -1.46625891e-02, -5.20982881e-03],\n",
              "       [ 5.58950048e-02, -4.85704587e-03,  1.10809984e-02],\n",
              "       [-2.50642228e-02, -2.85310297e-03,  8.68090704e-04],\n",
              "       [-4.15797748e-02,  8.16014061e-04,  2.90985593e-03],\n",
              "       [ 3.87085403e-02, -2.83624217e-03, -7.30697021e-03],\n",
              "       [-9.60173862e-02,  3.22464531e-03, -8.20286650e-03],\n",
              "       [-6.02604072e-03, -1.76540411e-02,  5.20245739e-03],\n",
              "       [ 4.32312908e-02, -4.25542035e-03, -1.09243006e-03],\n",
              "       [ 3.53589183e-02, -1.14657566e-03,  1.07174219e-02],\n",
              "       [-2.69887711e-02,  5.67247892e-03, -3.72861174e-03],\n",
              "       [ 2.22943990e-02, -5.05882850e-03, -1.18152871e-03],\n",
              "       [-4.98342877e-03, -3.80461721e-03, -3.51996550e-04],\n",
              "       [-8.31238884e-02,  7.14277305e-03, -7.51465301e-03],\n",
              "       [ 2.44460106e-02, -1.36260961e-02,  1.84488926e-03],\n",
              "       [-1.52346006e-02,  9.79982155e-04, -2.91166131e-03],\n",
              "       [ 2.30837671e-02,  4.85261959e-03,  4.81207984e-03],\n",
              "       [ 3.69767156e-02,  1.97079205e-04,  5.23173993e-04],\n",
              "       [-1.04518705e-04,  2.11434980e-03, -5.73481527e-04],\n",
              "       [-2.25708135e-02, -1.76632313e-02,  1.47656837e-02],\n",
              "       [ 3.02261020e-02,  1.19980165e-03,  4.06381213e-04],\n",
              "       [ 3.44192626e-02,  1.70977715e-02, -1.15371514e-02],\n",
              "       [ 4.76442426e-03,  2.81151034e-03,  2.36758276e-03],\n",
              "       [ 3.00657620e-03,  2.25723831e-02,  1.13470916e-02],\n",
              "       [ 8.02793987e-03,  1.42837474e-02,  5.09939074e-03],\n",
              "       [ 2.02091819e-02, -8.06167392e-03, -2.17818366e-03],\n",
              "       [ 5.14461400e-03, -6.46375189e-03, -7.46683320e-03],\n",
              "       [-2.88217252e-04,  1.95504853e-02, -6.38615610e-04],\n",
              "       [-4.16557812e-03,  1.59625779e-02,  3.45522962e-02],\n",
              "       [ 4.55126996e-04, -1.78785668e-02, -8.30760271e-03],\n",
              "       [-4.63233465e-03, -1.75518613e-03, -2.87494130e-03],\n",
              "       [-5.28274003e-03, -7.00385999e-03,  2.16959085e-03],\n",
              "       [-1.32692860e-02, -1.37501644e-03,  1.04610752e-02],\n",
              "       [-3.77221322e-03,  6.08103297e-04, -4.71020681e-04],\n",
              "       [-2.78340247e-02, -1.19314180e-02,  7.20445032e-04],\n",
              "       [ 1.34194997e-02,  3.13655356e-03, -7.99788796e-03],\n",
              "       [-1.13463701e-02, -1.26333619e-02, -4.52395472e-03],\n",
              "       [-1.42542043e-02,  8.92064758e-03,  2.59585967e-03],\n",
              "       [ 8.69237121e-03, -9.78692533e-03, -9.80526979e-03],\n",
              "       [-5.24160740e-02, -4.05522964e-03, -5.98476446e-03],\n",
              "       [-5.89300857e-02,  6.77023884e-03, -8.37608286e-03],\n",
              "       [ 1.81955261e-02, -4.03460087e-03,  5.80567720e-03],\n",
              "       [ 3.29961002e-02, -1.39325941e-02,  1.84584125e-03],\n",
              "       [-1.63341321e-02,  2.81570356e-03, -5.39223797e-03],\n",
              "       [-4.95568709e-02,  5.98499625e-03, -3.49644706e-03],\n",
              "       [ 2.47596915e-02, -2.16442621e-03, -4.89692814e-04],\n",
              "       [ 2.02229987e-02,  6.55251392e-03,  2.21841151e-03],\n",
              "       [ 3.35076497e-02,  1.06296577e-02, -5.68315624e-03],\n",
              "       [-8.75041418e-03,  6.20154114e-03, -9.45923549e-04],\n",
              "       [ 2.37824449e-02,  2.42656348e-03, -6.15255195e-03],\n",
              "       [-9.91994414e-03, -7.41086315e-03, -8.04529193e-03],\n",
              "       [ 5.27227867e-03, -5.77465170e-03,  2.84847287e-03],\n",
              "       [-9.91294411e-03, -7.26146773e-03,  3.79357528e-03],\n",
              "       [ 1.70938114e-02,  4.85189246e-03,  1.08325769e-02],\n",
              "       [-5.11016645e-03,  7.73140416e-03,  1.67825046e-02],\n",
              "       [ 5.17656806e-03,  4.02766525e-04,  7.99420651e-03],\n",
              "       [-2.10690243e-03, -1.74524654e-03, -7.66189658e-03],\n",
              "       [ 1.11624315e-02,  1.81183930e-02, -7.93670038e-03],\n",
              "       [ 9.32972040e-03,  5.66496656e-03, -1.61113710e-02],\n",
              "       [ 1.30140838e-04, -4.51622213e-04,  7.97660718e-03],\n",
              "       [ 1.12823514e-03, -2.04893488e-02, -1.36895321e-02],\n",
              "       [-1.64276560e-02, -4.12879533e-03,  3.89448825e-03],\n",
              "       [ 2.85349290e-02,  1.80879453e-02,  3.37408833e-03],\n",
              "       [ 1.71107398e-02,  3.44052366e-02,  1.09103485e-02],\n",
              "       [-3.12541371e-03,  1.66036236e-02, -7.92900330e-03],\n",
              "       [-6.71656776e-03, -1.39256343e-02, -1.29936130e-02],\n",
              "       [ 1.19405590e-02,  2.15849020e-02, -2.22793586e-04],\n",
              "       [ 9.71160170e-04,  5.92010249e-04, -7.14249504e-03],\n",
              "       [-8.58257279e-03,  1.95891715e-03, -5.41000780e-03],\n",
              "       [-1.22347715e-03, -1.37554180e-03, -5.84099246e-03],\n",
              "       [-7.11380748e-03, -1.72713193e-02,  7.36472694e-03],\n",
              "       [ 8.61117495e-05, -4.62125702e-03, -1.11238237e-03],\n",
              "       [ 1.54636718e-02, -4.89083638e-03,  6.35318908e-03],\n",
              "       [-5.33493016e-03, -1.01640186e-02, -7.81353084e-03],\n",
              "       [-1.26355631e-02, -5.35871500e-03, -8.98680300e-03],\n",
              "       [-1.34050660e-02,  1.84222591e-03,  1.68366924e-02],\n",
              "       [-3.94018597e-03,  1.93845529e-02,  1.10938059e-02],\n",
              "       [ 3.96237916e-03,  1.57661874e-03, -5.76732598e-03],\n",
              "       [ 1.71554107e-02, -1.42349848e-03, -7.78410302e-03],\n",
              "       [ 1.52042246e-03, -1.37586188e-02, -5.05417795e-03],\n",
              "       [ 8.78294731e-03, -2.73923581e-03, -6.56717841e-04],\n",
              "       [-1.51715545e-02, -1.15279359e-03, -4.96921005e-03],\n",
              "       [-2.88107169e-02,  1.14914535e-02,  5.67561173e-03],\n",
              "       [-2.69326882e-02, -1.15626002e-02,  4.52880458e-04],\n",
              "       [ 1.72808806e-02, -1.19232975e-03,  1.19791167e-02],\n",
              "       [-9.51996661e-04, -1.42817061e-03, -5.34619189e-03],\n",
              "       [ 2.72821361e-02,  1.04556350e-02,  4.11963359e-03],\n",
              "       [-1.12791767e-02,  2.89808077e-03,  6.60160392e-04],\n",
              "       [-5.83737998e-03,  5.54089423e-03,  1.60522658e-03],\n",
              "       [ 4.17013471e-03,  2.81194976e-03, -7.31986146e-03],\n",
              "       [ 2.93873706e-02,  1.90711245e-02, -1.81917675e-03],\n",
              "       [-8.12444394e-03, -9.41228824e-03, -2.16393575e-03],\n",
              "       [ 1.67128040e-02, -6.75839221e-03,  1.23771936e-02],\n",
              "       [-2.09483315e-03,  5.11180344e-03, -1.31741085e-03],\n",
              "       [-3.13145367e-03, -6.28936158e-03,  8.72892673e-03],\n",
              "       [ 8.48806196e-03, -7.03200045e-03, -1.34012774e-03],\n",
              "       [ 1.30309390e-02, -5.27058526e-03,  8.58162388e-03],\n",
              "       [ 3.44727682e-03,  1.50910386e-02,  1.31206236e-03],\n",
              "       [-3.20685325e-03, -1.19044496e-03,  4.08763887e-04],\n",
              "       [ 9.67056348e-03, -2.85680871e-03, -5.08957564e-03],\n",
              "       [-5.67759187e-03, -6.03199286e-03,  4.03875714e-04],\n",
              "       [-1.56822039e-02,  2.63824260e-03,  1.67119793e-03]])"
            ]
          },
          "execution_count": 77,
          "metadata": {},
          "output_type": "execute_result"
        }
      ],
      "source": [
        "pc2019 = PCA(n_components = 3).fit_transform(etfsDailyRet2019)\n",
        "pc2019"
      ]
    },
    {
      "cell_type": "markdown",
      "id": "eb59655e-aa7e-42ea-b60b-8b7ec945f1e3",
      "metadata": {
        "tags": [],
        "id": "eb59655e-aa7e-42ea-b60b-8b7ec945f1e3"
      },
      "source": [
        "### 7.2 Using 2019 data, compute the EF for the first 3 principal components portfolio."
      ]
    },
    {
      "cell_type": "markdown",
      "id": "9f143af3-55cc-405c-b8e4-77ab1c9ee349",
      "metadata": {
        "id": "9f143af3-55cc-405c-b8e4-77ab1c9ee349"
      },
      "source": [
        "The above 3 PCs are used to estimate 2019 expected return and covariances, which are then fed into the Critical Line Algorithm to obtain the efficient frontier resulting from a portfolio of the 3 PCs."
      ]
    },
    {
      "cell_type": "code",
      "execution_count": null,
      "id": "7b99065d-dde0-41a4-b265-cfdfaa7f2f60",
      "metadata": {
        "id": "7b99065d-dde0-41a4-b265-cfdfaa7f2f60",
        "outputId": "ea912974-6c7d-4e69-f43a-81eebc6da4f8"
      },
      "outputs": [
        {
          "data": {
            "text/plain": [
              "Text(0, 0.5, 'Portfolio Expected Return')"
            ]
          },
          "execution_count": 78,
          "metadata": {},
          "output_type": "execute_result"
        },
        {
          "data": {
            "image/png": "[encoded data removed]",
            "text/plain": [
              "<Figure size 432x288 with 1 Axes>"
            ]
          },
          "metadata": {
            "needs_background": "light"
          },
          "output_type": "display_data"
        }
      ],
      "source": [
        "pcExpRet2019 = mean_historical_return(pd.DataFrame(pc2019, columns = ['PC1', 'PC2','PC3']), returns_data = True, compounding = True, frequency = 251, log_returns = False)\n",
        "pcCovMat2019 = np.cov(pc2019.transpose())\n",
        "\n",
        "pcClaClass = cla.CLA(pcExpRet2019, pcCovMat2019, weight_bounds = (-1,1))\n",
        "pcEfRet, pcEfStdev, pcEfWeights = pcClaClass.efficient_frontier(points = 100)\n",
        "\n",
        "plt.plot(pcEfStdev, pcEfRet)\n",
        "plt.title('Efficient Frontier of the 3-Principal Components Portfolio')\n",
        "plt.xlabel('Portfolio Standard Deviation')\n",
        "plt.ylabel('Portfolio Expected Return')"
      ]
    },
    {
      "cell_type": "markdown",
      "id": "23bd3feb-0cea-4f0c-8b67-d0b5918c030d",
      "metadata": {
        "tags": [],
        "id": "23bd3feb-0cea-4f0c-8b67-d0b5918c030d"
      },
      "source": [
        "### 7.3 How does the PCA portfolio return compare to the 2019  3-security portfolio returns?"
      ]
    },
    {
      "cell_type": "markdown",
      "id": "ea99c482-76e7-4a28-93df-03a95c0419df",
      "metadata": {
        "id": "ea99c482-76e7-4a28-93df-03a95c0419df"
      },
      "source": [
        "We now use the 0.8% volatility and the approach laid out in 5.2 to get the expected return and weights for the 3-PC portfolio lying on the efficient frontier for the assumed volatility level."
      ]
    },
    {
      "cell_type": "code",
      "execution_count": null,
      "id": "b079667b-eeb0-435e-92a2-32c0065ab645",
      "metadata": {
        "id": "b079667b-eeb0-435e-92a2-32c0065ab645",
        "outputId": "ace60e46-22b1-47c0-ce76-2eee4970cf5b"
      },
      "outputs": [
        {
          "name": "stdout",
          "output_type": "stream",
          "text": [
            "PCA Portfolio Weights: [[-0.16]\n",
            " [ 0.28]\n",
            " [ 0.88]]\n",
            "2019 PCA Portfolio Return: 0.001759927182599476\n",
            "Average 2019 3-security Portfolio Return across all 165 Combinations: 0.2356614247139795\n"
          ]
        }
      ],
      "source": [
        "idx, val = find_nearest(pcEfStdev, constVol)\n",
        "pcEfWeights_constVol = np.around(pcEfWeights[idx], 2)\n",
        "pcEfRet_constVol = pcEfRet[idx]\n",
        "print('PCA Portfolio Weights:',pcEfWeights_constVol)\n",
        "print('2019 PCA Portfolio Return:', pcEfRet_constVol)\n",
        "print('Average 2019 3-security Portfolio Return across all 165 Combinations:', df3etf_constVol['ExpRet2019'].mean())"
      ]
    },
    {
      "cell_type": "markdown",
      "id": "61f8e317-5954-43c9-8c8b-d3b1063f191c",
      "metadata": {
        "id": "61f8e317-5954-43c9-8c8b-d3b1063f191c"
      },
      "source": [
        "The PCA portfolio return of 0.176% is much lower than the average of the 2019 returns across 165 portfolios, which stands at 23.566%."
      ]
    },
    {
      "cell_type": "markdown",
      "id": "1d34c534-a8ac-4daf-93f2-3eed0ae20c53",
      "metadata": {
        "tags": [],
        "id": "1d34c534-a8ac-4daf-93f2-3eed0ae20c53"
      },
      "source": [
        "### 7.4 Assuming a fixed amount of risk, and 2020 data, use the PC weights to compute the 3-PC portfolio returns."
      ]
    },
    {
      "cell_type": "code",
      "execution_count": null,
      "id": "3caf7b1b-ad73-4b12-966d-1d172331683a",
      "metadata": {
        "id": "3caf7b1b-ad73-4b12-966d-1d172331683a",
        "outputId": "e0d02040-9280-417b-e236-f65775218461"
      },
      "outputs": [
        {
          "data": {
            "text/html": [
              "<div>\n",
              "<style scoped>\n",
              "    .dataframe tbody tr th:only-of-type {\n",
              "        vertical-align: middle;\n",
              "    }\n",
              "\n",
              "    .dataframe tbody tr th {\n",
              "        vertical-align: top;\n",
              "    }\n",
              "\n",
              "    .dataframe thead th {\n",
              "        text-align: right;\n",
              "    }\n",
              "</style>\n",
              "<table border=\"1\" class=\"dataframe\">\n",
              "  <thead>\n",
              "    <tr style=\"text-align: right;\">\n",
              "      <th></th>\n",
              "      <th>IYR</th>\n",
              "      <th>IYZ</th>\n",
              "      <th>XLB</th>\n",
              "      <th>XLE</th>\n",
              "      <th>XLF</th>\n",
              "      <th>XLI</th>\n",
              "      <th>XLK</th>\n",
              "      <th>XLP</th>\n",
              "      <th>XLU</th>\n",
              "      <th>XLV</th>\n",
              "      <th>XLY</th>\n",
              "    </tr>\n",
              "    <tr>\n",
              "      <th>Date</th>\n",
              "      <th></th>\n",
              "      <th></th>\n",
              "      <th></th>\n",
              "      <th></th>\n",
              "      <th></th>\n",
              "      <th></th>\n",
              "      <th></th>\n",
              "      <th></th>\n",
              "      <th></th>\n",
              "      <th></th>\n",
              "      <th></th>\n",
              "    </tr>\n",
              "  </thead>\n",
              "  <tbody>\n",
              "    <tr>\n",
              "      <th>2020-01-02</th>\n",
              "      <td>-0.011066</td>\n",
              "      <td>0.000669</td>\n",
              "      <td>-0.011722</td>\n",
              "      <td>0.008994</td>\n",
              "      <td>0.009746</td>\n",
              "      <td>0.018903</td>\n",
              "      <td>0.018763</td>\n",
              "      <td>-0.007939</td>\n",
              "      <td>-0.012535</td>\n",
              "      <td>0.002651</td>\n",
              "      <td>0.011880</td>\n",
              "    </tr>\n",
              "    <tr>\n",
              "      <th>2020-01-03</th>\n",
              "      <td>0.007170</td>\n",
              "      <td>-0.005351</td>\n",
              "      <td>-0.016145</td>\n",
              "      <td>-0.002971</td>\n",
              "      <td>-0.010618</td>\n",
              "      <td>-0.001927</td>\n",
              "      <td>-0.011243</td>\n",
              "      <td>-0.001600</td>\n",
              "      <td>0.002037</td>\n",
              "      <td>-0.008714</td>\n",
              "      <td>-0.008510</td>\n",
              "    </tr>\n",
              "    <tr>\n",
              "      <th>2020-01-06</th>\n",
              "      <td>0.000863</td>\n",
              "      <td>0.001345</td>\n",
              "      <td>-0.004354</td>\n",
              "      <td>0.007782</td>\n",
              "      <td>-0.000650</td>\n",
              "      <td>0.000362</td>\n",
              "      <td>0.002382</td>\n",
              "      <td>0.002084</td>\n",
              "      <td>0.000939</td>\n",
              "      <td>0.006223</td>\n",
              "      <td>0.002781</td>\n",
              "    </tr>\n",
              "    <tr>\n",
              "      <th>2020-01-07</th>\n",
              "      <td>-0.010130</td>\n",
              "      <td>-0.002686</td>\n",
              "      <td>-0.001177</td>\n",
              "      <td>-0.002629</td>\n",
              "      <td>-0.006508</td>\n",
              "      <td>-0.002051</td>\n",
              "      <td>-0.000432</td>\n",
              "      <td>-0.007679</td>\n",
              "      <td>-0.001406</td>\n",
              "      <td>-0.001963</td>\n",
              "      <td>-0.001585</td>\n",
              "    </tr>\n",
              "    <tr>\n",
              "      <th>2020-01-08</th>\n",
              "      <td>0.002395</td>\n",
              "      <td>0.004040</td>\n",
              "      <td>0.003536</td>\n",
              "      <td>-0.016472</td>\n",
              "      <td>0.006551</td>\n",
              "      <td>0.003385</td>\n",
              "      <td>0.010700</td>\n",
              "      <td>0.003708</td>\n",
              "      <td>-0.000469</td>\n",
              "      <td>0.006491</td>\n",
              "      <td>0.003016</td>\n",
              "    </tr>\n",
              "    <tr>\n",
              "      <th>...</th>\n",
              "      <td>...</td>\n",
              "      <td>...</td>\n",
              "      <td>...</td>\n",
              "      <td>...</td>\n",
              "      <td>...</td>\n",
              "      <td>...</td>\n",
              "      <td>...</td>\n",
              "      <td>...</td>\n",
              "      <td>...</td>\n",
              "      <td>...</td>\n",
              "      <td>...</td>\n",
              "    </tr>\n",
              "    <tr>\n",
              "      <th>2020-12-23</th>\n",
              "      <td>-0.006769</td>\n",
              "      <td>0.004323</td>\n",
              "      <td>0.001408</td>\n",
              "      <td>0.022139</td>\n",
              "      <td>0.016526</td>\n",
              "      <td>0.005255</td>\n",
              "      <td>-0.007586</td>\n",
              "      <td>0.003325</td>\n",
              "      <td>-0.001970</td>\n",
              "      <td>0.000720</td>\n",
              "      <td>0.002163</td>\n",
              "    </tr>\n",
              "    <tr>\n",
              "      <th>2020-12-24</th>\n",
              "      <td>0.007892</td>\n",
              "      <td>0.000662</td>\n",
              "      <td>0.006327</td>\n",
              "      <td>-0.005219</td>\n",
              "      <td>0.001384</td>\n",
              "      <td>0.000114</td>\n",
              "      <td>0.006630</td>\n",
              "      <td>0.004971</td>\n",
              "      <td>0.007075</td>\n",
              "      <td>0.002879</td>\n",
              "      <td>0.002094</td>\n",
              "    </tr>\n",
              "    <tr>\n",
              "      <th>2020-12-28</th>\n",
              "      <td>0.009135</td>\n",
              "      <td>0.002316</td>\n",
              "      <td>-0.003912</td>\n",
              "      <td>-0.006296</td>\n",
              "      <td>0.004836</td>\n",
              "      <td>0.001250</td>\n",
              "      <td>0.011313</td>\n",
              "      <td>0.007944</td>\n",
              "      <td>0.004411</td>\n",
              "      <td>0.002512</td>\n",
              "      <td>0.011401</td>\n",
              "    </tr>\n",
              "    <tr>\n",
              "      <th>2020-12-29</th>\n",
              "      <td>-0.008112</td>\n",
              "      <td>-0.007263</td>\n",
              "      <td>-0.002384</td>\n",
              "      <td>-0.006600</td>\n",
              "      <td>-0.003438</td>\n",
              "      <td>-0.006015</td>\n",
              "      <td>-0.004750</td>\n",
              "      <td>-0.002974</td>\n",
              "      <td>-0.000163</td>\n",
              "      <td>0.004743</td>\n",
              "      <td>0.000313</td>\n",
              "    </tr>\n",
              "    <tr>\n",
              "      <th>2020-12-30</th>\n",
              "      <td>0.004504</td>\n",
              "      <td>-0.002993</td>\n",
              "      <td>0.013778</td>\n",
              "      <td>0.015679</td>\n",
              "      <td>0.004484</td>\n",
              "      <td>0.006394</td>\n",
              "      <td>-0.000539</td>\n",
              "      <td>-0.001044</td>\n",
              "      <td>0.005043</td>\n",
              "      <td>-0.000178</td>\n",
              "      <td>0.006010</td>\n",
              "    </tr>\n",
              "  </tbody>\n",
              "</table>\n",
              "<p>252 rows × 11 columns</p>\n",
              "</div>"
            ],
            "text/plain": [
              "                 IYR       IYZ       XLB       XLE       XLF       XLI  \\\n",
              "Date                                                                     \n",
              "2020-01-02 -0.011066  0.000669 -0.011722  0.008994  0.009746  0.018903   \n",
              "2020-01-03  0.007170 -0.005351 -0.016145 -0.002971 -0.010618 -0.001927   \n",
              "2020-01-06  0.000863  0.001345 -0.004354  0.007782 -0.000650  0.000362   \n",
              "2020-01-07 -0.010130 -0.002686 -0.001177 -0.002629 -0.006508 -0.002051   \n",
              "2020-01-08  0.002395  0.004040  0.003536 -0.016472  0.006551  0.003385   \n",
              "...              ...       ...       ...       ...       ...       ...   \n",
              "2020-12-23 -0.006769  0.004323  0.001408  0.022139  0.016526  0.005255   \n",
              "2020-12-24  0.007892  0.000662  0.006327 -0.005219  0.001384  0.000114   \n",
              "2020-12-28  0.009135  0.002316 -0.003912 -0.006296  0.004836  0.001250   \n",
              "2020-12-29 -0.008112 -0.007263 -0.002384 -0.006600 -0.003438 -0.006015   \n",
              "2020-12-30  0.004504 -0.002993  0.013778  0.015679  0.004484  0.006394   \n",
              "\n",
              "                 XLK       XLP       XLU       XLV       XLY  \n",
              "Date                                                          \n",
              "2020-01-02  0.018763 -0.007939 -0.012535  0.002651  0.011880  \n",
              "2020-01-03 -0.011243 -0.001600  0.002037 -0.008714 -0.008510  \n",
              "2020-01-06  0.002382  0.002084  0.000939  0.006223  0.002781  \n",
              "2020-01-07 -0.000432 -0.007679 -0.001406 -0.001963 -0.001585  \n",
              "2020-01-08  0.010700  0.003708 -0.000469  0.006491  0.003016  \n",
              "...              ...       ...       ...       ...       ...  \n",
              "2020-12-23 -0.007586  0.003325 -0.001970  0.000720  0.002163  \n",
              "2020-12-24  0.006630  0.004971  0.007075  0.002879  0.002094  \n",
              "2020-12-28  0.011313  0.007944  0.004411  0.002512  0.011401  \n",
              "2020-12-29 -0.004750 -0.002974 -0.000163  0.004743  0.000313  \n",
              "2020-12-30 -0.000539 -0.001044  0.005043 -0.000178  0.006010  \n",
              "\n",
              "[252 rows x 11 columns]"
            ]
          },
          "execution_count": 80,
          "metadata": {},
          "output_type": "execute_result"
        }
      ],
      "source": [
        "etfsDailyRet2020 = (etfsPrices2020/etfsPrices2020.shift(1)-1)[1:]\n",
        "etfsDailyRet2020"
      ]
    },
    {
      "cell_type": "markdown",
      "id": "3b5b423b-7ab2-4500-b132-c3dd60a45e9b",
      "metadata": {
        "id": "3b5b423b-7ab2-4500-b132-c3dd60a45e9b"
      },
      "source": [
        "Using sci-kit learn's PCA implementation to get the 3 PCs from 2020 daily return data."
      ]
    },
    {
      "cell_type": "code",
      "execution_count": null,
      "id": "04744054-55fc-4381-9e33-b0ecad7f6223",
      "metadata": {
        "id": "04744054-55fc-4381-9e33-b0ecad7f6223",
        "outputId": "f036fadc-3342-4622-92b7-f5e484f73b5b"
      },
      "outputs": [
        {
          "data": {
            "text/plain": [
              "PC1   -0.507019\n",
              "PC2   -0.067412\n",
              "PC3   -0.026557\n",
              "dtype: float64"
            ]
          },
          "execution_count": 81,
          "metadata": {},
          "output_type": "execute_result"
        }
      ],
      "source": [
        "pc2020 = PCA(n_components = 3).fit_transform(etfsDailyRet2020)\n",
        "pcExpRet2020 = mean_historical_return(pd.DataFrame(pc2020, columns = ['PC1', 'PC2','PC3']), returns_data = True, compounding = True, frequency = 252, log_returns = False)\n",
        "pcExpRet2020"
      ]
    },
    {
      "cell_type": "markdown",
      "id": "4b38914a-9a44-4220-9774-01b1d8d0bbc1",
      "metadata": {
        "id": "4b38914a-9a44-4220-9774-01b1d8d0bbc1"
      },
      "source": [
        "The historical estimates of expected returns given above are used with the 2019 weights calculated in 7.3 to get the expected return for the 2020 3-PC portfolio. This stands at 3.89%, higher than the expected return for the 2019 3-PC portfolio."
      ]
    },
    {
      "cell_type": "code",
      "execution_count": null,
      "id": "7bb77856-120d-4c8a-a5a4-f9be7e7b9d00",
      "metadata": {
        "id": "7bb77856-120d-4c8a-a5a4-f9be7e7b9d00",
        "outputId": "824baa52-d72b-4499-89d9-dd2fd7edc41e"
      },
      "outputs": [
        {
          "data": {
            "text/plain": [
              "0.03887729147415522"
            ]
          },
          "execution_count": 82,
          "metadata": {},
          "output_type": "execute_result"
        }
      ],
      "source": [
        "pcPortExpRet2020 = np.sum(pcEfWeights_constVol * np.array(pcExpRet2020).reshape(3,1))\n",
        "pcPortExpRet2020"
      ]
    }
  ],
  "metadata": {
    "kernelspec": {
      "display_name": "Python 3 (ipykernel)",
      "language": "python",
      "name": "python3"
    },
    "language_info": {
      "codemirror_mode": {
        "name": "ipython",
        "version": 3
      },
      "file_extension": ".py",
      "mimetype": "text/x-python",
      "name": "python",
      "nbconvert_exporter": "python",
      "pygments_lexer": "ipython3",
      "version": "3.9.7"
    },
    "colab": {
      "name": "MScFE 640 PTAP - Group Submission 2 - Group 3.ipynb",
      "provenance": [],
      "collapsed_sections": []
    }
  },
  "nbformat": 4,
  "nbformat_minor": 5
}