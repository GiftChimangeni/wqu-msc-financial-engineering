{
 "cells": [
  {
   "cell_type": "code",
   "execution_count": 1,
   "metadata": {
    "id": "hhPI1owhc5zf"
   },
   "outputs": [],
   "source": [
    "# Import necessary libraries: \n",
    "import numpy as np\n",
    "import pandas as pd\n",
    "import matplotlib.pyplot as plt\n",
    "import math\n",
    "import operator as op\n",
    "from functools import reduce\n",
    "from decimal import Decimal"
   ]
  },
  {
   "cell_type": "markdown",
   "metadata": {
    "id": "ABsYzn-_dFqt"
   },
   "source": [
    "## Answer 1 Binomial Tree for N = 6"
   ]
  },
  {
   "cell_type": "code",
   "execution_count": 2,
   "metadata": {
    "id": "-CyxarBZdHGO"
   },
   "outputs": [],
   "source": [
    "# Define u and d: \n",
    "u_total = 1.10 + 4/100\n",
    "d_total = 1/u_total\n",
    "S_0 = 100 #assume original stock px is 100"
   ]
  },
  {
   "cell_type": "code",
   "execution_count": 3,
   "metadata": {},
   "outputs": [],
   "source": [
    "def ncr(n, r):\n",
    "    r = min(r, n-r)\n",
    "    numer = reduce(op.mul, range(n, n-r, -1), 1)\n",
    "    denom = reduce(op.mul, range(1, r+1), 1)\n",
    "    return (numer // denom)"
   ]
  },
  {
   "cell_type": "code",
   "execution_count": 4,
   "metadata": {
    "id": "_h3luZr6dY5S"
   },
   "outputs": [],
   "source": [
    "# asset_px_binomial_tree takes 4 parameters to populate a binomial tree: \n",
    "# N - number of nodes in the tree\n",
    "# u - upper movement coef\n",
    "# d - downward movement coef\n",
    "# S0 - initial stock px\n",
    "def asset_px_binomial_tree(N, u, d, S0):\n",
    "    tree_holder = np.zeros([N+1, N+1])\n",
    "    freq = np.zeros(N+1)\n",
    "\n",
    "    u_increment = u**(1/N)\n",
    "    d_increment=1/u_increment\n",
    "\n",
    "    # populate the tree: \n",
    "    for i in range(N+1):\n",
    "        for j in range(i+1):\n",
    "            tree_holder[j,i]=S0*(d_increment**j)*(u_increment**(i-j))\n",
    "        freq[i]= Decimal(ncr(N, i))\n",
    "\n",
    "    return (tree_holder, freq)\n",
    "\n",
    "\n",
    "def terminal_px_extractor(binomial_tree):\n",
    "  size = binomial_tree.shape[0]\n",
    "  terminal_px_holder=[]\n",
    "\n",
    "  for i in range(size):\n",
    "    temp = binomial_tree[i,-1]\n",
    "    terminal_px_holder.append(temp)\n",
    "  \n",
    "  return terminal_px_holder\n",
    "\n"
   ]
  },
  {
   "cell_type": "markdown",
   "metadata": {},
   "source": [
    "### Part (a) Binomial Tree for N = 6"
   ]
  },
  {
   "cell_type": "code",
   "execution_count": 5,
   "metadata": {
    "colab": {
     "base_uri": "https://localhost:8080/"
    },
    "id": "Q0dy9mLWlDUs",
    "outputId": "de64f770-eb29-490d-8f10-85ab632c5e56"
   },
   "outputs": [
    {
     "name": "stdout",
     "output_type": "stream",
     "text": [
      "Binomial tree for an asset price:\n",
      " [[100 102 104 106 109 111 114]\n",
      " [  0  97 100 102 104 106 109]\n",
      " [  0   0  95  97 100 102 104]\n",
      " [  0   0   0  93  95  97  99]\n",
      " [  0   0   0   0  91  93  95]\n",
      " [  0   0   0   0   0  89  91]\n",
      " [  0   0   0   0   0   0  87]]\n"
     ]
    }
   ],
   "source": [
    "task_1, freq_task1 = asset_px_binomial_tree(6, u_total, d_total, S_0)\n",
    "\n",
    "# Use int astype for better visability\n",
    "print('Binomial tree for an asset price:\\n', np.matrix(task_1.astype(int)))"
   ]
  },
  {
   "cell_type": "markdown",
   "metadata": {},
   "source": [
    "### Part (b) Terminal Values"
   ]
  },
  {
   "cell_type": "code",
   "execution_count": 6,
   "metadata": {
    "scrolled": true
   },
   "outputs": [
    {
     "data": {
      "text/html": [
       "<div>\n",
       "<style scoped>\n",
       "    .dataframe tbody tr th:only-of-type {\n",
       "        vertical-align: middle;\n",
       "    }\n",
       "\n",
       "    .dataframe tbody tr th {\n",
       "        vertical-align: top;\n",
       "    }\n",
       "\n",
       "    .dataframe thead th {\n",
       "        text-align: right;\n",
       "    }\n",
       "</style>\n",
       "<table border=\"1\" class=\"dataframe\">\n",
       "  <thead>\n",
       "    <tr style=\"text-align: right;\">\n",
       "      <th></th>\n",
       "      <th>Terminal Value</th>\n",
       "      <th>Frequency</th>\n",
       "    </tr>\n",
       "  </thead>\n",
       "  <tbody>\n",
       "    <tr>\n",
       "      <th>0</th>\n",
       "      <td>114.000000</td>\n",
       "      <td>1.0</td>\n",
       "    </tr>\n",
       "    <tr>\n",
       "      <th>1</th>\n",
       "      <td>109.128093</td>\n",
       "      <td>6.0</td>\n",
       "    </tr>\n",
       "    <tr>\n",
       "      <th>2</th>\n",
       "      <td>104.464393</td>\n",
       "      <td>15.0</td>\n",
       "    </tr>\n",
       "    <tr>\n",
       "      <th>3</th>\n",
       "      <td>100.000000</td>\n",
       "      <td>20.0</td>\n",
       "    </tr>\n",
       "    <tr>\n",
       "      <th>4</th>\n",
       "      <td>95.726398</td>\n",
       "      <td>15.0</td>\n",
       "    </tr>\n",
       "    <tr>\n",
       "      <th>5</th>\n",
       "      <td>91.635432</td>\n",
       "      <td>6.0</td>\n",
       "    </tr>\n",
       "    <tr>\n",
       "      <th>6</th>\n",
       "      <td>87.719298</td>\n",
       "      <td>1.0</td>\n",
       "    </tr>\n",
       "  </tbody>\n",
       "</table>\n",
       "</div>"
      ],
      "text/plain": [
       "   Terminal Value  Frequency\n",
       "0      114.000000        1.0\n",
       "1      109.128093        6.0\n",
       "2      104.464393       15.0\n",
       "3      100.000000       20.0\n",
       "4       95.726398       15.0\n",
       "5       91.635432        6.0\n",
       "6       87.719298        1.0"
      ]
     },
     "execution_count": 6,
     "metadata": {},
     "output_type": "execute_result"
    }
   ],
   "source": [
    "#Terminal Values\n",
    "task_1_df  = pd.DataFrame(task_1)\n",
    "\n",
    "terminal_val_task1 = pd.DataFrame(np.vstack([task_1_df.iloc[:,-1].values,freq_task1]).T, columns = ['Terminal Value', 'Frequency'])\n",
    "terminal_val_task1"
   ]
  },
  {
   "cell_type": "markdown",
   "metadata": {},
   "source": [
    "## Answer 2 Binomial Tree for N = 4000"
   ]
  },
  {
   "cell_type": "code",
   "execution_count": 7,
   "metadata": {
    "id": "ZuIgoa2-lIFA"
   },
   "outputs": [],
   "source": [
    "task_2, freq_task2 = asset_px_binomial_tree(4000, u_total, d_total, S_0)\n",
    "task_2_TV = terminal_px_extractor(task_2)"
   ]
  },
  {
   "cell_type": "markdown",
   "metadata": {},
   "source": [
    "### Part (a) Histogram of Terminal Prices"
   ]
  },
  {
   "cell_type": "code",
   "execution_count": 8,
   "metadata": {
    "colab": {
     "base_uri": "https://localhost:8080/",
     "height": 313
    },
    "id": "wIolBVlulbW5",
    "outputId": "5831d49d-86db-4994-b627-3d27c8ed3198",
    "scrolled": false
   },
   "outputs": [
    {
     "data": {
      "text/plain": [
       "Text(0, 0.5, 'Frequencies')"
      ]
     },
     "execution_count": 8,
     "metadata": {},
     "output_type": "execute_result"
    },
    {
     "data": {
      "image/png": "[encoded data removed]",
      "text/plain": [
       "<Figure size 432x288 with 1 Axes>"
      ]
     },
     "metadata": {
      "needs_background": "light"
     },
     "output_type": "display_data"
    }
   ],
   "source": [
    "plt.hist(task_2_TV, bins=70)\n",
    "plt.title('Terminal Prices Histogram')\n",
    "plt.xlabel('Prices')\n",
    "plt.ylabel('Frequencies')"
   ]
  },
  {
   "cell_type": "code",
   "execution_count": 9,
   "metadata": {},
   "outputs": [],
   "source": [
    "task_2_1000, freq_task2_1000 = asset_px_binomial_tree(400, u_total, d_total, S_0)\n",
    "task_2_1000  = pd.DataFrame(task_2_1000)\n",
    "terminal_val_task2 = pd.DataFrame(np.vstack([task_2_1000.iloc[:,-1].values,freq_task2_1000]).T, columns = ['Terminal Value', 'Frequency'])"
   ]
  },
  {
   "cell_type": "markdown",
   "metadata": {},
   "source": [
    "### Part (b) Statistical Distribution of Prices Generated by the Binomial Model"
   ]
  },
  {
   "cell_type": "code",
   "execution_count": 10,
   "metadata": {
    "scrolled": false
   },
   "outputs": [
    {
     "data": {
      "image/png": "[encoded data removed]",
      "text/plain": [
       "<Figure size 864x576 with 1 Axes>"
      ]
     },
     "metadata": {
      "needs_background": "light"
     },
     "output_type": "display_data"
    }
   ],
   "source": [
    "fig, ax = plt.subplots(figsize = (12,8))\n",
    "ax.plot(terminal_val_task2['Terminal Value'].values, terminal_val_task2['Frequency'].values, label = 'Terminal Values')\n",
    "ax.set_xlabel('Terminal Values')\n",
    "ax.set_ylabel('Frequency')\n",
    "ax.set_title('Terminal Prices of Binomial Model with N = 400');"
   ]
  },
  {
   "cell_type": "markdown",
   "metadata": {},
   "source": [
    "### Part (c) Statistical Distribution of Log Returns"
   ]
  },
  {
   "cell_type": "code",
   "execution_count": 11,
   "metadata": {
    "scrolled": false
   },
   "outputs": [
    {
     "data": {
      "image/png": "[encoded data removed]",
      "text/plain": [
       "<Figure size 864x576 with 1 Axes>"
      ]
     },
     "metadata": {
      "needs_background": "light"
     },
     "output_type": "display_data"
    }
   ],
   "source": [
    "terminal_val_task2['Log Returns'] = np.log(terminal_val_task2['Terminal Value']/100)\n",
    "\n",
    "fig, ax = plt.subplots(figsize = (12,8))\n",
    "plt.plot(terminal_val_task2['Log Returns'].values, terminal_val_task2['Frequency'].values, label = 'Log returns')\n",
    "ax.set_xlabel('Log returns')\n",
    "ax.set_ylabel('Frequency')\n",
    "ax.set_title('Log returns of Binomial Model with N = 400');"
   ]
  },
  {
   "cell_type": "code",
   "execution_count": 12,
   "metadata": {
    "colab": {
     "base_uri": "https://localhost:8080/"
    },
    "id": "og4aEuabsWzj",
    "outputId": "58828886-de62-4b67-afc6-d641bf13d4a2"
   },
   "outputs": [
    {
     "data": {
      "text/plain": [
       "-3.275706560166144e-05"
      ]
     },
     "execution_count": 12,
     "metadata": {},
     "output_type": "execute_result"
    }
   ],
   "source": [
    "np.log(task_2[1,1]/task_2[0,0])"
   ]
  },
  {
   "cell_type": "code",
   "execution_count": 13,
   "metadata": {
    "colab": {
     "base_uri": "https://localhost:8080/"
    },
    "id": "2aKEuwxxyvxq",
    "outputId": "c155f4a1-f7e7-4544-8fac-1aac4ac33500"
   },
   "outputs": [
    {
     "data": {
      "text/plain": [
       "3.275706560164976e-05"
      ]
     },
     "execution_count": 13,
     "metadata": {},
     "output_type": "execute_result"
    }
   ],
   "source": [
    "np.log(task_2[0,1]/task_2[0,0])"
   ]
  },
  {
   "cell_type": "code",
   "execution_count": 14,
   "metadata": {
    "id": "pL6tGhQF2-tR"
   },
   "outputs": [],
   "source": [
    "task_3, freq_task3 = asset_px_binomial_tree(400, u_total, d_total, S_0)\n",
    "task_3_TV = terminal_px_extractor(task_3)"
   ]
  },
  {
   "cell_type": "code",
   "execution_count": 15,
   "metadata": {
    "colab": {
     "base_uri": "https://localhost:8080/",
     "height": 355
    },
    "id": "iC4TeqHeXsxx",
    "outputId": "d917aaea-350e-4200-f3a6-d90946536049",
    "scrolled": false
   },
   "outputs": [
    {
     "data": {
      "text/plain": [
       "(array([46., 43., 43., 41., 41., 39., 38., 37., 37., 36.]),\n",
       " array([ 87.71929825,  90.34736842,  92.9754386 ,  95.60350877,\n",
       "         98.23157895, 100.85964912, 103.4877193 , 106.11578947,\n",
       "        108.74385965, 111.37192982, 114.        ]),\n",
       " <a list of 10 Patch objects>)"
      ]
     },
     "execution_count": 15,
     "metadata": {},
     "output_type": "execute_result"
    },
    {
     "data": {
      "image/png": "[encoded data removed]",
      "text/plain": [
       "<Figure size 432x288 with 1 Axes>"
      ]
     },
     "metadata": {
      "needs_background": "light"
     },
     "output_type": "display_data"
    }
   ],
   "source": [
    "plt.hist(task_3_TV, bins=10)"
   ]
  },
  {
   "cell_type": "code",
   "execution_count": 16,
   "metadata": {
    "colab": {
     "base_uri": "https://localhost:8080/",
     "height": 248
    },
    "id": "ge0ylENBYDXP",
    "outputId": "a4419c8d-9017-4b59-fc38-36eb40f8c0f9"
   },
   "outputs": [
    {
     "data": {
      "image/png": "[encoded data removed]",
      "text/plain": [
       "<Figure size 432x288 with 1 Axes>"
      ]
     },
     "metadata": {
      "needs_background": "light"
     },
     "output_type": "display_data"
    }
   ],
   "source": [
    "plt.xlim(0,1) \n",
    "plt.figtext(0.18,0.5,'S')\n",
    "plt.figtext(0.6,0.5+0.25,'Su')\n",
    "plt.figtext(0.6,0.5-0.25,'Sd')\n",
    "\n",
    "plt.annotate('',xy=(0.6,0.5+0.25), xytext=(0.1,0.5), arrowprops=dict(facecolor='b',shrink=0.01))\n",
    "plt.annotate('',xy=(0.6,0.5-0.25), xytext=(0.1,0.5), arrowprops=dict(facecolor='b',shrink=0.01))\n",
    "plt.axis('off')\n",
    "plt.show()"
   ]
  },
  {
   "cell_type": "code",
   "execution_count": 17,
   "metadata": {
    "colab": {
     "base_uri": "https://localhost:8080/",
     "height": 35
    },
    "id": "c2QN6qpxlIWU",
    "outputId": "6973d5c1-9f99-49c2-cdb5-7121e7b1be85"
   },
   "outputs": [
    {
     "data": {
      "text/plain": [
       "<Figure size 432x288 with 0 Axes>"
      ]
     },
     "metadata": {},
     "output_type": "display_data"
    }
   ],
   "source": [
    "import networkx as nx\n",
    "import matplotlib.pyplot as plt\n",
    "plt.figtext(0.08,0.6,\"Stock price=$20\")\n",
    "plt.figtext(0.75,0.91,\"Stock price=$22\")\n",
    "plt.figtext(0.75,0.87,\"Option price=$1\")\n",
    "plt.figtext(0.75,0.28,\"Stock price=$18\")\n",
    "plt.figtext(0.75,0.24,\"Option price=0\")\n",
    "plt.figtext(0.75,0.24,\"Option price=0\")\n",
    "n=1\n",
    "def bionomial_grid(n):\n",
    "    G=nx.Graph()\n",
    "    for i in range(0,n+1):\n",
    "        for j in range(1,i+2):\n",
    "            if i<n:\n",
    "                G.add_edge((i,j),(i+1,j))\n",
    "                G.add_edge((i,j),(i+1,j+1))\n",
    "    posG={}\n",
    "    for node in G.node in G.nodes():\n",
    "        posG[node]=(node[0],n+2+node[0]-2*node[1])\n",
    "    nx.draw(G,pos=posG)\n",
    "    return binomial_grid(n)"
   ]
  },
  {
   "cell_type": "code",
   "execution_count": null,
   "metadata": {},
   "outputs": [],
   "source": []
  }
 ],
 "metadata": {
  "colab": {
   "collapsed_sections": [],
   "name": "WQU MScFE 620 Project1.ipynb",
   "provenance": []
  },
  "kernelspec": {
   "display_name": "Python 3",
   "language": "python",
   "name": "python3"
  },
  "language_info": {
   "codemirror_mode": {
    "name": "ipython",
    "version": 3
   },
   "file_extension": ".py",
   "mimetype": "text/x-python",
   "name": "python",
   "nbconvert_exporter": "python",
   "pygments_lexer": "ipython3",
   "version": "3.8.5"
  }
 },
 "nbformat": 4,
 "nbformat_minor": 1
}
