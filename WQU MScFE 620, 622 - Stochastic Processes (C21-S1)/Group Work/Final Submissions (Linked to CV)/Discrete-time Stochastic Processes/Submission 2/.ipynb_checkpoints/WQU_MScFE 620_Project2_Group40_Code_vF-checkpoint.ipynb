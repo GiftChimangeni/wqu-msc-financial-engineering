{
 "cells": [
  {
   "cell_type": "code",
   "execution_count": 1,
   "metadata": {},
   "outputs": [],
   "source": [
    "# Import Necessary Libraries \n",
    "\n",
    "import numpy as np\n",
    "import pandas as pd\n",
    "import matplotlib.pyplot as plt\n",
    "import math\n",
    "import operator as op\n",
    "from functools import reduce\n",
    "from decimal import Decimal"
   ]
  },
  {
   "cell_type": "code",
   "execution_count": 2,
   "metadata": {},
   "outputs": [],
   "source": [
    "#Inputs\n",
    "\n",
    "x0_val = 95 #Current Stock Price\n",
    "x0_val_ans4 = 105 #Assumed Stock Price for Answer 4\n",
    "k_val = 105 #Strike Price\n",
    "t_val1 = 3 #Steps in the Pricing Process (No. of Steps per Year x Years to Maturity) (Ans 1 Part a)\n",
    "t_val2 = 2 #Steps in the Pricing Process (No. of Steps per Year x Years to Maturity) (Ans 2 Part a)\n",
    "r_val = 0 #Risk-free Rate per Price Step (Calculated as Risk-free Rate per year/No. of Steps per year)\n",
    "r_val_ans4 = 0.01 #Assumed Risk-free Rate per Price Step for Answer 4 \n",
    "u_val = 1.14 #Up Movement per Step in Binomial Model"
   ]
  },
  {
   "cell_type": "code",
   "execution_count": 3,
   "metadata": {},
   "outputs": [],
   "source": [
    "#Combinatorics Function\n",
    "\n",
    "def nCr(n, r):\n",
    "    r = min(r, n-r)\n",
    "    numer = reduce(op.mul, range(n, n-r, -1), 1)\n",
    "    denom = reduce(op.mul, range(1, r+1), 1)\n",
    "    return (numer // denom)"
   ]
  },
  {
   "cell_type": "code",
   "execution_count": 4,
   "metadata": {},
   "outputs": [],
   "source": [
    "#Asset Price Binomial Tree Function:\n",
    "\n",
    "def Asset_Px_Binomial_Tree(t, u, d, x0):\n",
    "    tree_holder = np.zeros([t+1, t+1])\n",
    "    freq = np.zeros(t+1)\n",
    "    d = 1/u\n",
    "\n",
    "    for i in range(t+1):\n",
    "        for j in range(i+1):\n",
    "            tree_holder[j,i]=x0*(d**j)*(u**(i-j))\n",
    "        freq[i]= Decimal(nCr(t, i))\n",
    "\n",
    "    tree_holder = pd.DataFrame(tree_holder.round(2))\n",
    "    return (tree_holder, freq)"
   ]
  },
  {
   "cell_type": "code",
   "execution_count": 5,
   "metadata": {},
   "outputs": [],
   "source": [
    "#Dataframe of Terminal Asset Prices from Binomial Tree:\n",
    "\n",
    "def Terminal_Px_Extractor(binomial_tree):\n",
    "    terminal_px = pd.DataFrame(np.vstack([binomial_tree.iloc[:,-1].values]).T, \n",
    "                               columns = ['X(w)'])\n",
    "    return terminal_px"
   ]
  },
  {
   "cell_type": "code",
   "execution_count": 6,
   "metadata": {},
   "outputs": [],
   "source": [
    "#European Option Price Function\n",
    "\n",
    "def European_Option_Price(x0, k, u, t, r, option_type):\n",
    "    \n",
    "    d = 1/u\n",
    "    p = (1 - d)/(u - d)\n",
    "    \n",
    "    if option_type == \"call\":     \n",
    "        price = reduce(lambda a, y: a + max(x0*(u**y)*(d**(t-y)) - k, 0) * nCr(t, y)*(p**y)*((1-p)**(t-y)) \n",
    "                       * (1/((1+r)**t)), [0]+list(range(t+1)))\n",
    "        return price\n",
    "        \n",
    "    elif option_type == \"put\":     \n",
    "        price = reduce(lambda a, y: a + max(k - x0*(u**y)*(d**(t-y)), 0) * nCr(t, y)*(p**y)*((1-p)**(t-y))\n",
    "                       * (1/((1+r)**t)), [0]+list(range(t+1)))\n",
    "        return price\n",
    "        \n",
    "    else:\n",
    "        price = print(\"Input format error\")\n",
    "        return price"
   ]
  },
  {
   "cell_type": "code",
   "execution_count": 7,
   "metadata": {},
   "outputs": [],
   "source": [
    "#European Option Value Tree Function:\n",
    "\n",
    "def European_Optionval_Tree(stockpx_binomial_tree, k, u, t, r, option_type):\n",
    "    \n",
    "    european_optionval_tree = pd.DataFrame()\n",
    "\n",
    "    if option_type == \"call\":\n",
    "        for i in range(stockpx_binomial_tree.shape[0]):\n",
    "            for j in range(stockpx_binomial_tree.shape[1]):\n",
    "                if i <= j:\n",
    "                    european_optionval_tree.at[i, j] = European_Option_Price(stockpx_binomial_tree.at[i, j],\n",
    "                                                                             k, u, (t-j), r, option_type)\n",
    "                else:\n",
    "                    european_optionval_tree.at[i, j] = 0\n",
    "        return european_optionval_tree.round(3)\n",
    "\n",
    "    elif option_type == \"put\":\n",
    "        for i in range(stockpx_binomial_tree.shape[0]):\n",
    "            for j in range(stockpx_binomial_tree.shape[1]):\n",
    "                if i <= j:\n",
    "                    european_optionval_tree.at[i, j] = European_Option_Price(stockpx_binomial_tree.at[i, j], \n",
    "                                                                             k, u, (t-j), r, option_type)\n",
    "                else:\n",
    "                    european_optionval_tree.at[i, j] = 0\n",
    "        return european_optionval_tree.round(3)\n",
    "\n",
    "    else:\n",
    "        european_optionval_tree = print(\"Input format error\")\n",
    "        return european_optionval_tree.round(3)      "
   ]
  },
  {
   "cell_type": "code",
   "execution_count": 8,
   "metadata": {},
   "outputs": [
    {
     "data": {
      "text/plain": [
       "(7.024793388429751, 17.024793388429746)"
      ]
     },
     "execution_count": 8,
     "metadata": {},
     "output_type": "execute_result"
    }
   ],
   "source": [
    "#Code Test - Verifying Values Using Example on Pages 6-7 of M5 Notes\n",
    "\n",
    "call_m5_eg = European_Option_Price(100, 110, 1.2, 2, 0, \"call\")\n",
    "put_m5_eg = European_Option_Price(100, 110, 1.2, 2, 0, \"put\")\n",
    "\n",
    "call_m5_eg, put_m5_eg"
   ]
  },
  {
   "cell_type": "markdown",
   "metadata": {},
   "source": [
    "# Answer 1 European Call Option (N = 3)"
   ]
  },
  {
   "cell_type": "markdown",
   "metadata": {},
   "source": [
    "## Part (a) European Call Option Price"
   ]
  },
  {
   "cell_type": "code",
   "execution_count": 9,
   "metadata": {
    "scrolled": false
   },
   "outputs": [
    {
     "name": "stdout",
     "output_type": "stream",
     "text": [
      "The price of the European call option with the given parameters is 4.799\n"
     ]
    }
   ],
   "source": [
    "call_price = European_Option_Price(x0_val, k_val, u_val, t_val1, r_val, \"call\")\n",
    "\n",
    "print(\"The price of the European call option with the given parameters is\", \"{:.3f}\".format(call_price))"
   ]
  },
  {
   "cell_type": "markdown",
   "metadata": {},
   "source": [
    "## Part (b) Call Option Value H(w) for Each Price Path "
   ]
  },
  {
   "cell_type": "code",
   "execution_count": 10,
   "metadata": {
    "scrolled": true
   },
   "outputs": [
    {
     "data": {
      "text/html": [
       "<div>\n",
       "<style scoped>\n",
       "    .dataframe tbody tr th:only-of-type {\n",
       "        vertical-align: middle;\n",
       "    }\n",
       "\n",
       "    .dataframe tbody tr th {\n",
       "        vertical-align: top;\n",
       "    }\n",
       "\n",
       "    .dataframe thead th {\n",
       "        text-align: right;\n",
       "    }\n",
       "</style>\n",
       "<table border=\"1\" class=\"dataframe\">\n",
       "  <thead>\n",
       "    <tr style=\"text-align: right;\">\n",
       "      <th></th>\n",
       "      <th>0</th>\n",
       "      <th>1</th>\n",
       "      <th>2</th>\n",
       "      <th>3</th>\n",
       "    </tr>\n",
       "  </thead>\n",
       "  <tbody>\n",
       "    <tr>\n",
       "      <th>0</th>\n",
       "      <td>95.0</td>\n",
       "      <td>108.30</td>\n",
       "      <td>123.46</td>\n",
       "      <td>140.75</td>\n",
       "    </tr>\n",
       "    <tr>\n",
       "      <th>1</th>\n",
       "      <td>0.0</td>\n",
       "      <td>83.33</td>\n",
       "      <td>95.00</td>\n",
       "      <td>108.30</td>\n",
       "    </tr>\n",
       "    <tr>\n",
       "      <th>2</th>\n",
       "      <td>0.0</td>\n",
       "      <td>0.00</td>\n",
       "      <td>73.10</td>\n",
       "      <td>83.33</td>\n",
       "    </tr>\n",
       "    <tr>\n",
       "      <th>3</th>\n",
       "      <td>0.0</td>\n",
       "      <td>0.00</td>\n",
       "      <td>0.00</td>\n",
       "      <td>64.12</td>\n",
       "    </tr>\n",
       "  </tbody>\n",
       "</table>\n",
       "</div>"
      ],
      "text/plain": [
       "      0       1       2       3\n",
       "0  95.0  108.30  123.46  140.75\n",
       "1   0.0   83.33   95.00  108.30\n",
       "2   0.0    0.00   73.10   83.33\n",
       "3   0.0    0.00    0.00   64.12"
      ]
     },
     "execution_count": 10,
     "metadata": {},
     "output_type": "execute_result"
    }
   ],
   "source": [
    "#Stock Price Evolution\n",
    "\n",
    "stockpx_binomial_tree1, freq_stockpx1 = Asset_Px_Binomial_Tree(t_val1, u_val, (1/u_val), x0_val)\n",
    "stockpx_binomial_tree1"
   ]
  },
  {
   "cell_type": "code",
   "execution_count": 11,
   "metadata": {
    "scrolled": true
   },
   "outputs": [
    {
     "name": "stdout",
     "output_type": "stream",
     "text": [
      "H(w) (call) = Max(Terminal Price - Strike, 0)\n"
     ]
    },
    {
     "data": {
      "text/html": [
       "<div>\n",
       "<style scoped>\n",
       "    .dataframe tbody tr th:only-of-type {\n",
       "        vertical-align: middle;\n",
       "    }\n",
       "\n",
       "    .dataframe tbody tr th {\n",
       "        vertical-align: top;\n",
       "    }\n",
       "\n",
       "    .dataframe thead th {\n",
       "        text-align: right;\n",
       "    }\n",
       "</style>\n",
       "<table border=\"1\" class=\"dataframe\">\n",
       "  <thead>\n",
       "    <tr style=\"text-align: right;\">\n",
       "      <th></th>\n",
       "      <th>X(w)</th>\n",
       "      <th>H(w)</th>\n",
       "    </tr>\n",
       "  </thead>\n",
       "  <tbody>\n",
       "    <tr>\n",
       "      <th>0</th>\n",
       "      <td>140.75</td>\n",
       "      <td>35.75</td>\n",
       "    </tr>\n",
       "    <tr>\n",
       "      <th>1</th>\n",
       "      <td>108.30</td>\n",
       "      <td>3.30</td>\n",
       "    </tr>\n",
       "    <tr>\n",
       "      <th>2</th>\n",
       "      <td>83.33</td>\n",
       "      <td>0.00</td>\n",
       "    </tr>\n",
       "    <tr>\n",
       "      <th>3</th>\n",
       "      <td>64.12</td>\n",
       "      <td>0.00</td>\n",
       "    </tr>\n",
       "  </tbody>\n",
       "</table>\n",
       "</div>"
      ],
      "text/plain": [
       "     X(w)   H(w)\n",
       "0  140.75  35.75\n",
       "1  108.30   3.30\n",
       "2   83.33   0.00\n",
       "3   64.12   0.00"
      ]
     },
     "execution_count": 11,
     "metadata": {},
     "output_type": "execute_result"
    }
   ],
   "source": [
    "#Pay-off of the European Call Option for Each Price Path\n",
    "\n",
    "call_payoffs = Terminal_Px_Extractor(stockpx_binomial_tree1)\n",
    "call_payoffs['H(w)'] = [max(i - k_val, 0) for i in call_payoffs['X(w)']]\n",
    "\n",
    "print('H(w) (call) = Max(Terminal Price - Strike, 0)')\n",
    "call_payoffs"
   ]
  },
  {
   "cell_type": "code",
   "execution_count": 12,
   "metadata": {},
   "outputs": [
    {
     "data": {
      "text/html": [
       "<div>\n",
       "<style scoped>\n",
       "    .dataframe tbody tr th:only-of-type {\n",
       "        vertical-align: middle;\n",
       "    }\n",
       "\n",
       "    .dataframe tbody tr th {\n",
       "        vertical-align: top;\n",
       "    }\n",
       "\n",
       "    .dataframe thead th {\n",
       "        text-align: right;\n",
       "    }\n",
       "</style>\n",
       "<table border=\"1\" class=\"dataframe\">\n",
       "  <thead>\n",
       "    <tr style=\"text-align: right;\">\n",
       "      <th></th>\n",
       "      <th>0</th>\n",
       "      <th>1</th>\n",
       "      <th>2</th>\n",
       "      <th>3</th>\n",
       "    </tr>\n",
       "  </thead>\n",
       "  <tbody>\n",
       "    <tr>\n",
       "      <th>0</th>\n",
       "      <td>4.799</td>\n",
       "      <td>9.449</td>\n",
       "      <td>18.460</td>\n",
       "      <td>35.75</td>\n",
       "    </tr>\n",
       "    <tr>\n",
       "      <th>1</th>\n",
       "      <td>0.000</td>\n",
       "      <td>0.720</td>\n",
       "      <td>1.542</td>\n",
       "      <td>3.30</td>\n",
       "    </tr>\n",
       "    <tr>\n",
       "      <th>2</th>\n",
       "      <td>0.000</td>\n",
       "      <td>0.000</td>\n",
       "      <td>0.000</td>\n",
       "      <td>0.00</td>\n",
       "    </tr>\n",
       "    <tr>\n",
       "      <th>3</th>\n",
       "      <td>0.000</td>\n",
       "      <td>0.000</td>\n",
       "      <td>0.000</td>\n",
       "      <td>0.00</td>\n",
       "    </tr>\n",
       "  </tbody>\n",
       "</table>\n",
       "</div>"
      ],
      "text/plain": [
       "       0      1       2      3\n",
       "0  4.799  9.449  18.460  35.75\n",
       "1  0.000  0.720   1.542   3.30\n",
       "2  0.000  0.000   0.000   0.00\n",
       "3  0.000  0.000   0.000   0.00"
      ]
     },
     "execution_count": 12,
     "metadata": {},
     "output_type": "execute_result"
    }
   ],
   "source": [
    "#Value of the European Call Option at Each Node\n",
    "call_optionval_tree = European_Optionval_Tree(stockpx_binomial_tree1, k_val, u_val, t_val1, r_val, \"call\")\n",
    "call_optionval_tree\n",
    "\n",
    "#def myfunc(x):\n",
    "#    c1=np.triu(np.ones(call_optionval_tree.shape),1).astype(np.bool)\n",
    "#    c2=np.tril(np.ones(call_optionval_tree.shape),-1).astype(np.bool)\n",
    "#    col1='color:black'\n",
    "#    col2='color:white'\n",
    "#    col3='color:black'\n",
    "#    df1 = pd.DataFrame(np.select([c1,c2],[col1,col2],col3),columns=x.columns,index=x.index)\n",
    "#    return df1\n",
    "\n",
    "#call_optionval_tree.style.apply(myfunc,axis=None)"
   ]
  },
  {
   "cell_type": "markdown",
   "metadata": {},
   "source": [
    "# Answer 2 European Put Option (N = 2)"
   ]
  },
  {
   "cell_type": "markdown",
   "metadata": {},
   "source": [
    "## Part (a) European Put Option Price"
   ]
  },
  {
   "cell_type": "code",
   "execution_count": 13,
   "metadata": {
    "scrolled": true
   },
   "outputs": [
    {
     "name": "stdout",
     "output_type": "stream",
     "text": [
      "The price of the European put option with the given parameters is 14.031\n"
     ]
    }
   ],
   "source": [
    "put_price = European_Option_Price(x0_val, k_val, u_val, t_val2, r_val, \"put\")\n",
    "\n",
    "print(\"The price of the European put option with the given parameters is\", \"{:.3f}\".format(put_price))"
   ]
  },
  {
   "cell_type": "markdown",
   "metadata": {},
   "source": [
    "## Part (b) Stock Price Evolution, Option Pay-off, Option Value, Hedging Strategy"
   ]
  },
  {
   "cell_type": "code",
   "execution_count": 14,
   "metadata": {},
   "outputs": [
    {
     "data": {
      "text/html": [
       "<div>\n",
       "<style scoped>\n",
       "    .dataframe tbody tr th:only-of-type {\n",
       "        vertical-align: middle;\n",
       "    }\n",
       "\n",
       "    .dataframe tbody tr th {\n",
       "        vertical-align: top;\n",
       "    }\n",
       "\n",
       "    .dataframe thead th {\n",
       "        text-align: right;\n",
       "    }\n",
       "</style>\n",
       "<table border=\"1\" class=\"dataframe\">\n",
       "  <thead>\n",
       "    <tr style=\"text-align: right;\">\n",
       "      <th></th>\n",
       "      <th>0</th>\n",
       "      <th>1</th>\n",
       "      <th>2</th>\n",
       "    </tr>\n",
       "  </thead>\n",
       "  <tbody>\n",
       "    <tr>\n",
       "      <th>0</th>\n",
       "      <td>95.0</td>\n",
       "      <td>108.30</td>\n",
       "      <td>123.46</td>\n",
       "    </tr>\n",
       "    <tr>\n",
       "      <th>1</th>\n",
       "      <td>0.0</td>\n",
       "      <td>83.33</td>\n",
       "      <td>95.00</td>\n",
       "    </tr>\n",
       "    <tr>\n",
       "      <th>2</th>\n",
       "      <td>0.0</td>\n",
       "      <td>0.00</td>\n",
       "      <td>73.10</td>\n",
       "    </tr>\n",
       "  </tbody>\n",
       "</table>\n",
       "</div>"
      ],
      "text/plain": [
       "      0       1       2\n",
       "0  95.0  108.30  123.46\n",
       "1   0.0   83.33   95.00\n",
       "2   0.0    0.00   73.10"
      ]
     },
     "execution_count": 14,
     "metadata": {},
     "output_type": "execute_result"
    }
   ],
   "source": [
    "#Stock Price Evolution\n",
    "\n",
    "stockpx_binomial_tree2, freq_stockpx2 = Asset_Px_Binomial_Tree(t_val2, u_val, (1/u_val), x0_val)\n",
    "stockpx_binomial_tree2"
   ]
  },
  {
   "cell_type": "code",
   "execution_count": 15,
   "metadata": {
    "scrolled": false
   },
   "outputs": [
    {
     "name": "stdout",
     "output_type": "stream",
     "text": [
      "H(w) (put) = Max(Strike - Terminal Price, 0)\n"
     ]
    },
    {
     "data": {
      "text/html": [
       "<div>\n",
       "<style scoped>\n",
       "    .dataframe tbody tr th:only-of-type {\n",
       "        vertical-align: middle;\n",
       "    }\n",
       "\n",
       "    .dataframe tbody tr th {\n",
       "        vertical-align: top;\n",
       "    }\n",
       "\n",
       "    .dataframe thead th {\n",
       "        text-align: right;\n",
       "    }\n",
       "</style>\n",
       "<table border=\"1\" class=\"dataframe\">\n",
       "  <thead>\n",
       "    <tr style=\"text-align: right;\">\n",
       "      <th></th>\n",
       "      <th>X(w)</th>\n",
       "      <th>H(w)</th>\n",
       "    </tr>\n",
       "  </thead>\n",
       "  <tbody>\n",
       "    <tr>\n",
       "      <th>0</th>\n",
       "      <td>123.46</td>\n",
       "      <td>0.0</td>\n",
       "    </tr>\n",
       "    <tr>\n",
       "      <th>1</th>\n",
       "      <td>95.00</td>\n",
       "      <td>10.0</td>\n",
       "    </tr>\n",
       "    <tr>\n",
       "      <th>2</th>\n",
       "      <td>73.10</td>\n",
       "      <td>31.9</td>\n",
       "    </tr>\n",
       "  </tbody>\n",
       "</table>\n",
       "</div>"
      ],
      "text/plain": [
       "     X(w)  H(w)\n",
       "0  123.46   0.0\n",
       "1   95.00  10.0\n",
       "2   73.10  31.9"
      ]
     },
     "execution_count": 15,
     "metadata": {},
     "output_type": "execute_result"
    }
   ],
   "source": [
    "#Pay-off of the European Put Option for Each Price Path\n",
    "\n",
    "put_payoffs = Terminal_Px_Extractor(stockpx_binomial_tree2)\n",
    "put_payoffs['H(w)'] = [max(k_val - i, 0) for i in put_payoffs['X(w)']]\n",
    "\n",
    "print('H(w) (put) = Max(Strike - Terminal Price, 0)')\n",
    "put_payoffs"
   ]
  },
  {
   "cell_type": "code",
   "execution_count": 16,
   "metadata": {
    "scrolled": false
   },
   "outputs": [
    {
     "data": {
      "text/html": [
       "<div>\n",
       "<style scoped>\n",
       "    .dataframe tbody tr th:only-of-type {\n",
       "        vertical-align: middle;\n",
       "    }\n",
       "\n",
       "    .dataframe tbody tr th {\n",
       "        vertical-align: top;\n",
       "    }\n",
       "\n",
       "    .dataframe thead th {\n",
       "        text-align: right;\n",
       "    }\n",
       "</style>\n",
       "<table border=\"1\" class=\"dataframe\">\n",
       "  <thead>\n",
       "    <tr style=\"text-align: right;\">\n",
       "      <th></th>\n",
       "      <th>0</th>\n",
       "      <th>1</th>\n",
       "      <th>2</th>\n",
       "    </tr>\n",
       "  </thead>\n",
       "  <tbody>\n",
       "    <tr>\n",
       "      <th>0</th>\n",
       "      <td>14.031</td>\n",
       "      <td>5.327</td>\n",
       "      <td>0.0</td>\n",
       "    </tr>\n",
       "    <tr>\n",
       "      <th>1</th>\n",
       "      <td>0.000</td>\n",
       "      <td>21.670</td>\n",
       "      <td>10.0</td>\n",
       "    </tr>\n",
       "    <tr>\n",
       "      <th>2</th>\n",
       "      <td>0.000</td>\n",
       "      <td>0.000</td>\n",
       "      <td>31.9</td>\n",
       "    </tr>\n",
       "  </tbody>\n",
       "</table>\n",
       "</div>"
      ],
      "text/plain": [
       "        0       1     2\n",
       "0  14.031   5.327   0.0\n",
       "1   0.000  21.670  10.0\n",
       "2   0.000   0.000  31.9"
      ]
     },
     "execution_count": 16,
     "metadata": {},
     "output_type": "execute_result"
    }
   ],
   "source": [
    "#Value of the European Put Option at Each Node\n",
    "\n",
    "put_optionval_tree = European_Optionval_Tree(stockpx_binomial_tree2, k_val, u_val, t_val2, r_val, \"put\")\n",
    "put_optionval_tree"
   ]
  },
  {
   "cell_type": "code",
   "execution_count": 17,
   "metadata": {
    "scrolled": false
   },
   "outputs": [
    {
     "data": {
      "text/html": [
       "<div>\n",
       "<style scoped>\n",
       "    .dataframe tbody tr th:only-of-type {\n",
       "        vertical-align: middle;\n",
       "    }\n",
       "\n",
       "    .dataframe tbody tr th {\n",
       "        vertical-align: top;\n",
       "    }\n",
       "\n",
       "    .dataframe thead th {\n",
       "        text-align: right;\n",
       "    }\n",
       "</style>\n",
       "<table border=\"1\" class=\"dataframe\">\n",
       "  <thead>\n",
       "    <tr style=\"text-align: right;\">\n",
       "      <th></th>\n",
       "      <th>w</th>\n",
       "      <th>X0(w)</th>\n",
       "      <th>X1(w)</th>\n",
       "      <th>X2(w)</th>\n",
       "      <th>H(w) = Max(K - X2(w), 0)</th>\n",
       "    </tr>\n",
       "  </thead>\n",
       "  <tbody>\n",
       "    <tr>\n",
       "      <th>0</th>\n",
       "      <td>(u,u)</td>\n",
       "      <td>95</td>\n",
       "      <td>108.3</td>\n",
       "      <td>123.46</td>\n",
       "      <td>0</td>\n",
       "    </tr>\n",
       "    <tr>\n",
       "      <th>1</th>\n",
       "      <td>(u,d)</td>\n",
       "      <td>95</td>\n",
       "      <td>108.3</td>\n",
       "      <td>95</td>\n",
       "      <td>10</td>\n",
       "    </tr>\n",
       "    <tr>\n",
       "      <th>2</th>\n",
       "      <td>(d,u)</td>\n",
       "      <td>95</td>\n",
       "      <td>83.33</td>\n",
       "      <td>95</td>\n",
       "      <td>10</td>\n",
       "    </tr>\n",
       "    <tr>\n",
       "      <th>3</th>\n",
       "      <td>(d,d)</td>\n",
       "      <td>95</td>\n",
       "      <td>83.33</td>\n",
       "      <td>73.1</td>\n",
       "      <td>31.9</td>\n",
       "    </tr>\n",
       "  </tbody>\n",
       "</table>\n",
       "</div>"
      ],
      "text/plain": [
       "       w X0(w)  X1(w)   X2(w) H(w) = Max(K - X2(w), 0)\n",
       "0  (u,u)    95  108.3  123.46                        0\n",
       "1  (u,d)    95  108.3      95                       10\n",
       "2  (d,u)    95  83.33      95                       10\n",
       "3  (d,d)    95  83.33    73.1                     31.9"
      ]
     },
     "execution_count": 17,
     "metadata": {},
     "output_type": "execute_result"
    }
   ],
   "source": [
    "#Table of Stock Price Xt(w) Evolution and Option Pay-off\n",
    "\n",
    "stockpx_table = pd.DataFrame(columns = ['w', 'X0(w)', 'X1(w)', 'X2(w)', 'H(w) = Max(K - X2(w), 0)'])\n",
    "\n",
    "stockpx_table.at[0, 'w'] = '(u,u)'\n",
    "stockpx_table.at[1, 'w'] = '(u,d)'\n",
    "stockpx_table.at[2, 'w'] = '(d,u)'\n",
    "stockpx_table.at[3, 'w'] = '(d,d)'\n",
    "\n",
    "#Stock Price at t = 0\n",
    "for i in range(4):\n",
    "    stockpx_table.at[i, 'X0(w)'] = stockpx_binomial_tree2.at[0,0]\n",
    "\n",
    "#Stock Price at t = 1\n",
    "for i in range(2):\n",
    "    stockpx_table.at[i, 'X1(w)'] = stockpx_binomial_tree2.at[0,1]\n",
    "    \n",
    "for i in range(2,4):\n",
    "    stockpx_table.at[i, 'X1(w)'] = stockpx_binomial_tree2.at[1,1]\n",
    "\n",
    "#Stock Price at t = 2\n",
    "stockpx_table.at[0, 'X2(w)'] = stockpx_binomial_tree2.at[0,2]\n",
    "stockpx_table.at[1, 'X2(w)'] = stockpx_binomial_tree2.at[1,2]\n",
    "stockpx_table.at[2, 'X2(w)'] = stockpx_binomial_tree2.at[1,2]\n",
    "stockpx_table.at[3, 'X2(w)'] = stockpx_binomial_tree2.at[2,2]\n",
    "\n",
    "#Put Option Pay-off H(w)\n",
    "for i in range(4):\n",
    "    stockpx_table.at[i, 'H(w) = Max(K - X2(w), 0)'] = max(k_val - stockpx_table.at[i, 'X2(w)'], 0)\n",
    "\n",
    "#stockpx_table.index += 1\n",
    "stockpx_table"
   ]
  },
  {
   "cell_type": "code",
   "execution_count": 18,
   "metadata": {
    "scrolled": false
   },
   "outputs": [
    {
     "data": {
      "text/html": [
       "<div>\n",
       "<style scoped>\n",
       "    .dataframe tbody tr th:only-of-type {\n",
       "        vertical-align: middle;\n",
       "    }\n",
       "\n",
       "    .dataframe tbody tr th {\n",
       "        vertical-align: top;\n",
       "    }\n",
       "\n",
       "    .dataframe thead th {\n",
       "        text-align: right;\n",
       "    }\n",
       "</style>\n",
       "<table border=\"1\" class=\"dataframe\">\n",
       "  <thead>\n",
       "    <tr style=\"text-align: right;\">\n",
       "      <th></th>\n",
       "      <th>w</th>\n",
       "      <th>V0(w)</th>\n",
       "      <th>V1(w)</th>\n",
       "      <th>V2(w)</th>\n",
       "    </tr>\n",
       "  </thead>\n",
       "  <tbody>\n",
       "    <tr>\n",
       "      <th>0</th>\n",
       "      <td>(u,u)</td>\n",
       "      <td>14.031</td>\n",
       "      <td>5.327</td>\n",
       "      <td>0</td>\n",
       "    </tr>\n",
       "    <tr>\n",
       "      <th>1</th>\n",
       "      <td>(u,d)</td>\n",
       "      <td>14.031</td>\n",
       "      <td>5.327</td>\n",
       "      <td>10</td>\n",
       "    </tr>\n",
       "    <tr>\n",
       "      <th>2</th>\n",
       "      <td>(d,u)</td>\n",
       "      <td>14.031</td>\n",
       "      <td>21.67</td>\n",
       "      <td>10</td>\n",
       "    </tr>\n",
       "    <tr>\n",
       "      <th>3</th>\n",
       "      <td>(d,d)</td>\n",
       "      <td>14.031</td>\n",
       "      <td>21.67</td>\n",
       "      <td>31.9</td>\n",
       "    </tr>\n",
       "  </tbody>\n",
       "</table>\n",
       "</div>"
      ],
      "text/plain": [
       "       w   V0(w)  V1(w) V2(w)\n",
       "0  (u,u)  14.031  5.327     0\n",
       "1  (u,d)  14.031  5.327    10\n",
       "2  (d,u)  14.031  21.67    10\n",
       "3  (d,d)  14.031  21.67  31.9"
      ]
     },
     "execution_count": 18,
     "metadata": {},
     "output_type": "execute_result"
    }
   ],
   "source": [
    "#Table of Put Option Value Vt(w) Evolution\n",
    "\n",
    "putval_table = pd.DataFrame(columns = ['w', 'V0(w)', 'V1(w)', 'V2(w)'])\n",
    "\n",
    "putval_table.at[0, 'w'] = '(u,u)'\n",
    "putval_table.at[1, 'w'] = '(u,d)'\n",
    "putval_table.at[2, 'w'] = '(d,u)'\n",
    "putval_table.at[3, 'w'] = '(d,d)'\n",
    "\n",
    "#Put Option Price at t = 0\n",
    "for i in range(4):\n",
    "    putval_table.at[i, 'V0(w)'] = put_optionval_tree.at[0,0].round(3)\n",
    "\n",
    "#Put Option Price at t = 1\n",
    "for i in range(2):\n",
    "    putval_table.at[i, 'V1(w)'] = put_optionval_tree.at[0,1].round(3)\n",
    "    \n",
    "for i in range(2,4):\n",
    "    putval_table.at[i, 'V1(w)'] = put_optionval_tree.at[1,1].round(3)\n",
    "\n",
    "#Put Option Price at t = 2\n",
    "putval_table.at[0, 'V2(w)'] = put_optionval_tree.at[0,2].round(3)\n",
    "putval_table.at[1, 'V2(w)'] = put_optionval_tree.at[1,2].round(3)\n",
    "putval_table.at[2, 'V2(w)'] = put_optionval_tree.at[1,2].round(3)\n",
    "putval_table.at[3, 'V2(w)'] = put_optionval_tree.at[2,2].round(3)\n",
    "\n",
    "putval_table"
   ]
  },
  {
   "cell_type": "code",
   "execution_count": 19,
   "metadata": {},
   "outputs": [
    {
     "data": {
      "text/html": [
       "<div>\n",
       "<style scoped>\n",
       "    .dataframe tbody tr th:only-of-type {\n",
       "        vertical-align: middle;\n",
       "    }\n",
       "\n",
       "    .dataframe tbody tr th {\n",
       "        vertical-align: top;\n",
       "    }\n",
       "\n",
       "    .dataframe thead th {\n",
       "        text-align: right;\n",
       "    }\n",
       "</style>\n",
       "<table border=\"1\" class=\"dataframe\">\n",
       "  <thead>\n",
       "    <tr style=\"text-align: right;\">\n",
       "      <th></th>\n",
       "      <th>w</th>\n",
       "      <th>Q1(w)</th>\n",
       "      <th>Q2(w)</th>\n",
       "    </tr>\n",
       "  </thead>\n",
       "  <tbody>\n",
       "    <tr>\n",
       "      <th>0</th>\n",
       "      <td>(u,u)</td>\n",
       "      <td>-0.654</td>\n",
       "      <td>-0.351</td>\n",
       "    </tr>\n",
       "    <tr>\n",
       "      <th>1</th>\n",
       "      <td>(u,d)</td>\n",
       "      <td>-0.654</td>\n",
       "      <td>-0.351</td>\n",
       "    </tr>\n",
       "    <tr>\n",
       "      <th>2</th>\n",
       "      <td>(d,u)</td>\n",
       "      <td>-0.655</td>\n",
       "      <td>-1</td>\n",
       "    </tr>\n",
       "    <tr>\n",
       "      <th>3</th>\n",
       "      <td>(d,d)</td>\n",
       "      <td>-0.655</td>\n",
       "      <td>-1</td>\n",
       "    </tr>\n",
       "  </tbody>\n",
       "</table>\n",
       "</div>"
      ],
      "text/plain": [
       "       w  Q1(w)  Q2(w)\n",
       "0  (u,u) -0.654 -0.351\n",
       "1  (u,d) -0.654 -0.351\n",
       "2  (d,u) -0.655     -1\n",
       "3  (d,d) -0.655     -1"
      ]
     },
     "execution_count": 19,
     "metadata": {},
     "output_type": "execute_result"
    }
   ],
   "source": [
    "#Hedging Strategy at Each Node\n",
    "\n",
    "hedging_strat_table = pd.DataFrame(columns = ['w', 'Q1(w)', 'Q2(w)'])\n",
    "\n",
    "hedging_strat_table.at[0, 'w'] = '(u,u)'\n",
    "hedging_strat_table.at[1, 'w'] = '(u,d)'\n",
    "hedging_strat_table.at[2, 'w'] = '(d,u)'\n",
    "hedging_strat_table.at[3, 'w'] = '(d,d)'\n",
    "\n",
    "for j in range(1, hedging_strat_table.shape[1]):\n",
    "    for i in range(hedging_strat_table.shape[0]):\n",
    "        hedging_strat_table.iloc[i, j] = ((putval_table.iloc[i, j+1] - putval_table.iloc[i, j])/\n",
    "                                          (stockpx_table.iloc[i, j+1] - stockpx_table.iloc[i, j])).round(3)\n",
    "\n",
    "hedging_strat_table"
   ]
  },
  {
   "cell_type": "markdown",
   "metadata": {},
   "source": [
    "# Answer 3 Market Completeness Analysis"
   ]
  },
  {
   "cell_type": "markdown",
   "metadata": {},
   "source": [
    "## Part (a) (2x2) A Matrix Construction"
   ]
  },
  {
   "cell_type": "code",
   "execution_count": 20,
   "metadata": {
    "scrolled": true
   },
   "outputs": [
    {
     "data": {
      "text/html": [
       "<div>\n",
       "<style scoped>\n",
       "    .dataframe tbody tr th:only-of-type {\n",
       "        vertical-align: middle;\n",
       "    }\n",
       "\n",
       "    .dataframe tbody tr th {\n",
       "        vertical-align: top;\n",
       "    }\n",
       "\n",
       "    .dataframe thead th {\n",
       "        text-align: right;\n",
       "    }\n",
       "</style>\n",
       "<table border=\"1\" class=\"dataframe\">\n",
       "  <thead>\n",
       "    <tr style=\"text-align: right;\">\n",
       "      <th></th>\n",
       "      <th>Xt(w)</th>\n",
       "      <th>B</th>\n",
       "    </tr>\n",
       "    <tr>\n",
       "      <th>State</th>\n",
       "      <th></th>\n",
       "      <th></th>\n",
       "    </tr>\n",
       "  </thead>\n",
       "  <tbody>\n",
       "    <tr>\n",
       "      <th>u</th>\n",
       "      <td>-</td>\n",
       "      <td>-</td>\n",
       "    </tr>\n",
       "    <tr>\n",
       "      <th>d</th>\n",
       "      <td>-</td>\n",
       "      <td>-</td>\n",
       "    </tr>\n",
       "  </tbody>\n",
       "</table>\n",
       "</div>"
      ],
      "text/plain": [
       "      Xt(w)  B\n",
       "State         \n",
       "u         -  -\n",
       "d         -  -"
      ]
     },
     "execution_count": 20,
     "metadata": {},
     "output_type": "execute_result"
    }
   ],
   "source": [
    "A = pd.DataFrame(columns = ['State','Xt(w)', 'B'])\n",
    "A['State'] = ['u', 'd']\n",
    "A.set_index('State', inplace = True)\n",
    "A = A.fillna('-')\n",
    "A"
   ]
  },
  {
   "cell_type": "markdown",
   "metadata": {},
   "source": [
    "## Part (b) Populating Matrix A"
   ]
  },
  {
   "cell_type": "code",
   "execution_count": 21,
   "metadata": {
    "scrolled": false
   },
   "outputs": [
    {
     "data": {
      "text/html": [
       "<div>\n",
       "<style scoped>\n",
       "    .dataframe tbody tr th:only-of-type {\n",
       "        vertical-align: middle;\n",
       "    }\n",
       "\n",
       "    .dataframe tbody tr th {\n",
       "        vertical-align: top;\n",
       "    }\n",
       "\n",
       "    .dataframe thead th {\n",
       "        text-align: right;\n",
       "    }\n",
       "</style>\n",
       "<table border=\"1\" class=\"dataframe\">\n",
       "  <thead>\n",
       "    <tr style=\"text-align: right;\">\n",
       "      <th></th>\n",
       "      <th>Xt(w)</th>\n",
       "      <th>B</th>\n",
       "    </tr>\n",
       "    <tr>\n",
       "      <th>State</th>\n",
       "      <th></th>\n",
       "      <th></th>\n",
       "    </tr>\n",
       "  </thead>\n",
       "  <tbody>\n",
       "    <tr>\n",
       "      <th>u</th>\n",
       "      <td>95</td>\n",
       "      <td>100</td>\n",
       "    </tr>\n",
       "    <tr>\n",
       "      <th>d</th>\n",
       "      <td>73.1</td>\n",
       "      <td>100</td>\n",
       "    </tr>\n",
       "  </tbody>\n",
       "</table>\n",
       "</div>"
      ],
      "text/plain": [
       "      Xt(w)    B\n",
       "State           \n",
       "u        95  100\n",
       "d      73.1  100"
      ]
     },
     "execution_count": 21,
     "metadata": {},
     "output_type": "execute_result"
    }
   ],
   "source": [
    "#We take the node X1({(d,u), (d,d)})\n",
    "\n",
    "node = stockpx_binomial_tree2.at[1, 1]\n",
    "\n",
    "for i in range(A.shape[0]):\n",
    "    A['Xt(w)'].iloc[i] = stockpx_binomial_tree2.at[i+1, 2]\n",
    "\n",
    "for i in range(A.shape[0]):\n",
    "    A['B'] = 100\n",
    "\n",
    "A"
   ]
  },
  {
   "cell_type": "markdown",
   "metadata": {},
   "source": [
    "## Part (c) Constructing and Populating the b Matrix"
   ]
  },
  {
   "cell_type": "code",
   "execution_count": 22,
   "metadata": {
    "scrolled": false
   },
   "outputs": [
    {
     "data": {
      "text/html": [
       "<div>\n",
       "<style scoped>\n",
       "    .dataframe tbody tr th:only-of-type {\n",
       "        vertical-align: middle;\n",
       "    }\n",
       "\n",
       "    .dataframe tbody tr th {\n",
       "        vertical-align: top;\n",
       "    }\n",
       "\n",
       "    .dataframe thead th {\n",
       "        text-align: right;\n",
       "    }\n",
       "</style>\n",
       "<table border=\"1\" class=\"dataframe\">\n",
       "  <thead>\n",
       "    <tr style=\"text-align: right;\">\n",
       "      <th></th>\n",
       "      <th>Vt(w)</th>\n",
       "    </tr>\n",
       "    <tr>\n",
       "      <th>State</th>\n",
       "      <th></th>\n",
       "    </tr>\n",
       "  </thead>\n",
       "  <tbody>\n",
       "    <tr>\n",
       "      <th>u</th>\n",
       "      <td>10</td>\n",
       "    </tr>\n",
       "    <tr>\n",
       "      <th>d</th>\n",
       "      <td>31.9</td>\n",
       "    </tr>\n",
       "  </tbody>\n",
       "</table>\n",
       "</div>"
      ],
      "text/plain": [
       "      Vt(w)\n",
       "State      \n",
       "u        10\n",
       "d      31.9"
      ]
     },
     "execution_count": 22,
     "metadata": {},
     "output_type": "execute_result"
    }
   ],
   "source": [
    "b = pd.DataFrame(columns = ['State', 'Vt(w)'])\n",
    "b['State'] = ['u', 'd']\n",
    "b.set_index('State', inplace = True)\n",
    "\n",
    "for i in range(b.shape[0]):\n",
    "    b.iloc[i] = put_optionval_tree.at[i+1, 2]\n",
    "\n",
    "b"
   ]
  },
  {
   "cell_type": "markdown",
   "metadata": {},
   "source": [
    "## Part (e) Solving for x"
   ]
  },
  {
   "cell_type": "code",
   "execution_count": 23,
   "metadata": {
    "scrolled": true
   },
   "outputs": [
    {
     "data": {
      "text/plain": [
       "array([[-1.  ],\n",
       "       [ 1.05]])"
      ]
     },
     "execution_count": 23,
     "metadata": {},
     "output_type": "execute_result"
    }
   ],
   "source": [
    "#Solving the Equation Ax = b for x\n",
    "\n",
    "from numpy import linalg\n",
    "linalg.solve(A.to_numpy(dtype = 'float'), b.to_numpy(dtype = 'float'))"
   ]
  },
  {
   "cell_type": "markdown",
   "metadata": {},
   "source": [
    "# Answer 4 Put-Call Parity"
   ]
  },
  {
   "cell_type": "markdown",
   "metadata": {},
   "source": [
    "## Part (a) Comparing Portfolio with Long Call and Short Put to Portfolio with Long Stock and Short Bond"
   ]
  },
  {
   "cell_type": "code",
   "execution_count": 24,
   "metadata": {
    "scrolled": true
   },
   "outputs": [
    {
     "data": {
      "text/html": [
       "<div>\n",
       "<style scoped>\n",
       "    .dataframe tbody tr th:only-of-type {\n",
       "        vertical-align: middle;\n",
       "    }\n",
       "\n",
       "    .dataframe tbody tr th {\n",
       "        vertical-align: top;\n",
       "    }\n",
       "\n",
       "    .dataframe thead th {\n",
       "        text-align: right;\n",
       "    }\n",
       "</style>\n",
       "<table border=\"1\" class=\"dataframe\">\n",
       "  <thead>\n",
       "    <tr style=\"text-align: right;\">\n",
       "      <th></th>\n",
       "      <th>0</th>\n",
       "      <th>1</th>\n",
       "      <th>2</th>\n",
       "    </tr>\n",
       "  </thead>\n",
       "  <tbody>\n",
       "    <tr>\n",
       "      <th>0</th>\n",
       "      <td>105.0</td>\n",
       "      <td>119.70</td>\n",
       "      <td>136.46</td>\n",
       "    </tr>\n",
       "    <tr>\n",
       "      <th>1</th>\n",
       "      <td>0.0</td>\n",
       "      <td>92.11</td>\n",
       "      <td>105.00</td>\n",
       "    </tr>\n",
       "    <tr>\n",
       "      <th>2</th>\n",
       "      <td>0.0</td>\n",
       "      <td>0.00</td>\n",
       "      <td>80.79</td>\n",
       "    </tr>\n",
       "  </tbody>\n",
       "</table>\n",
       "</div>"
      ],
      "text/plain": [
       "       0       1       2\n",
       "0  105.0  119.70  136.46\n",
       "1    0.0   92.11  105.00\n",
       "2    0.0    0.00   80.79"
      ]
     },
     "execution_count": 24,
     "metadata": {},
     "output_type": "execute_result"
    }
   ],
   "source": [
    "#Stock Price Binomial Tree with X0 = 105\n",
    "\n",
    "stockpx_binomial_tree3, freq_stockpx3 = Asset_Px_Binomial_Tree(t_val2, u_val, 1/u_val, x0_val_ans4)\n",
    "stockpx_binomial_tree3"
   ]
  },
  {
   "cell_type": "code",
   "execution_count": 25,
   "metadata": {},
   "outputs": [
    {
     "data": {
      "text/html": [
       "<div>\n",
       "<style scoped>\n",
       "    .dataframe tbody tr th:only-of-type {\n",
       "        vertical-align: middle;\n",
       "    }\n",
       "\n",
       "    .dataframe tbody tr th {\n",
       "        vertical-align: top;\n",
       "    }\n",
       "\n",
       "    .dataframe thead th {\n",
       "        text-align: right;\n",
       "    }\n",
       "</style>\n",
       "<table border=\"1\" class=\"dataframe\">\n",
       "  <thead>\n",
       "    <tr style=\"text-align: right;\">\n",
       "      <th></th>\n",
       "      <th>0</th>\n",
       "      <th>1</th>\n",
       "      <th>2</th>\n",
       "    </tr>\n",
       "  </thead>\n",
       "  <tbody>\n",
       "    <tr>\n",
       "      <th>0</th>\n",
       "      <td>6.734</td>\n",
       "      <td>14.554</td>\n",
       "      <td>31.46</td>\n",
       "    </tr>\n",
       "    <tr>\n",
       "      <th>1</th>\n",
       "      <td>0.000</td>\n",
       "      <td>0.002</td>\n",
       "      <td>0.00</td>\n",
       "    </tr>\n",
       "    <tr>\n",
       "      <th>2</th>\n",
       "      <td>0.000</td>\n",
       "      <td>0.000</td>\n",
       "      <td>0.00</td>\n",
       "    </tr>\n",
       "  </tbody>\n",
       "</table>\n",
       "</div>"
      ],
      "text/plain": [
       "       0       1      2\n",
       "0  6.734  14.554  31.46\n",
       "1  0.000   0.002   0.00\n",
       "2  0.000   0.000   0.00"
      ]
     },
     "execution_count": 25,
     "metadata": {},
     "output_type": "execute_result"
    }
   ],
   "source": [
    "#European Call Option Value Binomial Tree\n",
    "\n",
    "call_optionval_tree2 = European_Optionval_Tree(stockpx_binomial_tree3, k_val, u_val, \n",
    "                                               t_val2, r_val_ans4, \"call\")\n",
    "call_optionval_tree2"
   ]
  },
  {
   "cell_type": "code",
   "execution_count": 26,
   "metadata": {
    "scrolled": true
   },
   "outputs": [
    {
     "data": {
      "text/html": [
       "<div>\n",
       "<style scoped>\n",
       "    .dataframe tbody tr th:only-of-type {\n",
       "        vertical-align: middle;\n",
       "    }\n",
       "\n",
       "    .dataframe tbody tr th {\n",
       "        vertical-align: top;\n",
       "    }\n",
       "\n",
       "    .dataframe thead th {\n",
       "        text-align: right;\n",
       "    }\n",
       "</style>\n",
       "<table border=\"1\" class=\"dataframe\">\n",
       "  <thead>\n",
       "    <tr style=\"text-align: right;\">\n",
       "      <th></th>\n",
       "      <th>0</th>\n",
       "      <th>1</th>\n",
       "      <th>2</th>\n",
       "    </tr>\n",
       "  </thead>\n",
       "  <tbody>\n",
       "    <tr>\n",
       "      <th>0</th>\n",
       "      <td>6.734</td>\n",
       "      <td>0.000</td>\n",
       "      <td>0.00</td>\n",
       "    </tr>\n",
       "    <tr>\n",
       "      <th>1</th>\n",
       "      <td>0.000</td>\n",
       "      <td>12.765</td>\n",
       "      <td>0.00</td>\n",
       "    </tr>\n",
       "    <tr>\n",
       "      <th>2</th>\n",
       "      <td>0.000</td>\n",
       "      <td>0.000</td>\n",
       "      <td>24.21</td>\n",
       "    </tr>\n",
       "  </tbody>\n",
       "</table>\n",
       "</div>"
      ],
      "text/plain": [
       "       0       1      2\n",
       "0  6.734   0.000   0.00\n",
       "1  0.000  12.765   0.00\n",
       "2  0.000   0.000  24.21"
      ]
     },
     "execution_count": 26,
     "metadata": {},
     "output_type": "execute_result"
    }
   ],
   "source": [
    "#European Put Option Value Binomial Tree\n",
    "\n",
    "put_optionval_tree2 = European_Optionval_Tree(stockpx_binomial_tree3, k_val, u_val, \n",
    "                                              t_val2, r_val_ans4, \"put\")\n",
    "put_optionval_tree2"
   ]
  },
  {
   "cell_type": "markdown",
   "metadata": {},
   "source": [
    "### Part (a-i.) Value of Portfolio with 1 Long Call and 1 Short Put"
   ]
  },
  {
   "cell_type": "code",
   "execution_count": 27,
   "metadata": {
    "scrolled": true
   },
   "outputs": [
    {
     "data": {
      "text/html": [
       "<div>\n",
       "<style scoped>\n",
       "    .dataframe tbody tr th:only-of-type {\n",
       "        vertical-align: middle;\n",
       "    }\n",
       "\n",
       "    .dataframe tbody tr th {\n",
       "        vertical-align: top;\n",
       "    }\n",
       "\n",
       "    .dataframe thead th {\n",
       "        text-align: right;\n",
       "    }\n",
       "</style>\n",
       "<table border=\"1\" class=\"dataframe\">\n",
       "  <thead>\n",
       "    <tr style=\"text-align: right;\">\n",
       "      <th></th>\n",
       "      <th>0</th>\n",
       "      <th>1</th>\n",
       "      <th>2</th>\n",
       "    </tr>\n",
       "  </thead>\n",
       "  <tbody>\n",
       "    <tr>\n",
       "      <th>0</th>\n",
       "      <td>0.0</td>\n",
       "      <td>14.554</td>\n",
       "      <td>31.46</td>\n",
       "    </tr>\n",
       "    <tr>\n",
       "      <th>1</th>\n",
       "      <td>0.0</td>\n",
       "      <td>-12.763</td>\n",
       "      <td>0.00</td>\n",
       "    </tr>\n",
       "    <tr>\n",
       "      <th>2</th>\n",
       "      <td>0.0</td>\n",
       "      <td>0.000</td>\n",
       "      <td>-24.21</td>\n",
       "    </tr>\n",
       "  </tbody>\n",
       "</table>\n",
       "</div>"
      ],
      "text/plain": [
       "     0       1      2\n",
       "0  0.0  14.554  31.46\n",
       "1  0.0 -12.763   0.00\n",
       "2  0.0   0.000 -24.21"
      ]
     },
     "execution_count": 27,
     "metadata": {},
     "output_type": "execute_result"
    }
   ],
   "source": [
    "#Option Portfolio Value at Each Node\n",
    "\n",
    "option_portfolio_val = call_optionval_tree2 - put_optionval_tree2\n",
    "option_portfolio_val"
   ]
  },
  {
   "cell_type": "markdown",
   "metadata": {},
   "source": [
    "### Part (a-ii.) Value of Portfolio with 1 Long Stock and K dollars Borrowing (Short Bond)"
   ]
  },
  {
   "cell_type": "code",
   "execution_count": 28,
   "metadata": {
    "scrolled": true
   },
   "outputs": [
    {
     "data": {
      "text/html": [
       "<div>\n",
       "<style scoped>\n",
       "    .dataframe tbody tr th:only-of-type {\n",
       "        vertical-align: middle;\n",
       "    }\n",
       "\n",
       "    .dataframe tbody tr th {\n",
       "        vertical-align: top;\n",
       "    }\n",
       "\n",
       "    .dataframe thead th {\n",
       "        text-align: right;\n",
       "    }\n",
       "</style>\n",
       "<table border=\"1\" class=\"dataframe\">\n",
       "  <thead>\n",
       "    <tr style=\"text-align: right;\">\n",
       "      <th></th>\n",
       "      <th>0</th>\n",
       "      <th>1</th>\n",
       "      <th>2</th>\n",
       "    </tr>\n",
       "  </thead>\n",
       "  <tbody>\n",
       "    <tr>\n",
       "      <th>0</th>\n",
       "      <td>2.069</td>\n",
       "      <td>15.74</td>\n",
       "      <td>31.46</td>\n",
       "    </tr>\n",
       "    <tr>\n",
       "      <th>1</th>\n",
       "      <td>0.000</td>\n",
       "      <td>-11.85</td>\n",
       "      <td>0.00</td>\n",
       "    </tr>\n",
       "    <tr>\n",
       "      <th>2</th>\n",
       "      <td>0.000</td>\n",
       "      <td>0.00</td>\n",
       "      <td>-24.21</td>\n",
       "    </tr>\n",
       "  </tbody>\n",
       "</table>\n",
       "</div>"
      ],
      "text/plain": [
       "       0      1      2\n",
       "0  2.069  15.74  31.46\n",
       "1  0.000 -11.85   0.00\n",
       "2  0.000   0.00 -24.21"
      ]
     },
     "execution_count": 28,
     "metadata": {},
     "output_type": "execute_result"
    }
   ],
   "source": [
    "#Stock-Bond Portfolio Value at Each Node\n",
    "\n",
    "stock_bond_portfolio_val = pd.DataFrame()\n",
    "\n",
    "for j in range(stockpx_binomial_tree3.shape[1]):\n",
    "    for i in range(stockpx_binomial_tree3.shape[0]):\n",
    "        \n",
    "        if i <=j: \n",
    "            stock_bond_portfolio_val.at[i,j] = (stockpx_binomial_tree3.at[i,j]\n",
    "            - k_val/((1+r_val_ans4)**(t_val2-j))).round(3)\n",
    "        \n",
    "        else:\n",
    "            stock_bond_portfolio_val.at[i,j] = 0\n",
    "\n",
    "stock_bond_portfolio_val"
   ]
  },
  {
   "cell_type": "markdown",
   "metadata": {},
   "source": [
    "### Value of the Two Portfolios across the Three States"
   ]
  },
  {
   "cell_type": "code",
   "execution_count": 29,
   "metadata": {
    "scrolled": false
   },
   "outputs": [
    {
     "data": {
      "text/html": [
       "<div>\n",
       "<style scoped>\n",
       "    .dataframe tbody tr th:only-of-type {\n",
       "        vertical-align: middle;\n",
       "    }\n",
       "\n",
       "    .dataframe tbody tr th {\n",
       "        vertical-align: top;\n",
       "    }\n",
       "\n",
       "    .dataframe thead th {\n",
       "        text-align: right;\n",
       "    }\n",
       "</style>\n",
       "<table border=\"1\" class=\"dataframe\">\n",
       "  <thead>\n",
       "    <tr style=\"text-align: right;\">\n",
       "      <th></th>\n",
       "      <th>w</th>\n",
       "      <th>X2(w)</th>\n",
       "      <th>K</th>\n",
       "      <th>(C-P)2(w)</th>\n",
       "      <th>(S-B)2(w)</th>\n",
       "    </tr>\n",
       "  </thead>\n",
       "  <tbody>\n",
       "    <tr>\n",
       "      <th>0</th>\n",
       "      <td>(u,u)</td>\n",
       "      <td>136.46</td>\n",
       "      <td>105</td>\n",
       "      <td>31.46</td>\n",
       "      <td>31.46</td>\n",
       "    </tr>\n",
       "    <tr>\n",
       "      <th>1</th>\n",
       "      <td>(u,d)</td>\n",
       "      <td>105</td>\n",
       "      <td>105</td>\n",
       "      <td>0</td>\n",
       "      <td>0</td>\n",
       "    </tr>\n",
       "    <tr>\n",
       "      <th>2</th>\n",
       "      <td>(d,u)</td>\n",
       "      <td>105</td>\n",
       "      <td>105</td>\n",
       "      <td>0</td>\n",
       "      <td>0</td>\n",
       "    </tr>\n",
       "    <tr>\n",
       "      <th>3</th>\n",
       "      <td>(d,d)</td>\n",
       "      <td>80.79</td>\n",
       "      <td>105</td>\n",
       "      <td>-24.21</td>\n",
       "      <td>-24.21</td>\n",
       "    </tr>\n",
       "  </tbody>\n",
       "</table>\n",
       "</div>"
      ],
      "text/plain": [
       "       w   X2(w)    K (C-P)2(w) (S-B)2(w)\n",
       "0  (u,u)  136.46  105     31.46     31.46\n",
       "1  (u,d)     105  105         0         0\n",
       "2  (d,u)     105  105         0         0\n",
       "3  (d,d)   80.79  105    -24.21    -24.21"
      ]
     },
     "execution_count": 29,
     "metadata": {},
     "output_type": "execute_result"
    }
   ],
   "source": [
    "#Portfolio Value for the 3 Final States\n",
    "\n",
    "portfolio_val_comparison_table = pd.DataFrame(columns = ['w', 'X2(w)', 'K' , '(C-P)2(w)', '(S-B)2(w)'])\n",
    "\n",
    "portfolio_val_comparison_table.at[0, 'w'] = '(u,u)'\n",
    "portfolio_val_comparison_table.at[1, 'w'] = '(u,d)'\n",
    "portfolio_val_comparison_table.at[2, 'w'] = '(d,u)'\n",
    "portfolio_val_comparison_table.at[3, 'w'] = '(d,d)'\n",
    "\n",
    "#Terminal Stock Price\n",
    "portfolio_val_comparison_table.at[0, 'X2(w)'] = stockpx_binomial_tree3.at[0,2].round(3)\n",
    "portfolio_val_comparison_table.at[1, 'X2(w)'] = stockpx_binomial_tree3.at[1,2].round(3)\n",
    "portfolio_val_comparison_table.at[2, 'X2(w)'] = stockpx_binomial_tree3.at[1,2].round(3)\n",
    "portfolio_val_comparison_table.at[3, 'X2(w)'] = stockpx_binomial_tree3.at[2,2].round(3)\n",
    "\n",
    "#Strike Price\n",
    "for i in range(4):\n",
    "    portfolio_val_comparison_table.at[i, 'K'] = k_val\n",
    "    \n",
    "#Option Portfolio Value at t = 2\n",
    "portfolio_val_comparison_table.at[0, '(C-P)2(w)'] = option_portfolio_val.at[0,2].round(3)\n",
    "portfolio_val_comparison_table.at[1, '(C-P)2(w)'] = option_portfolio_val.at[1,2].round(3)\n",
    "portfolio_val_comparison_table.at[2, '(C-P)2(w)'] = option_portfolio_val.at[1,2].round(3)\n",
    "portfolio_val_comparison_table.at[3, '(C-P)2(w)'] = option_portfolio_val.at[2,2].round(3)\n",
    "\n",
    "#Option Portfolio Value at t = 2\n",
    "portfolio_val_comparison_table.at[0, '(S-B)2(w)'] = stock_bond_portfolio_val.at[0,2].round(3)\n",
    "portfolio_val_comparison_table.at[1, '(S-B)2(w)'] = stock_bond_portfolio_val.at[1,2].round(3)\n",
    "portfolio_val_comparison_table.at[2, '(S-B)2(w)'] = stock_bond_portfolio_val.at[1,2].round(3)\n",
    "portfolio_val_comparison_table.at[3, '(S-B)2(w)'] = stock_bond_portfolio_val.at[2,2].round(3)\n",
    "\n",
    "portfolio_val_comparison_table"
   ]
  },
  {
   "cell_type": "markdown",
   "metadata": {},
   "source": [
    "## Part (b) Verifying Put-Call Parity for Options in Questions 1 and 2 (Taking N = 2)"
   ]
  },
  {
   "cell_type": "code",
   "execution_count": 30,
   "metadata": {
    "scrolled": true
   },
   "outputs": [
    {
     "data": {
      "text/html": [
       "<div>\n",
       "<style scoped>\n",
       "    .dataframe tbody tr th:only-of-type {\n",
       "        vertical-align: middle;\n",
       "    }\n",
       "\n",
       "    .dataframe tbody tr th {\n",
       "        vertical-align: top;\n",
       "    }\n",
       "\n",
       "    .dataframe thead th {\n",
       "        text-align: right;\n",
       "    }\n",
       "</style>\n",
       "<table border=\"1\" class=\"dataframe\">\n",
       "  <thead>\n",
       "    <tr style=\"text-align: right;\">\n",
       "      <th></th>\n",
       "      <th>0</th>\n",
       "      <th>1</th>\n",
       "      <th>2</th>\n",
       "    </tr>\n",
       "  </thead>\n",
       "  <tbody>\n",
       "    <tr>\n",
       "      <th>0</th>\n",
       "      <td>95.0</td>\n",
       "      <td>108.30</td>\n",
       "      <td>123.46</td>\n",
       "    </tr>\n",
       "    <tr>\n",
       "      <th>1</th>\n",
       "      <td>0.0</td>\n",
       "      <td>83.33</td>\n",
       "      <td>95.00</td>\n",
       "    </tr>\n",
       "    <tr>\n",
       "      <th>2</th>\n",
       "      <td>0.0</td>\n",
       "      <td>0.00</td>\n",
       "      <td>73.10</td>\n",
       "    </tr>\n",
       "  </tbody>\n",
       "</table>\n",
       "</div>"
      ],
      "text/plain": [
       "      0       1       2\n",
       "0  95.0  108.30  123.46\n",
       "1   0.0   83.33   95.00\n",
       "2   0.0    0.00   73.10"
      ]
     },
     "execution_count": 30,
     "metadata": {},
     "output_type": "execute_result"
    }
   ],
   "source": [
    "#Stock Price Evolution\n",
    "\n",
    "stockpx_binomial_tree2"
   ]
  },
  {
   "cell_type": "code",
   "execution_count": 31,
   "metadata": {},
   "outputs": [
    {
     "data": {
      "text/html": [
       "<div>\n",
       "<style scoped>\n",
       "    .dataframe tbody tr th:only-of-type {\n",
       "        vertical-align: middle;\n",
       "    }\n",
       "\n",
       "    .dataframe tbody tr th {\n",
       "        vertical-align: top;\n",
       "    }\n",
       "\n",
       "    .dataframe thead th {\n",
       "        text-align: right;\n",
       "    }\n",
       "</style>\n",
       "<table border=\"1\" class=\"dataframe\">\n",
       "  <thead>\n",
       "    <tr style=\"text-align: right;\">\n",
       "      <th></th>\n",
       "      <th>0</th>\n",
       "      <th>1</th>\n",
       "      <th>2</th>\n",
       "    </tr>\n",
       "  </thead>\n",
       "  <tbody>\n",
       "    <tr>\n",
       "      <th>0</th>\n",
       "      <td>3.952</td>\n",
       "      <td>8.542</td>\n",
       "      <td>18.46</td>\n",
       "    </tr>\n",
       "    <tr>\n",
       "      <th>1</th>\n",
       "      <td>0.000</td>\n",
       "      <td>0.000</td>\n",
       "      <td>0.00</td>\n",
       "    </tr>\n",
       "    <tr>\n",
       "      <th>2</th>\n",
       "      <td>0.000</td>\n",
       "      <td>0.000</td>\n",
       "      <td>0.00</td>\n",
       "    </tr>\n",
       "  </tbody>\n",
       "</table>\n",
       "</div>"
      ],
      "text/plain": [
       "       0      1      2\n",
       "0  3.952  8.542  18.46\n",
       "1  0.000  0.000   0.00\n",
       "2  0.000  0.000   0.00"
      ]
     },
     "execution_count": 31,
     "metadata": {},
     "output_type": "execute_result"
    }
   ],
   "source": [
    "#Value of the European Call Option at Each Node\n",
    "\n",
    "call_optionval_tree3 = European_Optionval_Tree(stockpx_binomial_tree2, k_val, u_val, t_val2,\n",
    "                                               r_val_ans4, \"call\")\n",
    "call_optionval_tree3"
   ]
  },
  {
   "cell_type": "code",
   "execution_count": 32,
   "metadata": {
    "scrolled": true
   },
   "outputs": [
    {
     "data": {
      "text/html": [
       "<div>\n",
       "<style scoped>\n",
       "    .dataframe tbody tr th:only-of-type {\n",
       "        vertical-align: middle;\n",
       "    }\n",
       "\n",
       "    .dataframe tbody tr th {\n",
       "        vertical-align: top;\n",
       "    }\n",
       "\n",
       "    .dataframe thead th {\n",
       "        text-align: right;\n",
       "    }\n",
       "</style>\n",
       "<table border=\"1\" class=\"dataframe\">\n",
       "  <thead>\n",
       "    <tr style=\"text-align: right;\">\n",
       "      <th></th>\n",
       "      <th>0</th>\n",
       "      <th>1</th>\n",
       "      <th>2</th>\n",
       "    </tr>\n",
       "  </thead>\n",
       "  <tbody>\n",
       "    <tr>\n",
       "      <th>0</th>\n",
       "      <td>13.755</td>\n",
       "      <td>5.274</td>\n",
       "      <td>0.0</td>\n",
       "    </tr>\n",
       "    <tr>\n",
       "      <th>1</th>\n",
       "      <td>0.000</td>\n",
       "      <td>21.455</td>\n",
       "      <td>10.0</td>\n",
       "    </tr>\n",
       "    <tr>\n",
       "      <th>2</th>\n",
       "      <td>0.000</td>\n",
       "      <td>0.000</td>\n",
       "      <td>31.9</td>\n",
       "    </tr>\n",
       "  </tbody>\n",
       "</table>\n",
       "</div>"
      ],
      "text/plain": [
       "        0       1     2\n",
       "0  13.755   5.274   0.0\n",
       "1   0.000  21.455  10.0\n",
       "2   0.000   0.000  31.9"
      ]
     },
     "execution_count": 32,
     "metadata": {},
     "output_type": "execute_result"
    }
   ],
   "source": [
    "#Value of the European Put Option at Each Node\n",
    "\n",
    "put_optionval_tree = European_Optionval_Tree(stockpx_binomial_tree2, k_val, u_val, t_val2,\n",
    "                                             r_val_ans4, \"put\")\n",
    "put_optionval_tree"
   ]
  },
  {
   "cell_type": "code",
   "execution_count": 33,
   "metadata": {
    "scrolled": false
   },
   "outputs": [
    {
     "data": {
      "text/html": [
       "<div>\n",
       "<style scoped>\n",
       "    .dataframe tbody tr th:only-of-type {\n",
       "        vertical-align: middle;\n",
       "    }\n",
       "\n",
       "    .dataframe tbody tr th {\n",
       "        vertical-align: top;\n",
       "    }\n",
       "\n",
       "    .dataframe thead th {\n",
       "        text-align: right;\n",
       "    }\n",
       "</style>\n",
       "<table border=\"1\" class=\"dataframe\">\n",
       "  <thead>\n",
       "    <tr style=\"text-align: right;\">\n",
       "      <th></th>\n",
       "      <th>0</th>\n",
       "      <th>1</th>\n",
       "      <th>2</th>\n",
       "    </tr>\n",
       "  </thead>\n",
       "  <tbody>\n",
       "    <tr>\n",
       "      <th>0</th>\n",
       "      <td>-9.803</td>\n",
       "      <td>3.268</td>\n",
       "      <td>18.46</td>\n",
       "    </tr>\n",
       "    <tr>\n",
       "      <th>1</th>\n",
       "      <td>0.000</td>\n",
       "      <td>-21.455</td>\n",
       "      <td>-10.00</td>\n",
       "    </tr>\n",
       "    <tr>\n",
       "      <th>2</th>\n",
       "      <td>0.000</td>\n",
       "      <td>0.000</td>\n",
       "      <td>-31.90</td>\n",
       "    </tr>\n",
       "  </tbody>\n",
       "</table>\n",
       "</div>"
      ],
      "text/plain": [
       "       0       1      2\n",
       "0 -9.803   3.268  18.46\n",
       "1  0.000 -21.455 -10.00\n",
       "2  0.000   0.000 -31.90"
      ]
     },
     "execution_count": 33,
     "metadata": {},
     "output_type": "execute_result"
    }
   ],
   "source": [
    "#Option Portfolio Value at Each Node\n",
    "\n",
    "option_portfolio_val2 = call_optionval_tree3 - put_optionval_tree\n",
    "option_portfolio_val2"
   ]
  },
  {
   "cell_type": "code",
   "execution_count": 34,
   "metadata": {
    "scrolled": true
   },
   "outputs": [
    {
     "data": {
      "text/html": [
       "<div>\n",
       "<style scoped>\n",
       "    .dataframe tbody tr th:only-of-type {\n",
       "        vertical-align: middle;\n",
       "    }\n",
       "\n",
       "    .dataframe tbody tr th {\n",
       "        vertical-align: top;\n",
       "    }\n",
       "\n",
       "    .dataframe thead th {\n",
       "        text-align: right;\n",
       "    }\n",
       "</style>\n",
       "<table border=\"1\" class=\"dataframe\">\n",
       "  <thead>\n",
       "    <tr style=\"text-align: right;\">\n",
       "      <th></th>\n",
       "      <th>0</th>\n",
       "      <th>1</th>\n",
       "      <th>2</th>\n",
       "    </tr>\n",
       "  </thead>\n",
       "  <tbody>\n",
       "    <tr>\n",
       "      <th>0</th>\n",
       "      <td>-7.931</td>\n",
       "      <td>4.34</td>\n",
       "      <td>18.46</td>\n",
       "    </tr>\n",
       "    <tr>\n",
       "      <th>1</th>\n",
       "      <td>0.000</td>\n",
       "      <td>-20.63</td>\n",
       "      <td>-10.00</td>\n",
       "    </tr>\n",
       "    <tr>\n",
       "      <th>2</th>\n",
       "      <td>0.000</td>\n",
       "      <td>0.00</td>\n",
       "      <td>-31.90</td>\n",
       "    </tr>\n",
       "  </tbody>\n",
       "</table>\n",
       "</div>"
      ],
      "text/plain": [
       "       0      1      2\n",
       "0 -7.931   4.34  18.46\n",
       "1  0.000 -20.63 -10.00\n",
       "2  0.000   0.00 -31.90"
      ]
     },
     "execution_count": 34,
     "metadata": {},
     "output_type": "execute_result"
    }
   ],
   "source": [
    "#Stock-Bond Portfolio Value at Each Node\n",
    "\n",
    "stock_bond_portfolio_val2 = pd.DataFrame()\n",
    "\n",
    "for j in range(stockpx_binomial_tree2.shape[1]):\n",
    "    for i in range(stockpx_binomial_tree2.shape[0]):\n",
    "        \n",
    "        if i <=j: \n",
    "            stock_bond_portfolio_val2.at[i,j] = (stockpx_binomial_tree2.at[i,j] \n",
    "            - k_val/((1+r_val_ans4)**(t_val2-j))).round(3)\n",
    "        \n",
    "        else:\n",
    "            stock_bond_portfolio_val2.at[i,j] = 0\n",
    "\n",
    "stock_bond_portfolio_val2"
   ]
  },
  {
   "cell_type": "code",
   "execution_count": 35,
   "metadata": {},
   "outputs": [
    {
     "data": {
      "text/html": [
       "<div>\n",
       "<style scoped>\n",
       "    .dataframe tbody tr th:only-of-type {\n",
       "        vertical-align: middle;\n",
       "    }\n",
       "\n",
       "    .dataframe tbody tr th {\n",
       "        vertical-align: top;\n",
       "    }\n",
       "\n",
       "    .dataframe thead th {\n",
       "        text-align: right;\n",
       "    }\n",
       "</style>\n",
       "<table border=\"1\" class=\"dataframe\">\n",
       "  <thead>\n",
       "    <tr style=\"text-align: right;\">\n",
       "      <th></th>\n",
       "      <th>0</th>\n",
       "      <th>1</th>\n",
       "      <th>2</th>\n",
       "    </tr>\n",
       "  </thead>\n",
       "  <tbody>\n",
       "    <tr>\n",
       "      <th>0</th>\n",
       "      <td>-1.872</td>\n",
       "      <td>-1.072</td>\n",
       "      <td>0.0</td>\n",
       "    </tr>\n",
       "    <tr>\n",
       "      <th>1</th>\n",
       "      <td>0.000</td>\n",
       "      <td>-0.825</td>\n",
       "      <td>0.0</td>\n",
       "    </tr>\n",
       "    <tr>\n",
       "      <th>2</th>\n",
       "      <td>0.000</td>\n",
       "      <td>0.000</td>\n",
       "      <td>0.0</td>\n",
       "    </tr>\n",
       "  </tbody>\n",
       "</table>\n",
       "</div>"
      ],
      "text/plain": [
       "       0      1    2\n",
       "0 -1.872 -1.072  0.0\n",
       "1  0.000 -0.825  0.0\n",
       "2  0.000  0.000  0.0"
      ]
     },
     "execution_count": 35,
     "metadata": {},
     "output_type": "execute_result"
    }
   ],
   "source": [
    "#Difference between Option Portfolio Value and Stock-Bond Portfolio Value\n",
    "\n",
    "diff = option_portfolio_val2 - stock_bond_portfolio_val2\n",
    "diff.round(3)"
   ]
  },
  {
   "cell_type": "code",
   "execution_count": null,
   "metadata": {},
   "outputs": [],
   "source": []
  }
 ],
 "metadata": {
  "kernelspec": {
   "display_name": "Python 3",
   "language": "python",
   "name": "python3"
  },
  "language_info": {
   "codemirror_mode": {
    "name": "ipython",
    "version": 3
   },
   "file_extension": ".py",
   "mimetype": "text/x-python",
   "name": "python",
   "nbconvert_exporter": "python",
   "pygments_lexer": "ipython3",
   "version": "3.8.5"
  }
 },
 "nbformat": 4,
 "nbformat_minor": 4
}
