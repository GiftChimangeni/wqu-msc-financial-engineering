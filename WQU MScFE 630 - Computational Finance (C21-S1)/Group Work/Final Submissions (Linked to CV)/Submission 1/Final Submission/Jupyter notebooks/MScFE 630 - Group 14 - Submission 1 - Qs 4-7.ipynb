{
 "cells": [
  {
   "cell_type": "markdown",
   "id": "9f455d40",
   "metadata": {},
   "source": [
    "# Computational Finance 630 GWP Submission 1"
   ]
  },
  {
   "cell_type": "markdown",
   "id": "4ab4fa29",
   "metadata": {},
   "source": [
    "### Solutions for questions 4, 5, 6, 7"
   ]
  },
  {
   "cell_type": "markdown",
   "id": "0a70b255",
   "metadata": {},
   "source": [
    "Import all the required libraries for calculations"
   ]
  },
  {
   "cell_type": "code",
   "execution_count": 47,
   "id": "08140f40",
   "metadata": {},
   "outputs": [],
   "source": [
    "import numpy as np\n",
    "from scipy.stats import norm\n",
    "import matplotlib.pyplot as plt\n",
    "from math import log, sqrt, exp\n",
    "import random\n",
    "import scipy as sp"
   ]
  },
  {
   "cell_type": "markdown",
   "id": "606537a9",
   "metadata": {},
   "source": [
    "### 4. Price a European call option with the information provided. (2 pts)"
   ]
  },
  {
   "cell_type": "markdown",
   "id": "4c811008",
   "metadata": {},
   "source": [
    "Input details"
   ]
  },
  {
   "cell_type": "code",
   "execution_count": 51,
   "id": "41ea601f",
   "metadata": {},
   "outputs": [],
   "source": [
    "# Input details\n",
    "risk_free = 0.08 # Risk free rate\n",
    "S_0 = 100 # today's stock price\n",
    "sigma = 0.3 # volatility\n",
    "\n",
    "strike = 100 # Strike price\n",
    "T = 1 # Maturity in Years\n",
    "current_time = 0"
   ]
  },
  {
   "cell_type": "code",
   "execution_count": 5,
   "id": "28fab935",
   "metadata": {},
   "outputs": [],
   "source": [
    "# Price a plain vanilla european call option using analytical formula\n",
    "def d1(S_0,strike,T,risk_free,sigma, current_time):\n",
    "    return(log(S_0/strike)+(risk_free+sigma**2/2.)*(T - current_time))/(sigma*sqrt(T-current_time))\n",
    "\n",
    "def d2(S_0,strike,T,risk_free,sigma, current_time):\n",
    "    return d1(S_0,strike,T,risk_free,sigma, current_time)-sigma*sqrt(T-current_time)\n",
    "\n",
    "\n",
    "def analytic_callprice(S_0,strike,T,risk_free,sigma, current_time):\n",
    "    return S_0*norm.cdf(d1(S_0,strike,T,risk_free,sigma, current_time))-strike*exp(-risk_free*(T-current_time))*norm.cdf(d2(S_0,strike,T,risk_free,sigma, current_time))"
   ]
  },
  {
   "cell_type": "code",
   "execution_count": 10,
   "id": "021acd50",
   "metadata": {},
   "outputs": [],
   "source": [
    "anal_callprice = analytic_callprice(S_0,strike,T,risk_free,sigma, current_time)"
   ]
  },
  {
   "cell_type": "code",
   "execution_count": 16,
   "id": "7705e772",
   "metadata": {},
   "outputs": [
    {
     "data": {
      "text/plain": [
       "15.711312547892973"
      ]
     },
     "execution_count": 16,
     "metadata": {},
     "output_type": "execute_result"
    }
   ],
   "source": [
    "anal_callprice"
   ]
  },
  {
   "cell_type": "code",
   "execution_count": 55,
   "id": "69a2580f",
   "metadata": {},
   "outputs": [
    {
     "name": "stdout",
     "output_type": "stream",
     "text": [
      "15.679781775786577\n"
     ]
    },
    {
     "data": {
      "image/png": "[encoded data removed]",
      "text/plain": [
       "<Figure size 432x288 with 1 Axes>"
      ]
     },
     "metadata": {
      "needs_background": "light"
     },
     "output_type": "display_data"
    }
   ],
   "source": [
    "# Price the european call option using Monte Carlo simulations\n",
    "\n",
    "import warnings\n",
    "warnings.filterwarnings('ignore')\n",
    "\n",
    "def determine_terminal_vaue(S_0, risk_free_rate, sigma, Z, T):\n",
    "    return S_0*np.exp((risk_free_rate-sigma**2/2)*T+sigma*np.sqrt(T)*Z)\n",
    "\n",
    "def discounted_call_payoff(S_T, K, risk_free_rate, T):\n",
    "    return np.exp(-risk_free_rate*T)*np.maximum(S_T-K,0)\n",
    "\n",
    "np.random.seed(0)\n",
    "\n",
    "mcall_estimates = [None]*50\n",
    "mcall_std = [None]*50\n",
    "for i in range(0,50):\n",
    "    norm_arr = norm.rvs(size = 1000*i)\n",
    "    term_val = determine_terminal_vaue(S_0,risk_free,sigma,norm_arr,T-current_time)\n",
    "    mcall_val = discounted_call_payoff(term_val,strike,risk_free,T-current_time)\n",
    "    mcall_estimates[i-1] = np.mean(mcall_val)\n",
    "    mcall_std[i-1] = np.std(mcall_val)/np.sqrt(i*1000)\n",
    "\n",
    "print(np.mean(mcall_estimates[0:-1]))    \n",
    "plt.plot([anal_callprice]*50, label=\"anlytical value\")\n",
    "plt.plot(mcall_estimates, '.', label=\"monte carlo estimates\")\n",
    "plt.plot(anal_callprice + np.array(mcall_std)*3, label=\"std+\")\n",
    "plt.plot(anal_callprice - np.array(mcall_std)*3, label=\"std-\")\n",
    "plt.legend(loc=\"lower right\")\n",
    "plt.xlabel(\"sample size(x1000)\")\n",
    "plt.ylabel(\"Monte Carlo call estimates\")\n",
    "plt.title(\"Monte-Carlo Estimation\")\n",
    "plt.show()"
   ]
  },
  {
   "cell_type": "markdown",
   "id": "72a27e8b",
   "metadata": {},
   "source": [
    "### 5. Price a European up-and-out barrier call option: Simulate paths for the underlying share and for the counterparty’s firm value using sample sizes of 1000, 2000, …, 50000. Do monthly simulations for the lifetime of the option. (10 pts)"
   ]
  },
  {
   "cell_type": "code",
   "execution_count": null,
   "id": "6b29ca9b",
   "metadata": {},
   "outputs": [],
   "source": [
    "n_steps = 12 # 12 months\n",
    "\n",
    "dt = T/n_steps # dt = 1/12\n",
    "\n"
   ]
  },
  {
   "cell_type": "code",
   "execution_count": 33,
   "id": "86c86f50",
   "metadata": {},
   "outputs": [],
   "source": [
    "#Parameters:\n",
    "risk_free = 0.08\n",
    "S_0 = 100 #current share price\n",
    "sigma = 0.3 #Volatility\n",
    "\n",
    "K = 100\n",
    "B = 150   #up-and-out barrier\n",
    "T = 1 #Maturity\n",
    "\n",
    "\n",
    "sigma_firm = 0.25 #Firm value volatility\n",
    "debt = 175       #Debt of the firm\n",
    "recovery_rate = 0.25\n",
    "corr = 0.2    #Correlation between the counterparty and the stock price\n",
    "dt = 1/12 #monthly simulations"
   ]
  },
  {
   "cell_type": "code",
   "execution_count": 38,
   "id": "19a24641",
   "metadata": {},
   "outputs": [],
   "source": [
    "# Correlation matrix and decompositon\n",
    "corr_matrix = np.array([[1, corr], [corr, 1]])\n",
    "L = np.linalg.cholesky(corr_matrix)\n",
    "\n",
    "np.random.seed(0)\n",
    "\n",
    "#Terminal share function.\n",
    "def terminal_value(S_0, risk_free,sigma,Z,T):\n",
    "    return S_0*np.exp((risk_free-sigma**2/2)*T+sigma*np.sqrt(T)*Z)\n",
    "\n",
    "def share_path(S_0, risk_free, sigma, Z, dT):\n",
    "    return S_0 * np.exp(np.cumsum((risk_free - sigma**2/2)*dT + sigma*np.sqrt(dT)*Z, axis=0))\n",
    "\n",
    "def upout_call_payoff(path, K, risk_free, T):\n",
    "    if path.any() > B:\n",
    "        return 0\n",
    "    else:\n",
    "        return np.maximum(path[-1] - K,0)\n",
    "\n",
    "\n",
    "def price_simulation(S_0, risk_free, sigma, dt, K, L):\n",
    "    for i in range(1, 51):\n",
    "        mc_upout_price = [None]*50\n",
    "        norm_martix = norm.rvs(size=[12, 2, i*1000])\n",
    "        corr_norm_martix = np.array([np.matmul(L, x) for x in norm_martix]) \n",
    "        mc_price_path = np.array([share_path(S_0, risk_free, sigma, Z_share, dt) for Z_share in corr_norm_martix[:,0,:].T])\n",
    "        mc_upout_payoff = np.array([upout_call_payoff(path, K, risk_free, T) for path in mc_price_path])\n",
    "\n",
    "    return mc_price_path, np.mean(mc_upout_payoff)"
   ]
  },
  {
   "cell_type": "code",
   "execution_count": 43,
   "id": "6334a854",
   "metadata": {},
   "outputs": [],
   "source": [
    "mc_price_path, up_and_out_price = price_simulation(S_0, risk_free, sigma, dt, K, L)"
   ]
  },
  {
   "cell_type": "code",
   "execution_count": 44,
   "id": "16aa7dc7",
   "metadata": {},
   "outputs": [
    {
     "data": {
      "text/plain": [
       "array([[111.69786144, 109.1306342 , 120.13537152, ..., 141.99876636,\n",
       "        142.40066589, 165.6754127 ],\n",
       "       [114.42057534, 118.21147011, 124.89199892, ..., 130.01788198,\n",
       "        123.73532548, 117.08841321],\n",
       "       [ 98.50391925,  97.00149854, 108.31141058, ..., 103.53538002,\n",
       "        100.95578262,  90.13152275],\n",
       "       ...,\n",
       "       [ 94.92274364, 102.9047451 , 103.41711169, ...,  90.9983252 ,\n",
       "        100.2806259 ,  98.72090236],\n",
       "       [104.07716742, 115.53668001, 119.8944222 , ..., 108.45097343,\n",
       "        108.31653119, 117.89682403],\n",
       "       [106.84973596,  95.5754178 ,  97.33345919, ...,  63.74347778,\n",
       "         69.01508315,  79.62525693]])"
      ]
     },
     "execution_count": 44,
     "metadata": {},
     "output_type": "execute_result"
    }
   ],
   "source": [
    "mc_price_path"
   ]
  },
  {
   "cell_type": "code",
   "execution_count": 45,
   "id": "d37ffab2",
   "metadata": {},
   "outputs": [
    {
     "data": {
      "text/plain": [
       "16.96572363403599"
      ]
     },
     "execution_count": 45,
     "metadata": {},
     "output_type": "execute_result"
    }
   ],
   "source": [
    "15.711312547892973 up_and_out_price"
   ]
  },
  {
   "cell_type": "markdown",
   "id": "eee5b14f",
   "metadata": {},
   "source": [
    "### 6. Price a European up-and-in barrier call option. Hint: Use the 2 other option prices. (2 pts)"
   ]
  },
  {
   "cell_type": "markdown",
   "id": "7c3455fb",
   "metadata": {},
   "source": [
    "$𝐶𝑎𝑙𝑙_{𝑢𝑝−𝑎𝑛𝑑−𝑜𝑢𝑡} + 𝐶𝑎𝑙𝑙_{𝑢𝑝−𝑎𝑛𝑑−𝑖𝑛} = 𝐶𝑎𝑙𝑙$"
   ]
  },
  {
   "cell_type": "markdown",
   "id": "318ef2d6",
   "metadata": {},
   "source": [
    "$𝐶𝑎𝑙𝑙_{𝑢𝑝−𝑎𝑛𝑑−𝑖𝑛} = 𝐶𝑎𝑙𝑙 - 𝐶𝑎𝑙𝑙_{𝑢𝑝−𝑎𝑛𝑑−𝑜𝑢𝑡}$"
   ]
  },
  {
   "cell_type": "code",
   "execution_count": 56,
   "id": "a3a75e8a",
   "metadata": {},
   "outputs": [
    {
     "data": {
      "text/plain": [
       "-1.2544110861430156"
      ]
     },
     "execution_count": 56,
     "metadata": {},
     "output_type": "execute_result"
    }
   ],
   "source": [
    "15.711312547892973-16.96572363403599"
   ]
  },
  {
   "cell_type": "markdown",
   "id": "9241e941",
   "metadata": {},
   "source": [
    "### 7. Repeat Question 5 (Price up-and-out barrier call) 6 times, keeping all the data the same, but using a new strike level in each case: a) 85, b) 90, c) 95, d) 105, e) 110, f) 115. Produce a table of 7 rows that shows the strike, and the option price. (2 pts)"
   ]
  },
  {
   "cell_type": "code",
   "execution_count": 57,
   "id": "5f37c61d",
   "metadata": {},
   "outputs": [
    {
     "name": "stdout",
     "output_type": "stream",
     "text": [
      "-------For Strike price =  85 --------\n",
      "Share Price paths\n",
      "[[ 99.6495607  107.57632036 109.07283535 ... 115.83102153 102.62112183\n",
      "   90.18989912]\n",
      " [ 95.26540748  83.95006702 104.32736681 ...  84.37541601  84.06623269\n",
      "   98.98874642]\n",
      " [ 98.35738847  93.66869677 103.87118396 ...  93.93198278  90.39859613\n",
      "   98.15962476]\n",
      " ...\n",
      " [116.57122816 102.97117386  96.20318491 ...  86.97769697  79.7199239\n",
      "   77.68367423]\n",
      " [100.55386817  94.31348151  96.33233516 ...  92.65248333  93.02478489\n",
      "   90.35783792]\n",
      " [ 99.24271443  93.32194131  89.33199254 ...  47.9316207   47.83318159\n",
      "   46.4321691 ]]\n",
      "up and out price\n",
      "26.61950234840665\n",
      "-------For Strike price =  90 --------\n",
      "Share Price paths\n",
      "[[ 98.73308733  96.47093193  96.8802617  ... 114.31665065 109.03934367\n",
      "  112.28978911]\n",
      " [ 97.94738222  92.75733514  94.30686782 ...  79.09271286  73.46470417\n",
      "   77.77946613]\n",
      " [ 82.11008125  86.00294266  91.29098027 ...  70.39878875  59.988338\n",
      "   60.80072913]\n",
      " ...\n",
      " [101.0603282   93.15080155  86.31174636 ...  68.15365872  76.33844862\n",
      "   72.13444998]\n",
      " [119.50852993 115.50603159  95.42896    ...  89.22606514  90.98807956\n",
      "   85.98316287]\n",
      " [109.1049152  125.90915788 139.41896656 ... 210.15585583 199.0984953\n",
      "  204.84321991]]\n",
      "up and out price\n",
      "23.153675749420024\n",
      "-------For Strike price =  95 --------\n",
      "Share Price paths\n",
      "[[ 98.91855571 117.83761062 114.22306684 ... 115.2558629  108.47748642\n",
      "  110.00413023]\n",
      " [108.39432656  98.06469109  98.90734851 ...  94.15914036  84.24023944\n",
      "   76.47199553]\n",
      " [ 95.33915043  89.16775137  88.31744909 ... 113.34805083 106.6122917\n",
      "  106.60808696]\n",
      " ...\n",
      " [111.65946302 109.16144285 120.56962387 ...  97.329712   101.3836699\n",
      "   98.50502705]\n",
      " [ 88.80282481  88.66739554  97.1913492  ... 110.53657982  98.20057437\n",
      "  103.4503748 ]\n",
      " [ 88.05579534  85.13314522  92.87314795 ... 169.50925187 156.31068647\n",
      "  146.64360254]]\n",
      "up and out price\n",
      "19.732987947214628\n",
      "-------For Strike price =  105 --------\n",
      "Share Price paths\n",
      "[[ 94.78862331  83.44390902  93.78641715 ... 110.11753954  98.78154333\n",
      "   96.27373267]\n",
      " [ 99.10877477 105.72365067  99.42411282 ... 115.82893372 105.32332879\n",
      "   98.27889495]\n",
      " [106.61117136 108.10110482 102.34011402 ... 120.63838137 134.43168678\n",
      "  134.32644681]\n",
      " ...\n",
      " [103.36287683 104.7921319  100.0139569  ... 114.62303607 104.57650318\n",
      "   95.61172289]\n",
      " [104.58003477  78.91414656  75.62980883 ... 109.34015978  88.09422811\n",
      "   95.31894455]\n",
      " [ 98.55651531  92.86769211  92.22566796 ... 101.57111279 106.94546425\n",
      "  103.47710829]]\n",
      "up and out price\n",
      "14.392033270115036\n",
      "-------For Strike price =  110 --------\n",
      "Share Price paths\n",
      "[[107.74664965 100.65450389  95.3846672  ...  85.89299691  85.2525838\n",
      "   84.8343558 ]\n",
      " [ 86.74275369  97.50307436  95.38894246 ...  62.18437121  60.15170203\n",
      "   63.93346113]\n",
      " [ 92.84066397 111.96538193 105.52802613 ...  71.55604041  72.02820503\n",
      "   70.31314999]\n",
      " ...\n",
      " [103.62382292  85.757796    90.6891942  ...  99.08230773  98.45804433\n",
      "   93.31082197]\n",
      " [ 95.75392768 112.78757638 104.04430814 ... 133.18773802 149.87689884\n",
      "  116.9023026 ]\n",
      " [115.85975992 116.3754225  127.53540405 ...  94.37233783  84.72994427\n",
      "   81.84610056]]\n",
      "up and out price\n",
      "12.278534816357615\n",
      "-------For Strike price =  115 --------\n",
      "Share Price paths\n",
      "[[ 95.02163739  94.34906288 103.47962987 ...  88.83658671  69.47851144\n",
      "   68.95012821]\n",
      " [101.40473486 104.13160534 117.61101393 ... 160.92365075 154.29995765\n",
      "  170.81009908]\n",
      " [ 89.78512265  82.07090054  88.42733877 ...  77.21278178  75.14192139\n",
      "   78.27902955]\n",
      " ...\n",
      " [108.23096988 124.32341319 106.39615924 ... 122.24937272 132.41290631\n",
      "  120.21175112]\n",
      " [107.5150728  113.37710755 107.37872205 ... 124.29174895 116.98563788\n",
      "  127.20778365]\n",
      " [ 91.4849465   86.06522675 100.55510527 ...  76.31597232  69.9774696\n",
      "   60.11741942]]\n",
      "up and out price\n",
      "10.235768708414042\n"
     ]
    }
   ],
   "source": [
    "# Stike prices = 85, 90, 95, 105, 110, 115\n",
    "for K in [85, 90, 95, 105, 110, 115]:\n",
    "    mc_price_path, up_and_out_price = price_simulation(S_0, risk_free, sigma, dt, K, L)\n",
    "    print(\"-------For Strike price = \", K, \"--------\")\n",
    "    print(\"Share Price paths\")\n",
    "    print(mc_price_path)\n",
    "    print(\"up and out price\")\n",
    "    print(up_and_out_price)"
   ]
  },
  {
   "cell_type": "code",
   "execution_count": null,
   "id": "7cc626c5",
   "metadata": {},
   "outputs": [],
   "source": []
  }
 ],
 "metadata": {
  "kernelspec": {
   "display_name": "Python 3 (ipykernel)",
   "language": "python",
   "name": "python3"
  },
  "language_info": {
   "codemirror_mode": {
    "name": "ipython",
    "version": 3
   },
   "file_extension": ".py",
   "mimetype": "text/x-python",
   "name": "python",
   "nbconvert_exporter": "python",
   "pygments_lexer": "ipython3",
   "version": "3.9.6"
  }
 },
 "nbformat": 4,
 "nbformat_minor": 5
}
